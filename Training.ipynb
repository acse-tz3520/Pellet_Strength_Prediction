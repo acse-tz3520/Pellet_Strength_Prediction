{
 "cells": [
  {
   "cell_type": "code",
   "execution_count": 3,
   "id": "f31628f8",
   "metadata": {
    "ExecuteTime": {
     "end_time": "2021-08-27T03:16:43.382070Z",
     "start_time": "2021-08-27T03:16:41.292981Z"
    }
   },
   "outputs": [],
   "source": [
    "import pandas as pd\n",
    "import numpy as np\n",
    "import seaborn as sns\n",
    "sns.set_style('whitegrid')\n",
    "import matplotlib.pyplot as plt\n",
    "%matplotlib inline  \n",
    "\n",
    "from scipy import stats\n",
    "#from sklearn import preprocessing,feature_selection\n",
    "from sklearn.model_selection import train_test_split,cross_val_score,RandomizedSearchCV,GridSearchCV\n",
    "from sklearn.linear_model import LinearRegression,Ridge, RidgeCV, LassoCV, LassoLarsCV,Lasso\n",
    "from sklearn.preprocessing import StandardScaler,MinMaxScaler,RobustScaler\n",
    "from sklearn.tree import DecisionTreeRegressor\n",
    "from sklearn.ensemble import RandomForestRegressor\n",
    "from sklearn.metrics import r2_score,mean_absolute_error"
   ]
  },
  {
   "cell_type": "code",
   "execution_count": 4,
   "id": "e9684057",
   "metadata": {
    "ExecuteTime": {
     "end_time": "2021-08-27T03:16:43.443071Z",
     "start_time": "2021-08-27T03:16:43.430072Z"
    }
   },
   "outputs": [],
   "source": [
    "from math import *"
   ]
  },
  {
   "cell_type": "code",
   "execution_count": 167,
   "id": "05104f09",
   "metadata": {
    "ExecuteTime": {
     "end_time": "2021-08-26T13:45:35.152121Z",
     "start_time": "2021-08-26T13:45:35.121122Z"
    }
   },
   "outputs": [],
   "source": [
    "data=pd.read_csv('result.csv')"
   ]
  },
  {
   "cell_type": "markdown",
   "id": "f11bd59e",
   "metadata": {},
   "source": [
    "##### loading data"
   ]
  },
  {
   "cell_type": "code",
   "execution_count": 13,
   "id": "475ee06b",
   "metadata": {
    "ExecuteTime": {
     "end_time": "2021-08-27T03:18:32.606061Z",
     "start_time": "2021-08-27T03:18:31.971270Z"
    }
   },
   "outputs": [
    {
     "data": {
      "text/plain": [
       "(8412, 7)"
      ]
     },
     "execution_count": 13,
     "metadata": {},
     "output_type": "execute_result"
    }
   ],
   "source": [
    "#loading data\n",
    "data = pd.read_excel('result.xlsx')\n",
    "data.shape"
   ]
  },
  {
   "cell_type": "code",
   "execution_count": 8,
   "id": "c665a734",
   "metadata": {
    "ExecuteTime": {
     "end_time": "2021-08-27T03:16:53.428202Z",
     "start_time": "2021-08-27T03:16:53.416202Z"
    }
   },
   "outputs": [
    {
     "ename": "NameError",
     "evalue": "name 'pr' is not defined",
     "output_type": "error",
     "traceback": [
      "\u001b[1;31m---------------------------------------------------------------------------\u001b[0m",
      "\u001b[1;31mNameError\u001b[0m                                 Traceback (most recent call last)",
      "\u001b[1;32m<ipython-input-8-2953936aa67a>\u001b[0m in \u001b[0;36m<module>\u001b[1;34m\u001b[0m\n\u001b[0;32m      7\u001b[0m \u001b[0mmin_f_fail\u001b[0m \u001b[1;33m=\u001b[0m \u001b[1;33m[\u001b[0m\u001b[1;33m]\u001b[0m\u001b[1;33m\u001b[0m\u001b[1;33m\u001b[0m\u001b[0m\n\u001b[0;32m      8\u001b[0m \u001b[0mpr_final\u001b[0m \u001b[1;33m=\u001b[0m \u001b[1;33m[\u001b[0m\u001b[1;33m]\u001b[0m\u001b[1;33m\u001b[0m\u001b[1;33m\u001b[0m\u001b[0m\n\u001b[1;32m----> 9\u001b[1;33m \u001b[1;32mfor\u001b[0m \u001b[0mpra\u001b[0m \u001b[1;32min\u001b[0m \u001b[0mpr\u001b[0m\u001b[1;33m:\u001b[0m\u001b[1;33m\u001b[0m\u001b[1;33m\u001b[0m\u001b[0m\n\u001b[0m\u001b[0;32m     10\u001b[0m     \u001b[1;32mfor\u001b[0m \u001b[0mnum\u001b[0m \u001b[1;32min\u001b[0m \u001b[0mhn\u001b[0m\u001b[1;33m:\u001b[0m\u001b[1;33m\u001b[0m\u001b[1;33m\u001b[0m\u001b[0m\n\u001b[0;32m     11\u001b[0m         \u001b[1;32mfor\u001b[0m \u001b[0mra\u001b[0m \u001b[1;32min\u001b[0m \u001b[0mhr\u001b[0m\u001b[1;33m:\u001b[0m\u001b[1;33m\u001b[0m\u001b[1;33m\u001b[0m\u001b[0m\n",
      "\u001b[1;31mNameError\u001b[0m: name 'pr' is not defined"
     ]
    }
   ],
   "source": [
    "hn = table['hole_number'].value_counts().index.tolist()\n",
    "hr = table['hole_radius'].value_counts().index.tolist()\n",
    "dfc = table['distance_from_centre'].value_counts().index.tolist()\n",
    "pr = table['pellet_radius'].value_counts().index.tolist()\n",
    "\n",
    "\n",
    "hn_final = []\n",
    "hr_final = []\n",
    "dfc_final = []\n",
    "max_f = []\n",
    "min_f = []\n",
    "max_f_fail = []\n",
    "min_f_fail = []\n",
    "pr_final = []\n",
    "for pra in pr:\n",
    "    for num in hn:\n",
    "        for ra in hr:\n",
    "            for dis in dfc:\n",
    "                temp = table[table['hole_number']==num]\n",
    "                temp = temp[temp['hole_radius']==ra]\n",
    "                temp = temp[temp['distance_from_centre']==dis]\n",
    "                temp = temp[temp['pellet_radius']==pra]\n",
    "                if len(temp)!=0:\n",
    "                    hn_final.append(num)\n",
    "                    hr_final.append(ra)\n",
    "                    dfc_final.append(dis)\n",
    "                    pr_final.append(pra)\n",
    "                    max_f.append(temp['force'].max())\n",
    "                    max_f_fail.append(temp['max failure parameter'][temp[\"force\"].idxmax()])\n",
    "                    min_f.append(temp['force'].min())\n",
    "                    min_f_fail.append(temp['max failure parameter'][temp[\"force\"].idxmin()])   \n",
    "                    \n",
    "        \n",
    "\n",
    "                    \n",
    "data = pd.DataFrame({'pellet_radius':pr_final,'hole_number':hn_final,'hole_radius':hr_final,'distance_from_centre':dfc_final,\n",
    "                            'maximum_load':max_f,'failure parameter at maximum_load':max_f_fail,\n",
    "                             'minimum_load':min_f,'failure parameter at minimum_load':min_f_fail})\n",
    "\n",
    "data = data.sort_values(['pellet_radius','hole_number', 'hole_radius','distance_from_centre'], ascending=[True, True, True,True])\n",
    "data.reset_index(drop=True,inplace = True)"
   ]
  },
  {
   "cell_type": "code",
   "execution_count": 17,
   "id": "599b9ff1",
   "metadata": {
    "ExecuteTime": {
     "end_time": "2021-08-27T03:19:23.018399Z",
     "start_time": "2021-08-27T03:19:23.001875Z"
    }
   },
   "outputs": [
    {
     "data": {
      "text/html": [
       "<div>\n",
       "<style scoped>\n",
       "    .dataframe tbody tr th:only-of-type {\n",
       "        vertical-align: middle;\n",
       "    }\n",
       "\n",
       "    .dataframe tbody tr th {\n",
       "        vertical-align: top;\n",
       "    }\n",
       "\n",
       "    .dataframe thead th {\n",
       "        text-align: right;\n",
       "    }\n",
       "</style>\n",
       "<table border=\"1\" class=\"dataframe\">\n",
       "  <thead>\n",
       "    <tr style=\"text-align: right;\">\n",
       "      <th></th>\n",
       "      <th>hole_number</th>\n",
       "      <th>hole_radius</th>\n",
       "      <th>distance_from_centre</th>\n",
       "      <th>maximum_load</th>\n",
       "      <th>failure parameter at maximum_load</th>\n",
       "      <th>minimum_load</th>\n",
       "      <th>failure parameter at minimum_load</th>\n",
       "    </tr>\n",
       "  </thead>\n",
       "  <tbody>\n",
       "    <tr>\n",
       "      <th>0</th>\n",
       "      <td>9</td>\n",
       "      <td>0.008</td>\n",
       "      <td>0.072</td>\n",
       "      <td>97508.980152</td>\n",
       "      <td>1.000049</td>\n",
       "      <td>59761.334861</td>\n",
       "      <td>1.000057</td>\n",
       "    </tr>\n",
       "    <tr>\n",
       "      <th>1</th>\n",
       "      <td>9</td>\n",
       "      <td>0.008</td>\n",
       "      <td>0.080</td>\n",
       "      <td>43505.399568</td>\n",
       "      <td>1.000077</td>\n",
       "      <td>35470.642559</td>\n",
       "      <td>1.000043</td>\n",
       "    </tr>\n",
       "    <tr>\n",
       "      <th>2</th>\n",
       "      <td>9</td>\n",
       "      <td>0.008</td>\n",
       "      <td>0.048</td>\n",
       "      <td>169504.877061</td>\n",
       "      <td>1.000030</td>\n",
       "      <td>126159.267159</td>\n",
       "      <td>1.000035</td>\n",
       "    </tr>\n",
       "    <tr>\n",
       "      <th>3</th>\n",
       "      <td>9</td>\n",
       "      <td>0.008</td>\n",
       "      <td>0.088</td>\n",
       "      <td>18599.517053</td>\n",
       "      <td>1.000078</td>\n",
       "      <td>13494.769876</td>\n",
       "      <td>1.000080</td>\n",
       "    </tr>\n",
       "    <tr>\n",
       "      <th>4</th>\n",
       "      <td>9</td>\n",
       "      <td>0.008</td>\n",
       "      <td>0.040</td>\n",
       "      <td>153738.963408</td>\n",
       "      <td>1.000078</td>\n",
       "      <td>136524.290122</td>\n",
       "      <td>1.000058</td>\n",
       "    </tr>\n",
       "    <tr>\n",
       "      <th>...</th>\n",
       "      <td>...</td>\n",
       "      <td>...</td>\n",
       "      <td>...</td>\n",
       "      <td>...</td>\n",
       "      <td>...</td>\n",
       "      <td>...</td>\n",
       "      <td>...</td>\n",
       "    </tr>\n",
       "    <tr>\n",
       "      <th>317</th>\n",
       "      <td>8</td>\n",
       "      <td>0.012</td>\n",
       "      <td>0.048</td>\n",
       "      <td>196248.340728</td>\n",
       "      <td>1.000089</td>\n",
       "      <td>125807.729895</td>\n",
       "      <td>1.000053</td>\n",
       "    </tr>\n",
       "    <tr>\n",
       "      <th>318</th>\n",
       "      <td>8</td>\n",
       "      <td>0.012</td>\n",
       "      <td>0.084</td>\n",
       "      <td>294625.511395</td>\n",
       "      <td>1.000020</td>\n",
       "      <td>16882.310782</td>\n",
       "      <td>1.000015</td>\n",
       "    </tr>\n",
       "    <tr>\n",
       "      <th>319</th>\n",
       "      <td>8</td>\n",
       "      <td>0.015</td>\n",
       "      <td>0.060</td>\n",
       "      <td>164135.944304</td>\n",
       "      <td>1.000037</td>\n",
       "      <td>85519.428925</td>\n",
       "      <td>1.000022</td>\n",
       "    </tr>\n",
       "    <tr>\n",
       "      <th>320</th>\n",
       "      <td>8</td>\n",
       "      <td>0.015</td>\n",
       "      <td>0.075</td>\n",
       "      <td>184264.115823</td>\n",
       "      <td>1.000067</td>\n",
       "      <td>40195.090333</td>\n",
       "      <td>1.000053</td>\n",
       "    </tr>\n",
       "    <tr>\n",
       "      <th>321</th>\n",
       "      <td>8</td>\n",
       "      <td>0.018</td>\n",
       "      <td>0.072</td>\n",
       "      <td>145728.174849</td>\n",
       "      <td>1.000091</td>\n",
       "      <td>36426.717390</td>\n",
       "      <td>1.000091</td>\n",
       "    </tr>\n",
       "  </tbody>\n",
       "</table>\n",
       "<p>322 rows × 7 columns</p>\n",
       "</div>"
      ],
      "text/plain": [
       "     hole_number  hole_radius  distance_from_centre   maximum_load  \\\n",
       "0              9        0.008                 0.072   97508.980152   \n",
       "1              9        0.008                 0.080   43505.399568   \n",
       "2              9        0.008                 0.048  169504.877061   \n",
       "3              9        0.008                 0.088   18599.517053   \n",
       "4              9        0.008                 0.040  153738.963408   \n",
       "..           ...          ...                   ...            ...   \n",
       "317            8        0.012                 0.048  196248.340728   \n",
       "318            8        0.012                 0.084  294625.511395   \n",
       "319            8        0.015                 0.060  164135.944304   \n",
       "320            8        0.015                 0.075  184264.115823   \n",
       "321            8        0.018                 0.072  145728.174849   \n",
       "\n",
       "     failure parameter at maximum_load   minimum_load  \\\n",
       "0                             1.000049   59761.334861   \n",
       "1                             1.000077   35470.642559   \n",
       "2                             1.000030  126159.267159   \n",
       "3                             1.000078   13494.769876   \n",
       "4                             1.000078  136524.290122   \n",
       "..                                 ...            ...   \n",
       "317                           1.000089  125807.729895   \n",
       "318                           1.000020   16882.310782   \n",
       "319                           1.000037   85519.428925   \n",
       "320                           1.000067   40195.090333   \n",
       "321                           1.000091   36426.717390   \n",
       "\n",
       "     failure parameter at minimum_load  \n",
       "0                             1.000057  \n",
       "1                             1.000043  \n",
       "2                             1.000035  \n",
       "3                             1.000080  \n",
       "4                             1.000058  \n",
       "..                                 ...  \n",
       "317                           1.000053  \n",
       "318                           1.000015  \n",
       "319                           1.000022  \n",
       "320                           1.000053  \n",
       "321                           1.000091  \n",
       "\n",
       "[322 rows x 7 columns]"
      ]
     },
     "execution_count": 17,
     "metadata": {},
     "output_type": "execute_result"
    }
   ],
   "source": [
    "data"
   ]
  },
  {
   "cell_type": "code",
   "execution_count": 19,
   "id": "df12afd8",
   "metadata": {
    "ExecuteTime": {
     "end_time": "2021-08-27T03:20:06.467498Z",
     "start_time": "2021-08-27T03:20:06.459499Z"
    }
   },
   "outputs": [
    {
     "data": {
      "text/plain": [
       "[9,\n",
       " 9,\n",
       " 9,\n",
       " 9,\n",
       " 9,\n",
       " 9,\n",
       " 9,\n",
       " 9,\n",
       " 9,\n",
       " 9,\n",
       " 9,\n",
       " 9,\n",
       " 9,\n",
       " 9,\n",
       " 9,\n",
       " 9,\n",
       " 9,\n",
       " 9,\n",
       " 9,\n",
       " 9,\n",
       " 9,\n",
       " 9,\n",
       " 9,\n",
       " 9,\n",
       " 9,\n",
       " 9,\n",
       " 9,\n",
       " 9,\n",
       " 9,\n",
       " 9,\n",
       " 9,\n",
       " 9,\n",
       " 2,\n",
       " 2,\n",
       " 2,\n",
       " 2,\n",
       " 2,\n",
       " 2,\n",
       " 2,\n",
       " 2,\n",
       " 2,\n",
       " 2,\n",
       " 2,\n",
       " 2,\n",
       " 2,\n",
       " 2,\n",
       " 2,\n",
       " 2,\n",
       " 2,\n",
       " 2,\n",
       " 2,\n",
       " 2,\n",
       " 2,\n",
       " 2,\n",
       " 2,\n",
       " 2,\n",
       " 2,\n",
       " 2,\n",
       " 2,\n",
       " 2,\n",
       " 2,\n",
       " 2,\n",
       " 2,\n",
       " 2,\n",
       " 2,\n",
       " 2,\n",
       " 2,\n",
       " 2,\n",
       " 2,\n",
       " 2,\n",
       " 2,\n",
       " 2,\n",
       " 2,\n",
       " 2,\n",
       " 2,\n",
       " 2,\n",
       " 2,\n",
       " 2,\n",
       " 2,\n",
       " 3,\n",
       " 3,\n",
       " 3,\n",
       " 3,\n",
       " 3,\n",
       " 3,\n",
       " 3,\n",
       " 3,\n",
       " 3,\n",
       " 3,\n",
       " 3,\n",
       " 3,\n",
       " 3,\n",
       " 3,\n",
       " 3,\n",
       " 3,\n",
       " 3,\n",
       " 3,\n",
       " 3,\n",
       " 3,\n",
       " 3,\n",
       " 3,\n",
       " 3,\n",
       " 3,\n",
       " 3,\n",
       " 3,\n",
       " 3,\n",
       " 3,\n",
       " 3,\n",
       " 3,\n",
       " 3,\n",
       " 3,\n",
       " 3,\n",
       " 3,\n",
       " 3,\n",
       " 3,\n",
       " 3,\n",
       " 3,\n",
       " 3,\n",
       " 3,\n",
       " 3,\n",
       " 3,\n",
       " 3,\n",
       " 3,\n",
       " 3,\n",
       " 3,\n",
       " 3,\n",
       " 4,\n",
       " 4,\n",
       " 4,\n",
       " 4,\n",
       " 4,\n",
       " 4,\n",
       " 4,\n",
       " 4,\n",
       " 4,\n",
       " 4,\n",
       " 4,\n",
       " 4,\n",
       " 4,\n",
       " 4,\n",
       " 4,\n",
       " 4,\n",
       " 4,\n",
       " 4,\n",
       " 4,\n",
       " 4,\n",
       " 4,\n",
       " 4,\n",
       " 4,\n",
       " 4,\n",
       " 4,\n",
       " 4,\n",
       " 4,\n",
       " 4,\n",
       " 4,\n",
       " 4,\n",
       " 4,\n",
       " 4,\n",
       " 4,\n",
       " 4,\n",
       " 4,\n",
       " 4,\n",
       " 4,\n",
       " 4,\n",
       " 4,\n",
       " 4,\n",
       " 4,\n",
       " 4,\n",
       " 4,\n",
       " 4,\n",
       " 4,\n",
       " 4,\n",
       " 4,\n",
       " 5,\n",
       " 5,\n",
       " 5,\n",
       " 5,\n",
       " 5,\n",
       " 5,\n",
       " 5,\n",
       " 5,\n",
       " 5,\n",
       " 5,\n",
       " 5,\n",
       " 5,\n",
       " 5,\n",
       " 5,\n",
       " 5,\n",
       " 5,\n",
       " 5,\n",
       " 5,\n",
       " 5,\n",
       " 5,\n",
       " 5,\n",
       " 5,\n",
       " 5,\n",
       " 5,\n",
       " 5,\n",
       " 5,\n",
       " 5,\n",
       " 5,\n",
       " 5,\n",
       " 5,\n",
       " 5,\n",
       " 5,\n",
       " 5,\n",
       " 5,\n",
       " 5,\n",
       " 5,\n",
       " 5,\n",
       " 5,\n",
       " 5,\n",
       " 6,\n",
       " 6,\n",
       " 6,\n",
       " 6,\n",
       " 6,\n",
       " 6,\n",
       " 6,\n",
       " 6,\n",
       " 6,\n",
       " 6,\n",
       " 6,\n",
       " 6,\n",
       " 6,\n",
       " 6,\n",
       " 6,\n",
       " 6,\n",
       " 6,\n",
       " 6,\n",
       " 6,\n",
       " 6,\n",
       " 6,\n",
       " 6,\n",
       " 6,\n",
       " 6,\n",
       " 6,\n",
       " 6,\n",
       " 6,\n",
       " 6,\n",
       " 6,\n",
       " 6,\n",
       " 6,\n",
       " 6,\n",
       " 6,\n",
       " 6,\n",
       " 6,\n",
       " 6,\n",
       " 6,\n",
       " 6,\n",
       " 6,\n",
       " 7,\n",
       " 7,\n",
       " 7,\n",
       " 7,\n",
       " 7,\n",
       " 7,\n",
       " 7,\n",
       " 7,\n",
       " 7,\n",
       " 7,\n",
       " 7,\n",
       " 7,\n",
       " 7,\n",
       " 7,\n",
       " 7,\n",
       " 7,\n",
       " 7,\n",
       " 7,\n",
       " 7,\n",
       " 7,\n",
       " 7,\n",
       " 7,\n",
       " 7,\n",
       " 7,\n",
       " 7,\n",
       " 7,\n",
       " 7,\n",
       " 7,\n",
       " 7,\n",
       " 7,\n",
       " 7,\n",
       " 7,\n",
       " 7,\n",
       " 7,\n",
       " 7,\n",
       " 7,\n",
       " 7,\n",
       " 7,\n",
       " 7,\n",
       " 8,\n",
       " 8,\n",
       " 8,\n",
       " 8,\n",
       " 8,\n",
       " 8,\n",
       " 8,\n",
       " 8,\n",
       " 8,\n",
       " 8,\n",
       " 8,\n",
       " 8,\n",
       " 8,\n",
       " 8,\n",
       " 8,\n",
       " 8,\n",
       " 8,\n",
       " 8,\n",
       " 8,\n",
       " 8,\n",
       " 8,\n",
       " 8,\n",
       " 8,\n",
       " 8,\n",
       " 8,\n",
       " 8,\n",
       " 8,\n",
       " 8,\n",
       " 8,\n",
       " 8,\n",
       " 8,\n",
       " 8]"
      ]
     },
     "execution_count": 19,
     "metadata": {},
     "output_type": "execute_result"
    }
   ],
   "source": [
    "hn_final"
   ]
  },
  {
   "cell_type": "code",
   "execution_count": 20,
   "id": "d18c3664",
   "metadata": {
    "ExecuteTime": {
     "end_time": "2021-08-27T03:20:40.120527Z",
     "start_time": "2021-08-27T03:20:40.078530Z"
    }
   },
   "outputs": [
    {
     "ename": "KeyError",
     "evalue": "'force'",
     "output_type": "error",
     "traceback": [
      "\u001b[1;31m---------------------------------------------------------------------------\u001b[0m",
      "\u001b[1;31mKeyError\u001b[0m                                  Traceback (most recent call last)",
      "\u001b[1;32md:\\python\\lib\\site-packages\\pandas\\core\\indexes\\base.py\u001b[0m in \u001b[0;36mget_loc\u001b[1;34m(self, key, method, tolerance)\u001b[0m\n\u001b[0;32m   3079\u001b[0m             \u001b[1;32mtry\u001b[0m\u001b[1;33m:\u001b[0m\u001b[1;33m\u001b[0m\u001b[1;33m\u001b[0m\u001b[0m\n\u001b[1;32m-> 3080\u001b[1;33m                 \u001b[1;32mreturn\u001b[0m \u001b[0mself\u001b[0m\u001b[1;33m.\u001b[0m\u001b[0m_engine\u001b[0m\u001b[1;33m.\u001b[0m\u001b[0mget_loc\u001b[0m\u001b[1;33m(\u001b[0m\u001b[0mcasted_key\u001b[0m\u001b[1;33m)\u001b[0m\u001b[1;33m\u001b[0m\u001b[1;33m\u001b[0m\u001b[0m\n\u001b[0m\u001b[0;32m   3081\u001b[0m             \u001b[1;32mexcept\u001b[0m \u001b[0mKeyError\u001b[0m \u001b[1;32mas\u001b[0m \u001b[0merr\u001b[0m\u001b[1;33m:\u001b[0m\u001b[1;33m\u001b[0m\u001b[1;33m\u001b[0m\u001b[0m\n",
      "\u001b[1;32mpandas\\_libs\\index.pyx\u001b[0m in \u001b[0;36mpandas._libs.index.IndexEngine.get_loc\u001b[1;34m()\u001b[0m\n",
      "\u001b[1;32mpandas\\_libs\\index.pyx\u001b[0m in \u001b[0;36mpandas._libs.index.IndexEngine.get_loc\u001b[1;34m()\u001b[0m\n",
      "\u001b[1;32mpandas\\_libs\\hashtable_class_helper.pxi\u001b[0m in \u001b[0;36mpandas._libs.hashtable.PyObjectHashTable.get_item\u001b[1;34m()\u001b[0m\n",
      "\u001b[1;32mpandas\\_libs\\hashtable_class_helper.pxi\u001b[0m in \u001b[0;36mpandas._libs.hashtable.PyObjectHashTable.get_item\u001b[1;34m()\u001b[0m\n",
      "\u001b[1;31mKeyError\u001b[0m: 'force'",
      "\nThe above exception was the direct cause of the following exception:\n",
      "\u001b[1;31mKeyError\u001b[0m                                  Traceback (most recent call last)",
      "\u001b[1;32m<ipython-input-20-6ff6fa3340ee>\u001b[0m in \u001b[0;36m<module>\u001b[1;34m\u001b[0m\n\u001b[0;32m     25\u001b[0m                 \u001b[0mhr_final\u001b[0m\u001b[1;33m.\u001b[0m\u001b[0mappend\u001b[0m\u001b[1;33m(\u001b[0m\u001b[0mra\u001b[0m\u001b[1;33m)\u001b[0m\u001b[1;33m\u001b[0m\u001b[1;33m\u001b[0m\u001b[0m\n\u001b[0;32m     26\u001b[0m                 \u001b[0mdfc_final\u001b[0m\u001b[1;33m.\u001b[0m\u001b[0mappend\u001b[0m\u001b[1;33m(\u001b[0m\u001b[0mdis\u001b[0m\u001b[1;33m)\u001b[0m\u001b[1;33m\u001b[0m\u001b[1;33m\u001b[0m\u001b[0m\n\u001b[1;32m---> 27\u001b[1;33m                 \u001b[0mmax_f\u001b[0m\u001b[1;33m.\u001b[0m\u001b[0mappend\u001b[0m\u001b[1;33m(\u001b[0m\u001b[0mtemp\u001b[0m\u001b[1;33m[\u001b[0m\u001b[1;34m'force'\u001b[0m\u001b[1;33m]\u001b[0m\u001b[1;33m.\u001b[0m\u001b[0mmax\u001b[0m\u001b[1;33m(\u001b[0m\u001b[1;33m)\u001b[0m\u001b[1;33m)\u001b[0m\u001b[1;33m\u001b[0m\u001b[1;33m\u001b[0m\u001b[0m\n\u001b[0m\u001b[0;32m     28\u001b[0m                 \u001b[0mmax_f_fail\u001b[0m\u001b[1;33m.\u001b[0m\u001b[0mappend\u001b[0m\u001b[1;33m(\u001b[0m\u001b[0mtemp\u001b[0m\u001b[1;33m[\u001b[0m\u001b[1;34m'max failure parameter'\u001b[0m\u001b[1;33m]\u001b[0m\u001b[1;33m[\u001b[0m\u001b[0mtemp\u001b[0m\u001b[1;33m[\u001b[0m\u001b[1;34m\"force\"\u001b[0m\u001b[1;33m]\u001b[0m\u001b[1;33m.\u001b[0m\u001b[0midxmax\u001b[0m\u001b[1;33m(\u001b[0m\u001b[1;33m)\u001b[0m\u001b[1;33m]\u001b[0m\u001b[1;33m)\u001b[0m\u001b[1;33m\u001b[0m\u001b[1;33m\u001b[0m\u001b[0m\n\u001b[0;32m     29\u001b[0m                 \u001b[0mmin_f\u001b[0m\u001b[1;33m.\u001b[0m\u001b[0mappend\u001b[0m\u001b[1;33m(\u001b[0m\u001b[0mtemp\u001b[0m\u001b[1;33m[\u001b[0m\u001b[1;34m'force'\u001b[0m\u001b[1;33m]\u001b[0m\u001b[1;33m.\u001b[0m\u001b[0mmin\u001b[0m\u001b[1;33m(\u001b[0m\u001b[1;33m)\u001b[0m\u001b[1;33m)\u001b[0m\u001b[1;33m\u001b[0m\u001b[1;33m\u001b[0m\u001b[0m\n",
      "\u001b[1;32md:\\python\\lib\\site-packages\\pandas\\core\\frame.py\u001b[0m in \u001b[0;36m__getitem__\u001b[1;34m(self, key)\u001b[0m\n\u001b[0;32m   3022\u001b[0m             \u001b[1;32mif\u001b[0m \u001b[0mself\u001b[0m\u001b[1;33m.\u001b[0m\u001b[0mcolumns\u001b[0m\u001b[1;33m.\u001b[0m\u001b[0mnlevels\u001b[0m \u001b[1;33m>\u001b[0m \u001b[1;36m1\u001b[0m\u001b[1;33m:\u001b[0m\u001b[1;33m\u001b[0m\u001b[1;33m\u001b[0m\u001b[0m\n\u001b[0;32m   3023\u001b[0m                 \u001b[1;32mreturn\u001b[0m \u001b[0mself\u001b[0m\u001b[1;33m.\u001b[0m\u001b[0m_getitem_multilevel\u001b[0m\u001b[1;33m(\u001b[0m\u001b[0mkey\u001b[0m\u001b[1;33m)\u001b[0m\u001b[1;33m\u001b[0m\u001b[1;33m\u001b[0m\u001b[0m\n\u001b[1;32m-> 3024\u001b[1;33m             \u001b[0mindexer\u001b[0m \u001b[1;33m=\u001b[0m \u001b[0mself\u001b[0m\u001b[1;33m.\u001b[0m\u001b[0mcolumns\u001b[0m\u001b[1;33m.\u001b[0m\u001b[0mget_loc\u001b[0m\u001b[1;33m(\u001b[0m\u001b[0mkey\u001b[0m\u001b[1;33m)\u001b[0m\u001b[1;33m\u001b[0m\u001b[1;33m\u001b[0m\u001b[0m\n\u001b[0m\u001b[0;32m   3025\u001b[0m             \u001b[1;32mif\u001b[0m \u001b[0mis_integer\u001b[0m\u001b[1;33m(\u001b[0m\u001b[0mindexer\u001b[0m\u001b[1;33m)\u001b[0m\u001b[1;33m:\u001b[0m\u001b[1;33m\u001b[0m\u001b[1;33m\u001b[0m\u001b[0m\n\u001b[0;32m   3026\u001b[0m                 \u001b[0mindexer\u001b[0m \u001b[1;33m=\u001b[0m \u001b[1;33m[\u001b[0m\u001b[0mindexer\u001b[0m\u001b[1;33m]\u001b[0m\u001b[1;33m\u001b[0m\u001b[1;33m\u001b[0m\u001b[0m\n",
      "\u001b[1;32md:\\python\\lib\\site-packages\\pandas\\core\\indexes\\base.py\u001b[0m in \u001b[0;36mget_loc\u001b[1;34m(self, key, method, tolerance)\u001b[0m\n\u001b[0;32m   3080\u001b[0m                 \u001b[1;32mreturn\u001b[0m \u001b[0mself\u001b[0m\u001b[1;33m.\u001b[0m\u001b[0m_engine\u001b[0m\u001b[1;33m.\u001b[0m\u001b[0mget_loc\u001b[0m\u001b[1;33m(\u001b[0m\u001b[0mcasted_key\u001b[0m\u001b[1;33m)\u001b[0m\u001b[1;33m\u001b[0m\u001b[1;33m\u001b[0m\u001b[0m\n\u001b[0;32m   3081\u001b[0m             \u001b[1;32mexcept\u001b[0m \u001b[0mKeyError\u001b[0m \u001b[1;32mas\u001b[0m \u001b[0merr\u001b[0m\u001b[1;33m:\u001b[0m\u001b[1;33m\u001b[0m\u001b[1;33m\u001b[0m\u001b[0m\n\u001b[1;32m-> 3082\u001b[1;33m                 \u001b[1;32mraise\u001b[0m \u001b[0mKeyError\u001b[0m\u001b[1;33m(\u001b[0m\u001b[0mkey\u001b[0m\u001b[1;33m)\u001b[0m \u001b[1;32mfrom\u001b[0m \u001b[0merr\u001b[0m\u001b[1;33m\u001b[0m\u001b[1;33m\u001b[0m\u001b[0m\n\u001b[0m\u001b[0;32m   3083\u001b[0m \u001b[1;33m\u001b[0m\u001b[0m\n\u001b[0;32m   3084\u001b[0m         \u001b[1;32mif\u001b[0m \u001b[0mtolerance\u001b[0m \u001b[1;32mis\u001b[0m \u001b[1;32mnot\u001b[0m \u001b[1;32mNone\u001b[0m\u001b[1;33m:\u001b[0m\u001b[1;33m\u001b[0m\u001b[1;33m\u001b[0m\u001b[0m\n",
      "\u001b[1;31mKeyError\u001b[0m: 'force'"
     ]
    }
   ],
   "source": [
    "hn = data['hole_number'].value_counts().index.tolist()\n",
    "hr = data['hole_radius'].value_counts().index.tolist()\n",
    "dfc = data['distance_from_centre'].value_counts().index.tolist()\n",
    "\n",
    "\n",
    "\n",
    "hn_final = []\n",
    "hr_final = []\n",
    "dfc_final = []\n",
    "max_f = []\n",
    "min_f = []\n",
    "max_f_fail = []\n",
    "min_f_fail = []\n",
    "\n",
    "\n",
    "for num in hn:\n",
    "    for ra in hr:\n",
    "        for dis in dfc:\n",
    "            temp = data[data['hole_number']==num]\n",
    "            temp = temp[temp['hole_radius']==ra]\n",
    "            temp = temp[temp['distance_from_centre']==dis]\n",
    "\n",
    "            if len(temp)!=0:\n",
    "                hn_final.append(num)\n",
    "                hr_final.append(ra)\n",
    "                dfc_final.append(dis)\n",
    "                max_f.append(temp['force'].max())\n",
    "                max_f_fail.append(temp['max failure parameter'][temp[\"force\"].idxmax()])\n",
    "                min_f.append(temp['force'].min())\n",
    "                min_f_fail.append(temp['max failure parameter'][temp[\"force\"].idxmin()])   \n",
    "                    \n",
    "        \n",
    "\n",
    "                    \n",
    "data = pd.DataFrame({'hole_number':hn_final,'hole_radius':hr_final,'distance_from_centre':dfc_final,\n",
    "                            'maximum_load':max_f,'failure parameter at maximum_load':max_f_fail,\n",
    "                             'minimum_load':min_f,'failure parameter at minimum_load':min_f_fail})\n",
    "\n",
    "data = data.sort_values(['hole_number', 'hole_radius','distance_from_centre'], ascending=[True, True, True,True])\n",
    "data.reset_index(drop=True,inplace = True)"
   ]
  },
  {
   "cell_type": "code",
   "execution_count": null,
   "id": "07cf413b",
   "metadata": {
    "ExecuteTime": {
     "end_time": "2021-08-27T03:19:16.751503Z",
     "start_time": "2021-08-27T03:19:16.286Z"
    }
   },
   "outputs": [],
   "source": [
    "data"
   ]
  },
  {
   "cell_type": "code",
   "execution_count": 573,
   "id": "ccc5f6f1",
   "metadata": {
    "ExecuteTime": {
     "end_time": "2021-08-26T16:09:07.746351Z",
     "start_time": "2021-08-26T16:09:07.739351Z"
    }
   },
   "outputs": [
    {
     "data": {
      "text/plain": [
       "(322, 7)"
      ]
     },
     "execution_count": 573,
     "metadata": {},
     "output_type": "execute_result"
    }
   ],
   "source": [
    "data.shape"
   ]
  },
  {
   "cell_type": "markdown",
   "id": "beeabefd",
   "metadata": {},
   "source": [
    "##### relativly small dataset "
   ]
  },
  {
   "cell_type": "markdown",
   "id": "47261d88",
   "metadata": {},
   "source": [
    "##### creating columns : surface area and pellet_radius-hole_radius ratio"
   ]
  },
  {
   "cell_type": "code",
   "execution_count": 574,
   "id": "590ae37a",
   "metadata": {
    "ExecuteTime": {
     "end_time": "2021-08-26T16:09:09.985203Z",
     "start_time": "2021-08-26T16:09:09.962204Z"
    }
   },
   "outputs": [],
   "source": [
    "#creating columns: surface area and pellet_radius-hole_radius ratio\n",
    "outer_radius = 0.1\n",
    "data['surface_area'] = [outer_radius*2*np.pi+data['hole_number'][i]*data['hole_radius'][i]*2*np.pi for i in range(len(data))]\n",
    "data['ratio pellet-hole'] = [outer_radius/data['hole_radius'][i] for i in range(len(data))]"
   ]
  },
  {
   "cell_type": "code",
   "execution_count": 575,
   "id": "cc4cdfe7",
   "metadata": {
    "ExecuteTime": {
     "end_time": "2021-08-26T16:09:12.023704Z",
     "start_time": "2021-08-26T16:09:12.009698Z"
    }
   },
   "outputs": [
    {
     "data": {
      "text/plain": [
       "Index(['hole_number', 'hole_radius', 'distance_from_centre', 'maximum_load',\n",
       "       'fail at maximum_load', 'minimum_load', 'fail at minimum_load',\n",
       "       'surface_area', 'ratio pellet-hole'],\n",
       "      dtype='object')"
      ]
     },
     "execution_count": 575,
     "metadata": {},
     "output_type": "execute_result"
    }
   ],
   "source": [
    "data.columns"
   ]
  },
  {
   "cell_type": "code",
   "execution_count": 576,
   "id": "46cdeb6f",
   "metadata": {
    "ExecuteTime": {
     "end_time": "2021-08-26T16:09:12.810903Z",
     "start_time": "2021-08-26T16:09:12.802905Z"
    }
   },
   "outputs": [],
   "source": [
    "ar = 0.1 * pi/180"
   ]
  },
  {
   "cell_type": "code",
   "execution_count": 577,
   "id": "c48e2eff",
   "metadata": {
    "ExecuteTime": {
     "end_time": "2021-08-26T16:09:17.229024Z",
     "start_time": "2021-08-26T16:09:17.211027Z"
    }
   },
   "outputs": [],
   "source": [
    "max_force = [ar*data['maximum_load'][i] for i in range(len(data))] \n",
    "min_force = [ar*data['minimum_load'][i] for i in range(len(data))] \n",
    "data['max_force']=max_force\n",
    "data['min_force']=min_force"
   ]
  },
  {
   "cell_type": "code",
   "execution_count": 578,
   "id": "68c0fe43",
   "metadata": {
    "ExecuteTime": {
     "end_time": "2021-08-26T16:09:26.875894Z",
     "start_time": "2021-08-26T16:09:26.857882Z"
    }
   },
   "outputs": [],
   "source": [
    "data.to_csv('temp.csv')"
   ]
  },
  {
   "cell_type": "markdown",
   "id": "d1276464",
   "metadata": {},
   "source": [
    "##### checking the correlation between py_max and other parameters"
   ]
  },
  {
   "cell_type": "code",
   "execution_count": 338,
   "id": "ce79609c",
   "metadata": {
    "ExecuteTime": {
     "end_time": "2021-08-26T14:29:32.914350Z",
     "start_time": "2021-08-26T14:29:32.895350Z"
    }
   },
   "outputs": [
    {
     "data": {
      "text/plain": [
       "Index(['hole_number', 'hole_radius', 'distance_from_centre', 'maximum_load',\n",
       "       'fail at maximum_load', 'minimum_load', 'fail at minimum_load',\n",
       "       'surface_area', 'ratio pellet-hole', 'max_force', 'min_force'],\n",
       "      dtype='object')"
      ]
     },
     "execution_count": 338,
     "metadata": {},
     "output_type": "execute_result"
    }
   ],
   "source": [
    "data.columns"
   ]
  },
  {
   "cell_type": "code",
   "execution_count": 478,
   "id": "360f4eca",
   "metadata": {
    "ExecuteTime": {
     "end_time": "2021-08-26T15:17:51.564323Z",
     "start_time": "2021-08-26T15:17:51.554322Z"
    }
   },
   "outputs": [
    {
     "data": {
      "text/plain": [
       "distance_from_centre    0.050200\n",
       "hole_radius             0.015683\n",
       "fail at maximum_load   -0.007998\n",
       "ratio pellet-hole      -0.031361\n",
       "surface_area           -0.567105\n",
       "hole_number            -0.687692\n",
       "Name: max_force, dtype: float64"
      ]
     },
     "execution_count": 478,
     "metadata": {},
     "output_type": "execute_result"
    }
   ],
   "source": [
    "data_corr = data.corr()['max_force'].sort_values(ascending=False).drop(['max_force','maximum_load','minimum_load','fail at minimum_load','fail at minimum_load','min_force'])\n",
    "#data_corr = data.corr()['min_force'].sort_values(ascending=False).drop(['maximum_load','minimum_load','fail at minimum_load'])\n",
    "data_corr.head(10)"
   ]
  },
  {
   "cell_type": "markdown",
   "id": "04bb7334",
   "metadata": {},
   "source": [
    "##### visualising the correlation"
   ]
  },
  {
   "cell_type": "code",
   "execution_count": 183,
   "id": "e1758599",
   "metadata": {
    "ExecuteTime": {
     "end_time": "2021-08-26T13:48:41.424943Z",
     "start_time": "2021-08-26T13:48:40.117547Z"
    }
   },
   "outputs": [
    {
     "data": {
      "text/plain": [
       "Index(['hole_number', 'hole_radius', 'distance_from_centre', 'maximum_load',\n",
       "       'fail at maximum_load', 'minimum_load', 'fail at minimum_load',\n",
       "       'surface_area', 'ratio pellet-hole', 'max_force', 'min_force'],\n",
       "      dtype='object')"
      ]
     },
     "execution_count": 183,
     "metadata": {},
     "output_type": "execute_result"
    },
    {
     "data": {
      "image/png": "[encoded data removed]",
      "text/plain": [
       "<Figure size 720x720 with 2 Axes>"
      ]
     },
     "metadata": {},
     "output_type": "display_data"
    }
   ],
   "source": [
    "# most correlated features \n",
    "corrmat = data.corr()\n",
    "#picking the top correlation features\n",
    "top_corr_features = corrmat.index[abs(corrmat['max_force'])>0.0]\n",
    "plt.figure(figsize=(10,10))\n",
    "sns.heatmap(data[top_corr_features].corr(), cmap='coolwarm', annot=True, linewidths=2)\n",
    "top_corr_features"
   ]
  },
  {
   "cell_type": "markdown",
   "id": "3b0d1c7e",
   "metadata": {},
   "source": [
    "##### selecting the potential useful columns"
   ]
  },
  {
   "cell_type": "code",
   "execution_count": 564,
   "id": "cf2ff4d9",
   "metadata": {
    "ExecuteTime": {
     "end_time": "2021-08-26T15:48:31.804842Z",
     "start_time": "2021-08-26T15:48:31.789748Z"
    }
   },
   "outputs": [],
   "source": [
    "feature_names =  [ 'surface_area', 'hole_number','ratio pellet-hole','hole_radius','distance_from_centre']\n",
    "#feature_names =  [ 'surface_area', 'ratio pellet-hole','distance_from_centre','hole_radius']\n",
    "#feature_names =  [ 'surface_area','hole_number', 'ratio pellet-hole']\n",
    "#feature_names =  [ 'surface_area', 'hole_number']\n",
    "X = data[feature_names]\n",
    "#picking specific columns\n",
    "y = data.min_force"
   ]
  },
  {
   "cell_type": "markdown",
   "id": "906391de",
   "metadata": {},
   "source": [
    "##### overview of py_max"
   ]
  },
  {
   "cell_type": "code",
   "execution_count": 1,
   "id": "ca08b4a8",
   "metadata": {
    "ExecuteTime": {
     "end_time": "2021-08-27T03:16:32.424673Z",
     "start_time": "2021-08-27T03:16:32.183675Z"
    }
   },
   "outputs": [
    {
     "ename": "NameError",
     "evalue": "name 'data' is not defined",
     "output_type": "error",
     "traceback": [
      "\u001b[1;31m---------------------------------------------------------------------------\u001b[0m",
      "\u001b[1;31mNameError\u001b[0m                                 Traceback (most recent call last)",
      "\u001b[1;32m<ipython-input-1-1f2a2bb6d346>\u001b[0m in \u001b[0;36m<module>\u001b[1;34m\u001b[0m\n\u001b[0;32m      1\u001b[0m \u001b[1;31m#Descriptive statistics summary\u001b[0m\u001b[1;33m\u001b[0m\u001b[1;33m\u001b[0m\u001b[1;33m\u001b[0m\u001b[0m\n\u001b[1;32m----> 2\u001b[1;33m \u001b[0mdata\u001b[0m\u001b[1;33m[\u001b[0m\u001b[1;34m'min_force'\u001b[0m\u001b[1;33m]\u001b[0m\u001b[1;33m.\u001b[0m\u001b[0mdescribe\u001b[0m\u001b[1;33m(\u001b[0m\u001b[1;33m)\u001b[0m\u001b[1;33m\u001b[0m\u001b[1;33m\u001b[0m\u001b[0m\n\u001b[0m",
      "\u001b[1;31mNameError\u001b[0m: name 'data' is not defined"
     ]
    }
   ],
   "source": [
    "#Descriptive statistics summary\n",
    "data['min_force'].describe()"
   ]
  },
  {
   "cell_type": "code",
   "execution_count": 452,
   "id": "1c7ede0b",
   "metadata": {
    "ExecuteTime": {
     "end_time": "2021-08-26T15:05:38.508226Z",
     "start_time": "2021-08-26T15:05:38.310458Z"
    }
   },
   "outputs": [
    {
     "name": "stderr",
     "output_type": "stream",
     "text": [
      "d:\\python\\lib\\site-packages\\seaborn\\distributions.py:2557: FutureWarning: `distplot` is a deprecated function and will be removed in a future version. Please adapt your code to use either `displot` (a figure-level function with similar flexibility) or `histplot` (an axes-level function for histograms).\n",
      "  warnings.warn(msg, FutureWarning)\n"
     ]
    },
    {
     "data": {
      "text/plain": [
       "<AxesSubplot:xlabel='min_force', ylabel='Density'>"
      ]
     },
     "execution_count": 452,
     "metadata": {},
     "output_type": "execute_result"
    },
    {
     "data": {
      "image/png": "[encoded data removed]",
      "text/plain": [
       "<Figure size 432x288 with 1 Axes>"
      ]
     },
     "metadata": {},
     "output_type": "display_data"
    }
   ],
   "source": [
    "#histogram\n",
    "sns.distplot(data['min_force'])"
   ]
  },
  {
   "cell_type": "markdown",
   "id": "54735d91",
   "metadata": {},
   "source": [
    "# Preprocessing data"
   ]
  },
  {
   "cell_type": "code",
   "execution_count": null,
   "id": "1c0fa3c9",
   "metadata": {},
   "outputs": [],
   "source": [
    "#rb for linear \n",
    "# sc for ridge"
   ]
  },
  {
   "cell_type": "code",
   "execution_count": 565,
   "id": "89a8d1fb",
   "metadata": {
    "ExecuteTime": {
     "end_time": "2021-08-26T15:48:37.129941Z",
     "start_time": "2021-08-26T15:48:37.125126Z"
    }
   },
   "outputs": [],
   "source": [
    "#split data\n",
    "train_X, val_X, train_y, val_y = train_test_split(X,y,random_state = 1)"
   ]
  },
  {
   "cell_type": "code",
   "execution_count": 506,
   "id": "c9e28333",
   "metadata": {
    "ExecuteTime": {
     "end_time": "2021-08-26T15:30:46.681391Z",
     "start_time": "2021-08-26T15:30:46.668394Z"
    }
   },
   "outputs": [],
   "source": [
    "# standarise the data or normalise\n",
    "sc = StandardScaler()\n",
    "mm = MinMaxScaler()\n",
    "rb = RobustScaler()\n",
    "train_X = sc.fit_transform(train_X)\n",
    "val_X = sc.transform(val_X)"
   ]
  },
  {
   "cell_type": "code",
   "execution_count": 507,
   "id": "55df1ae9",
   "metadata": {
    "ExecuteTime": {
     "end_time": "2021-08-26T15:30:48.361567Z",
     "start_time": "2021-08-26T15:30:48.352567Z"
    }
   },
   "outputs": [],
   "source": [
    "#def rmse_cv(model,X,y):\n",
    "#    rmse= -cross_val_score(model,X,y, scoring=\"r2\", cv = 50)\n",
    "#    return(rmse).mean()\n",
    "\n",
    "def rmse_cv(model,X,y):\n",
    "    rmse= np.sqrt(-cross_val_score(model,X,y, scoring=\"neg_mean_squared_error\", cv = 50))\n",
    "    return(rmse).mean()"
   ]
  },
  {
   "cell_type": "markdown",
   "id": "85f2dd09",
   "metadata": {},
   "source": [
    "# Linear Model"
   ]
  },
  {
   "cell_type": "markdown",
   "id": "eee9307a",
   "metadata": {},
   "source": [
    "##### quick application on the ordinary linear regression model"
   ]
  },
  {
   "cell_type": "code",
   "execution_count": 484,
   "id": "698ac8d1",
   "metadata": {
    "ExecuteTime": {
     "end_time": "2021-08-26T15:18:16.960528Z",
     "start_time": "2021-08-26T15:18:16.942528Z"
    }
   },
   "outputs": [
    {
     "data": {
      "text/plain": [
       "LinearRegression()"
      ]
     },
     "execution_count": 484,
     "metadata": {},
     "output_type": "execute_result"
    }
   ],
   "source": [
    "ln_model = LinearRegression()\n",
    "ln_model.fit(train_X, train_y) "
   ]
  },
  {
   "cell_type": "code",
   "execution_count": 485,
   "id": "4faec743",
   "metadata": {
    "ExecuteTime": {
     "end_time": "2021-08-26T15:18:18.474461Z",
     "start_time": "2021-08-26T15:18:18.274465Z"
    }
   },
   "outputs": [
    {
     "name": "stdout",
     "output_type": "stream",
     "text": [
      "Validation MAE:   53689.448605835394\n",
      "Validation rmse: 63066.10742771882\n",
      "Validation r2_score: 0.4183137208733102\n"
     ]
    }
   ],
   "source": [
    "# Predict\n",
    "ln_val_predictions = ln_model.predict(val_X)\n",
    "#check mae\n",
    "ln_val_mae = mean_absolute_error(val_y,ln_val_predictions)\n",
    "#print(.format(val_mae))\n",
    "print('Validation MAE:  ',ln_val_mae)\n",
    "print('Validation rmse:',rmse_cv(ln_model, X, y))\n",
    "print('Validation r2_score:', r2_score(val_y,ln_val_predictions))"
   ]
  },
  {
   "cell_type": "markdown",
   "id": "9d45d493",
   "metadata": {},
   "source": [
    "##### visualisation of alpha against the Ridge and Lasso Linear Regression "
   ]
  },
  {
   "cell_type": "markdown",
   "id": "2c2b2df2",
   "metadata": {},
   "source": [
    "##### range 1e-5 to 1"
   ]
  },
  {
   "cell_type": "code",
   "execution_count": 486,
   "id": "319dd9c6",
   "metadata": {
    "ExecuteTime": {
     "end_time": "2021-08-26T15:18:25.038677Z",
     "start_time": "2021-08-26T15:18:24.291732Z"
    }
   },
   "outputs": [
    {
     "name": "stdout",
     "output_type": "stream",
     "text": [
      "RidgeCV最佳alpha值 100.0\n"
     ]
    },
    {
     "data": {
      "text/plain": [
       "0.46687344591494473"
      ]
     },
     "execution_count": 486,
     "metadata": {},
     "output_type": "execute_result"
    }
   ],
   "source": [
    "model = RidgeCV(alphas=[1e-5,5e-5,1e-4, 5e-4, 1e-3, 5e-3,1e-2,5e-2,1e-1,5e-1,10,50,100,200,500,800],cv=40)  # 通过RidgeCV可以设置多个参数值，算法使用交叉验证获取最佳参数值\n",
    "model.fit(train_X, train_y)   # 线性回归建模\n",
    "#print('系数矩阵:\\n',model.coef_)\n",
    "#print('线性回归模型:\\n',model)\n",
    "print('RidgeCV最佳alpha值',model.alpha_)  # 只有在使用RidgeCV算法时才有效\n",
    "# 使用模型预测\n",
    "predicted = model.predict(train_X)\n",
    "\n",
    "model.score(val_X, val_y) "
   ]
  },
  {
   "cell_type": "code",
   "execution_count": 487,
   "id": "f2f4b5d8",
   "metadata": {
    "ExecuteTime": {
     "end_time": "2021-08-26T15:18:28.019961Z",
     "start_time": "2021-08-26T15:18:27.997962Z"
    }
   },
   "outputs": [
    {
     "ename": "ValueError",
     "evalue": "X has 3 features, but DecisionTreeRegressor is expecting 5 features as input.",
     "output_type": "error",
     "traceback": [
      "\u001b[1;31m---------------------------------------------------------------------------\u001b[0m",
      "\u001b[1;31mValueError\u001b[0m                                Traceback (most recent call last)",
      "\u001b[1;32m<ipython-input-487-aadaca1d02df>\u001b[0m in \u001b[0;36m<module>\u001b[1;34m\u001b[0m\n\u001b[1;32m----> 1\u001b[1;33m \u001b[0mforest_model\u001b[0m\u001b[1;33m.\u001b[0m\u001b[0mscore\u001b[0m\u001b[1;33m(\u001b[0m\u001b[0mval_X\u001b[0m\u001b[1;33m,\u001b[0m \u001b[0mval_y\u001b[0m\u001b[1;33m)\u001b[0m\u001b[1;33m\u001b[0m\u001b[1;33m\u001b[0m\u001b[0m\n\u001b[0m",
      "\u001b[1;32md:\\python\\lib\\site-packages\\sklearn\\base.py\u001b[0m in \u001b[0;36mscore\u001b[1;34m(self, X, y, sample_weight)\u001b[0m\n\u001b[0;32m    551\u001b[0m \u001b[1;33m\u001b[0m\u001b[0m\n\u001b[0;32m    552\u001b[0m         \u001b[1;32mfrom\u001b[0m \u001b[1;33m.\u001b[0m\u001b[0mmetrics\u001b[0m \u001b[1;32mimport\u001b[0m \u001b[0mr2_score\u001b[0m\u001b[1;33m\u001b[0m\u001b[1;33m\u001b[0m\u001b[0m\n\u001b[1;32m--> 553\u001b[1;33m         \u001b[0my_pred\u001b[0m \u001b[1;33m=\u001b[0m \u001b[0mself\u001b[0m\u001b[1;33m.\u001b[0m\u001b[0mpredict\u001b[0m\u001b[1;33m(\u001b[0m\u001b[0mX\u001b[0m\u001b[1;33m)\u001b[0m\u001b[1;33m\u001b[0m\u001b[1;33m\u001b[0m\u001b[0m\n\u001b[0m\u001b[0;32m    554\u001b[0m         \u001b[1;32mreturn\u001b[0m \u001b[0mr2_score\u001b[0m\u001b[1;33m(\u001b[0m\u001b[0my\u001b[0m\u001b[1;33m,\u001b[0m \u001b[0my_pred\u001b[0m\u001b[1;33m,\u001b[0m \u001b[0msample_weight\u001b[0m\u001b[1;33m=\u001b[0m\u001b[0msample_weight\u001b[0m\u001b[1;33m)\u001b[0m\u001b[1;33m\u001b[0m\u001b[1;33m\u001b[0m\u001b[0m\n\u001b[0;32m    555\u001b[0m \u001b[1;33m\u001b[0m\u001b[0m\n",
      "\u001b[1;32md:\\python\\lib\\site-packages\\sklearn\\ensemble\\_forest.py\u001b[0m in \u001b[0;36mpredict\u001b[1;34m(self, X)\u001b[0m\n\u001b[0;32m    782\u001b[0m         \u001b[0mcheck_is_fitted\u001b[0m\u001b[1;33m(\u001b[0m\u001b[0mself\u001b[0m\u001b[1;33m)\u001b[0m\u001b[1;33m\u001b[0m\u001b[1;33m\u001b[0m\u001b[0m\n\u001b[0;32m    783\u001b[0m         \u001b[1;31m# Check data\u001b[0m\u001b[1;33m\u001b[0m\u001b[1;33m\u001b[0m\u001b[1;33m\u001b[0m\u001b[0m\n\u001b[1;32m--> 784\u001b[1;33m         \u001b[0mX\u001b[0m \u001b[1;33m=\u001b[0m \u001b[0mself\u001b[0m\u001b[1;33m.\u001b[0m\u001b[0m_validate_X_predict\u001b[0m\u001b[1;33m(\u001b[0m\u001b[0mX\u001b[0m\u001b[1;33m)\u001b[0m\u001b[1;33m\u001b[0m\u001b[1;33m\u001b[0m\u001b[0m\n\u001b[0m\u001b[0;32m    785\u001b[0m \u001b[1;33m\u001b[0m\u001b[0m\n\u001b[0;32m    786\u001b[0m         \u001b[1;31m# Assign chunk of trees to jobs\u001b[0m\u001b[1;33m\u001b[0m\u001b[1;33m\u001b[0m\u001b[1;33m\u001b[0m\u001b[0m\n",
      "\u001b[1;32md:\\python\\lib\\site-packages\\sklearn\\ensemble\\_forest.py\u001b[0m in \u001b[0;36m_validate_X_predict\u001b[1;34m(self, X)\u001b[0m\n\u001b[0;32m    420\u001b[0m         \u001b[0mcheck_is_fitted\u001b[0m\u001b[1;33m(\u001b[0m\u001b[0mself\u001b[0m\u001b[1;33m)\u001b[0m\u001b[1;33m\u001b[0m\u001b[1;33m\u001b[0m\u001b[0m\n\u001b[0;32m    421\u001b[0m \u001b[1;33m\u001b[0m\u001b[0m\n\u001b[1;32m--> 422\u001b[1;33m         \u001b[1;32mreturn\u001b[0m \u001b[0mself\u001b[0m\u001b[1;33m.\u001b[0m\u001b[0mestimators_\u001b[0m\u001b[1;33m[\u001b[0m\u001b[1;36m0\u001b[0m\u001b[1;33m]\u001b[0m\u001b[1;33m.\u001b[0m\u001b[0m_validate_X_predict\u001b[0m\u001b[1;33m(\u001b[0m\u001b[0mX\u001b[0m\u001b[1;33m,\u001b[0m \u001b[0mcheck_input\u001b[0m\u001b[1;33m=\u001b[0m\u001b[1;32mTrue\u001b[0m\u001b[1;33m)\u001b[0m\u001b[1;33m\u001b[0m\u001b[1;33m\u001b[0m\u001b[0m\n\u001b[0m\u001b[0;32m    423\u001b[0m \u001b[1;33m\u001b[0m\u001b[0m\n\u001b[0;32m    424\u001b[0m     \u001b[1;33m@\u001b[0m\u001b[0mproperty\u001b[0m\u001b[1;33m\u001b[0m\u001b[1;33m\u001b[0m\u001b[0m\n",
      "\u001b[1;32md:\\python\\lib\\site-packages\\sklearn\\tree\\_classes.py\u001b[0m in \u001b[0;36m_validate_X_predict\u001b[1;34m(self, X, check_input)\u001b[0m\n\u001b[0;32m    405\u001b[0m         \u001b[1;34m\"\"\"Validate the training data on predict (probabilities).\"\"\"\u001b[0m\u001b[1;33m\u001b[0m\u001b[1;33m\u001b[0m\u001b[0m\n\u001b[0;32m    406\u001b[0m         \u001b[1;32mif\u001b[0m \u001b[0mcheck_input\u001b[0m\u001b[1;33m:\u001b[0m\u001b[1;33m\u001b[0m\u001b[1;33m\u001b[0m\u001b[0m\n\u001b[1;32m--> 407\u001b[1;33m             X = self._validate_data(X, dtype=DTYPE, accept_sparse=\"csr\",\n\u001b[0m\u001b[0;32m    408\u001b[0m                                     reset=False)\n\u001b[0;32m    409\u001b[0m             if issparse(X) and (X.indices.dtype != np.intc or\n",
      "\u001b[1;32md:\\python\\lib\\site-packages\\sklearn\\base.py\u001b[0m in \u001b[0;36m_validate_data\u001b[1;34m(self, X, y, reset, validate_separately, **check_params)\u001b[0m\n\u001b[0;32m    435\u001b[0m \u001b[1;33m\u001b[0m\u001b[0m\n\u001b[0;32m    436\u001b[0m         \u001b[1;32mif\u001b[0m \u001b[0mcheck_params\u001b[0m\u001b[1;33m.\u001b[0m\u001b[0mget\u001b[0m\u001b[1;33m(\u001b[0m\u001b[1;34m'ensure_2d'\u001b[0m\u001b[1;33m,\u001b[0m \u001b[1;32mTrue\u001b[0m\u001b[1;33m)\u001b[0m\u001b[1;33m:\u001b[0m\u001b[1;33m\u001b[0m\u001b[1;33m\u001b[0m\u001b[0m\n\u001b[1;32m--> 437\u001b[1;33m             \u001b[0mself\u001b[0m\u001b[1;33m.\u001b[0m\u001b[0m_check_n_features\u001b[0m\u001b[1;33m(\u001b[0m\u001b[0mX\u001b[0m\u001b[1;33m,\u001b[0m \u001b[0mreset\u001b[0m\u001b[1;33m=\u001b[0m\u001b[0mreset\u001b[0m\u001b[1;33m)\u001b[0m\u001b[1;33m\u001b[0m\u001b[1;33m\u001b[0m\u001b[0m\n\u001b[0m\u001b[0;32m    438\u001b[0m \u001b[1;33m\u001b[0m\u001b[0m\n\u001b[0;32m    439\u001b[0m         \u001b[1;32mreturn\u001b[0m \u001b[0mout\u001b[0m\u001b[1;33m\u001b[0m\u001b[1;33m\u001b[0m\u001b[0m\n",
      "\u001b[1;32md:\\python\\lib\\site-packages\\sklearn\\base.py\u001b[0m in \u001b[0;36m_check_n_features\u001b[1;34m(self, X, reset)\u001b[0m\n\u001b[0;32m    363\u001b[0m \u001b[1;33m\u001b[0m\u001b[0m\n\u001b[0;32m    364\u001b[0m         \u001b[1;32mif\u001b[0m \u001b[0mn_features\u001b[0m \u001b[1;33m!=\u001b[0m \u001b[0mself\u001b[0m\u001b[1;33m.\u001b[0m\u001b[0mn_features_in_\u001b[0m\u001b[1;33m:\u001b[0m\u001b[1;33m\u001b[0m\u001b[1;33m\u001b[0m\u001b[0m\n\u001b[1;32m--> 365\u001b[1;33m             raise ValueError(\n\u001b[0m\u001b[0;32m    366\u001b[0m                 \u001b[1;34mf\"X has {n_features} features, but {self.__class__.__name__} \"\u001b[0m\u001b[1;33m\u001b[0m\u001b[1;33m\u001b[0m\u001b[0m\n\u001b[0;32m    367\u001b[0m                 f\"is expecting {self.n_features_in_} features as input.\")\n",
      "\u001b[1;31mValueError\u001b[0m: X has 3 features, but DecisionTreeRegressor is expecting 5 features as input."
     ]
    }
   ],
   "source": [
    "forest_model.score(val_X, val_y) "
   ]
  },
  {
   "cell_type": "code",
   "execution_count": 441,
   "id": "cbb4256f",
   "metadata": {
    "ExecuteTime": {
     "end_time": "2021-08-26T15:02:30.847379Z",
     "start_time": "2021-08-26T15:02:30.837377Z"
    }
   },
   "outputs": [
    {
     "data": {
      "text/plain": [
       "0.7375260575600009"
      ]
     },
     "execution_count": 441,
     "metadata": {},
     "output_type": "execute_result"
    }
   ],
   "source": [
    "decision_model.score(val_X,val_y)"
   ]
  },
  {
   "cell_type": "code",
   "execution_count": 488,
   "id": "ccd6d493",
   "metadata": {
    "ExecuteTime": {
     "end_time": "2021-08-26T15:18:32.755367Z",
     "start_time": "2021-08-26T15:18:32.659380Z"
    }
   },
   "outputs": [
    {
     "name": "stdout",
     "output_type": "stream",
     "text": [
      "LassoCV最佳alpha值 200.0\n"
     ]
    },
    {
     "data": {
      "text/plain": [
       "0.4217182629501268"
      ]
     },
     "execution_count": 488,
     "metadata": {},
     "output_type": "execute_result"
    }
   ],
   "source": [
    "model = LassoCV(alphas=[1e-5,5e-5,1e-4, 5e-4, 1e-3, 5e-3,1e-2,5e-2,1e-1,5e-1,10,50,100,200,500,800],cv=40)  # 通过RidgeCV可以设置多个参数值，算法使用交叉验证获取最佳参数值\n",
    "model.fit(train_X, train_y)   # 线性回归建模\n",
    "#print('系数矩阵:\\n',model.coef_)\n",
    "#print('线性回归模型:\\n',model)\n",
    "print('LassoCV最佳alpha值',model.alpha_)  # 只有在使用RidgeCV算法时才有效\n",
    "# 使用模型预测\n",
    "predicted = model.predict(train_X)\n",
    " \n",
    "model.score(val_X, val_y)"
   ]
  },
  {
   "cell_type": "code",
   "execution_count": 251,
   "id": "57343c8b",
   "metadata": {
    "ExecuteTime": {
     "end_time": "2021-08-26T13:57:29.329454Z",
     "start_time": "2021-08-26T13:57:29.320455Z"
    }
   },
   "outputs": [
    {
     "data": {
      "text/plain": [
       "[0.17033901752452474,\n",
       " -0.9678756859731306,\n",
       " -2.9784971012985304,\n",
       " -5.79541715871829,\n",
       " -9.41943900831804,\n",
       " -13.850809356088293,\n",
       " -48.1204735971608]"
      ]
     },
     "execution_count": 251,
     "metadata": {},
     "output_type": "execute_result"
    }
   ],
   "source": [
    "cv_Ridge"
   ]
  },
  {
   "cell_type": "code",
   "execution_count": 257,
   "id": "556d4347",
   "metadata": {
    "ExecuteTime": {
     "end_time": "2021-08-26T13:58:53.554107Z",
     "start_time": "2021-08-26T13:58:53.538097Z"
    }
   },
   "outputs": [],
   "source": [
    "#alphas = [1e-4, 5e-4, 1e-3, 5e-3]\n",
    "#alphas = [1e-5,5e-5,1e-4, 5e-4, 1e-3, 5e-3,1e-2,5e-2,1e-1,5e-1,1]\n",
    "#alphas = [1,10,20,30,40,50,100]\n",
    "#alphas = [10,50,100,200,500,800]\n",
    "#cv_Ridge = [r2_score(Ridge(alpha=alpha, max_iter=50000).fit(train_X, train_y).predict(train_X), train_y) for alpha in alphas]\n",
    "#pd.Series(cv_Ridge, index = alphas).plot()\n",
    "\n",
    "#cv_lasso = [r2_score(Lasso(alpha=alpha, max_iter=50000).fit(train_X, train_y).predict(train_X), train_y) for alpha in alphas]\n",
    "#pd.Series(cv_lasso, index = alphas).plot()\n",
    "\n",
    "#cv_ln = [rmse_cv(LinearRegression(),train_X, train_y) for alpha in alphas]\n",
    "#pd.Series(cv_ln, index = alphas).plot()\n",
    "\n",
    "#plt.plot(alphas,cv_Ridge,label = 'ridge')\n",
    "#plt.plot(alphas,cv_lasso,label = 'lasso')\n",
    "#plt.plot(alphas,cv_ln,label = 'ln')\n",
    "#plt.legend()\n",
    "#plt.show()"
   ]
  },
  {
   "cell_type": "code",
   "execution_count": 460,
   "id": "791aaea0",
   "metadata": {
    "ExecuteTime": {
     "end_time": "2021-08-26T15:06:53.725753Z",
     "start_time": "2021-08-26T15:06:53.708764Z"
    }
   },
   "outputs": [],
   "source": [
    "model_lasso = Lasso(alpha=10, max_iter=50000).fit(train_X, train_y)\n",
    "model_ridge = Ridge(alpha=10, max_iter=50000).fit(train_X, train_y)"
   ]
  },
  {
   "cell_type": "code",
   "execution_count": 461,
   "id": "ce20d419",
   "metadata": {
    "ExecuteTime": {
     "end_time": "2021-08-26T15:06:57.066612Z",
     "start_time": "2021-08-26T15:06:56.936759Z"
    }
   },
   "outputs": [
    {
     "name": "stdout",
     "output_type": "stream",
     "text": [
      "Lasso Validation MAE:   21150.68722444568\n",
      "Lasso Validation rmse: 23358.57601128527\n",
      "Lasso Validation r2_score: 0.7622624141698523\n",
      "--------------------------\n",
      "Ridge Validation MAE:   21070.979006401296\n",
      "Ridge Validation rmse: 23511.826152024685\n",
      "Ridge Validation r2_score: 0.7684403896828023\n"
     ]
    }
   ],
   "source": [
    "# Predict\n",
    "ls_val_predictions = model_lasso.predict(val_X)\n",
    "#check mae\n",
    "ls_val_mae = mean_absolute_error(val_y,ls_val_predictions)\n",
    "#print(.format(val_mae))\n",
    "print('Lasso Validation MAE:  ',ls_val_mae)\n",
    "print('Lasso Validation rmse:',rmse_cv(model_lasso, val_X, val_y))\n",
    "print('Lasso Validation r2_score:', r2_score(val_y,ls_val_predictions))\n",
    "print('--------------------------')\n",
    "# Predict\n",
    "rg_val_predictions = model_ridge.predict(val_X)\n",
    "#check mae\n",
    "rg_val_mae = mean_absolute_error(val_y,rg_val_predictions)\n",
    "#print(.format(val_mae))\n",
    "print('Ridge Validation MAE:  ',rg_val_mae)\n",
    "print('Ridge Validation rmse:',rmse_cv(model_ridge, val_X, val_y))\n",
    "print('Ridge Validation r2_score:', r2_score(val_y,rg_val_predictions))\n",
    "\n",
    "\n"
   ]
  },
  {
   "cell_type": "markdown",
   "id": "97de5c3b",
   "metadata": {},
   "source": [
    "# Tree Model"
   ]
  },
  {
   "cell_type": "markdown",
   "id": "1a2f1dd7",
   "metadata": {},
   "source": [
    "##### Decision Tree"
   ]
  },
  {
   "cell_type": "code",
   "execution_count": 524,
   "id": "071a7d3b",
   "metadata": {
    "ExecuteTime": {
     "end_time": "2021-08-26T15:33:47.782945Z",
     "start_time": "2021-08-26T15:33:47.762944Z"
    }
   },
   "outputs": [],
   "source": [
    "#split data\n",
    "train_X, val_X, train_y, val_y = train_test_split(X,y,random_state = 1)\n",
    "# standarise the data or normalise\n",
    "sc = StandardScaler()\n",
    "mm = MinMaxScaler()\n",
    "rb = RobustScaler()\n",
    "#train_X = sc.fit_transform(train_X)\n",
    "#val_X = sc.transform(val_X)"
   ]
  },
  {
   "cell_type": "code",
   "execution_count": 525,
   "id": "95e02c92",
   "metadata": {
    "ExecuteTime": {
     "end_time": "2021-08-26T15:33:48.592866Z",
     "start_time": "2021-08-26T15:33:48.580867Z"
    }
   },
   "outputs": [
    {
     "data": {
      "text/plain": [
       "DecisionTreeRegressor()"
      ]
     },
     "execution_count": 525,
     "metadata": {},
     "output_type": "execute_result"
    }
   ],
   "source": [
    "decision_model = DecisionTreeRegressor()  \n",
    "decision_model.fit(train_X, train_y) "
   ]
  },
  {
   "cell_type": "code",
   "execution_count": 526,
   "id": "daa956aa",
   "metadata": {
    "ExecuteTime": {
     "end_time": "2021-08-26T15:33:50.270803Z",
     "start_time": "2021-08-26T15:33:50.255020Z"
    },
    "scrolled": true
   },
   "outputs": [
    {
     "data": {
      "text/plain": [
       "0.7485318831325045"
      ]
     },
     "execution_count": 526,
     "metadata": {},
     "output_type": "execute_result"
    }
   ],
   "source": [
    "decision_model.score(val_X, val_y)"
   ]
  },
  {
   "cell_type": "code",
   "execution_count": 527,
   "id": "66e171d8",
   "metadata": {
    "ExecuteTime": {
     "end_time": "2021-08-26T15:33:52.058315Z",
     "start_time": "2021-08-26T15:33:51.859492Z"
    }
   },
   "outputs": [
    {
     "name": "stdout",
     "output_type": "stream",
     "text": [
      "Decision Tree Validation MAE:   29704.339863700294\n",
      "Decision Tree Validation rmse: 40782.86899408192\n",
      "Decision Tree Validation r2_score: 0.7485318831325045\n"
     ]
    }
   ],
   "source": [
    "# Predict\n",
    "dt_val_predictions = decision_model.predict(val_X)\n",
    "#check mae\n",
    "dt_val_mae = mean_absolute_error(val_y,dt_val_predictions)\n",
    "#print(.format(val_mae))\n",
    "print('Decision Tree Validation MAE:  ',dt_val_mae)\n",
    "print('Decision Tree Validation rmse:',rmse_cv(decision_model, val_X, val_y))\n",
    "print('Decision Tree Validation r2_score:', r2_score(val_y,dt_val_predictions))"
   ]
  },
  {
   "cell_type": "markdown",
   "id": "ade146fd",
   "metadata": {},
   "source": [
    "##### Random Forest Quick application"
   ]
  },
  {
   "cell_type": "code",
   "execution_count": 396,
   "id": "35a528aa",
   "metadata": {
    "ExecuteTime": {
     "end_time": "2021-08-26T14:47:33.112499Z",
     "start_time": "2021-08-26T14:47:32.684599Z"
    }
   },
   "outputs": [
    {
     "data": {
      "text/plain": [
       "RandomForestRegressor(max_depth=30, min_samples_leaf=2, n_estimators=400)"
      ]
     },
     "execution_count": 396,
     "metadata": {},
     "output_type": "execute_result"
    }
   ],
   "source": [
    "forest_model = RandomForestRegressor(bootstrap=True,\n",
    " max_depth=30,\n",
    " max_features='auto',\n",
    " min_samples_leaf= 2,\n",
    " min_samples_split= 2,\n",
    " n_estimators=400)\n",
    "forest_model.fit(train_X, train_y)"
   ]
  },
  {
   "cell_type": "code",
   "execution_count": 469,
   "id": "48f4e925",
   "metadata": {
    "ExecuteTime": {
     "end_time": "2021-08-26T15:12:23.970947Z",
     "start_time": "2021-08-26T15:12:23.959946Z"
    }
   },
   "outputs": [
    {
     "data": {
      "text/plain": [
       "0.8498811635098759"
      ]
     },
     "execution_count": 469,
     "metadata": {},
     "output_type": "execute_result"
    }
   ],
   "source": [
    "decision_model.score(val_X, val_y)"
   ]
  },
  {
   "cell_type": "code",
   "execution_count": 529,
   "id": "bddd1faf",
   "metadata": {
    "ExecuteTime": {
     "end_time": "2021-08-26T15:34:06.921282Z",
     "start_time": "2021-08-26T15:34:06.499529Z"
    }
   },
   "outputs": [
    {
     "data": {
      "text/plain": [
       "RandomForestRegressor(max_depth=30, min_samples_leaf=2, min_samples_split=5,\n",
       "                      n_estimators=400)"
      ]
     },
     "execution_count": 529,
     "metadata": {},
     "output_type": "execute_result"
    }
   ],
   "source": [
    "# max model\n",
    "forest_model = RandomForestRegressor(\n",
    "n_estimators=400,\n",
    "min_samples_split= 5,\n",
    "min_samples_leaf= 2,\n",
    "max_features='auto',\n",
    "max_depth=30,\n",
    "bootstrap= True)\n",
    "forest_model.fit(train_X, train_y)"
   ]
  },
  {
   "cell_type": "code",
   "execution_count": 509,
   "id": "f96fa1ff",
   "metadata": {
    "ExecuteTime": {
     "end_time": "2021-08-26T15:31:10.736283Z",
     "start_time": "2021-08-26T15:31:10.497880Z"
    }
   },
   "outputs": [
    {
     "data": {
      "text/plain": [
       "RandomForestRegressor(max_depth=50, n_estimators=200)"
      ]
     },
     "execution_count": 509,
     "metadata": {},
     "output_type": "execute_result"
    }
   ],
   "source": [
    "# min model\n",
    "forest_model = RandomForestRegressor(\n",
    "n_estimators=200,\n",
    "min_samples_split=2,\n",
    "min_samples_leaf=1,\n",
    "max_features= 'auto',\n",
    "max_depth=50,\n",
    "bootstrap=True)\n",
    "forest_model.fit(train_X, train_y)"
   ]
  },
  {
   "cell_type": "code",
   "execution_count": 530,
   "id": "0eaf5c0b",
   "metadata": {
    "ExecuteTime": {
     "end_time": "2021-08-26T15:34:12.465544Z",
     "start_time": "2021-08-26T15:34:12.410998Z"
    }
   },
   "outputs": [
    {
     "data": {
      "text/plain": [
       "0.830493905828724"
      ]
     },
     "execution_count": 530,
     "metadata": {},
     "output_type": "execute_result"
    }
   ],
   "source": [
    "forest_model.score(val_X, val_y)"
   ]
  },
  {
   "cell_type": "code",
   "execution_count": 377,
   "id": "ca0ce46d",
   "metadata": {
    "ExecuteTime": {
     "end_time": "2021-08-26T14:33:50.339202Z",
     "start_time": "2021-08-26T14:33:35.000354Z"
    }
   },
   "outputs": [
    {
     "name": "stdout",
     "output_type": "stream",
     "text": [
      "Random Forest Validation MAE:   26226.12862670267\n",
      "Random Forest Validation rmse: 36258.09918267442\n",
      "Random Forest Validation r2_score: 0.8274099077136441\n"
     ]
    }
   ],
   "source": [
    "# Predict\n",
    "rf_val_predictions = forest_model.predict(val_X)\n",
    "#check mae\n",
    "rf_val_mae = mean_absolute_error(val_y,rf_val_predictions)\n",
    "#print(.format(val_mae))\n",
    "print('Random Forest Validation MAE:  ',rf_val_mae)\n",
    "print('Random Forest Validation rmse:',rmse_cv(forest_model, val_X, val_y))\n",
    "print('Random Forest Validation r2_score:', r2_score(val_y,rf_val_predictions))"
   ]
  },
  {
   "cell_type": "markdown",
   "id": "c6f660e3",
   "metadata": {},
   "source": [
    "##### Hyper-parameters tuning "
   ]
  },
  {
   "cell_type": "code",
   "execution_count": 315,
   "id": "76622e75",
   "metadata": {
    "ExecuteTime": {
     "end_time": "2021-08-26T14:19:38.212156Z",
     "start_time": "2021-08-26T14:19:38.201142Z"
    }
   },
   "outputs": [],
   "source": [
    "# Hyper parameter tuning\n",
    "parameters = {\n",
    "    'n_estimators':[10, 100, 200, 400, 600, 800, 1000, 1200, 1400, 1600, 1800, 2000],\n",
    "    'max_depth':[10, 20, 30, 40, 50, 60, 70, 80, 90, 100, None],\n",
    "    'min_samples_split':[2, 5, 10],\n",
    "    'min_samples_leaf':[1, 2, 4],\n",
    "    'max_features':['auto', 'sqrt'],\n",
    "    'bootstrap':[True, False]    \n",
    "}"
   ]
  },
  {
   "cell_type": "code",
   "execution_count": 316,
   "id": "601ed101",
   "metadata": {
    "ExecuteTime": {
     "end_time": "2021-08-26T14:19:43.677663Z",
     "start_time": "2021-08-26T14:19:43.673662Z"
    }
   },
   "outputs": [],
   "source": [
    "random_cv = GridSearchCV(estimator=RandomForestRegressor(), param_grid=parameters,\n",
    "                                cv=5,\n",
    "                               verbose=2)"
   ]
  },
  {
   "cell_type": "code",
   "execution_count": 465,
   "id": "24f5bea0",
   "metadata": {
    "ExecuteTime": {
     "end_time": "2021-08-26T15:08:16.276399Z",
     "start_time": "2021-08-26T15:08:16.267388Z"
    }
   },
   "outputs": [],
   "source": [
    "random_cv = RandomizedSearchCV(estimator=RandomForestRegressor(), param_distributions=parameters,\n",
    "                               n_iter=50, cv=5,\n",
    "                               verbose=2, random_state=0)"
   ]
  },
  {
   "cell_type": "code",
   "execution_count": 466,
   "id": "dc76a74a",
   "metadata": {
    "ExecuteTime": {
     "end_time": "2021-08-26T15:11:03.601828Z",
     "start_time": "2021-08-26T15:08:20.632913Z"
    }
   },
   "outputs": [
    {
     "name": "stdout",
     "output_type": "stream",
     "text": [
      "Fitting 5 folds for each of 50 candidates, totalling 250 fits\n",
      "[CV] END bootstrap=False, max_depth=70, max_features=sqrt, min_samples_leaf=4, min_samples_split=2, n_estimators=1200; total time=   0.7s\n",
      "[CV] END bootstrap=False, max_depth=70, max_features=sqrt, min_samples_leaf=4, min_samples_split=2, n_estimators=1200; total time=   0.7s\n",
      "[CV] END bootstrap=False, max_depth=70, max_features=sqrt, min_samples_leaf=4, min_samples_split=2, n_estimators=1200; total time=   0.7s\n",
      "[CV] END bootstrap=False, max_depth=70, max_features=sqrt, min_samples_leaf=4, min_samples_split=2, n_estimators=1200; total time=   0.7s\n",
      "[CV] END bootstrap=False, max_depth=70, max_features=sqrt, min_samples_leaf=4, min_samples_split=2, n_estimators=1200; total time=   0.7s\n",
      "[CV] END bootstrap=True, max_depth=100, max_features=auto, min_samples_leaf=4, min_samples_split=10, n_estimators=1400; total time=   1.3s\n",
      "[CV] END bootstrap=True, max_depth=100, max_features=auto, min_samples_leaf=4, min_samples_split=10, n_estimators=1400; total time=   1.3s\n",
      "[CV] END bootstrap=True, max_depth=100, max_features=auto, min_samples_leaf=4, min_samples_split=10, n_estimators=1400; total time=   1.3s\n",
      "[CV] END bootstrap=True, max_depth=100, max_features=auto, min_samples_leaf=4, min_samples_split=10, n_estimators=1400; total time=   0.9s\n",
      "[CV] END bootstrap=True, max_depth=100, max_features=auto, min_samples_leaf=4, min_samples_split=10, n_estimators=1400; total time=   0.9s\n",
      "[CV] END bootstrap=True, max_depth=70, max_features=auto, min_samples_leaf=2, min_samples_split=10, n_estimators=1000; total time=   0.6s\n",
      "[CV] END bootstrap=True, max_depth=70, max_features=auto, min_samples_leaf=2, min_samples_split=10, n_estimators=1000; total time=   0.6s\n",
      "[CV] END bootstrap=True, max_depth=70, max_features=auto, min_samples_leaf=2, min_samples_split=10, n_estimators=1000; total time=   0.6s\n",
      "[CV] END bootstrap=True, max_depth=70, max_features=auto, min_samples_leaf=2, min_samples_split=10, n_estimators=1000; total time=   0.6s\n",
      "[CV] END bootstrap=True, max_depth=70, max_features=auto, min_samples_leaf=2, min_samples_split=10, n_estimators=1000; total time=   0.6s\n",
      "[CV] END bootstrap=False, max_depth=90, max_features=auto, min_samples_leaf=1, min_samples_split=5, n_estimators=1200; total time=   0.6s\n",
      "[CV] END bootstrap=False, max_depth=90, max_features=auto, min_samples_leaf=1, min_samples_split=5, n_estimators=1200; total time=   0.7s\n",
      "[CV] END bootstrap=False, max_depth=90, max_features=auto, min_samples_leaf=1, min_samples_split=5, n_estimators=1200; total time=   0.7s\n",
      "[CV] END bootstrap=False, max_depth=90, max_features=auto, min_samples_leaf=1, min_samples_split=5, n_estimators=1200; total time=   0.6s\n",
      "[CV] END bootstrap=False, max_depth=90, max_features=auto, min_samples_leaf=1, min_samples_split=5, n_estimators=1200; total time=   0.6s\n",
      "[CV] END bootstrap=True, max_depth=50, max_features=auto, min_samples_leaf=1, min_samples_split=2, n_estimators=200; total time=   0.1s\n",
      "[CV] END bootstrap=True, max_depth=50, max_features=auto, min_samples_leaf=1, min_samples_split=2, n_estimators=200; total time=   0.1s\n",
      "[CV] END bootstrap=True, max_depth=50, max_features=auto, min_samples_leaf=1, min_samples_split=2, n_estimators=200; total time=   0.1s\n",
      "[CV] END bootstrap=True, max_depth=50, max_features=auto, min_samples_leaf=1, min_samples_split=2, n_estimators=200; total time=   0.1s\n",
      "[CV] END bootstrap=True, max_depth=50, max_features=auto, min_samples_leaf=1, min_samples_split=2, n_estimators=200; total time=   0.1s\n",
      "[CV] END bootstrap=False, max_depth=30, max_features=sqrt, min_samples_leaf=2, min_samples_split=10, n_estimators=1800; total time=   0.8s\n",
      "[CV] END bootstrap=False, max_depth=30, max_features=sqrt, min_samples_leaf=2, min_samples_split=10, n_estimators=1800; total time=   0.8s\n",
      "[CV] END bootstrap=False, max_depth=30, max_features=sqrt, min_samples_leaf=2, min_samples_split=10, n_estimators=1800; total time=   0.8s\n",
      "[CV] END bootstrap=False, max_depth=30, max_features=sqrt, min_samples_leaf=2, min_samples_split=10, n_estimators=1800; total time=   0.8s\n",
      "[CV] END bootstrap=False, max_depth=30, max_features=sqrt, min_samples_leaf=2, min_samples_split=10, n_estimators=1800; total time=   0.9s\n",
      "[CV] END bootstrap=True, max_depth=70, max_features=sqrt, min_samples_leaf=1, min_samples_split=2, n_estimators=1200; total time=   0.8s\n",
      "[CV] END bootstrap=True, max_depth=70, max_features=sqrt, min_samples_leaf=1, min_samples_split=2, n_estimators=1200; total time=   0.8s\n",
      "[CV] END bootstrap=True, max_depth=70, max_features=sqrt, min_samples_leaf=1, min_samples_split=2, n_estimators=1200; total time=   0.8s\n",
      "[CV] END bootstrap=True, max_depth=70, max_features=sqrt, min_samples_leaf=1, min_samples_split=2, n_estimators=1200; total time=   0.8s\n",
      "[CV] END bootstrap=True, max_depth=70, max_features=sqrt, min_samples_leaf=1, min_samples_split=2, n_estimators=1200; total time=   0.8s\n",
      "[CV] END bootstrap=True, max_depth=70, max_features=auto, min_samples_leaf=2, min_samples_split=10, n_estimators=100; total time=   0.0s\n",
      "[CV] END bootstrap=True, max_depth=70, max_features=auto, min_samples_leaf=2, min_samples_split=10, n_estimators=100; total time=   0.0s\n",
      "[CV] END bootstrap=True, max_depth=70, max_features=auto, min_samples_leaf=2, min_samples_split=10, n_estimators=100; total time=   0.0s\n",
      "[CV] END bootstrap=True, max_depth=70, max_features=auto, min_samples_leaf=2, min_samples_split=10, n_estimators=100; total time=   0.0s\n",
      "[CV] END bootstrap=True, max_depth=70, max_features=auto, min_samples_leaf=2, min_samples_split=10, n_estimators=100; total time=   0.0s\n",
      "[CV] END bootstrap=False, max_depth=60, max_features=auto, min_samples_leaf=2, min_samples_split=2, n_estimators=400; total time=   0.2s\n",
      "[CV] END bootstrap=False, max_depth=60, max_features=auto, min_samples_leaf=2, min_samples_split=2, n_estimators=400; total time=   0.2s\n",
      "[CV] END bootstrap=False, max_depth=60, max_features=auto, min_samples_leaf=2, min_samples_split=2, n_estimators=400; total time=   0.2s\n",
      "[CV] END bootstrap=False, max_depth=60, max_features=auto, min_samples_leaf=2, min_samples_split=2, n_estimators=400; total time=   0.2s\n",
      "[CV] END bootstrap=False, max_depth=60, max_features=auto, min_samples_leaf=2, min_samples_split=2, n_estimators=400; total time=   0.2s\n",
      "[CV] END bootstrap=False, max_depth=None, max_features=sqrt, min_samples_leaf=1, min_samples_split=10, n_estimators=100; total time=   0.0s\n",
      "[CV] END bootstrap=False, max_depth=None, max_features=sqrt, min_samples_leaf=1, min_samples_split=10, n_estimators=100; total time=   0.0s\n",
      "[CV] END bootstrap=False, max_depth=None, max_features=sqrt, min_samples_leaf=1, min_samples_split=10, n_estimators=100; total time=   0.0s\n",
      "[CV] END bootstrap=False, max_depth=None, max_features=sqrt, min_samples_leaf=1, min_samples_split=10, n_estimators=100; total time=   0.0s\n",
      "[CV] END bootstrap=False, max_depth=None, max_features=sqrt, min_samples_leaf=1, min_samples_split=10, n_estimators=100; total time=   0.0s\n",
      "[CV] END bootstrap=False, max_depth=40, max_features=sqrt, min_samples_leaf=2, min_samples_split=2, n_estimators=400; total time=   0.1s\n",
      "[CV] END bootstrap=False, max_depth=40, max_features=sqrt, min_samples_leaf=2, min_samples_split=2, n_estimators=400; total time=   0.1s\n",
      "[CV] END bootstrap=False, max_depth=40, max_features=sqrt, min_samples_leaf=2, min_samples_split=2, n_estimators=400; total time=   0.1s\n",
      "[CV] END bootstrap=False, max_depth=40, max_features=sqrt, min_samples_leaf=2, min_samples_split=2, n_estimators=400; total time=   0.1s\n",
      "[CV] END bootstrap=False, max_depth=40, max_features=sqrt, min_samples_leaf=2, min_samples_split=2, n_estimators=400; total time=   0.1s\n",
      "[CV] END bootstrap=True, max_depth=100, max_features=sqrt, min_samples_leaf=1, min_samples_split=5, n_estimators=1000; total time=   0.6s\n",
      "[CV] END bootstrap=True, max_depth=100, max_features=sqrt, min_samples_leaf=1, min_samples_split=5, n_estimators=1000; total time=   0.8s\n",
      "[CV] END bootstrap=True, max_depth=100, max_features=sqrt, min_samples_leaf=1, min_samples_split=5, n_estimators=1000; total time=   0.6s\n",
      "[CV] END bootstrap=True, max_depth=100, max_features=sqrt, min_samples_leaf=1, min_samples_split=5, n_estimators=1000; total time=   0.6s\n"
     ]
    },
    {
     "name": "stdout",
     "output_type": "stream",
     "text": [
      "[CV] END bootstrap=True, max_depth=100, max_features=sqrt, min_samples_leaf=1, min_samples_split=5, n_estimators=1000; total time=   0.6s\n",
      "[CV] END bootstrap=True, max_depth=20, max_features=auto, min_samples_leaf=4, min_samples_split=2, n_estimators=400; total time=   0.2s\n",
      "[CV] END bootstrap=True, max_depth=20, max_features=auto, min_samples_leaf=4, min_samples_split=2, n_estimators=400; total time=   0.2s\n",
      "[CV] END bootstrap=True, max_depth=20, max_features=auto, min_samples_leaf=4, min_samples_split=2, n_estimators=400; total time=   0.2s\n",
      "[CV] END bootstrap=True, max_depth=20, max_features=auto, min_samples_leaf=4, min_samples_split=2, n_estimators=400; total time=   0.2s\n",
      "[CV] END bootstrap=True, max_depth=20, max_features=auto, min_samples_leaf=4, min_samples_split=2, n_estimators=400; total time=   0.2s\n",
      "[CV] END bootstrap=False, max_depth=20, max_features=auto, min_samples_leaf=1, min_samples_split=10, n_estimators=200; total time=   0.0s\n",
      "[CV] END bootstrap=False, max_depth=20, max_features=auto, min_samples_leaf=1, min_samples_split=10, n_estimators=200; total time=   0.0s\n",
      "[CV] END bootstrap=False, max_depth=20, max_features=auto, min_samples_leaf=1, min_samples_split=10, n_estimators=200; total time=   0.0s\n",
      "[CV] END bootstrap=False, max_depth=20, max_features=auto, min_samples_leaf=1, min_samples_split=10, n_estimators=200; total time=   0.0s\n",
      "[CV] END bootstrap=False, max_depth=20, max_features=auto, min_samples_leaf=1, min_samples_split=10, n_estimators=200; total time=   0.0s\n",
      "[CV] END bootstrap=True, max_depth=80, max_features=auto, min_samples_leaf=1, min_samples_split=10, n_estimators=1000; total time=   0.6s\n",
      "[CV] END bootstrap=True, max_depth=80, max_features=auto, min_samples_leaf=1, min_samples_split=10, n_estimators=1000; total time=   0.6s\n",
      "[CV] END bootstrap=True, max_depth=80, max_features=auto, min_samples_leaf=1, min_samples_split=10, n_estimators=1000; total time=   0.6s\n",
      "[CV] END bootstrap=True, max_depth=80, max_features=auto, min_samples_leaf=1, min_samples_split=10, n_estimators=1000; total time=   0.7s\n",
      "[CV] END bootstrap=True, max_depth=80, max_features=auto, min_samples_leaf=1, min_samples_split=10, n_estimators=1000; total time=   0.6s\n",
      "[CV] END bootstrap=False, max_depth=40, max_features=sqrt, min_samples_leaf=4, min_samples_split=2, n_estimators=400; total time=   0.1s\n",
      "[CV] END bootstrap=False, max_depth=40, max_features=sqrt, min_samples_leaf=4, min_samples_split=2, n_estimators=400; total time=   0.1s\n",
      "[CV] END bootstrap=False, max_depth=40, max_features=sqrt, min_samples_leaf=4, min_samples_split=2, n_estimators=400; total time=   0.1s\n",
      "[CV] END bootstrap=False, max_depth=40, max_features=sqrt, min_samples_leaf=4, min_samples_split=2, n_estimators=400; total time=   0.1s\n",
      "[CV] END bootstrap=False, max_depth=40, max_features=sqrt, min_samples_leaf=4, min_samples_split=2, n_estimators=400; total time=   0.1s\n",
      "[CV] END bootstrap=False, max_depth=20, max_features=sqrt, min_samples_leaf=4, min_samples_split=5, n_estimators=1000; total time=   0.4s\n",
      "[CV] END bootstrap=False, max_depth=20, max_features=sqrt, min_samples_leaf=4, min_samples_split=5, n_estimators=1000; total time=   0.4s\n",
      "[CV] END bootstrap=False, max_depth=20, max_features=sqrt, min_samples_leaf=4, min_samples_split=5, n_estimators=1000; total time=   0.4s\n",
      "[CV] END bootstrap=False, max_depth=20, max_features=sqrt, min_samples_leaf=4, min_samples_split=5, n_estimators=1000; total time=   0.4s\n",
      "[CV] END bootstrap=False, max_depth=20, max_features=sqrt, min_samples_leaf=4, min_samples_split=5, n_estimators=1000; total time=   0.4s\n",
      "[CV] END bootstrap=True, max_depth=70, max_features=sqrt, min_samples_leaf=1, min_samples_split=10, n_estimators=800; total time=   0.5s\n",
      "[CV] END bootstrap=True, max_depth=70, max_features=sqrt, min_samples_leaf=1, min_samples_split=10, n_estimators=800; total time=   0.5s\n",
      "[CV] END bootstrap=True, max_depth=70, max_features=sqrt, min_samples_leaf=1, min_samples_split=10, n_estimators=800; total time=   0.5s\n",
      "[CV] END bootstrap=True, max_depth=70, max_features=sqrt, min_samples_leaf=1, min_samples_split=10, n_estimators=800; total time=   0.5s\n",
      "[CV] END bootstrap=True, max_depth=70, max_features=sqrt, min_samples_leaf=1, min_samples_split=10, n_estimators=800; total time=   0.5s\n",
      "[CV] END bootstrap=True, max_depth=100, max_features=sqrt, min_samples_leaf=1, min_samples_split=5, n_estimators=1400; total time=   0.9s\n",
      "[CV] END bootstrap=True, max_depth=100, max_features=sqrt, min_samples_leaf=1, min_samples_split=5, n_estimators=1400; total time=   0.9s\n",
      "[CV] END bootstrap=True, max_depth=100, max_features=sqrt, min_samples_leaf=1, min_samples_split=5, n_estimators=1400; total time=   0.9s\n",
      "[CV] END bootstrap=True, max_depth=100, max_features=sqrt, min_samples_leaf=1, min_samples_split=5, n_estimators=1400; total time=   0.9s\n",
      "[CV] END bootstrap=True, max_depth=100, max_features=sqrt, min_samples_leaf=1, min_samples_split=5, n_estimators=1400; total time=   0.9s\n",
      "[CV] END bootstrap=False, max_depth=40, max_features=auto, min_samples_leaf=4, min_samples_split=2, n_estimators=1800; total time=   1.0s\n",
      "[CV] END bootstrap=False, max_depth=40, max_features=auto, min_samples_leaf=4, min_samples_split=2, n_estimators=1800; total time=   1.0s\n",
      "[CV] END bootstrap=False, max_depth=40, max_features=auto, min_samples_leaf=4, min_samples_split=2, n_estimators=1800; total time=   1.0s\n",
      "[CV] END bootstrap=False, max_depth=40, max_features=auto, min_samples_leaf=4, min_samples_split=2, n_estimators=1800; total time=   1.0s\n",
      "[CV] END bootstrap=False, max_depth=40, max_features=auto, min_samples_leaf=4, min_samples_split=2, n_estimators=1800; total time=   1.0s\n",
      "[CV] END bootstrap=False, max_depth=50, max_features=auto, min_samples_leaf=4, min_samples_split=5, n_estimators=400; total time=   0.2s\n",
      "[CV] END bootstrap=False, max_depth=50, max_features=auto, min_samples_leaf=4, min_samples_split=5, n_estimators=400; total time=   0.5s\n",
      "[CV] END bootstrap=False, max_depth=50, max_features=auto, min_samples_leaf=4, min_samples_split=5, n_estimators=400; total time=   0.2s\n",
      "[CV] END bootstrap=False, max_depth=50, max_features=auto, min_samples_leaf=4, min_samples_split=5, n_estimators=400; total time=   0.1s\n",
      "[CV] END bootstrap=False, max_depth=50, max_features=auto, min_samples_leaf=4, min_samples_split=5, n_estimators=400; total time=   0.1s\n",
      "[CV] END bootstrap=False, max_depth=80, max_features=sqrt, min_samples_leaf=1, min_samples_split=2, n_estimators=2000; total time=   1.1s\n",
      "[CV] END bootstrap=False, max_depth=80, max_features=sqrt, min_samples_leaf=1, min_samples_split=2, n_estimators=2000; total time=   1.1s\n",
      "[CV] END bootstrap=False, max_depth=80, max_features=sqrt, min_samples_leaf=1, min_samples_split=2, n_estimators=2000; total time=   1.1s\n",
      "[CV] END bootstrap=False, max_depth=80, max_features=sqrt, min_samples_leaf=1, min_samples_split=2, n_estimators=2000; total time=   1.1s\n",
      "[CV] END bootstrap=False, max_depth=80, max_features=sqrt, min_samples_leaf=1, min_samples_split=2, n_estimators=2000; total time=   1.1s\n",
      "[CV] END bootstrap=True, max_depth=30, max_features=sqrt, min_samples_leaf=1, min_samples_split=10, n_estimators=400; total time=   0.2s\n",
      "[CV] END bootstrap=True, max_depth=30, max_features=sqrt, min_samples_leaf=1, min_samples_split=10, n_estimators=400; total time=   0.2s\n",
      "[CV] END bootstrap=True, max_depth=30, max_features=sqrt, min_samples_leaf=1, min_samples_split=10, n_estimators=400; total time=   0.2s\n",
      "[CV] END bootstrap=True, max_depth=30, max_features=sqrt, min_samples_leaf=1, min_samples_split=10, n_estimators=400; total time=   0.2s\n",
      "[CV] END bootstrap=True, max_depth=30, max_features=sqrt, min_samples_leaf=1, min_samples_split=10, n_estimators=400; total time=   0.2s\n",
      "[CV] END bootstrap=False, max_depth=30, max_features=auto, min_samples_leaf=4, min_samples_split=5, n_estimators=1000; total time=   0.7s\n",
      "[CV] END bootstrap=False, max_depth=30, max_features=auto, min_samples_leaf=4, min_samples_split=5, n_estimators=1000; total time=   0.5s\n",
      "[CV] END bootstrap=False, max_depth=30, max_features=auto, min_samples_leaf=4, min_samples_split=5, n_estimators=1000; total time=   0.5s\n",
      "[CV] END bootstrap=False, max_depth=30, max_features=auto, min_samples_leaf=4, min_samples_split=5, n_estimators=1000; total time=   0.5s\n"
     ]
    },
    {
     "name": "stdout",
     "output_type": "stream",
     "text": [
      "[CV] END bootstrap=False, max_depth=30, max_features=auto, min_samples_leaf=4, min_samples_split=5, n_estimators=1000; total time=   0.5s\n",
      "[CV] END bootstrap=True, max_depth=30, max_features=auto, min_samples_leaf=2, min_samples_split=5, n_estimators=400; total time=   0.2s\n",
      "[CV] END bootstrap=True, max_depth=30, max_features=auto, min_samples_leaf=2, min_samples_split=5, n_estimators=400; total time=   0.2s\n",
      "[CV] END bootstrap=True, max_depth=30, max_features=auto, min_samples_leaf=2, min_samples_split=5, n_estimators=400; total time=   0.2s\n",
      "[CV] END bootstrap=True, max_depth=30, max_features=auto, min_samples_leaf=2, min_samples_split=5, n_estimators=400; total time=   0.2s\n",
      "[CV] END bootstrap=True, max_depth=30, max_features=auto, min_samples_leaf=2, min_samples_split=5, n_estimators=400; total time=   0.2s\n",
      "[CV] END bootstrap=False, max_depth=None, max_features=auto, min_samples_leaf=1, min_samples_split=5, n_estimators=1400; total time=   0.8s\n",
      "[CV] END bootstrap=False, max_depth=None, max_features=auto, min_samples_leaf=1, min_samples_split=5, n_estimators=1400; total time=   0.8s\n",
      "[CV] END bootstrap=False, max_depth=None, max_features=auto, min_samples_leaf=1, min_samples_split=5, n_estimators=1400; total time=   0.8s\n",
      "[CV] END bootstrap=False, max_depth=None, max_features=auto, min_samples_leaf=1, min_samples_split=5, n_estimators=1400; total time=   0.8s\n",
      "[CV] END bootstrap=False, max_depth=None, max_features=auto, min_samples_leaf=1, min_samples_split=5, n_estimators=1400; total time=   0.8s\n",
      "[CV] END bootstrap=True, max_depth=70, max_features=auto, min_samples_leaf=4, min_samples_split=2, n_estimators=1600; total time=   1.1s\n",
      "[CV] END bootstrap=True, max_depth=70, max_features=auto, min_samples_leaf=4, min_samples_split=2, n_estimators=1600; total time=   1.1s\n",
      "[CV] END bootstrap=True, max_depth=70, max_features=auto, min_samples_leaf=4, min_samples_split=2, n_estimators=1600; total time=   1.1s\n",
      "[CV] END bootstrap=True, max_depth=70, max_features=auto, min_samples_leaf=4, min_samples_split=2, n_estimators=1600; total time=   1.1s\n",
      "[CV] END bootstrap=True, max_depth=70, max_features=auto, min_samples_leaf=4, min_samples_split=2, n_estimators=1600; total time=   1.1s\n",
      "[CV] END bootstrap=False, max_depth=70, max_features=auto, min_samples_leaf=1, min_samples_split=5, n_estimators=400; total time=   0.2s\n",
      "[CV] END bootstrap=False, max_depth=70, max_features=auto, min_samples_leaf=1, min_samples_split=5, n_estimators=400; total time=   0.2s\n",
      "[CV] END bootstrap=False, max_depth=70, max_features=auto, min_samples_leaf=1, min_samples_split=5, n_estimators=400; total time=   0.2s\n",
      "[CV] END bootstrap=False, max_depth=70, max_features=auto, min_samples_leaf=1, min_samples_split=5, n_estimators=400; total time=   0.2s\n",
      "[CV] END bootstrap=False, max_depth=70, max_features=auto, min_samples_leaf=1, min_samples_split=5, n_estimators=400; total time=   0.2s\n",
      "[CV] END bootstrap=False, max_depth=60, max_features=auto, min_samples_leaf=1, min_samples_split=2, n_estimators=600; total time=   0.3s\n",
      "[CV] END bootstrap=False, max_depth=60, max_features=auto, min_samples_leaf=1, min_samples_split=2, n_estimators=600; total time=   0.3s\n",
      "[CV] END bootstrap=False, max_depth=60, max_features=auto, min_samples_leaf=1, min_samples_split=2, n_estimators=600; total time=   0.3s\n",
      "[CV] END bootstrap=False, max_depth=60, max_features=auto, min_samples_leaf=1, min_samples_split=2, n_estimators=600; total time=   0.3s\n",
      "[CV] END bootstrap=False, max_depth=60, max_features=auto, min_samples_leaf=1, min_samples_split=2, n_estimators=600; total time=   0.3s\n",
      "[CV] END bootstrap=True, max_depth=40, max_features=auto, min_samples_leaf=1, min_samples_split=5, n_estimators=1000; total time=   0.7s\n",
      "[CV] END bootstrap=True, max_depth=40, max_features=auto, min_samples_leaf=1, min_samples_split=5, n_estimators=1000; total time=   0.7s\n",
      "[CV] END bootstrap=True, max_depth=40, max_features=auto, min_samples_leaf=1, min_samples_split=5, n_estimators=1000; total time=   0.7s\n",
      "[CV] END bootstrap=True, max_depth=40, max_features=auto, min_samples_leaf=1, min_samples_split=5, n_estimators=1000; total time=   0.7s\n",
      "[CV] END bootstrap=True, max_depth=40, max_features=auto, min_samples_leaf=1, min_samples_split=5, n_estimators=1000; total time=   0.7s\n",
      "[CV] END bootstrap=False, max_depth=30, max_features=auto, min_samples_leaf=4, min_samples_split=5, n_estimators=1800; total time=   1.0s\n",
      "[CV] END bootstrap=False, max_depth=30, max_features=auto, min_samples_leaf=4, min_samples_split=5, n_estimators=1800; total time=   1.0s\n",
      "[CV] END bootstrap=False, max_depth=30, max_features=auto, min_samples_leaf=4, min_samples_split=5, n_estimators=1800; total time=   1.0s\n",
      "[CV] END bootstrap=False, max_depth=30, max_features=auto, min_samples_leaf=4, min_samples_split=5, n_estimators=1800; total time=   1.0s\n",
      "[CV] END bootstrap=False, max_depth=30, max_features=auto, min_samples_leaf=4, min_samples_split=5, n_estimators=1800; total time=   0.9s\n",
      "[CV] END bootstrap=False, max_depth=60, max_features=sqrt, min_samples_leaf=1, min_samples_split=5, n_estimators=1200; total time=   0.5s\n",
      "[CV] END bootstrap=False, max_depth=60, max_features=sqrt, min_samples_leaf=1, min_samples_split=5, n_estimators=1200; total time=   0.6s\n",
      "[CV] END bootstrap=False, max_depth=60, max_features=sqrt, min_samples_leaf=1, min_samples_split=5, n_estimators=1200; total time=   0.6s\n",
      "[CV] END bootstrap=False, max_depth=60, max_features=sqrt, min_samples_leaf=1, min_samples_split=5, n_estimators=1200; total time=   0.6s\n",
      "[CV] END bootstrap=False, max_depth=60, max_features=sqrt, min_samples_leaf=1, min_samples_split=5, n_estimators=1200; total time=   0.5s\n",
      "[CV] END bootstrap=True, max_depth=100, max_features=auto, min_samples_leaf=4, min_samples_split=2, n_estimators=1400; total time=   0.9s\n",
      "[CV] END bootstrap=True, max_depth=100, max_features=auto, min_samples_leaf=4, min_samples_split=2, n_estimators=1400; total time=   0.9s\n",
      "[CV] END bootstrap=True, max_depth=100, max_features=auto, min_samples_leaf=4, min_samples_split=2, n_estimators=1400; total time=   1.1s\n",
      "[CV] END bootstrap=True, max_depth=100, max_features=auto, min_samples_leaf=4, min_samples_split=2, n_estimators=1400; total time=   0.9s\n",
      "[CV] END bootstrap=True, max_depth=100, max_features=auto, min_samples_leaf=4, min_samples_split=2, n_estimators=1400; total time=   0.9s\n",
      "[CV] END bootstrap=True, max_depth=40, max_features=auto, min_samples_leaf=4, min_samples_split=2, n_estimators=2000; total time=   1.3s\n",
      "[CV] END bootstrap=True, max_depth=40, max_features=auto, min_samples_leaf=4, min_samples_split=2, n_estimators=2000; total time=   1.3s\n",
      "[CV] END bootstrap=True, max_depth=40, max_features=auto, min_samples_leaf=4, min_samples_split=2, n_estimators=2000; total time=   1.4s\n",
      "[CV] END bootstrap=True, max_depth=40, max_features=auto, min_samples_leaf=4, min_samples_split=2, n_estimators=2000; total time=   1.3s\n",
      "[CV] END bootstrap=True, max_depth=40, max_features=auto, min_samples_leaf=4, min_samples_split=2, n_estimators=2000; total time=   1.4s\n",
      "[CV] END bootstrap=True, max_depth=10, max_features=sqrt, min_samples_leaf=1, min_samples_split=10, n_estimators=1800; total time=   1.1s\n",
      "[CV] END bootstrap=True, max_depth=10, max_features=sqrt, min_samples_leaf=1, min_samples_split=10, n_estimators=1800; total time=   1.1s\n",
      "[CV] END bootstrap=True, max_depth=10, max_features=sqrt, min_samples_leaf=1, min_samples_split=10, n_estimators=1800; total time=   1.1s\n",
      "[CV] END bootstrap=True, max_depth=10, max_features=sqrt, min_samples_leaf=1, min_samples_split=10, n_estimators=1800; total time=   1.2s\n",
      "[CV] END bootstrap=True, max_depth=10, max_features=sqrt, min_samples_leaf=1, min_samples_split=10, n_estimators=1800; total time=   1.2s\n",
      "[CV] END bootstrap=True, max_depth=None, max_features=auto, min_samples_leaf=1, min_samples_split=5, n_estimators=400; total time=   0.2s\n",
      "[CV] END bootstrap=True, max_depth=None, max_features=auto, min_samples_leaf=1, min_samples_split=5, n_estimators=400; total time=   0.2s\n",
      "[CV] END bootstrap=True, max_depth=None, max_features=auto, min_samples_leaf=1, min_samples_split=5, n_estimators=400; total time=   0.2s\n",
      "[CV] END bootstrap=True, max_depth=None, max_features=auto, min_samples_leaf=1, min_samples_split=5, n_estimators=400; total time=   0.2s\n"
     ]
    },
    {
     "name": "stdout",
     "output_type": "stream",
     "text": [
      "[CV] END bootstrap=True, max_depth=None, max_features=auto, min_samples_leaf=1, min_samples_split=5, n_estimators=400; total time=   0.2s\n",
      "[CV] END bootstrap=True, max_depth=60, max_features=sqrt, min_samples_leaf=2, min_samples_split=5, n_estimators=100; total time=   0.0s\n",
      "[CV] END bootstrap=True, max_depth=60, max_features=sqrt, min_samples_leaf=2, min_samples_split=5, n_estimators=100; total time=   0.0s\n",
      "[CV] END bootstrap=True, max_depth=60, max_features=sqrt, min_samples_leaf=2, min_samples_split=5, n_estimators=100; total time=   0.0s\n",
      "[CV] END bootstrap=True, max_depth=60, max_features=sqrt, min_samples_leaf=2, min_samples_split=5, n_estimators=100; total time=   0.0s\n",
      "[CV] END bootstrap=True, max_depth=60, max_features=sqrt, min_samples_leaf=2, min_samples_split=5, n_estimators=100; total time=   0.0s\n",
      "[CV] END bootstrap=False, max_depth=30, max_features=auto, min_samples_leaf=1, min_samples_split=10, n_estimators=2000; total time=   1.1s\n",
      "[CV] END bootstrap=False, max_depth=30, max_features=auto, min_samples_leaf=1, min_samples_split=10, n_estimators=2000; total time=   1.1s\n",
      "[CV] END bootstrap=False, max_depth=30, max_features=auto, min_samples_leaf=1, min_samples_split=10, n_estimators=2000; total time=   1.1s\n",
      "[CV] END bootstrap=False, max_depth=30, max_features=auto, min_samples_leaf=1, min_samples_split=10, n_estimators=2000; total time=   1.1s\n",
      "[CV] END bootstrap=False, max_depth=30, max_features=auto, min_samples_leaf=1, min_samples_split=10, n_estimators=2000; total time=   1.1s\n",
      "[CV] END bootstrap=False, max_depth=70, max_features=auto, min_samples_leaf=4, min_samples_split=2, n_estimators=200; total time=   0.0s\n",
      "[CV] END bootstrap=False, max_depth=70, max_features=auto, min_samples_leaf=4, min_samples_split=2, n_estimators=200; total time=   0.0s\n",
      "[CV] END bootstrap=False, max_depth=70, max_features=auto, min_samples_leaf=4, min_samples_split=2, n_estimators=200; total time=   0.0s\n",
      "[CV] END bootstrap=False, max_depth=70, max_features=auto, min_samples_leaf=4, min_samples_split=2, n_estimators=200; total time=   0.0s\n",
      "[CV] END bootstrap=False, max_depth=70, max_features=auto, min_samples_leaf=4, min_samples_split=2, n_estimators=200; total time=   0.0s\n",
      "[CV] END bootstrap=False, max_depth=40, max_features=sqrt, min_samples_leaf=1, min_samples_split=10, n_estimators=200; total time=   0.0s\n",
      "[CV] END bootstrap=False, max_depth=40, max_features=sqrt, min_samples_leaf=1, min_samples_split=10, n_estimators=200; total time=   0.0s\n",
      "[CV] END bootstrap=False, max_depth=40, max_features=sqrt, min_samples_leaf=1, min_samples_split=10, n_estimators=200; total time=   0.0s\n",
      "[CV] END bootstrap=False, max_depth=40, max_features=sqrt, min_samples_leaf=1, min_samples_split=10, n_estimators=200; total time=   0.0s\n",
      "[CV] END bootstrap=False, max_depth=40, max_features=sqrt, min_samples_leaf=1, min_samples_split=10, n_estimators=200; total time=   0.0s\n",
      "[CV] END bootstrap=True, max_depth=20, max_features=auto, min_samples_leaf=4, min_samples_split=5, n_estimators=1400; total time=   0.9s\n",
      "[CV] END bootstrap=True, max_depth=20, max_features=auto, min_samples_leaf=4, min_samples_split=5, n_estimators=1400; total time=   1.1s\n",
      "[CV] END bootstrap=True, max_depth=20, max_features=auto, min_samples_leaf=4, min_samples_split=5, n_estimators=1400; total time=   0.9s\n",
      "[CV] END bootstrap=True, max_depth=20, max_features=auto, min_samples_leaf=4, min_samples_split=5, n_estimators=1400; total time=   0.9s\n",
      "[CV] END bootstrap=True, max_depth=20, max_features=auto, min_samples_leaf=4, min_samples_split=5, n_estimators=1400; total time=   0.9s\n",
      "[CV] END bootstrap=False, max_depth=30, max_features=sqrt, min_samples_leaf=4, min_samples_split=10, n_estimators=200; total time=   0.0s\n",
      "[CV] END bootstrap=False, max_depth=30, max_features=sqrt, min_samples_leaf=4, min_samples_split=10, n_estimators=200; total time=   0.0s\n",
      "[CV] END bootstrap=False, max_depth=30, max_features=sqrt, min_samples_leaf=4, min_samples_split=10, n_estimators=200; total time=   0.0s\n",
      "[CV] END bootstrap=False, max_depth=30, max_features=sqrt, min_samples_leaf=4, min_samples_split=10, n_estimators=200; total time=   0.0s\n",
      "[CV] END bootstrap=False, max_depth=30, max_features=sqrt, min_samples_leaf=4, min_samples_split=10, n_estimators=200; total time=   0.0s\n",
      "[CV] END bootstrap=True, max_depth=60, max_features=auto, min_samples_leaf=1, min_samples_split=5, n_estimators=400; total time=   0.2s\n",
      "[CV] END bootstrap=True, max_depth=60, max_features=auto, min_samples_leaf=1, min_samples_split=5, n_estimators=400; total time=   0.2s\n",
      "[CV] END bootstrap=True, max_depth=60, max_features=auto, min_samples_leaf=1, min_samples_split=5, n_estimators=400; total time=   0.2s\n",
      "[CV] END bootstrap=True, max_depth=60, max_features=auto, min_samples_leaf=1, min_samples_split=5, n_estimators=400; total time=   0.2s\n",
      "[CV] END bootstrap=True, max_depth=60, max_features=auto, min_samples_leaf=1, min_samples_split=5, n_estimators=400; total time=   0.2s\n",
      "[CV] END bootstrap=True, max_depth=10, max_features=sqrt, min_samples_leaf=4, min_samples_split=5, n_estimators=1800; total time=   1.1s\n",
      "[CV] END bootstrap=True, max_depth=10, max_features=sqrt, min_samples_leaf=4, min_samples_split=5, n_estimators=1800; total time=   1.1s\n",
      "[CV] END bootstrap=True, max_depth=10, max_features=sqrt, min_samples_leaf=4, min_samples_split=5, n_estimators=1800; total time=   1.1s\n",
      "[CV] END bootstrap=True, max_depth=10, max_features=sqrt, min_samples_leaf=4, min_samples_split=5, n_estimators=1800; total time=   1.2s\n",
      "[CV] END bootstrap=True, max_depth=10, max_features=sqrt, min_samples_leaf=4, min_samples_split=5, n_estimators=1800; total time=   1.1s\n",
      "[CV] END bootstrap=False, max_depth=50, max_features=sqrt, min_samples_leaf=1, min_samples_split=5, n_estimators=10; total time=   0.0s\n",
      "[CV] END bootstrap=False, max_depth=50, max_features=sqrt, min_samples_leaf=1, min_samples_split=5, n_estimators=10; total time=   0.0s\n",
      "[CV] END bootstrap=False, max_depth=50, max_features=sqrt, min_samples_leaf=1, min_samples_split=5, n_estimators=10; total time=   0.0s\n",
      "[CV] END bootstrap=False, max_depth=50, max_features=sqrt, min_samples_leaf=1, min_samples_split=5, n_estimators=10; total time=   0.0s\n",
      "[CV] END bootstrap=False, max_depth=50, max_features=sqrt, min_samples_leaf=1, min_samples_split=5, n_estimators=10; total time=   0.0s\n",
      "[CV] END bootstrap=False, max_depth=20, max_features=auto, min_samples_leaf=4, min_samples_split=5, n_estimators=1800; total time=   0.9s\n",
      "[CV] END bootstrap=False, max_depth=20, max_features=auto, min_samples_leaf=4, min_samples_split=5, n_estimators=1800; total time=   1.0s\n",
      "[CV] END bootstrap=False, max_depth=20, max_features=auto, min_samples_leaf=4, min_samples_split=5, n_estimators=1800; total time=   1.0s\n",
      "[CV] END bootstrap=False, max_depth=20, max_features=auto, min_samples_leaf=4, min_samples_split=5, n_estimators=1800; total time=   0.9s\n",
      "[CV] END bootstrap=False, max_depth=20, max_features=auto, min_samples_leaf=4, min_samples_split=5, n_estimators=1800; total time=   0.9s\n",
      "[CV] END bootstrap=True, max_depth=20, max_features=auto, min_samples_leaf=4, min_samples_split=2, n_estimators=1800; total time=   1.2s\n",
      "[CV] END bootstrap=True, max_depth=20, max_features=auto, min_samples_leaf=4, min_samples_split=2, n_estimators=1800; total time=   1.2s\n",
      "[CV] END bootstrap=True, max_depth=20, max_features=auto, min_samples_leaf=4, min_samples_split=2, n_estimators=1800; total time=   1.2s\n",
      "[CV] END bootstrap=True, max_depth=20, max_features=auto, min_samples_leaf=4, min_samples_split=2, n_estimators=1800; total time=   1.2s\n",
      "[CV] END bootstrap=True, max_depth=20, max_features=auto, min_samples_leaf=4, min_samples_split=2, n_estimators=1800; total time=   1.2s\n",
      "[CV] END bootstrap=False, max_depth=100, max_features=auto, min_samples_leaf=2, min_samples_split=2, n_estimators=400; total time=   0.2s\n",
      "[CV] END bootstrap=False, max_depth=100, max_features=auto, min_samples_leaf=2, min_samples_split=2, n_estimators=400; total time=   0.2s\n",
      "[CV] END bootstrap=False, max_depth=100, max_features=auto, min_samples_leaf=2, min_samples_split=2, n_estimators=400; total time=   0.2s\n",
      "[CV] END bootstrap=False, max_depth=100, max_features=auto, min_samples_leaf=2, min_samples_split=2, n_estimators=400; total time=   0.2s\n",
      "[CV] END bootstrap=False, max_depth=100, max_features=auto, min_samples_leaf=2, min_samples_split=2, n_estimators=400; total time=   0.2s\n"
     ]
    },
    {
     "name": "stdout",
     "output_type": "stream",
     "text": [
      "[CV] END bootstrap=True, max_depth=70, max_features=auto, min_samples_leaf=1, min_samples_split=10, n_estimators=1200; total time=   0.8s\n",
      "[CV] END bootstrap=True, max_depth=70, max_features=auto, min_samples_leaf=1, min_samples_split=10, n_estimators=1200; total time=   0.8s\n",
      "[CV] END bootstrap=True, max_depth=70, max_features=auto, min_samples_leaf=1, min_samples_split=10, n_estimators=1200; total time=   0.8s\n",
      "[CV] END bootstrap=True, max_depth=70, max_features=auto, min_samples_leaf=1, min_samples_split=10, n_estimators=1200; total time=   0.8s\n",
      "[CV] END bootstrap=True, max_depth=70, max_features=auto, min_samples_leaf=1, min_samples_split=10, n_estimators=1200; total time=   1.0s\n",
      "[CV] END bootstrap=False, max_depth=30, max_features=auto, min_samples_leaf=1, min_samples_split=2, n_estimators=1800; total time=   1.2s\n",
      "[CV] END bootstrap=False, max_depth=30, max_features=auto, min_samples_leaf=1, min_samples_split=2, n_estimators=1800; total time=   1.2s\n",
      "[CV] END bootstrap=False, max_depth=30, max_features=auto, min_samples_leaf=1, min_samples_split=2, n_estimators=1800; total time=   1.2s\n",
      "[CV] END bootstrap=False, max_depth=30, max_features=auto, min_samples_leaf=1, min_samples_split=2, n_estimators=1800; total time=   1.2s\n",
      "[CV] END bootstrap=False, max_depth=30, max_features=auto, min_samples_leaf=1, min_samples_split=2, n_estimators=1800; total time=   1.2s\n"
     ]
    },
    {
     "data": {
      "text/plain": [
       "RandomizedSearchCV(cv=5, estimator=RandomForestRegressor(), n_iter=50,\n",
       "                   param_distributions={'bootstrap': [True, False],\n",
       "                                        'max_depth': [10, 20, 30, 40, 50, 60,\n",
       "                                                      70, 80, 90, 100, None],\n",
       "                                        'max_features': ['auto', 'sqrt'],\n",
       "                                        'min_samples_leaf': [1, 2, 4],\n",
       "                                        'min_samples_split': [2, 5, 10],\n",
       "                                        'n_estimators': [10, 100, 200, 400, 600,\n",
       "                                                         800, 1000, 1200, 1400,\n",
       "                                                         1600, 1800, 2000]},\n",
       "                   random_state=0, verbose=2)"
      ]
     },
     "execution_count": 466,
     "metadata": {},
     "output_type": "execute_result"
    }
   ],
   "source": [
    "random_cv.fit(train_X, train_y)"
   ]
  },
  {
   "cell_type": "code",
   "execution_count": 467,
   "id": "188237f6",
   "metadata": {
    "ExecuteTime": {
     "end_time": "2021-08-26T15:11:03.997802Z",
     "start_time": "2021-08-26T15:11:03.983796Z"
    },
    "scrolled": true
   },
   "outputs": [
    {
     "data": {
      "text/plain": [
       "{'n_estimators': 200,\n",
       " 'min_samples_split': 2,\n",
       " 'min_samples_leaf': 1,\n",
       " 'max_features': 'auto',\n",
       " 'max_depth': 50,\n",
       " 'bootstrap': True}"
      ]
     },
     "execution_count": 467,
     "metadata": {},
     "output_type": "execute_result"
    }
   ],
   "source": [
    "random_cv.best_params_\n",
    "#random_cv.best_estimator_"
   ]
  },
  {
   "cell_type": "code",
   "execution_count": 312,
   "id": "ea47f46d",
   "metadata": {
    "ExecuteTime": {
     "end_time": "2021-08-26T14:16:41.874317Z",
     "start_time": "2021-08-26T14:16:41.858310Z"
    }
   },
   "outputs": [
    {
     "data": {
      "text/plain": [
       "RandomForestRegressor(max_depth=30, min_samples_leaf=2, n_estimators=400)"
      ]
     },
     "execution_count": 312,
     "metadata": {},
     "output_type": "execute_result"
    }
   ],
   "source": [
    "random_cv.best_estimator_"
   ]
  },
  {
   "cell_type": "code",
   "execution_count": null,
   "id": "04646f25",
   "metadata": {},
   "outputs": [],
   "source": [
    "#GS\n",
    "RandomForestRegressor(bootstrap=True,\n",
    " max_depth=30,\n",
    " max_features='auto',\n",
    " min_samples_leaf= 2,\n",
    " min_samples_split= 2,\n",
    " n_estimators=400)\n",
    "#3\n",
    "RandomForestRegressor(bootstrap=False, max_depth=60, n_estimators=600)"
   ]
  },
  {
   "cell_type": "markdown",
   "id": "4bcbef86",
   "metadata": {},
   "source": [
    "##### making predictions with the best parameters"
   ]
  },
  {
   "cell_type": "code",
   "execution_count": 539,
   "id": "77b74cdd",
   "metadata": {
    "ExecuteTime": {
     "end_time": "2021-08-26T15:37:28.812369Z",
     "start_time": "2021-08-26T15:37:28.793170Z"
    }
   },
   "outputs": [],
   "source": [
    "feature_names =  [ 'surface_area', 'hole_number','ratio pellet-hole','hole_radius','distance_from_centre']\n",
    "#feature_names =  [ 'surface_area','hole_radius', 'ratio pellet-hole']\n",
    "#feature_names =  [ 'surface_area', 'hole_radius']\n",
    "X = data[feature_names]\n",
    "#picking specific columns\n",
    "y = data.minimum_load\n",
    "#split data\n",
    "train_X, val_X, train_y, val_y = train_test_split(X,y,random_state = 1)"
   ]
  },
  {
   "cell_type": "code",
   "execution_count": 540,
   "id": "d94d8bbb",
   "metadata": {
    "ExecuteTime": {
     "end_time": "2021-08-26T15:37:36.179861Z",
     "start_time": "2021-08-26T15:37:36.162861Z"
    }
   },
   "outputs": [
    {
     "data": {
      "text/html": [
       "<div>\n",
       "<style scoped>\n",
       "    .dataframe tbody tr th:only-of-type {\n",
       "        vertical-align: middle;\n",
       "    }\n",
       "\n",
       "    .dataframe tbody tr th {\n",
       "        vertical-align: top;\n",
       "    }\n",
       "\n",
       "    .dataframe thead th {\n",
       "        text-align: right;\n",
       "    }\n",
       "</style>\n",
       "<table border=\"1\" class=\"dataframe\">\n",
       "  <thead>\n",
       "    <tr style=\"text-align: right;\">\n",
       "      <th></th>\n",
       "      <th>surface_area</th>\n",
       "      <th>hole_number</th>\n",
       "      <th>ratio pellet-hole</th>\n",
       "      <th>hole_radius</th>\n",
       "      <th>distance_from_centre</th>\n",
       "    </tr>\n",
       "  </thead>\n",
       "  <tbody>\n",
       "    <tr>\n",
       "      <th>39</th>\n",
       "      <td>0.728849</td>\n",
       "      <td>2</td>\n",
       "      <td>12.500000</td>\n",
       "      <td>0.008</td>\n",
       "      <td>0.056</td>\n",
       "    </tr>\n",
       "    <tr>\n",
       "      <th>271</th>\n",
       "      <td>0.892212</td>\n",
       "      <td>7</td>\n",
       "      <td>16.666667</td>\n",
       "      <td>0.006</td>\n",
       "      <td>0.078</td>\n",
       "    </tr>\n",
       "    <tr>\n",
       "      <th>78</th>\n",
       "      <td>0.942478</td>\n",
       "      <td>2</td>\n",
       "      <td>4.000000</td>\n",
       "      <td>0.025</td>\n",
       "      <td>0.050</td>\n",
       "    </tr>\n",
       "    <tr>\n",
       "      <th>201</th>\n",
       "      <td>1.005310</td>\n",
       "      <td>5</td>\n",
       "      <td>8.333333</td>\n",
       "      <td>0.012</td>\n",
       "      <td>0.072</td>\n",
       "    </tr>\n",
       "    <tr>\n",
       "      <th>147</th>\n",
       "      <td>0.779115</td>\n",
       "      <td>4</td>\n",
       "      <td>16.666667</td>\n",
       "      <td>0.006</td>\n",
       "      <td>0.078</td>\n",
       "    </tr>\n",
       "    <tr>\n",
       "      <th>...</th>\n",
       "      <td>...</td>\n",
       "      <td>...</td>\n",
       "      <td>...</td>\n",
       "      <td>...</td>\n",
       "      <td>...</td>\n",
       "    </tr>\n",
       "    <tr>\n",
       "      <th>203</th>\n",
       "      <td>1.005310</td>\n",
       "      <td>5</td>\n",
       "      <td>8.333333</td>\n",
       "      <td>0.012</td>\n",
       "      <td>0.048</td>\n",
       "    </tr>\n",
       "    <tr>\n",
       "      <th>255</th>\n",
       "      <td>0.980177</td>\n",
       "      <td>7</td>\n",
       "      <td>12.500000</td>\n",
       "      <td>0.008</td>\n",
       "      <td>0.040</td>\n",
       "    </tr>\n",
       "    <tr>\n",
       "      <th>72</th>\n",
       "      <td>0.816814</td>\n",
       "      <td>2</td>\n",
       "      <td>6.666667</td>\n",
       "      <td>0.015</td>\n",
       "      <td>0.045</td>\n",
       "    </tr>\n",
       "    <tr>\n",
       "      <th>235</th>\n",
       "      <td>1.005310</td>\n",
       "      <td>6</td>\n",
       "      <td>10.000000</td>\n",
       "      <td>0.010</td>\n",
       "      <td>0.080</td>\n",
       "    </tr>\n",
       "    <tr>\n",
       "      <th>37</th>\n",
       "      <td>0.728849</td>\n",
       "      <td>2</td>\n",
       "      <td>12.500000</td>\n",
       "      <td>0.008</td>\n",
       "      <td>0.064</td>\n",
       "    </tr>\n",
       "  </tbody>\n",
       "</table>\n",
       "<p>241 rows × 5 columns</p>\n",
       "</div>"
      ],
      "text/plain": [
       "     surface_area  hole_number  ratio pellet-hole  hole_radius  \\\n",
       "39       0.728849            2          12.500000        0.008   \n",
       "271      0.892212            7          16.666667        0.006   \n",
       "78       0.942478            2           4.000000        0.025   \n",
       "201      1.005310            5           8.333333        0.012   \n",
       "147      0.779115            4          16.666667        0.006   \n",
       "..            ...          ...                ...          ...   \n",
       "203      1.005310            5           8.333333        0.012   \n",
       "255      0.980177            7          12.500000        0.008   \n",
       "72       0.816814            2           6.666667        0.015   \n",
       "235      1.005310            6          10.000000        0.010   \n",
       "37       0.728849            2          12.500000        0.008   \n",
       "\n",
       "     distance_from_centre  \n",
       "39                  0.056  \n",
       "271                 0.078  \n",
       "78                  0.050  \n",
       "201                 0.072  \n",
       "147                 0.078  \n",
       "..                    ...  \n",
       "203                 0.048  \n",
       "255                 0.040  \n",
       "72                  0.045  \n",
       "235                 0.080  \n",
       "37                  0.064  \n",
       "\n",
       "[241 rows x 5 columns]"
      ]
     },
     "execution_count": 540,
     "metadata": {},
     "output_type": "execute_result"
    }
   ],
   "source": [
    "train_X"
   ]
  },
  {
   "cell_type": "code",
   "execution_count": 543,
   "id": "8acff1ce",
   "metadata": {
    "ExecuteTime": {
     "end_time": "2021-08-24T06:08:55.736374Z",
     "start_time": "2021-08-24T06:08:55.724374Z"
    }
   },
   "outputs": [
    {
     "name": "stdout",
     "output_type": "stream",
     "text": [
      "Validation r2_score: 0.5665373693561725\n"
     ]
    }
   ],
   "source": [
    "#LR\n",
    "ln_model = LinearRegression()\n",
    "ln_model.fit(train_X, train_y) \n",
    "ln_val_predictions = ln_model.predict(val_X)\n",
    "print('Validation r2_score:', r2_score(val_y,ln_val_predictions))"
   ]
  },
  {
   "cell_type": "code",
   "execution_count": 544,
   "id": "7ae63bbe",
   "metadata": {
    "ExecuteTime": {
     "end_time": "2021-08-24T06:08:56.696472Z",
     "start_time": "2021-08-24T06:08:56.555951Z"
    }
   },
   "outputs": [
    {
     "name": "stdout",
     "output_type": "stream",
     "text": [
      "交叉验证最佳alpha值 10.0\n"
     ]
    },
    {
     "data": {
      "text/plain": [
       "0.5688302173840298"
      ]
     },
     "execution_count": 544,
     "metadata": {},
     "output_type": "execute_result"
    }
   ],
   "source": [
    "#Ridge\n",
    "rg_model = RidgeCV(alphas=[1e-5,5e-5,1e-4, 5e-4, 1e-3, 5e-3,1e-2,5e-2,1e-1,5e-1,10,50,100,200,500,800],cv=10)  # 通过RidgeCV可以设置多个参数值，算法使用交叉验证获取最佳参数值\n",
    "rg_model.fit(train_X, train_y)   # 线性回归建模\n",
    "print('交叉验证最佳alpha值',rg_model.alpha_)  # 只有在使用RidgeCV算法时才有效\n",
    "predicted = rg_model.predict(train_X)\n",
    "rg_model.score(val_X, val_y)\n"
   ]
  },
  {
   "cell_type": "code",
   "execution_count": 545,
   "id": "d7103971",
   "metadata": {
    "ExecuteTime": {
     "end_time": "2021-08-24T06:08:57.390897Z",
     "start_time": "2021-08-24T06:08:57.361911Z"
    }
   },
   "outputs": [
    {
     "name": "stdout",
     "output_type": "stream",
     "text": [
      "交叉验证最佳alpha值 800.0\n"
     ]
    },
    {
     "data": {
      "text/plain": [
       "0.5665468644351428"
      ]
     },
     "execution_count": 545,
     "metadata": {},
     "output_type": "execute_result"
    }
   ],
   "source": [
    "#Lasso\n",
    "ls_model = LassoCV(alphas=[1e-5,5e-5,1e-4, 5e-4, 1e-3, 5e-3,1e-2,5e-2,1e-1,5e-1,10,50,100,200,500,800],cv=10)  # 通过RidgeCV可以设置多个参数值，算法使用交叉验证获取最佳参数值\n",
    "ls_model.fit(train_X, train_y)   # 线性回归建模\n",
    "print('交叉验证最佳alpha值',ls_model.alpha_)  # 只有在使用RidgeCV算法时才有效\n",
    "predicted = ls_model.predict(train_X)\n",
    "ls_model.score(val_X, val_y)"
   ]
  },
  {
   "cell_type": "code",
   "execution_count": 420,
   "id": "7c16b39d",
   "metadata": {
    "ExecuteTime": {
     "end_time": "2021-08-24T05:57:20.020990Z",
     "start_time": "2021-08-24T05:57:20.015992Z"
    }
   },
   "outputs": [],
   "source": [
    "#model_lasso = Lasso(alpha=800, max_iter=50000).fit(train_X, train_y)\n",
    "#model_ridge = Ridge(alpha=0.5, max_iter=50000).fit(train_X, train_y)\n",
    "#predicted_ls = ls_model.predict(val_X)\n",
    "#predicted_rg = rg_model.predict(val_X)\n",
    "#print('Lasso',r2_score(val_y,predicted_ls))\n",
    "#print('Ridge',r2_score(val_y,predicted_rg))"
   ]
  },
  {
   "cell_type": "code",
   "execution_count": 135,
   "id": "7990cfa7",
   "metadata": {
    "ExecuteTime": {
     "end_time": "2021-08-26T10:55:14.408027Z",
     "start_time": "2021-08-26T10:55:14.400023Z"
    }
   },
   "outputs": [
    {
     "ename": "NameError",
     "evalue": "name 'make_scorer' is not defined",
     "output_type": "error",
     "traceback": [
      "\u001b[1;31m---------------------------------------------------------------------------\u001b[0m",
      "\u001b[1;31mNameError\u001b[0m                                 Traceback (most recent call last)",
      "\u001b[1;32m<ipython-input-135-4f37ecc821fc>\u001b[0m in \u001b[0;36m<module>\u001b[1;34m\u001b[0m\n\u001b[1;32m----> 1\u001b[1;33m \u001b[0mscoring\u001b[0m \u001b[1;33m=\u001b[0m \u001b[0mmake_scorer\u001b[0m\u001b[1;33m(\u001b[0m\u001b[0mr2_score\u001b[0m\u001b[1;33m)\u001b[0m\u001b[1;33m\u001b[0m\u001b[1;33m\u001b[0m\u001b[0m\n\u001b[0m",
      "\u001b[1;31mNameError\u001b[0m: name 'make_scorer' is not defined"
     ]
    }
   ],
   "source": [
    "scoring = make_scorer(r2_score)"
   ]
  },
  {
   "cell_type": "code",
   "execution_count": 145,
   "id": "219a2ea1",
   "metadata": {
    "ExecuteTime": {
     "end_time": "2021-08-26T11:01:09.032646Z",
     "start_time": "2021-08-26T11:01:09.020648Z"
    }
   },
   "outputs": [
    {
     "data": {
      "text/plain": [
       "{'min_samples_split': 2}"
      ]
     },
     "execution_count": 145,
     "metadata": {},
     "output_type": "execute_result"
    }
   ],
   "source": [
    "g_cv.best_params_"
   ]
  },
  {
   "cell_type": "code",
   "execution_count": null,
   "id": "3ba1e310",
   "metadata": {},
   "outputs": [],
   "source": []
  },
  {
   "cell_type": "code",
   "execution_count": 146,
   "id": "2b3509b9",
   "metadata": {
    "ExecuteTime": {
     "end_time": "2021-08-26T11:01:22.111017Z",
     "start_time": "2021-08-26T11:01:22.013018Z"
    }
   },
   "outputs": [
    {
     "name": "stderr",
     "output_type": "stream",
     "text": [
      "d:\\python\\lib\\site-packages\\sklearn\\utils\\validation.py:70: FutureWarning: Pass sample_weight=150    214331.204530\n",
      "123    261975.156431\n",
      "163    224025.110897\n",
      "108    238938.813002\n",
      "158    212040.885992\n",
      "207    198725.080542\n",
      "161    174362.482890\n",
      "130    278007.386193\n",
      "116    201707.820963\n",
      "73     569330.577837\n",
      "14     104236.125066\n",
      "138    191587.808820\n",
      "122    282055.391050\n",
      "56     304718.891927\n",
      "186    121077.955799\n",
      "55     391671.101518\n",
      "88     290710.664593\n",
      "53     333481.031700\n",
      "152    208179.302411\n",
      "151    210895.726723\n",
      "191    120598.586803\n",
      "105    247141.349159\n",
      "42     275131.172216\n",
      "17      94744.618941\n",
      "5      110404.006150\n",
      "159    190495.912773\n",
      "198    245649.978949\n",
      "48     216648.154678\n",
      "174    198432.132822\n",
      "66     686722.718688\n",
      "172    150926.665297\n",
      "90     235689.756472\n",
      "54     336570.298564\n",
      "Name: max_force, dtype: float64 as keyword args. From version 1.0 (renaming of 0.25) passing these as positional arguments will result in an error\n",
      "  warnings.warn(f\"Pass {args_msg} as keyword args. From version \"\n",
      "d:\\python\\lib\\site-packages\\sklearn\\model_selection\\_validation.py:696: UserWarning: Scoring failed. The score on this train-test partition for these parameters will be set to nan. Details: \n",
      "Traceback (most recent call last):\n",
      "  File \"d:\\python\\lib\\site-packages\\sklearn\\model_selection\\_validation.py\", line 687, in _score\n",
      "    scores = scorer(estimator, X_test, y_test)\n",
      "  File \"d:\\python\\lib\\site-packages\\sklearn\\utils\\validation.py\", line 74, in inner_f\n",
      "    return f(**kwargs)\n",
      "  File \"d:\\python\\lib\\site-packages\\sklearn\\metrics\\_regression.py\", line 676, in r2_score\n",
      "    y_type, y_true, y_pred, multioutput = _check_reg_targets(\n",
      "  File \"d:\\python\\lib\\site-packages\\sklearn\\metrics\\_regression.py\", line 88, in _check_reg_targets\n",
      "    check_consistent_length(y_true, y_pred)\n",
      "  File \"d:\\python\\lib\\site-packages\\sklearn\\utils\\validation.py\", line 316, in check_consistent_length\n",
      "    lengths = [_num_samples(X) for X in arrays if X is not None]\n",
      "  File \"d:\\python\\lib\\site-packages\\sklearn\\utils\\validation.py\", line 316, in <listcomp>\n",
      "    lengths = [_num_samples(X) for X in arrays if X is not None]\n",
      "  File \"d:\\python\\lib\\site-packages\\sklearn\\utils\\validation.py\", line 249, in _num_samples\n",
      "    raise TypeError(message)\n",
      "TypeError: Expected sequence or array-like, got <class 'sklearn.tree._classes.DecisionTreeRegressor'>\n",
      "\n",
      "  warnings.warn(\n",
      "d:\\python\\lib\\site-packages\\sklearn\\utils\\validation.py:70: FutureWarning: Pass sample_weight=197    235370.177141\n",
      "147    242400.922419\n",
      "106    366610.755660\n",
      "99     346690.310707\n",
      "181    162378.257984\n",
      "206    215369.837355\n",
      "12     133605.465567\n",
      "195    100795.320937\n",
      "114    186980.540134\n",
      "189    113791.547057\n",
      "143    235876.177748\n",
      "168    116838.203344\n",
      "110    327036.181862\n",
      "81     371963.709451\n",
      "215    184264.115823\n",
      "179    190828.807910\n",
      "13     122015.388503\n",
      "209    220296.685371\n",
      "82     473137.199263\n",
      "145    228139.694782\n",
      "193    120619.892092\n",
      "45     223093.004516\n",
      "120    281682.548498\n",
      "103    326663.339309\n",
      "36     242427.554030\n",
      "177    188751.542259\n",
      "201    238805.654947\n",
      "167    163091.985156\n",
      "124    268579.795934\n",
      "176    174128.124714\n",
      "214    164135.944304\n",
      "132    288287.188001\n",
      "188    156636.482674\n",
      "Name: max_force, dtype: float64 as keyword args. From version 1.0 (renaming of 0.25) passing these as positional arguments will result in an error\n",
      "  warnings.warn(f\"Pass {args_msg} as keyword args. From version \"\n",
      "d:\\python\\lib\\site-packages\\sklearn\\model_selection\\_validation.py:696: UserWarning: Scoring failed. The score on this train-test partition for these parameters will be set to nan. Details: \n",
      "Traceback (most recent call last):\n",
      "  File \"d:\\python\\lib\\site-packages\\sklearn\\model_selection\\_validation.py\", line 687, in _score\n",
      "    scores = scorer(estimator, X_test, y_test)\n",
      "  File \"d:\\python\\lib\\site-packages\\sklearn\\utils\\validation.py\", line 74, in inner_f\n",
      "    return f(**kwargs)\n",
      "  File \"d:\\python\\lib\\site-packages\\sklearn\\metrics\\_regression.py\", line 676, in r2_score\n",
      "    y_type, y_true, y_pred, multioutput = _check_reg_targets(\n",
      "  File \"d:\\python\\lib\\site-packages\\sklearn\\metrics\\_regression.py\", line 88, in _check_reg_targets\n",
      "    check_consistent_length(y_true, y_pred)\n",
      "  File \"d:\\python\\lib\\site-packages\\sklearn\\utils\\validation.py\", line 316, in check_consistent_length\n",
      "    lengths = [_num_samples(X) for X in arrays if X is not None]\n",
      "  File \"d:\\python\\lib\\site-packages\\sklearn\\utils\\validation.py\", line 316, in <listcomp>\n",
      "    lengths = [_num_samples(X) for X in arrays if X is not None]\n",
      "  File \"d:\\python\\lib\\site-packages\\sklearn\\utils\\validation.py\", line 249, in _num_samples\n",
      "    raise TypeError(message)\n",
      "TypeError: Expected sequence or array-like, got <class 'sklearn.tree._classes.DecisionTreeRegressor'>\n",
      "\n",
      "  warnings.warn(\n",
      "d:\\python\\lib\\site-packages\\sklearn\\utils\\validation.py:70: FutureWarning: Pass sample_weight=75     374067.606713\n",
      "21     317795.012879\n",
      "91     258672.836679\n",
      "166    142276.718076\n",
      "2       18599.517053\n",
      "70     485441.003500\n",
      "85     495880.594973\n",
      "164    180242.742577\n",
      "6      113599.799458\n",
      "182    173531.576630\n",
      "169    135693.383862\n",
      "77     532472.428350\n",
      "113    269645.060371\n",
      "65     432816.940360\n",
      "46     289964.979488\n",
      "74     320697.858467\n",
      "92     254305.252492\n",
      "196     78648.473312\n",
      "87     245942.926669\n",
      "148    218991.736437\n",
      "10     145642.953694\n",
      "32     292468.350913\n",
      "136    277874.228139\n",
      "83     473350.252151\n",
      "170    111170.996544\n",
      "100    226728.219404\n",
      "125    253213.356445\n",
      "23     311030.583710\n",
      "126    200589.293305\n",
      "9      148327.420073\n",
      "185    158607.221881\n",
      "104    258060.309629\n",
      "Name: max_force, dtype: float64 as keyword args. From version 1.0 (renaming of 0.25) passing these as positional arguments will result in an error\n",
      "  warnings.warn(f\"Pass {args_msg} as keyword args. From version \"\n",
      "d:\\python\\lib\\site-packages\\sklearn\\model_selection\\_validation.py:696: UserWarning: Scoring failed. The score on this train-test partition for these parameters will be set to nan. Details: \n",
      "Traceback (most recent call last):\n",
      "  File \"d:\\python\\lib\\site-packages\\sklearn\\model_selection\\_validation.py\", line 687, in _score\n",
      "    scores = scorer(estimator, X_test, y_test)\n",
      "  File \"d:\\python\\lib\\site-packages\\sklearn\\utils\\validation.py\", line 74, in inner_f\n",
      "    return f(**kwargs)\n",
      "  File \"d:\\python\\lib\\site-packages\\sklearn\\metrics\\_regression.py\", line 676, in r2_score\n",
      "    y_type, y_true, y_pred, multioutput = _check_reg_targets(\n",
      "  File \"d:\\python\\lib\\site-packages\\sklearn\\metrics\\_regression.py\", line 88, in _check_reg_targets\n",
      "    check_consistent_length(y_true, y_pred)\n",
      "  File \"d:\\python\\lib\\site-packages\\sklearn\\utils\\validation.py\", line 316, in check_consistent_length\n",
      "    lengths = [_num_samples(X) for X in arrays if X is not None]\n",
      "  File \"d:\\python\\lib\\site-packages\\sklearn\\utils\\validation.py\", line 316, in <listcomp>\n",
      "    lengths = [_num_samples(X) for X in arrays if X is not None]\n",
      "  File \"d:\\python\\lib\\site-packages\\sklearn\\utils\\validation.py\", line 249, in _num_samples\n",
      "    raise TypeError(message)\n",
      "TypeError: Expected sequence or array-like, got <class 'sklearn.tree._classes.DecisionTreeRegressor'>\n",
      "\n",
      "  warnings.warn(\n",
      "d:\\python\\lib\\site-packages\\sklearn\\utils\\validation.py:70: FutureWarning: Pass sample_weight=153    221255.423364\n",
      "165    155624.481460\n",
      "135    290337.822040\n",
      "111    199524.028869\n",
      "212    196248.340728\n",
      "64     481419.630254\n",
      "15     129589.418643\n",
      "41     236834.915741\n",
      "202    237047.968628\n",
      "109    243892.292629\n",
      "80     477717.836338\n",
      "52     199657.186923\n",
      "26     285011.499860\n",
      "76     485387.740278\n",
      "43     350738.315563\n",
      "24     321017.437798\n",
      "3      153738.963408\n",
      "184    182293.376616\n",
      "49     290630.769760\n",
      "149    205915.615485\n",
      "131    372469.710058\n",
      "205    243173.239135\n",
      "30     506959.345107\n",
      "121    310205.003772\n",
      "175    198671.817320\n",
      "115    213665.414257\n",
      "190    141009.053398\n",
      "8       67612.333755\n",
      "60     288313.819612\n",
      "128    242933.554637\n",
      "1       97508.980152\n",
      "57     326929.655418\n",
      "Name: max_force, dtype: float64 as keyword args. From version 1.0 (renaming of 0.25) passing these as positional arguments will result in an error\n",
      "  warnings.warn(f\"Pass {args_msg} as keyword args. From version \"\n",
      "d:\\python\\lib\\site-packages\\sklearn\\model_selection\\_validation.py:696: UserWarning: Scoring failed. The score on this train-test partition for these parameters will be set to nan. Details: \n",
      "Traceback (most recent call last):\n",
      "  File \"d:\\python\\lib\\site-packages\\sklearn\\model_selection\\_validation.py\", line 687, in _score\n",
      "    scores = scorer(estimator, X_test, y_test)\n",
      "  File \"d:\\python\\lib\\site-packages\\sklearn\\utils\\validation.py\", line 74, in inner_f\n",
      "    return f(**kwargs)\n",
      "  File \"d:\\python\\lib\\site-packages\\sklearn\\metrics\\_regression.py\", line 676, in r2_score\n",
      "    y_type, y_true, y_pred, multioutput = _check_reg_targets(\n",
      "  File \"d:\\python\\lib\\site-packages\\sklearn\\metrics\\_regression.py\", line 88, in _check_reg_targets\n",
      "    check_consistent_length(y_true, y_pred)\n",
      "  File \"d:\\python\\lib\\site-packages\\sklearn\\utils\\validation.py\", line 316, in check_consistent_length\n",
      "    lengths = [_num_samples(X) for X in arrays if X is not None]\n",
      "  File \"d:\\python\\lib\\site-packages\\sklearn\\utils\\validation.py\", line 316, in <listcomp>\n",
      "    lengths = [_num_samples(X) for X in arrays if X is not None]\n",
      "  File \"d:\\python\\lib\\site-packages\\sklearn\\utils\\validation.py\", line 249, in _num_samples\n",
      "    raise TypeError(message)\n",
      "TypeError: Expected sequence or array-like, got <class 'sklearn.tree._classes.DecisionTreeRegressor'>\n",
      "\n",
      "  warnings.warn(\n",
      "d:\\python\\lib\\site-packages\\sklearn\\utils\\validation.py:70: FutureWarning: Pass sample_weight=22     503763.551799\n",
      "61     341736.831079\n",
      "63     509196.400423\n",
      "7      166916.284482\n",
      "213    294625.511395\n",
      "141    218459.104219\n",
      "86     276995.384979\n",
      "96     241894.921812\n",
      "68     359952.852935\n",
      "50     311270.268208\n",
      "142    274625.171609\n",
      "157    185196.222204\n",
      "156    204876.982660\n",
      "139    273400.117508\n",
      "146    212440.360156\n",
      "101    244038.766489\n",
      "20     338807.353880\n",
      "178    168002.854207\n",
      "25     329299.868788\n",
      "134    299499.096190\n",
      "71     446399.061919\n",
      "204    211028.884778\n",
      "129    301789.414728\n",
      "144    243652.608131\n",
      "192     86552.735428\n",
      "79     383148.986030\n",
      "133    194970.023405\n",
      "203    235290.282308\n",
      "137    381897.300317\n",
      "72     399234.479014\n",
      "140    284159.288311\n",
      "37     369486.969638\n",
      "Name: max_force, dtype: float64 as keyword args. From version 1.0 (renaming of 0.25) passing these as positional arguments will result in an error\n",
      "  warnings.warn(f\"Pass {args_msg} as keyword args. From version \"\n",
      "d:\\python\\lib\\site-packages\\sklearn\\model_selection\\_validation.py:696: UserWarning: Scoring failed. The score on this train-test partition for these parameters will be set to nan. Details: \n",
      "Traceback (most recent call last):\n",
      "  File \"d:\\python\\lib\\site-packages\\sklearn\\model_selection\\_validation.py\", line 687, in _score\n",
      "    scores = scorer(estimator, X_test, y_test)\n",
      "  File \"d:\\python\\lib\\site-packages\\sklearn\\utils\\validation.py\", line 74, in inner_f\n",
      "    return f(**kwargs)\n",
      "  File \"d:\\python\\lib\\site-packages\\sklearn\\metrics\\_regression.py\", line 676, in r2_score\n",
      "    y_type, y_true, y_pred, multioutput = _check_reg_targets(\n",
      "  File \"d:\\python\\lib\\site-packages\\sklearn\\metrics\\_regression.py\", line 88, in _check_reg_targets\n",
      "    check_consistent_length(y_true, y_pred)\n",
      "  File \"d:\\python\\lib\\site-packages\\sklearn\\utils\\validation.py\", line 316, in check_consistent_length\n",
      "    lengths = [_num_samples(X) for X in arrays if X is not None]\n",
      "  File \"d:\\python\\lib\\site-packages\\sklearn\\utils\\validation.py\", line 316, in <listcomp>\n",
      "    lengths = [_num_samples(X) for X in arrays if X is not None]\n",
      "  File \"d:\\python\\lib\\site-packages\\sklearn\\utils\\validation.py\", line 249, in _num_samples\n",
      "    raise TypeError(message)\n",
      "TypeError: Expected sequence or array-like, got <class 'sklearn.tree._classes.DecisionTreeRegressor'>\n",
      "\n",
      "  warnings.warn(\n",
      "d:\\python\\lib\\site-packages\\sklearn\\utils\\validation.py:70: FutureWarning: Pass sample_weight=150    214331.204530\n",
      "123    261975.156431\n",
      "163    224025.110897\n",
      "108    238938.813002\n",
      "158    212040.885992\n",
      "207    198725.080542\n",
      "161    174362.482890\n",
      "130    278007.386193\n",
      "116    201707.820963\n",
      "73     569330.577837\n",
      "14     104236.125066\n",
      "138    191587.808820\n",
      "122    282055.391050\n",
      "56     304718.891927\n",
      "186    121077.955799\n",
      "55     391671.101518\n",
      "88     290710.664593\n",
      "53     333481.031700\n",
      "152    208179.302411\n",
      "151    210895.726723\n",
      "191    120598.586803\n",
      "105    247141.349159\n",
      "42     275131.172216\n",
      "17      94744.618941\n",
      "5      110404.006150\n",
      "159    190495.912773\n",
      "198    245649.978949\n",
      "48     216648.154678\n",
      "174    198432.132822\n",
      "66     686722.718688\n",
      "172    150926.665297\n",
      "90     235689.756472\n",
      "54     336570.298564\n",
      "Name: max_force, dtype: float64 as keyword args. From version 1.0 (renaming of 0.25) passing these as positional arguments will result in an error\n",
      "  warnings.warn(f\"Pass {args_msg} as keyword args. From version \"\n",
      "d:\\python\\lib\\site-packages\\sklearn\\model_selection\\_validation.py:696: UserWarning: Scoring failed. The score on this train-test partition for these parameters will be set to nan. Details: \n",
      "Traceback (most recent call last):\n",
      "  File \"d:\\python\\lib\\site-packages\\sklearn\\model_selection\\_validation.py\", line 687, in _score\n",
      "    scores = scorer(estimator, X_test, y_test)\n",
      "  File \"d:\\python\\lib\\site-packages\\sklearn\\utils\\validation.py\", line 74, in inner_f\n",
      "    return f(**kwargs)\n",
      "  File \"d:\\python\\lib\\site-packages\\sklearn\\metrics\\_regression.py\", line 676, in r2_score\n",
      "    y_type, y_true, y_pred, multioutput = _check_reg_targets(\n",
      "  File \"d:\\python\\lib\\site-packages\\sklearn\\metrics\\_regression.py\", line 88, in _check_reg_targets\n",
      "    check_consistent_length(y_true, y_pred)\n",
      "  File \"d:\\python\\lib\\site-packages\\sklearn\\utils\\validation.py\", line 316, in check_consistent_length\n",
      "    lengths = [_num_samples(X) for X in arrays if X is not None]\n",
      "  File \"d:\\python\\lib\\site-packages\\sklearn\\utils\\validation.py\", line 316, in <listcomp>\n",
      "    lengths = [_num_samples(X) for X in arrays if X is not None]\n",
      "  File \"d:\\python\\lib\\site-packages\\sklearn\\utils\\validation.py\", line 249, in _num_samples\n",
      "    raise TypeError(message)\n",
      "TypeError: Expected sequence or array-like, got <class 'sklearn.tree._classes.DecisionTreeRegressor'>\n",
      "\n",
      "  warnings.warn(\n",
      "d:\\python\\lib\\site-packages\\sklearn\\utils\\validation.py:70: FutureWarning: Pass sample_weight=197    235370.177141\n",
      "147    242400.922419\n",
      "106    366610.755660\n",
      "99     346690.310707\n",
      "181    162378.257984\n",
      "206    215369.837355\n",
      "12     133605.465567\n",
      "195    100795.320937\n",
      "114    186980.540134\n",
      "189    113791.547057\n",
      "143    235876.177748\n",
      "168    116838.203344\n",
      "110    327036.181862\n",
      "81     371963.709451\n",
      "215    184264.115823\n",
      "179    190828.807910\n",
      "13     122015.388503\n",
      "209    220296.685371\n",
      "82     473137.199263\n",
      "145    228139.694782\n",
      "193    120619.892092\n",
      "45     223093.004516\n",
      "120    281682.548498\n",
      "103    326663.339309\n",
      "36     242427.554030\n",
      "177    188751.542259\n",
      "201    238805.654947\n",
      "167    163091.985156\n",
      "124    268579.795934\n",
      "176    174128.124714\n",
      "214    164135.944304\n",
      "132    288287.188001\n",
      "188    156636.482674\n",
      "Name: max_force, dtype: float64 as keyword args. From version 1.0 (renaming of 0.25) passing these as positional arguments will result in an error\n",
      "  warnings.warn(f\"Pass {args_msg} as keyword args. From version \"\n",
      "d:\\python\\lib\\site-packages\\sklearn\\model_selection\\_validation.py:696: UserWarning: Scoring failed. The score on this train-test partition for these parameters will be set to nan. Details: \n",
      "Traceback (most recent call last):\n",
      "  File \"d:\\python\\lib\\site-packages\\sklearn\\model_selection\\_validation.py\", line 687, in _score\n",
      "    scores = scorer(estimator, X_test, y_test)\n",
      "  File \"d:\\python\\lib\\site-packages\\sklearn\\utils\\validation.py\", line 74, in inner_f\n",
      "    return f(**kwargs)\n",
      "  File \"d:\\python\\lib\\site-packages\\sklearn\\metrics\\_regression.py\", line 676, in r2_score\n",
      "    y_type, y_true, y_pred, multioutput = _check_reg_targets(\n",
      "  File \"d:\\python\\lib\\site-packages\\sklearn\\metrics\\_regression.py\", line 88, in _check_reg_targets\n",
      "    check_consistent_length(y_true, y_pred)\n",
      "  File \"d:\\python\\lib\\site-packages\\sklearn\\utils\\validation.py\", line 316, in check_consistent_length\n",
      "    lengths = [_num_samples(X) for X in arrays if X is not None]\n",
      "  File \"d:\\python\\lib\\site-packages\\sklearn\\utils\\validation.py\", line 316, in <listcomp>\n",
      "    lengths = [_num_samples(X) for X in arrays if X is not None]\n",
      "  File \"d:\\python\\lib\\site-packages\\sklearn\\utils\\validation.py\", line 249, in _num_samples\n",
      "    raise TypeError(message)\n",
      "TypeError: Expected sequence or array-like, got <class 'sklearn.tree._classes.DecisionTreeRegressor'>\n",
      "\n",
      "  warnings.warn(\n",
      "d:\\python\\lib\\site-packages\\sklearn\\utils\\validation.py:70: FutureWarning: Pass sample_weight=75     374067.606713\n",
      "21     317795.012879\n",
      "91     258672.836679\n",
      "166    142276.718076\n",
      "2       18599.517053\n",
      "70     485441.003500\n",
      "85     495880.594973\n",
      "164    180242.742577\n",
      "6      113599.799458\n",
      "182    173531.576630\n",
      "169    135693.383862\n",
      "77     532472.428350\n",
      "113    269645.060371\n",
      "65     432816.940360\n",
      "46     289964.979488\n",
      "74     320697.858467\n",
      "92     254305.252492\n",
      "196     78648.473312\n",
      "87     245942.926669\n",
      "148    218991.736437\n",
      "10     145642.953694\n",
      "32     292468.350913\n",
      "136    277874.228139\n",
      "83     473350.252151\n",
      "170    111170.996544\n",
      "100    226728.219404\n",
      "125    253213.356445\n",
      "23     311030.583710\n",
      "126    200589.293305\n",
      "9      148327.420073\n",
      "185    158607.221881\n",
      "104    258060.309629\n",
      "Name: max_force, dtype: float64 as keyword args. From version 1.0 (renaming of 0.25) passing these as positional arguments will result in an error\n",
      "  warnings.warn(f\"Pass {args_msg} as keyword args. From version \"\n",
      "d:\\python\\lib\\site-packages\\sklearn\\model_selection\\_validation.py:696: UserWarning: Scoring failed. The score on this train-test partition for these parameters will be set to nan. Details: \n",
      "Traceback (most recent call last):\n",
      "  File \"d:\\python\\lib\\site-packages\\sklearn\\model_selection\\_validation.py\", line 687, in _score\n",
      "    scores = scorer(estimator, X_test, y_test)\n",
      "  File \"d:\\python\\lib\\site-packages\\sklearn\\utils\\validation.py\", line 74, in inner_f\n",
      "    return f(**kwargs)\n",
      "  File \"d:\\python\\lib\\site-packages\\sklearn\\metrics\\_regression.py\", line 676, in r2_score\n",
      "    y_type, y_true, y_pred, multioutput = _check_reg_targets(\n",
      "  File \"d:\\python\\lib\\site-packages\\sklearn\\metrics\\_regression.py\", line 88, in _check_reg_targets\n",
      "    check_consistent_length(y_true, y_pred)\n",
      "  File \"d:\\python\\lib\\site-packages\\sklearn\\utils\\validation.py\", line 316, in check_consistent_length\n",
      "    lengths = [_num_samples(X) for X in arrays if X is not None]\n",
      "  File \"d:\\python\\lib\\site-packages\\sklearn\\utils\\validation.py\", line 316, in <listcomp>\n",
      "    lengths = [_num_samples(X) for X in arrays if X is not None]\n",
      "  File \"d:\\python\\lib\\site-packages\\sklearn\\utils\\validation.py\", line 249, in _num_samples\n",
      "    raise TypeError(message)\n",
      "TypeError: Expected sequence or array-like, got <class 'sklearn.tree._classes.DecisionTreeRegressor'>\n",
      "\n",
      "  warnings.warn(\n",
      "d:\\python\\lib\\site-packages\\sklearn\\utils\\validation.py:70: FutureWarning: Pass sample_weight=153    221255.423364\n",
      "165    155624.481460\n",
      "135    290337.822040\n",
      "111    199524.028869\n",
      "212    196248.340728\n",
      "64     481419.630254\n",
      "15     129589.418643\n",
      "41     236834.915741\n",
      "202    237047.968628\n",
      "109    243892.292629\n",
      "80     477717.836338\n",
      "52     199657.186923\n",
      "26     285011.499860\n",
      "76     485387.740278\n",
      "43     350738.315563\n",
      "24     321017.437798\n",
      "3      153738.963408\n",
      "184    182293.376616\n",
      "49     290630.769760\n",
      "149    205915.615485\n",
      "131    372469.710058\n",
      "205    243173.239135\n",
      "30     506959.345107\n",
      "121    310205.003772\n",
      "175    198671.817320\n",
      "115    213665.414257\n",
      "190    141009.053398\n",
      "8       67612.333755\n",
      "60     288313.819612\n",
      "128    242933.554637\n",
      "1       97508.980152\n",
      "57     326929.655418\n",
      "Name: max_force, dtype: float64 as keyword args. From version 1.0 (renaming of 0.25) passing these as positional arguments will result in an error\n",
      "  warnings.warn(f\"Pass {args_msg} as keyword args. From version \"\n",
      "d:\\python\\lib\\site-packages\\sklearn\\model_selection\\_validation.py:696: UserWarning: Scoring failed. The score on this train-test partition for these parameters will be set to nan. Details: \n",
      "Traceback (most recent call last):\n",
      "  File \"d:\\python\\lib\\site-packages\\sklearn\\model_selection\\_validation.py\", line 687, in _score\n",
      "    scores = scorer(estimator, X_test, y_test)\n",
      "  File \"d:\\python\\lib\\site-packages\\sklearn\\utils\\validation.py\", line 74, in inner_f\n",
      "    return f(**kwargs)\n",
      "  File \"d:\\python\\lib\\site-packages\\sklearn\\metrics\\_regression.py\", line 676, in r2_score\n",
      "    y_type, y_true, y_pred, multioutput = _check_reg_targets(\n",
      "  File \"d:\\python\\lib\\site-packages\\sklearn\\metrics\\_regression.py\", line 88, in _check_reg_targets\n",
      "    check_consistent_length(y_true, y_pred)\n",
      "  File \"d:\\python\\lib\\site-packages\\sklearn\\utils\\validation.py\", line 316, in check_consistent_length\n",
      "    lengths = [_num_samples(X) for X in arrays if X is not None]\n",
      "  File \"d:\\python\\lib\\site-packages\\sklearn\\utils\\validation.py\", line 316, in <listcomp>\n",
      "    lengths = [_num_samples(X) for X in arrays if X is not None]\n",
      "  File \"d:\\python\\lib\\site-packages\\sklearn\\utils\\validation.py\", line 249, in _num_samples\n",
      "    raise TypeError(message)\n",
      "TypeError: Expected sequence or array-like, got <class 'sklearn.tree._classes.DecisionTreeRegressor'>\n",
      "\n",
      "  warnings.warn(\n",
      "d:\\python\\lib\\site-packages\\sklearn\\utils\\validation.py:70: FutureWarning: Pass sample_weight=22     503763.551799\n",
      "61     341736.831079\n",
      "63     509196.400423\n",
      "7      166916.284482\n",
      "213    294625.511395\n",
      "141    218459.104219\n",
      "86     276995.384979\n",
      "96     241894.921812\n",
      "68     359952.852935\n",
      "50     311270.268208\n",
      "142    274625.171609\n",
      "157    185196.222204\n",
      "156    204876.982660\n",
      "139    273400.117508\n",
      "146    212440.360156\n",
      "101    244038.766489\n",
      "20     338807.353880\n",
      "178    168002.854207\n",
      "25     329299.868788\n",
      "134    299499.096190\n",
      "71     446399.061919\n",
      "204    211028.884778\n",
      "129    301789.414728\n",
      "144    243652.608131\n",
      "192     86552.735428\n",
      "79     383148.986030\n",
      "133    194970.023405\n",
      "203    235290.282308\n",
      "137    381897.300317\n",
      "72     399234.479014\n",
      "140    284159.288311\n",
      "37     369486.969638\n",
      "Name: max_force, dtype: float64 as keyword args. From version 1.0 (renaming of 0.25) passing these as positional arguments will result in an error\n",
      "  warnings.warn(f\"Pass {args_msg} as keyword args. From version \"\n",
      "d:\\python\\lib\\site-packages\\sklearn\\model_selection\\_validation.py:696: UserWarning: Scoring failed. The score on this train-test partition for these parameters will be set to nan. Details: \n",
      "Traceback (most recent call last):\n",
      "  File \"d:\\python\\lib\\site-packages\\sklearn\\model_selection\\_validation.py\", line 687, in _score\n",
      "    scores = scorer(estimator, X_test, y_test)\n",
      "  File \"d:\\python\\lib\\site-packages\\sklearn\\utils\\validation.py\", line 74, in inner_f\n",
      "    return f(**kwargs)\n",
      "  File \"d:\\python\\lib\\site-packages\\sklearn\\metrics\\_regression.py\", line 676, in r2_score\n",
      "    y_type, y_true, y_pred, multioutput = _check_reg_targets(\n",
      "  File \"d:\\python\\lib\\site-packages\\sklearn\\metrics\\_regression.py\", line 88, in _check_reg_targets\n",
      "    check_consistent_length(y_true, y_pred)\n",
      "  File \"d:\\python\\lib\\site-packages\\sklearn\\utils\\validation.py\", line 316, in check_consistent_length\n",
      "    lengths = [_num_samples(X) for X in arrays if X is not None]\n",
      "  File \"d:\\python\\lib\\site-packages\\sklearn\\utils\\validation.py\", line 316, in <listcomp>\n",
      "    lengths = [_num_samples(X) for X in arrays if X is not None]\n",
      "  File \"d:\\python\\lib\\site-packages\\sklearn\\utils\\validation.py\", line 249, in _num_samples\n",
      "    raise TypeError(message)\n",
      "TypeError: Expected sequence or array-like, got <class 'sklearn.tree._classes.DecisionTreeRegressor'>\n",
      "\n",
      "  warnings.warn(\n",
      "d:\\python\\lib\\site-packages\\sklearn\\utils\\validation.py:70: FutureWarning: Pass sample_weight=150    214331.204530\n",
      "123    261975.156431\n",
      "163    224025.110897\n",
      "108    238938.813002\n",
      "158    212040.885992\n",
      "207    198725.080542\n",
      "161    174362.482890\n",
      "130    278007.386193\n",
      "116    201707.820963\n",
      "73     569330.577837\n",
      "14     104236.125066\n",
      "138    191587.808820\n",
      "122    282055.391050\n",
      "56     304718.891927\n",
      "186    121077.955799\n",
      "55     391671.101518\n",
      "88     290710.664593\n",
      "53     333481.031700\n",
      "152    208179.302411\n",
      "151    210895.726723\n",
      "191    120598.586803\n",
      "105    247141.349159\n",
      "42     275131.172216\n",
      "17      94744.618941\n",
      "5      110404.006150\n",
      "159    190495.912773\n",
      "198    245649.978949\n",
      "48     216648.154678\n",
      "174    198432.132822\n",
      "66     686722.718688\n",
      "172    150926.665297\n",
      "90     235689.756472\n",
      "54     336570.298564\n",
      "Name: max_force, dtype: float64 as keyword args. From version 1.0 (renaming of 0.25) passing these as positional arguments will result in an error\n",
      "  warnings.warn(f\"Pass {args_msg} as keyword args. From version \"\n",
      "d:\\python\\lib\\site-packages\\sklearn\\model_selection\\_validation.py:696: UserWarning: Scoring failed. The score on this train-test partition for these parameters will be set to nan. Details: \n",
      "Traceback (most recent call last):\n",
      "  File \"d:\\python\\lib\\site-packages\\sklearn\\model_selection\\_validation.py\", line 687, in _score\n",
      "    scores = scorer(estimator, X_test, y_test)\n",
      "  File \"d:\\python\\lib\\site-packages\\sklearn\\utils\\validation.py\", line 74, in inner_f\n",
      "    return f(**kwargs)\n",
      "  File \"d:\\python\\lib\\site-packages\\sklearn\\metrics\\_regression.py\", line 676, in r2_score\n",
      "    y_type, y_true, y_pred, multioutput = _check_reg_targets(\n",
      "  File \"d:\\python\\lib\\site-packages\\sklearn\\metrics\\_regression.py\", line 88, in _check_reg_targets\n",
      "    check_consistent_length(y_true, y_pred)\n",
      "  File \"d:\\python\\lib\\site-packages\\sklearn\\utils\\validation.py\", line 316, in check_consistent_length\n",
      "    lengths = [_num_samples(X) for X in arrays if X is not None]\n",
      "  File \"d:\\python\\lib\\site-packages\\sklearn\\utils\\validation.py\", line 316, in <listcomp>\n",
      "    lengths = [_num_samples(X) for X in arrays if X is not None]\n",
      "  File \"d:\\python\\lib\\site-packages\\sklearn\\utils\\validation.py\", line 249, in _num_samples\n",
      "    raise TypeError(message)\n",
      "TypeError: Expected sequence or array-like, got <class 'sklearn.tree._classes.DecisionTreeRegressor'>\n",
      "\n",
      "  warnings.warn(\n",
      "d:\\python\\lib\\site-packages\\sklearn\\utils\\validation.py:70: FutureWarning: Pass sample_weight=197    235370.177141\n",
      "147    242400.922419\n",
      "106    366610.755660\n",
      "99     346690.310707\n",
      "181    162378.257984\n",
      "206    215369.837355\n",
      "12     133605.465567\n",
      "195    100795.320937\n",
      "114    186980.540134\n",
      "189    113791.547057\n",
      "143    235876.177748\n",
      "168    116838.203344\n",
      "110    327036.181862\n",
      "81     371963.709451\n",
      "215    184264.115823\n",
      "179    190828.807910\n",
      "13     122015.388503\n",
      "209    220296.685371\n",
      "82     473137.199263\n",
      "145    228139.694782\n",
      "193    120619.892092\n",
      "45     223093.004516\n",
      "120    281682.548498\n",
      "103    326663.339309\n",
      "36     242427.554030\n",
      "177    188751.542259\n",
      "201    238805.654947\n",
      "167    163091.985156\n",
      "124    268579.795934\n",
      "176    174128.124714\n",
      "214    164135.944304\n",
      "132    288287.188001\n",
      "188    156636.482674\n",
      "Name: max_force, dtype: float64 as keyword args. From version 1.0 (renaming of 0.25) passing these as positional arguments will result in an error\n",
      "  warnings.warn(f\"Pass {args_msg} as keyword args. From version \"\n",
      "d:\\python\\lib\\site-packages\\sklearn\\model_selection\\_validation.py:696: UserWarning: Scoring failed. The score on this train-test partition for these parameters will be set to nan. Details: \n",
      "Traceback (most recent call last):\n",
      "  File \"d:\\python\\lib\\site-packages\\sklearn\\model_selection\\_validation.py\", line 687, in _score\n",
      "    scores = scorer(estimator, X_test, y_test)\n",
      "  File \"d:\\python\\lib\\site-packages\\sklearn\\utils\\validation.py\", line 74, in inner_f\n",
      "    return f(**kwargs)\n",
      "  File \"d:\\python\\lib\\site-packages\\sklearn\\metrics\\_regression.py\", line 676, in r2_score\n",
      "    y_type, y_true, y_pred, multioutput = _check_reg_targets(\n",
      "  File \"d:\\python\\lib\\site-packages\\sklearn\\metrics\\_regression.py\", line 88, in _check_reg_targets\n",
      "    check_consistent_length(y_true, y_pred)\n",
      "  File \"d:\\python\\lib\\site-packages\\sklearn\\utils\\validation.py\", line 316, in check_consistent_length\n",
      "    lengths = [_num_samples(X) for X in arrays if X is not None]\n",
      "  File \"d:\\python\\lib\\site-packages\\sklearn\\utils\\validation.py\", line 316, in <listcomp>\n",
      "    lengths = [_num_samples(X) for X in arrays if X is not None]\n",
      "  File \"d:\\python\\lib\\site-packages\\sklearn\\utils\\validation.py\", line 249, in _num_samples\n",
      "    raise TypeError(message)\n",
      "TypeError: Expected sequence or array-like, got <class 'sklearn.tree._classes.DecisionTreeRegressor'>\n",
      "\n",
      "  warnings.warn(\n",
      "d:\\python\\lib\\site-packages\\sklearn\\utils\\validation.py:70: FutureWarning: Pass sample_weight=75     374067.606713\n",
      "21     317795.012879\n",
      "91     258672.836679\n",
      "166    142276.718076\n",
      "2       18599.517053\n",
      "70     485441.003500\n",
      "85     495880.594973\n",
      "164    180242.742577\n",
      "6      113599.799458\n",
      "182    173531.576630\n",
      "169    135693.383862\n",
      "77     532472.428350\n",
      "113    269645.060371\n",
      "65     432816.940360\n",
      "46     289964.979488\n",
      "74     320697.858467\n",
      "92     254305.252492\n",
      "196     78648.473312\n",
      "87     245942.926669\n",
      "148    218991.736437\n",
      "10     145642.953694\n",
      "32     292468.350913\n",
      "136    277874.228139\n",
      "83     473350.252151\n",
      "170    111170.996544\n",
      "100    226728.219404\n",
      "125    253213.356445\n",
      "23     311030.583710\n",
      "126    200589.293305\n",
      "9      148327.420073\n",
      "185    158607.221881\n",
      "104    258060.309629\n",
      "Name: max_force, dtype: float64 as keyword args. From version 1.0 (renaming of 0.25) passing these as positional arguments will result in an error\n",
      "  warnings.warn(f\"Pass {args_msg} as keyword args. From version \"\n",
      "d:\\python\\lib\\site-packages\\sklearn\\model_selection\\_validation.py:696: UserWarning: Scoring failed. The score on this train-test partition for these parameters will be set to nan. Details: \n",
      "Traceback (most recent call last):\n",
      "  File \"d:\\python\\lib\\site-packages\\sklearn\\model_selection\\_validation.py\", line 687, in _score\n",
      "    scores = scorer(estimator, X_test, y_test)\n",
      "  File \"d:\\python\\lib\\site-packages\\sklearn\\utils\\validation.py\", line 74, in inner_f\n",
      "    return f(**kwargs)\n",
      "  File \"d:\\python\\lib\\site-packages\\sklearn\\metrics\\_regression.py\", line 676, in r2_score\n",
      "    y_type, y_true, y_pred, multioutput = _check_reg_targets(\n",
      "  File \"d:\\python\\lib\\site-packages\\sklearn\\metrics\\_regression.py\", line 88, in _check_reg_targets\n",
      "    check_consistent_length(y_true, y_pred)\n",
      "  File \"d:\\python\\lib\\site-packages\\sklearn\\utils\\validation.py\", line 316, in check_consistent_length\n",
      "    lengths = [_num_samples(X) for X in arrays if X is not None]\n",
      "  File \"d:\\python\\lib\\site-packages\\sklearn\\utils\\validation.py\", line 316, in <listcomp>\n",
      "    lengths = [_num_samples(X) for X in arrays if X is not None]\n",
      "  File \"d:\\python\\lib\\site-packages\\sklearn\\utils\\validation.py\", line 249, in _num_samples\n",
      "    raise TypeError(message)\n",
      "TypeError: Expected sequence or array-like, got <class 'sklearn.tree._classes.DecisionTreeRegressor'>\n",
      "\n",
      "  warnings.warn(\n",
      "d:\\python\\lib\\site-packages\\sklearn\\utils\\validation.py:70: FutureWarning: Pass sample_weight=153    221255.423364\n",
      "165    155624.481460\n",
      "135    290337.822040\n",
      "111    199524.028869\n",
      "212    196248.340728\n",
      "64     481419.630254\n",
      "15     129589.418643\n",
      "41     236834.915741\n",
      "202    237047.968628\n",
      "109    243892.292629\n",
      "80     477717.836338\n",
      "52     199657.186923\n",
      "26     285011.499860\n",
      "76     485387.740278\n",
      "43     350738.315563\n",
      "24     321017.437798\n",
      "3      153738.963408\n",
      "184    182293.376616\n",
      "49     290630.769760\n",
      "149    205915.615485\n",
      "131    372469.710058\n",
      "205    243173.239135\n",
      "30     506959.345107\n",
      "121    310205.003772\n",
      "175    198671.817320\n",
      "115    213665.414257\n",
      "190    141009.053398\n",
      "8       67612.333755\n",
      "60     288313.819612\n",
      "128    242933.554637\n",
      "1       97508.980152\n",
      "57     326929.655418\n",
      "Name: max_force, dtype: float64 as keyword args. From version 1.0 (renaming of 0.25) passing these as positional arguments will result in an error\n",
      "  warnings.warn(f\"Pass {args_msg} as keyword args. From version \"\n",
      "d:\\python\\lib\\site-packages\\sklearn\\model_selection\\_validation.py:696: UserWarning: Scoring failed. The score on this train-test partition for these parameters will be set to nan. Details: \n",
      "Traceback (most recent call last):\n",
      "  File \"d:\\python\\lib\\site-packages\\sklearn\\model_selection\\_validation.py\", line 687, in _score\n",
      "    scores = scorer(estimator, X_test, y_test)\n",
      "  File \"d:\\python\\lib\\site-packages\\sklearn\\utils\\validation.py\", line 74, in inner_f\n",
      "    return f(**kwargs)\n",
      "  File \"d:\\python\\lib\\site-packages\\sklearn\\metrics\\_regression.py\", line 676, in r2_score\n",
      "    y_type, y_true, y_pred, multioutput = _check_reg_targets(\n",
      "  File \"d:\\python\\lib\\site-packages\\sklearn\\metrics\\_regression.py\", line 88, in _check_reg_targets\n",
      "    check_consistent_length(y_true, y_pred)\n",
      "  File \"d:\\python\\lib\\site-packages\\sklearn\\utils\\validation.py\", line 316, in check_consistent_length\n",
      "    lengths = [_num_samples(X) for X in arrays if X is not None]\n",
      "  File \"d:\\python\\lib\\site-packages\\sklearn\\utils\\validation.py\", line 316, in <listcomp>\n",
      "    lengths = [_num_samples(X) for X in arrays if X is not None]\n",
      "  File \"d:\\python\\lib\\site-packages\\sklearn\\utils\\validation.py\", line 249, in _num_samples\n",
      "    raise TypeError(message)\n",
      "TypeError: Expected sequence or array-like, got <class 'sklearn.tree._classes.DecisionTreeRegressor'>\n",
      "\n",
      "  warnings.warn(\n",
      "d:\\python\\lib\\site-packages\\sklearn\\utils\\validation.py:70: FutureWarning: Pass sample_weight=22     503763.551799\n",
      "61     341736.831079\n",
      "63     509196.400423\n",
      "7      166916.284482\n",
      "213    294625.511395\n",
      "141    218459.104219\n",
      "86     276995.384979\n",
      "96     241894.921812\n",
      "68     359952.852935\n",
      "50     311270.268208\n",
      "142    274625.171609\n",
      "157    185196.222204\n",
      "156    204876.982660\n",
      "139    273400.117508\n",
      "146    212440.360156\n",
      "101    244038.766489\n",
      "20     338807.353880\n",
      "178    168002.854207\n",
      "25     329299.868788\n",
      "134    299499.096190\n",
      "71     446399.061919\n",
      "204    211028.884778\n",
      "129    301789.414728\n",
      "144    243652.608131\n",
      "192     86552.735428\n",
      "79     383148.986030\n",
      "133    194970.023405\n",
      "203    235290.282308\n",
      "137    381897.300317\n",
      "72     399234.479014\n",
      "140    284159.288311\n",
      "37     369486.969638\n",
      "Name: max_force, dtype: float64 as keyword args. From version 1.0 (renaming of 0.25) passing these as positional arguments will result in an error\n",
      "  warnings.warn(f\"Pass {args_msg} as keyword args. From version \"\n",
      "d:\\python\\lib\\site-packages\\sklearn\\model_selection\\_validation.py:696: UserWarning: Scoring failed. The score on this train-test partition for these parameters will be set to nan. Details: \n",
      "Traceback (most recent call last):\n",
      "  File \"d:\\python\\lib\\site-packages\\sklearn\\model_selection\\_validation.py\", line 687, in _score\n",
      "    scores = scorer(estimator, X_test, y_test)\n",
      "  File \"d:\\python\\lib\\site-packages\\sklearn\\utils\\validation.py\", line 74, in inner_f\n",
      "    return f(**kwargs)\n",
      "  File \"d:\\python\\lib\\site-packages\\sklearn\\metrics\\_regression.py\", line 676, in r2_score\n",
      "    y_type, y_true, y_pred, multioutput = _check_reg_targets(\n",
      "  File \"d:\\python\\lib\\site-packages\\sklearn\\metrics\\_regression.py\", line 88, in _check_reg_targets\n",
      "    check_consistent_length(y_true, y_pred)\n",
      "  File \"d:\\python\\lib\\site-packages\\sklearn\\utils\\validation.py\", line 316, in check_consistent_length\n",
      "    lengths = [_num_samples(X) for X in arrays if X is not None]\n",
      "  File \"d:\\python\\lib\\site-packages\\sklearn\\utils\\validation.py\", line 316, in <listcomp>\n",
      "    lengths = [_num_samples(X) for X in arrays if X is not None]\n",
      "  File \"d:\\python\\lib\\site-packages\\sklearn\\utils\\validation.py\", line 249, in _num_samples\n",
      "    raise TypeError(message)\n",
      "TypeError: Expected sequence or array-like, got <class 'sklearn.tree._classes.DecisionTreeRegressor'>\n",
      "\n",
      "  warnings.warn(\n",
      "d:\\python\\lib\\site-packages\\sklearn\\utils\\validation.py:70: FutureWarning: Pass sample_weight=150    214331.204530\n",
      "123    261975.156431\n",
      "163    224025.110897\n",
      "108    238938.813002\n",
      "158    212040.885992\n",
      "207    198725.080542\n",
      "161    174362.482890\n",
      "130    278007.386193\n",
      "116    201707.820963\n",
      "73     569330.577837\n",
      "14     104236.125066\n",
      "138    191587.808820\n",
      "122    282055.391050\n",
      "56     304718.891927\n",
      "186    121077.955799\n",
      "55     391671.101518\n",
      "88     290710.664593\n",
      "53     333481.031700\n",
      "152    208179.302411\n",
      "151    210895.726723\n",
      "191    120598.586803\n",
      "105    247141.349159\n",
      "42     275131.172216\n",
      "17      94744.618941\n",
      "5      110404.006150\n",
      "159    190495.912773\n",
      "198    245649.978949\n",
      "48     216648.154678\n",
      "174    198432.132822\n",
      "66     686722.718688\n",
      "172    150926.665297\n",
      "90     235689.756472\n",
      "54     336570.298564\n",
      "Name: max_force, dtype: float64 as keyword args. From version 1.0 (renaming of 0.25) passing these as positional arguments will result in an error\n",
      "  warnings.warn(f\"Pass {args_msg} as keyword args. From version \"\n",
      "d:\\python\\lib\\site-packages\\sklearn\\model_selection\\_validation.py:696: UserWarning: Scoring failed. The score on this train-test partition for these parameters will be set to nan. Details: \n",
      "Traceback (most recent call last):\n",
      "  File \"d:\\python\\lib\\site-packages\\sklearn\\model_selection\\_validation.py\", line 687, in _score\n",
      "    scores = scorer(estimator, X_test, y_test)\n",
      "  File \"d:\\python\\lib\\site-packages\\sklearn\\utils\\validation.py\", line 74, in inner_f\n",
      "    return f(**kwargs)\n",
      "  File \"d:\\python\\lib\\site-packages\\sklearn\\metrics\\_regression.py\", line 676, in r2_score\n",
      "    y_type, y_true, y_pred, multioutput = _check_reg_targets(\n",
      "  File \"d:\\python\\lib\\site-packages\\sklearn\\metrics\\_regression.py\", line 88, in _check_reg_targets\n",
      "    check_consistent_length(y_true, y_pred)\n",
      "  File \"d:\\python\\lib\\site-packages\\sklearn\\utils\\validation.py\", line 316, in check_consistent_length\n",
      "    lengths = [_num_samples(X) for X in arrays if X is not None]\n",
      "  File \"d:\\python\\lib\\site-packages\\sklearn\\utils\\validation.py\", line 316, in <listcomp>\n",
      "    lengths = [_num_samples(X) for X in arrays if X is not None]\n",
      "  File \"d:\\python\\lib\\site-packages\\sklearn\\utils\\validation.py\", line 249, in _num_samples\n",
      "    raise TypeError(message)\n",
      "TypeError: Expected sequence or array-like, got <class 'sklearn.tree._classes.DecisionTreeRegressor'>\n",
      "\n",
      "  warnings.warn(\n",
      "d:\\python\\lib\\site-packages\\sklearn\\utils\\validation.py:70: FutureWarning: Pass sample_weight=197    235370.177141\n",
      "147    242400.922419\n",
      "106    366610.755660\n",
      "99     346690.310707\n",
      "181    162378.257984\n",
      "206    215369.837355\n",
      "12     133605.465567\n",
      "195    100795.320937\n",
      "114    186980.540134\n",
      "189    113791.547057\n",
      "143    235876.177748\n",
      "168    116838.203344\n",
      "110    327036.181862\n",
      "81     371963.709451\n",
      "215    184264.115823\n",
      "179    190828.807910\n",
      "13     122015.388503\n",
      "209    220296.685371\n",
      "82     473137.199263\n",
      "145    228139.694782\n",
      "193    120619.892092\n",
      "45     223093.004516\n",
      "120    281682.548498\n",
      "103    326663.339309\n",
      "36     242427.554030\n",
      "177    188751.542259\n",
      "201    238805.654947\n",
      "167    163091.985156\n",
      "124    268579.795934\n",
      "176    174128.124714\n",
      "214    164135.944304\n",
      "132    288287.188001\n",
      "188    156636.482674\n",
      "Name: max_force, dtype: float64 as keyword args. From version 1.0 (renaming of 0.25) passing these as positional arguments will result in an error\n",
      "  warnings.warn(f\"Pass {args_msg} as keyword args. From version \"\n",
      "d:\\python\\lib\\site-packages\\sklearn\\model_selection\\_validation.py:696: UserWarning: Scoring failed. The score on this train-test partition for these parameters will be set to nan. Details: \n",
      "Traceback (most recent call last):\n",
      "  File \"d:\\python\\lib\\site-packages\\sklearn\\model_selection\\_validation.py\", line 687, in _score\n",
      "    scores = scorer(estimator, X_test, y_test)\n",
      "  File \"d:\\python\\lib\\site-packages\\sklearn\\utils\\validation.py\", line 74, in inner_f\n",
      "    return f(**kwargs)\n",
      "  File \"d:\\python\\lib\\site-packages\\sklearn\\metrics\\_regression.py\", line 676, in r2_score\n",
      "    y_type, y_true, y_pred, multioutput = _check_reg_targets(\n",
      "  File \"d:\\python\\lib\\site-packages\\sklearn\\metrics\\_regression.py\", line 88, in _check_reg_targets\n",
      "    check_consistent_length(y_true, y_pred)\n",
      "  File \"d:\\python\\lib\\site-packages\\sklearn\\utils\\validation.py\", line 316, in check_consistent_length\n",
      "    lengths = [_num_samples(X) for X in arrays if X is not None]\n",
      "  File \"d:\\python\\lib\\site-packages\\sklearn\\utils\\validation.py\", line 316, in <listcomp>\n",
      "    lengths = [_num_samples(X) for X in arrays if X is not None]\n",
      "  File \"d:\\python\\lib\\site-packages\\sklearn\\utils\\validation.py\", line 249, in _num_samples\n",
      "    raise TypeError(message)\n",
      "TypeError: Expected sequence or array-like, got <class 'sklearn.tree._classes.DecisionTreeRegressor'>\n",
      "\n",
      "  warnings.warn(\n",
      "d:\\python\\lib\\site-packages\\sklearn\\utils\\validation.py:70: FutureWarning: Pass sample_weight=75     374067.606713\n",
      "21     317795.012879\n",
      "91     258672.836679\n",
      "166    142276.718076\n",
      "2       18599.517053\n",
      "70     485441.003500\n",
      "85     495880.594973\n",
      "164    180242.742577\n",
      "6      113599.799458\n",
      "182    173531.576630\n",
      "169    135693.383862\n",
      "77     532472.428350\n",
      "113    269645.060371\n",
      "65     432816.940360\n",
      "46     289964.979488\n",
      "74     320697.858467\n",
      "92     254305.252492\n",
      "196     78648.473312\n",
      "87     245942.926669\n",
      "148    218991.736437\n",
      "10     145642.953694\n",
      "32     292468.350913\n",
      "136    277874.228139\n",
      "83     473350.252151\n",
      "170    111170.996544\n",
      "100    226728.219404\n",
      "125    253213.356445\n",
      "23     311030.583710\n",
      "126    200589.293305\n",
      "9      148327.420073\n",
      "185    158607.221881\n",
      "104    258060.309629\n",
      "Name: max_force, dtype: float64 as keyword args. From version 1.0 (renaming of 0.25) passing these as positional arguments will result in an error\n",
      "  warnings.warn(f\"Pass {args_msg} as keyword args. From version \"\n",
      "d:\\python\\lib\\site-packages\\sklearn\\model_selection\\_validation.py:696: UserWarning: Scoring failed. The score on this train-test partition for these parameters will be set to nan. Details: \n",
      "Traceback (most recent call last):\n",
      "  File \"d:\\python\\lib\\site-packages\\sklearn\\model_selection\\_validation.py\", line 687, in _score\n",
      "    scores = scorer(estimator, X_test, y_test)\n",
      "  File \"d:\\python\\lib\\site-packages\\sklearn\\utils\\validation.py\", line 74, in inner_f\n",
      "    return f(**kwargs)\n",
      "  File \"d:\\python\\lib\\site-packages\\sklearn\\metrics\\_regression.py\", line 676, in r2_score\n",
      "    y_type, y_true, y_pred, multioutput = _check_reg_targets(\n",
      "  File \"d:\\python\\lib\\site-packages\\sklearn\\metrics\\_regression.py\", line 88, in _check_reg_targets\n",
      "    check_consistent_length(y_true, y_pred)\n",
      "  File \"d:\\python\\lib\\site-packages\\sklearn\\utils\\validation.py\", line 316, in check_consistent_length\n",
      "    lengths = [_num_samples(X) for X in arrays if X is not None]\n",
      "  File \"d:\\python\\lib\\site-packages\\sklearn\\utils\\validation.py\", line 316, in <listcomp>\n",
      "    lengths = [_num_samples(X) for X in arrays if X is not None]\n",
      "  File \"d:\\python\\lib\\site-packages\\sklearn\\utils\\validation.py\", line 249, in _num_samples\n",
      "    raise TypeError(message)\n",
      "TypeError: Expected sequence or array-like, got <class 'sklearn.tree._classes.DecisionTreeRegressor'>\n",
      "\n",
      "  warnings.warn(\n",
      "d:\\python\\lib\\site-packages\\sklearn\\utils\\validation.py:70: FutureWarning: Pass sample_weight=153    221255.423364\n",
      "165    155624.481460\n",
      "135    290337.822040\n",
      "111    199524.028869\n",
      "212    196248.340728\n",
      "64     481419.630254\n",
      "15     129589.418643\n",
      "41     236834.915741\n",
      "202    237047.968628\n",
      "109    243892.292629\n",
      "80     477717.836338\n",
      "52     199657.186923\n",
      "26     285011.499860\n",
      "76     485387.740278\n",
      "43     350738.315563\n",
      "24     321017.437798\n",
      "3      153738.963408\n",
      "184    182293.376616\n",
      "49     290630.769760\n",
      "149    205915.615485\n",
      "131    372469.710058\n",
      "205    243173.239135\n",
      "30     506959.345107\n",
      "121    310205.003772\n",
      "175    198671.817320\n",
      "115    213665.414257\n",
      "190    141009.053398\n",
      "8       67612.333755\n",
      "60     288313.819612\n",
      "128    242933.554637\n",
      "1       97508.980152\n",
      "57     326929.655418\n",
      "Name: max_force, dtype: float64 as keyword args. From version 1.0 (renaming of 0.25) passing these as positional arguments will result in an error\n",
      "  warnings.warn(f\"Pass {args_msg} as keyword args. From version \"\n",
      "d:\\python\\lib\\site-packages\\sklearn\\model_selection\\_validation.py:696: UserWarning: Scoring failed. The score on this train-test partition for these parameters will be set to nan. Details: \n",
      "Traceback (most recent call last):\n",
      "  File \"d:\\python\\lib\\site-packages\\sklearn\\model_selection\\_validation.py\", line 687, in _score\n",
      "    scores = scorer(estimator, X_test, y_test)\n",
      "  File \"d:\\python\\lib\\site-packages\\sklearn\\utils\\validation.py\", line 74, in inner_f\n",
      "    return f(**kwargs)\n",
      "  File \"d:\\python\\lib\\site-packages\\sklearn\\metrics\\_regression.py\", line 676, in r2_score\n",
      "    y_type, y_true, y_pred, multioutput = _check_reg_targets(\n",
      "  File \"d:\\python\\lib\\site-packages\\sklearn\\metrics\\_regression.py\", line 88, in _check_reg_targets\n",
      "    check_consistent_length(y_true, y_pred)\n",
      "  File \"d:\\python\\lib\\site-packages\\sklearn\\utils\\validation.py\", line 316, in check_consistent_length\n",
      "    lengths = [_num_samples(X) for X in arrays if X is not None]\n",
      "  File \"d:\\python\\lib\\site-packages\\sklearn\\utils\\validation.py\", line 316, in <listcomp>\n",
      "    lengths = [_num_samples(X) for X in arrays if X is not None]\n",
      "  File \"d:\\python\\lib\\site-packages\\sklearn\\utils\\validation.py\", line 249, in _num_samples\n",
      "    raise TypeError(message)\n",
      "TypeError: Expected sequence or array-like, got <class 'sklearn.tree._classes.DecisionTreeRegressor'>\n",
      "\n",
      "  warnings.warn(\n",
      "d:\\python\\lib\\site-packages\\sklearn\\utils\\validation.py:70: FutureWarning: Pass sample_weight=22     503763.551799\n",
      "61     341736.831079\n",
      "63     509196.400423\n",
      "7      166916.284482\n",
      "213    294625.511395\n",
      "141    218459.104219\n",
      "86     276995.384979\n",
      "96     241894.921812\n",
      "68     359952.852935\n",
      "50     311270.268208\n",
      "142    274625.171609\n",
      "157    185196.222204\n",
      "156    204876.982660\n",
      "139    273400.117508\n",
      "146    212440.360156\n",
      "101    244038.766489\n",
      "20     338807.353880\n",
      "178    168002.854207\n",
      "25     329299.868788\n",
      "134    299499.096190\n",
      "71     446399.061919\n",
      "204    211028.884778\n",
      "129    301789.414728\n",
      "144    243652.608131\n",
      "192     86552.735428\n",
      "79     383148.986030\n",
      "133    194970.023405\n",
      "203    235290.282308\n",
      "137    381897.300317\n",
      "72     399234.479014\n",
      "140    284159.288311\n",
      "37     369486.969638\n",
      "Name: max_force, dtype: float64 as keyword args. From version 1.0 (renaming of 0.25) passing these as positional arguments will result in an error\n",
      "  warnings.warn(f\"Pass {args_msg} as keyword args. From version \"\n",
      "d:\\python\\lib\\site-packages\\sklearn\\model_selection\\_validation.py:696: UserWarning: Scoring failed. The score on this train-test partition for these parameters will be set to nan. Details: \n",
      "Traceback (most recent call last):\n",
      "  File \"d:\\python\\lib\\site-packages\\sklearn\\model_selection\\_validation.py\", line 687, in _score\n",
      "    scores = scorer(estimator, X_test, y_test)\n",
      "  File \"d:\\python\\lib\\site-packages\\sklearn\\utils\\validation.py\", line 74, in inner_f\n",
      "    return f(**kwargs)\n",
      "  File \"d:\\python\\lib\\site-packages\\sklearn\\metrics\\_regression.py\", line 676, in r2_score\n",
      "    y_type, y_true, y_pred, multioutput = _check_reg_targets(\n",
      "  File \"d:\\python\\lib\\site-packages\\sklearn\\metrics\\_regression.py\", line 88, in _check_reg_targets\n",
      "    check_consistent_length(y_true, y_pred)\n",
      "  File \"d:\\python\\lib\\site-packages\\sklearn\\utils\\validation.py\", line 316, in check_consistent_length\n",
      "    lengths = [_num_samples(X) for X in arrays if X is not None]\n",
      "  File \"d:\\python\\lib\\site-packages\\sklearn\\utils\\validation.py\", line 316, in <listcomp>\n",
      "    lengths = [_num_samples(X) for X in arrays if X is not None]\n",
      "  File \"d:\\python\\lib\\site-packages\\sklearn\\utils\\validation.py\", line 249, in _num_samples\n",
      "    raise TypeError(message)\n",
      "TypeError: Expected sequence or array-like, got <class 'sklearn.tree._classes.DecisionTreeRegressor'>\n",
      "\n",
      "  warnings.warn(\n",
      "d:\\python\\lib\\site-packages\\sklearn\\utils\\validation.py:70: FutureWarning: Pass sample_weight=150    214331.204530\n",
      "123    261975.156431\n",
      "163    224025.110897\n",
      "108    238938.813002\n",
      "158    212040.885992\n",
      "207    198725.080542\n",
      "161    174362.482890\n",
      "130    278007.386193\n",
      "116    201707.820963\n",
      "73     569330.577837\n",
      "14     104236.125066\n",
      "138    191587.808820\n",
      "122    282055.391050\n",
      "56     304718.891927\n",
      "186    121077.955799\n",
      "55     391671.101518\n",
      "88     290710.664593\n",
      "53     333481.031700\n",
      "152    208179.302411\n",
      "151    210895.726723\n",
      "191    120598.586803\n",
      "105    247141.349159\n",
      "42     275131.172216\n",
      "17      94744.618941\n",
      "5      110404.006150\n",
      "159    190495.912773\n",
      "198    245649.978949\n",
      "48     216648.154678\n",
      "174    198432.132822\n",
      "66     686722.718688\n",
      "172    150926.665297\n",
      "90     235689.756472\n",
      "54     336570.298564\n",
      "Name: max_force, dtype: float64 as keyword args. From version 1.0 (renaming of 0.25) passing these as positional arguments will result in an error\n",
      "  warnings.warn(f\"Pass {args_msg} as keyword args. From version \"\n",
      "d:\\python\\lib\\site-packages\\sklearn\\model_selection\\_validation.py:696: UserWarning: Scoring failed. The score on this train-test partition for these parameters will be set to nan. Details: \n",
      "Traceback (most recent call last):\n",
      "  File \"d:\\python\\lib\\site-packages\\sklearn\\model_selection\\_validation.py\", line 687, in _score\n",
      "    scores = scorer(estimator, X_test, y_test)\n",
      "  File \"d:\\python\\lib\\site-packages\\sklearn\\utils\\validation.py\", line 74, in inner_f\n",
      "    return f(**kwargs)\n",
      "  File \"d:\\python\\lib\\site-packages\\sklearn\\metrics\\_regression.py\", line 676, in r2_score\n",
      "    y_type, y_true, y_pred, multioutput = _check_reg_targets(\n",
      "  File \"d:\\python\\lib\\site-packages\\sklearn\\metrics\\_regression.py\", line 88, in _check_reg_targets\n",
      "    check_consistent_length(y_true, y_pred)\n",
      "  File \"d:\\python\\lib\\site-packages\\sklearn\\utils\\validation.py\", line 316, in check_consistent_length\n",
      "    lengths = [_num_samples(X) for X in arrays if X is not None]\n",
      "  File \"d:\\python\\lib\\site-packages\\sklearn\\utils\\validation.py\", line 316, in <listcomp>\n",
      "    lengths = [_num_samples(X) for X in arrays if X is not None]\n",
      "  File \"d:\\python\\lib\\site-packages\\sklearn\\utils\\validation.py\", line 249, in _num_samples\n",
      "    raise TypeError(message)\n",
      "TypeError: Expected sequence or array-like, got <class 'sklearn.tree._classes.DecisionTreeRegressor'>\n",
      "\n",
      "  warnings.warn(\n",
      "d:\\python\\lib\\site-packages\\sklearn\\utils\\validation.py:70: FutureWarning: Pass sample_weight=197    235370.177141\n",
      "147    242400.922419\n",
      "106    366610.755660\n",
      "99     346690.310707\n",
      "181    162378.257984\n",
      "206    215369.837355\n",
      "12     133605.465567\n",
      "195    100795.320937\n",
      "114    186980.540134\n",
      "189    113791.547057\n",
      "143    235876.177748\n",
      "168    116838.203344\n",
      "110    327036.181862\n",
      "81     371963.709451\n",
      "215    184264.115823\n",
      "179    190828.807910\n",
      "13     122015.388503\n",
      "209    220296.685371\n",
      "82     473137.199263\n",
      "145    228139.694782\n",
      "193    120619.892092\n",
      "45     223093.004516\n",
      "120    281682.548498\n",
      "103    326663.339309\n",
      "36     242427.554030\n",
      "177    188751.542259\n",
      "201    238805.654947\n",
      "167    163091.985156\n",
      "124    268579.795934\n",
      "176    174128.124714\n",
      "214    164135.944304\n",
      "132    288287.188001\n",
      "188    156636.482674\n",
      "Name: max_force, dtype: float64 as keyword args. From version 1.0 (renaming of 0.25) passing these as positional arguments will result in an error\n",
      "  warnings.warn(f\"Pass {args_msg} as keyword args. From version \"\n",
      "d:\\python\\lib\\site-packages\\sklearn\\model_selection\\_validation.py:696: UserWarning: Scoring failed. The score on this train-test partition for these parameters will be set to nan. Details: \n",
      "Traceback (most recent call last):\n",
      "  File \"d:\\python\\lib\\site-packages\\sklearn\\model_selection\\_validation.py\", line 687, in _score\n",
      "    scores = scorer(estimator, X_test, y_test)\n",
      "  File \"d:\\python\\lib\\site-packages\\sklearn\\utils\\validation.py\", line 74, in inner_f\n",
      "    return f(**kwargs)\n",
      "  File \"d:\\python\\lib\\site-packages\\sklearn\\metrics\\_regression.py\", line 676, in r2_score\n",
      "    y_type, y_true, y_pred, multioutput = _check_reg_targets(\n",
      "  File \"d:\\python\\lib\\site-packages\\sklearn\\metrics\\_regression.py\", line 88, in _check_reg_targets\n",
      "    check_consistent_length(y_true, y_pred)\n",
      "  File \"d:\\python\\lib\\site-packages\\sklearn\\utils\\validation.py\", line 316, in check_consistent_length\n",
      "    lengths = [_num_samples(X) for X in arrays if X is not None]\n",
      "  File \"d:\\python\\lib\\site-packages\\sklearn\\utils\\validation.py\", line 316, in <listcomp>\n",
      "    lengths = [_num_samples(X) for X in arrays if X is not None]\n",
      "  File \"d:\\python\\lib\\site-packages\\sklearn\\utils\\validation.py\", line 249, in _num_samples\n",
      "    raise TypeError(message)\n",
      "TypeError: Expected sequence or array-like, got <class 'sklearn.tree._classes.DecisionTreeRegressor'>\n",
      "\n",
      "  warnings.warn(\n",
      "d:\\python\\lib\\site-packages\\sklearn\\utils\\validation.py:70: FutureWarning: Pass sample_weight=75     374067.606713\n",
      "21     317795.012879\n",
      "91     258672.836679\n",
      "166    142276.718076\n",
      "2       18599.517053\n",
      "70     485441.003500\n",
      "85     495880.594973\n",
      "164    180242.742577\n",
      "6      113599.799458\n",
      "182    173531.576630\n",
      "169    135693.383862\n",
      "77     532472.428350\n",
      "113    269645.060371\n",
      "65     432816.940360\n",
      "46     289964.979488\n",
      "74     320697.858467\n",
      "92     254305.252492\n",
      "196     78648.473312\n",
      "87     245942.926669\n",
      "148    218991.736437\n",
      "10     145642.953694\n",
      "32     292468.350913\n",
      "136    277874.228139\n",
      "83     473350.252151\n",
      "170    111170.996544\n",
      "100    226728.219404\n",
      "125    253213.356445\n",
      "23     311030.583710\n",
      "126    200589.293305\n",
      "9      148327.420073\n",
      "185    158607.221881\n",
      "104    258060.309629\n",
      "Name: max_force, dtype: float64 as keyword args. From version 1.0 (renaming of 0.25) passing these as positional arguments will result in an error\n",
      "  warnings.warn(f\"Pass {args_msg} as keyword args. From version \"\n",
      "d:\\python\\lib\\site-packages\\sklearn\\model_selection\\_validation.py:696: UserWarning: Scoring failed. The score on this train-test partition for these parameters will be set to nan. Details: \n",
      "Traceback (most recent call last):\n",
      "  File \"d:\\python\\lib\\site-packages\\sklearn\\model_selection\\_validation.py\", line 687, in _score\n",
      "    scores = scorer(estimator, X_test, y_test)\n",
      "  File \"d:\\python\\lib\\site-packages\\sklearn\\utils\\validation.py\", line 74, in inner_f\n",
      "    return f(**kwargs)\n",
      "  File \"d:\\python\\lib\\site-packages\\sklearn\\metrics\\_regression.py\", line 676, in r2_score\n",
      "    y_type, y_true, y_pred, multioutput = _check_reg_targets(\n",
      "  File \"d:\\python\\lib\\site-packages\\sklearn\\metrics\\_regression.py\", line 88, in _check_reg_targets\n",
      "    check_consistent_length(y_true, y_pred)\n",
      "  File \"d:\\python\\lib\\site-packages\\sklearn\\utils\\validation.py\", line 316, in check_consistent_length\n",
      "    lengths = [_num_samples(X) for X in arrays if X is not None]\n",
      "  File \"d:\\python\\lib\\site-packages\\sklearn\\utils\\validation.py\", line 316, in <listcomp>\n",
      "    lengths = [_num_samples(X) for X in arrays if X is not None]\n",
      "  File \"d:\\python\\lib\\site-packages\\sklearn\\utils\\validation.py\", line 249, in _num_samples\n",
      "    raise TypeError(message)\n",
      "TypeError: Expected sequence or array-like, got <class 'sklearn.tree._classes.DecisionTreeRegressor'>\n",
      "\n",
      "  warnings.warn(\n",
      "d:\\python\\lib\\site-packages\\sklearn\\utils\\validation.py:70: FutureWarning: Pass sample_weight=153    221255.423364\n",
      "165    155624.481460\n",
      "135    290337.822040\n",
      "111    199524.028869\n",
      "212    196248.340728\n",
      "64     481419.630254\n",
      "15     129589.418643\n",
      "41     236834.915741\n",
      "202    237047.968628\n",
      "109    243892.292629\n",
      "80     477717.836338\n",
      "52     199657.186923\n",
      "26     285011.499860\n",
      "76     485387.740278\n",
      "43     350738.315563\n",
      "24     321017.437798\n",
      "3      153738.963408\n",
      "184    182293.376616\n",
      "49     290630.769760\n",
      "149    205915.615485\n",
      "131    372469.710058\n",
      "205    243173.239135\n",
      "30     506959.345107\n",
      "121    310205.003772\n",
      "175    198671.817320\n",
      "115    213665.414257\n",
      "190    141009.053398\n",
      "8       67612.333755\n",
      "60     288313.819612\n",
      "128    242933.554637\n",
      "1       97508.980152\n",
      "57     326929.655418\n",
      "Name: max_force, dtype: float64 as keyword args. From version 1.0 (renaming of 0.25) passing these as positional arguments will result in an error\n",
      "  warnings.warn(f\"Pass {args_msg} as keyword args. From version \"\n",
      "d:\\python\\lib\\site-packages\\sklearn\\model_selection\\_validation.py:696: UserWarning: Scoring failed. The score on this train-test partition for these parameters will be set to nan. Details: \n",
      "Traceback (most recent call last):\n",
      "  File \"d:\\python\\lib\\site-packages\\sklearn\\model_selection\\_validation.py\", line 687, in _score\n",
      "    scores = scorer(estimator, X_test, y_test)\n",
      "  File \"d:\\python\\lib\\site-packages\\sklearn\\utils\\validation.py\", line 74, in inner_f\n",
      "    return f(**kwargs)\n",
      "  File \"d:\\python\\lib\\site-packages\\sklearn\\metrics\\_regression.py\", line 676, in r2_score\n",
      "    y_type, y_true, y_pred, multioutput = _check_reg_targets(\n",
      "  File \"d:\\python\\lib\\site-packages\\sklearn\\metrics\\_regression.py\", line 88, in _check_reg_targets\n",
      "    check_consistent_length(y_true, y_pred)\n",
      "  File \"d:\\python\\lib\\site-packages\\sklearn\\utils\\validation.py\", line 316, in check_consistent_length\n",
      "    lengths = [_num_samples(X) for X in arrays if X is not None]\n",
      "  File \"d:\\python\\lib\\site-packages\\sklearn\\utils\\validation.py\", line 316, in <listcomp>\n",
      "    lengths = [_num_samples(X) for X in arrays if X is not None]\n",
      "  File \"d:\\python\\lib\\site-packages\\sklearn\\utils\\validation.py\", line 249, in _num_samples\n",
      "    raise TypeError(message)\n",
      "TypeError: Expected sequence or array-like, got <class 'sklearn.tree._classes.DecisionTreeRegressor'>\n",
      "\n",
      "  warnings.warn(\n",
      "d:\\python\\lib\\site-packages\\sklearn\\utils\\validation.py:70: FutureWarning: Pass sample_weight=22     503763.551799\n",
      "61     341736.831079\n",
      "63     509196.400423\n",
      "7      166916.284482\n",
      "213    294625.511395\n",
      "141    218459.104219\n",
      "86     276995.384979\n",
      "96     241894.921812\n",
      "68     359952.852935\n",
      "50     311270.268208\n",
      "142    274625.171609\n",
      "157    185196.222204\n",
      "156    204876.982660\n",
      "139    273400.117508\n",
      "146    212440.360156\n",
      "101    244038.766489\n",
      "20     338807.353880\n",
      "178    168002.854207\n",
      "25     329299.868788\n",
      "134    299499.096190\n",
      "71     446399.061919\n",
      "204    211028.884778\n",
      "129    301789.414728\n",
      "144    243652.608131\n",
      "192     86552.735428\n",
      "79     383148.986030\n",
      "133    194970.023405\n",
      "203    235290.282308\n",
      "137    381897.300317\n",
      "72     399234.479014\n",
      "140    284159.288311\n",
      "37     369486.969638\n",
      "Name: max_force, dtype: float64 as keyword args. From version 1.0 (renaming of 0.25) passing these as positional arguments will result in an error\n",
      "  warnings.warn(f\"Pass {args_msg} as keyword args. From version \"\n",
      "d:\\python\\lib\\site-packages\\sklearn\\model_selection\\_validation.py:696: UserWarning: Scoring failed. The score on this train-test partition for these parameters will be set to nan. Details: \n",
      "Traceback (most recent call last):\n",
      "  File \"d:\\python\\lib\\site-packages\\sklearn\\model_selection\\_validation.py\", line 687, in _score\n",
      "    scores = scorer(estimator, X_test, y_test)\n",
      "  File \"d:\\python\\lib\\site-packages\\sklearn\\utils\\validation.py\", line 74, in inner_f\n",
      "    return f(**kwargs)\n",
      "  File \"d:\\python\\lib\\site-packages\\sklearn\\metrics\\_regression.py\", line 676, in r2_score\n",
      "    y_type, y_true, y_pred, multioutput = _check_reg_targets(\n",
      "  File \"d:\\python\\lib\\site-packages\\sklearn\\metrics\\_regression.py\", line 88, in _check_reg_targets\n",
      "    check_consistent_length(y_true, y_pred)\n",
      "  File \"d:\\python\\lib\\site-packages\\sklearn\\utils\\validation.py\", line 316, in check_consistent_length\n",
      "    lengths = [_num_samples(X) for X in arrays if X is not None]\n",
      "  File \"d:\\python\\lib\\site-packages\\sklearn\\utils\\validation.py\", line 316, in <listcomp>\n",
      "    lengths = [_num_samples(X) for X in arrays if X is not None]\n",
      "  File \"d:\\python\\lib\\site-packages\\sklearn\\utils\\validation.py\", line 249, in _num_samples\n",
      "    raise TypeError(message)\n",
      "TypeError: Expected sequence or array-like, got <class 'sklearn.tree._classes.DecisionTreeRegressor'>\n",
      "\n",
      "  warnings.warn(\n",
      "d:\\python\\lib\\site-packages\\sklearn\\utils\\validation.py:70: FutureWarning: Pass sample_weight=150    214331.204530\n",
      "123    261975.156431\n",
      "163    224025.110897\n",
      "108    238938.813002\n",
      "158    212040.885992\n",
      "207    198725.080542\n",
      "161    174362.482890\n",
      "130    278007.386193\n",
      "116    201707.820963\n",
      "73     569330.577837\n",
      "14     104236.125066\n",
      "138    191587.808820\n",
      "122    282055.391050\n",
      "56     304718.891927\n",
      "186    121077.955799\n",
      "55     391671.101518\n",
      "88     290710.664593\n",
      "53     333481.031700\n",
      "152    208179.302411\n",
      "151    210895.726723\n",
      "191    120598.586803\n",
      "105    247141.349159\n",
      "42     275131.172216\n",
      "17      94744.618941\n",
      "5      110404.006150\n",
      "159    190495.912773\n",
      "198    245649.978949\n",
      "48     216648.154678\n",
      "174    198432.132822\n",
      "66     686722.718688\n",
      "172    150926.665297\n",
      "90     235689.756472\n",
      "54     336570.298564\n",
      "Name: max_force, dtype: float64 as keyword args. From version 1.0 (renaming of 0.25) passing these as positional arguments will result in an error\n",
      "  warnings.warn(f\"Pass {args_msg} as keyword args. From version \"\n",
      "d:\\python\\lib\\site-packages\\sklearn\\model_selection\\_validation.py:696: UserWarning: Scoring failed. The score on this train-test partition for these parameters will be set to nan. Details: \n",
      "Traceback (most recent call last):\n",
      "  File \"d:\\python\\lib\\site-packages\\sklearn\\model_selection\\_validation.py\", line 687, in _score\n",
      "    scores = scorer(estimator, X_test, y_test)\n",
      "  File \"d:\\python\\lib\\site-packages\\sklearn\\utils\\validation.py\", line 74, in inner_f\n",
      "    return f(**kwargs)\n",
      "  File \"d:\\python\\lib\\site-packages\\sklearn\\metrics\\_regression.py\", line 676, in r2_score\n",
      "    y_type, y_true, y_pred, multioutput = _check_reg_targets(\n",
      "  File \"d:\\python\\lib\\site-packages\\sklearn\\metrics\\_regression.py\", line 88, in _check_reg_targets\n",
      "    check_consistent_length(y_true, y_pred)\n",
      "  File \"d:\\python\\lib\\site-packages\\sklearn\\utils\\validation.py\", line 316, in check_consistent_length\n",
      "    lengths = [_num_samples(X) for X in arrays if X is not None]\n",
      "  File \"d:\\python\\lib\\site-packages\\sklearn\\utils\\validation.py\", line 316, in <listcomp>\n",
      "    lengths = [_num_samples(X) for X in arrays if X is not None]\n",
      "  File \"d:\\python\\lib\\site-packages\\sklearn\\utils\\validation.py\", line 249, in _num_samples\n",
      "    raise TypeError(message)\n",
      "TypeError: Expected sequence or array-like, got <class 'sklearn.tree._classes.DecisionTreeRegressor'>\n",
      "\n",
      "  warnings.warn(\n",
      "d:\\python\\lib\\site-packages\\sklearn\\utils\\validation.py:70: FutureWarning: Pass sample_weight=197    235370.177141\n",
      "147    242400.922419\n",
      "106    366610.755660\n",
      "99     346690.310707\n",
      "181    162378.257984\n",
      "206    215369.837355\n",
      "12     133605.465567\n",
      "195    100795.320937\n",
      "114    186980.540134\n",
      "189    113791.547057\n",
      "143    235876.177748\n",
      "168    116838.203344\n",
      "110    327036.181862\n",
      "81     371963.709451\n",
      "215    184264.115823\n",
      "179    190828.807910\n",
      "13     122015.388503\n",
      "209    220296.685371\n",
      "82     473137.199263\n",
      "145    228139.694782\n",
      "193    120619.892092\n",
      "45     223093.004516\n",
      "120    281682.548498\n",
      "103    326663.339309\n",
      "36     242427.554030\n",
      "177    188751.542259\n",
      "201    238805.654947\n",
      "167    163091.985156\n",
      "124    268579.795934\n",
      "176    174128.124714\n",
      "214    164135.944304\n",
      "132    288287.188001\n",
      "188    156636.482674\n",
      "Name: max_force, dtype: float64 as keyword args. From version 1.0 (renaming of 0.25) passing these as positional arguments will result in an error\n",
      "  warnings.warn(f\"Pass {args_msg} as keyword args. From version \"\n",
      "d:\\python\\lib\\site-packages\\sklearn\\model_selection\\_validation.py:696: UserWarning: Scoring failed. The score on this train-test partition for these parameters will be set to nan. Details: \n",
      "Traceback (most recent call last):\n",
      "  File \"d:\\python\\lib\\site-packages\\sklearn\\model_selection\\_validation.py\", line 687, in _score\n",
      "    scores = scorer(estimator, X_test, y_test)\n",
      "  File \"d:\\python\\lib\\site-packages\\sklearn\\utils\\validation.py\", line 74, in inner_f\n",
      "    return f(**kwargs)\n",
      "  File \"d:\\python\\lib\\site-packages\\sklearn\\metrics\\_regression.py\", line 676, in r2_score\n",
      "    y_type, y_true, y_pred, multioutput = _check_reg_targets(\n",
      "  File \"d:\\python\\lib\\site-packages\\sklearn\\metrics\\_regression.py\", line 88, in _check_reg_targets\n",
      "    check_consistent_length(y_true, y_pred)\n",
      "  File \"d:\\python\\lib\\site-packages\\sklearn\\utils\\validation.py\", line 316, in check_consistent_length\n",
      "    lengths = [_num_samples(X) for X in arrays if X is not None]\n",
      "  File \"d:\\python\\lib\\site-packages\\sklearn\\utils\\validation.py\", line 316, in <listcomp>\n",
      "    lengths = [_num_samples(X) for X in arrays if X is not None]\n",
      "  File \"d:\\python\\lib\\site-packages\\sklearn\\utils\\validation.py\", line 249, in _num_samples\n",
      "    raise TypeError(message)\n",
      "TypeError: Expected sequence or array-like, got <class 'sklearn.tree._classes.DecisionTreeRegressor'>\n",
      "\n",
      "  warnings.warn(\n",
      "d:\\python\\lib\\site-packages\\sklearn\\utils\\validation.py:70: FutureWarning: Pass sample_weight=75     374067.606713\n",
      "21     317795.012879\n",
      "91     258672.836679\n",
      "166    142276.718076\n",
      "2       18599.517053\n",
      "70     485441.003500\n",
      "85     495880.594973\n",
      "164    180242.742577\n",
      "6      113599.799458\n",
      "182    173531.576630\n",
      "169    135693.383862\n",
      "77     532472.428350\n",
      "113    269645.060371\n",
      "65     432816.940360\n",
      "46     289964.979488\n",
      "74     320697.858467\n",
      "92     254305.252492\n",
      "196     78648.473312\n",
      "87     245942.926669\n",
      "148    218991.736437\n",
      "10     145642.953694\n",
      "32     292468.350913\n",
      "136    277874.228139\n",
      "83     473350.252151\n",
      "170    111170.996544\n",
      "100    226728.219404\n",
      "125    253213.356445\n",
      "23     311030.583710\n",
      "126    200589.293305\n",
      "9      148327.420073\n",
      "185    158607.221881\n",
      "104    258060.309629\n",
      "Name: max_force, dtype: float64 as keyword args. From version 1.0 (renaming of 0.25) passing these as positional arguments will result in an error\n",
      "  warnings.warn(f\"Pass {args_msg} as keyword args. From version \"\n",
      "d:\\python\\lib\\site-packages\\sklearn\\model_selection\\_validation.py:696: UserWarning: Scoring failed. The score on this train-test partition for these parameters will be set to nan. Details: \n",
      "Traceback (most recent call last):\n",
      "  File \"d:\\python\\lib\\site-packages\\sklearn\\model_selection\\_validation.py\", line 687, in _score\n",
      "    scores = scorer(estimator, X_test, y_test)\n",
      "  File \"d:\\python\\lib\\site-packages\\sklearn\\utils\\validation.py\", line 74, in inner_f\n",
      "    return f(**kwargs)\n",
      "  File \"d:\\python\\lib\\site-packages\\sklearn\\metrics\\_regression.py\", line 676, in r2_score\n",
      "    y_type, y_true, y_pred, multioutput = _check_reg_targets(\n",
      "  File \"d:\\python\\lib\\site-packages\\sklearn\\metrics\\_regression.py\", line 88, in _check_reg_targets\n",
      "    check_consistent_length(y_true, y_pred)\n",
      "  File \"d:\\python\\lib\\site-packages\\sklearn\\utils\\validation.py\", line 316, in check_consistent_length\n",
      "    lengths = [_num_samples(X) for X in arrays if X is not None]\n",
      "  File \"d:\\python\\lib\\site-packages\\sklearn\\utils\\validation.py\", line 316, in <listcomp>\n",
      "    lengths = [_num_samples(X) for X in arrays if X is not None]\n",
      "  File \"d:\\python\\lib\\site-packages\\sklearn\\utils\\validation.py\", line 249, in _num_samples\n",
      "    raise TypeError(message)\n",
      "TypeError: Expected sequence or array-like, got <class 'sklearn.tree._classes.DecisionTreeRegressor'>\n",
      "\n",
      "  warnings.warn(\n",
      "d:\\python\\lib\\site-packages\\sklearn\\utils\\validation.py:70: FutureWarning: Pass sample_weight=153    221255.423364\n",
      "165    155624.481460\n",
      "135    290337.822040\n",
      "111    199524.028869\n",
      "212    196248.340728\n",
      "64     481419.630254\n",
      "15     129589.418643\n",
      "41     236834.915741\n",
      "202    237047.968628\n",
      "109    243892.292629\n",
      "80     477717.836338\n",
      "52     199657.186923\n",
      "26     285011.499860\n",
      "76     485387.740278\n",
      "43     350738.315563\n",
      "24     321017.437798\n",
      "3      153738.963408\n",
      "184    182293.376616\n",
      "49     290630.769760\n",
      "149    205915.615485\n",
      "131    372469.710058\n",
      "205    243173.239135\n",
      "30     506959.345107\n",
      "121    310205.003772\n",
      "175    198671.817320\n",
      "115    213665.414257\n",
      "190    141009.053398\n",
      "8       67612.333755\n",
      "60     288313.819612\n",
      "128    242933.554637\n",
      "1       97508.980152\n",
      "57     326929.655418\n",
      "Name: max_force, dtype: float64 as keyword args. From version 1.0 (renaming of 0.25) passing these as positional arguments will result in an error\n",
      "  warnings.warn(f\"Pass {args_msg} as keyword args. From version \"\n",
      "d:\\python\\lib\\site-packages\\sklearn\\model_selection\\_validation.py:696: UserWarning: Scoring failed. The score on this train-test partition for these parameters will be set to nan. Details: \n",
      "Traceback (most recent call last):\n",
      "  File \"d:\\python\\lib\\site-packages\\sklearn\\model_selection\\_validation.py\", line 687, in _score\n",
      "    scores = scorer(estimator, X_test, y_test)\n",
      "  File \"d:\\python\\lib\\site-packages\\sklearn\\utils\\validation.py\", line 74, in inner_f\n",
      "    return f(**kwargs)\n",
      "  File \"d:\\python\\lib\\site-packages\\sklearn\\metrics\\_regression.py\", line 676, in r2_score\n",
      "    y_type, y_true, y_pred, multioutput = _check_reg_targets(\n",
      "  File \"d:\\python\\lib\\site-packages\\sklearn\\metrics\\_regression.py\", line 88, in _check_reg_targets\n",
      "    check_consistent_length(y_true, y_pred)\n",
      "  File \"d:\\python\\lib\\site-packages\\sklearn\\utils\\validation.py\", line 316, in check_consistent_length\n",
      "    lengths = [_num_samples(X) for X in arrays if X is not None]\n",
      "  File \"d:\\python\\lib\\site-packages\\sklearn\\utils\\validation.py\", line 316, in <listcomp>\n",
      "    lengths = [_num_samples(X) for X in arrays if X is not None]\n",
      "  File \"d:\\python\\lib\\site-packages\\sklearn\\utils\\validation.py\", line 249, in _num_samples\n",
      "    raise TypeError(message)\n",
      "TypeError: Expected sequence or array-like, got <class 'sklearn.tree._classes.DecisionTreeRegressor'>\n",
      "\n",
      "  warnings.warn(\n",
      "d:\\python\\lib\\site-packages\\sklearn\\utils\\validation.py:70: FutureWarning: Pass sample_weight=22     503763.551799\n",
      "61     341736.831079\n",
      "63     509196.400423\n",
      "7      166916.284482\n",
      "213    294625.511395\n",
      "141    218459.104219\n",
      "86     276995.384979\n",
      "96     241894.921812\n",
      "68     359952.852935\n",
      "50     311270.268208\n",
      "142    274625.171609\n",
      "157    185196.222204\n",
      "156    204876.982660\n",
      "139    273400.117508\n",
      "146    212440.360156\n",
      "101    244038.766489\n",
      "20     338807.353880\n",
      "178    168002.854207\n",
      "25     329299.868788\n",
      "134    299499.096190\n",
      "71     446399.061919\n",
      "204    211028.884778\n",
      "129    301789.414728\n",
      "144    243652.608131\n",
      "192     86552.735428\n",
      "79     383148.986030\n",
      "133    194970.023405\n",
      "203    235290.282308\n",
      "137    381897.300317\n",
      "72     399234.479014\n",
      "140    284159.288311\n",
      "37     369486.969638\n",
      "Name: max_force, dtype: float64 as keyword args. From version 1.0 (renaming of 0.25) passing these as positional arguments will result in an error\n",
      "  warnings.warn(f\"Pass {args_msg} as keyword args. From version \"\n",
      "d:\\python\\lib\\site-packages\\sklearn\\model_selection\\_validation.py:696: UserWarning: Scoring failed. The score on this train-test partition for these parameters will be set to nan. Details: \n",
      "Traceback (most recent call last):\n",
      "  File \"d:\\python\\lib\\site-packages\\sklearn\\model_selection\\_validation.py\", line 687, in _score\n",
      "    scores = scorer(estimator, X_test, y_test)\n",
      "  File \"d:\\python\\lib\\site-packages\\sklearn\\utils\\validation.py\", line 74, in inner_f\n",
      "    return f(**kwargs)\n",
      "  File \"d:\\python\\lib\\site-packages\\sklearn\\metrics\\_regression.py\", line 676, in r2_score\n",
      "    y_type, y_true, y_pred, multioutput = _check_reg_targets(\n",
      "  File \"d:\\python\\lib\\site-packages\\sklearn\\metrics\\_regression.py\", line 88, in _check_reg_targets\n",
      "    check_consistent_length(y_true, y_pred)\n",
      "  File \"d:\\python\\lib\\site-packages\\sklearn\\utils\\validation.py\", line 316, in check_consistent_length\n",
      "    lengths = [_num_samples(X) for X in arrays if X is not None]\n",
      "  File \"d:\\python\\lib\\site-packages\\sklearn\\utils\\validation.py\", line 316, in <listcomp>\n",
      "    lengths = [_num_samples(X) for X in arrays if X is not None]\n",
      "  File \"d:\\python\\lib\\site-packages\\sklearn\\utils\\validation.py\", line 249, in _num_samples\n",
      "    raise TypeError(message)\n",
      "TypeError: Expected sequence or array-like, got <class 'sklearn.tree._classes.DecisionTreeRegressor'>\n",
      "\n",
      "  warnings.warn(\n",
      "d:\\python\\lib\\site-packages\\sklearn\\utils\\validation.py:70: FutureWarning: Pass sample_weight=150    214331.204530\n",
      "123    261975.156431\n",
      "163    224025.110897\n",
      "108    238938.813002\n",
      "158    212040.885992\n",
      "207    198725.080542\n",
      "161    174362.482890\n",
      "130    278007.386193\n",
      "116    201707.820963\n",
      "73     569330.577837\n",
      "14     104236.125066\n",
      "138    191587.808820\n",
      "122    282055.391050\n",
      "56     304718.891927\n",
      "186    121077.955799\n",
      "55     391671.101518\n",
      "88     290710.664593\n",
      "53     333481.031700\n",
      "152    208179.302411\n",
      "151    210895.726723\n",
      "191    120598.586803\n",
      "105    247141.349159\n",
      "42     275131.172216\n",
      "17      94744.618941\n",
      "5      110404.006150\n",
      "159    190495.912773\n",
      "198    245649.978949\n",
      "48     216648.154678\n",
      "174    198432.132822\n",
      "66     686722.718688\n",
      "172    150926.665297\n",
      "90     235689.756472\n",
      "54     336570.298564\n",
      "Name: max_force, dtype: float64 as keyword args. From version 1.0 (renaming of 0.25) passing these as positional arguments will result in an error\n",
      "  warnings.warn(f\"Pass {args_msg} as keyword args. From version \"\n",
      "d:\\python\\lib\\site-packages\\sklearn\\model_selection\\_validation.py:696: UserWarning: Scoring failed. The score on this train-test partition for these parameters will be set to nan. Details: \n",
      "Traceback (most recent call last):\n",
      "  File \"d:\\python\\lib\\site-packages\\sklearn\\model_selection\\_validation.py\", line 687, in _score\n",
      "    scores = scorer(estimator, X_test, y_test)\n",
      "  File \"d:\\python\\lib\\site-packages\\sklearn\\utils\\validation.py\", line 74, in inner_f\n",
      "    return f(**kwargs)\n",
      "  File \"d:\\python\\lib\\site-packages\\sklearn\\metrics\\_regression.py\", line 676, in r2_score\n",
      "    y_type, y_true, y_pred, multioutput = _check_reg_targets(\n",
      "  File \"d:\\python\\lib\\site-packages\\sklearn\\metrics\\_regression.py\", line 88, in _check_reg_targets\n",
      "    check_consistent_length(y_true, y_pred)\n",
      "  File \"d:\\python\\lib\\site-packages\\sklearn\\utils\\validation.py\", line 316, in check_consistent_length\n",
      "    lengths = [_num_samples(X) for X in arrays if X is not None]\n",
      "  File \"d:\\python\\lib\\site-packages\\sklearn\\utils\\validation.py\", line 316, in <listcomp>\n",
      "    lengths = [_num_samples(X) for X in arrays if X is not None]\n",
      "  File \"d:\\python\\lib\\site-packages\\sklearn\\utils\\validation.py\", line 249, in _num_samples\n",
      "    raise TypeError(message)\n",
      "TypeError: Expected sequence or array-like, got <class 'sklearn.tree._classes.DecisionTreeRegressor'>\n",
      "\n",
      "  warnings.warn(\n",
      "d:\\python\\lib\\site-packages\\sklearn\\utils\\validation.py:70: FutureWarning: Pass sample_weight=197    235370.177141\n",
      "147    242400.922419\n",
      "106    366610.755660\n",
      "99     346690.310707\n",
      "181    162378.257984\n",
      "206    215369.837355\n",
      "12     133605.465567\n",
      "195    100795.320937\n",
      "114    186980.540134\n",
      "189    113791.547057\n",
      "143    235876.177748\n",
      "168    116838.203344\n",
      "110    327036.181862\n",
      "81     371963.709451\n",
      "215    184264.115823\n",
      "179    190828.807910\n",
      "13     122015.388503\n",
      "209    220296.685371\n",
      "82     473137.199263\n",
      "145    228139.694782\n",
      "193    120619.892092\n",
      "45     223093.004516\n",
      "120    281682.548498\n",
      "103    326663.339309\n",
      "36     242427.554030\n",
      "177    188751.542259\n",
      "201    238805.654947\n",
      "167    163091.985156\n",
      "124    268579.795934\n",
      "176    174128.124714\n",
      "214    164135.944304\n",
      "132    288287.188001\n",
      "188    156636.482674\n",
      "Name: max_force, dtype: float64 as keyword args. From version 1.0 (renaming of 0.25) passing these as positional arguments will result in an error\n",
      "  warnings.warn(f\"Pass {args_msg} as keyword args. From version \"\n",
      "d:\\python\\lib\\site-packages\\sklearn\\model_selection\\_validation.py:696: UserWarning: Scoring failed. The score on this train-test partition for these parameters will be set to nan. Details: \n",
      "Traceback (most recent call last):\n",
      "  File \"d:\\python\\lib\\site-packages\\sklearn\\model_selection\\_validation.py\", line 687, in _score\n",
      "    scores = scorer(estimator, X_test, y_test)\n",
      "  File \"d:\\python\\lib\\site-packages\\sklearn\\utils\\validation.py\", line 74, in inner_f\n",
      "    return f(**kwargs)\n",
      "  File \"d:\\python\\lib\\site-packages\\sklearn\\metrics\\_regression.py\", line 676, in r2_score\n",
      "    y_type, y_true, y_pred, multioutput = _check_reg_targets(\n",
      "  File \"d:\\python\\lib\\site-packages\\sklearn\\metrics\\_regression.py\", line 88, in _check_reg_targets\n",
      "    check_consistent_length(y_true, y_pred)\n",
      "  File \"d:\\python\\lib\\site-packages\\sklearn\\utils\\validation.py\", line 316, in check_consistent_length\n",
      "    lengths = [_num_samples(X) for X in arrays if X is not None]\n",
      "  File \"d:\\python\\lib\\site-packages\\sklearn\\utils\\validation.py\", line 316, in <listcomp>\n",
      "    lengths = [_num_samples(X) for X in arrays if X is not None]\n",
      "  File \"d:\\python\\lib\\site-packages\\sklearn\\utils\\validation.py\", line 249, in _num_samples\n",
      "    raise TypeError(message)\n",
      "TypeError: Expected sequence or array-like, got <class 'sklearn.tree._classes.DecisionTreeRegressor'>\n",
      "\n",
      "  warnings.warn(\n",
      "d:\\python\\lib\\site-packages\\sklearn\\utils\\validation.py:70: FutureWarning: Pass sample_weight=75     374067.606713\n",
      "21     317795.012879\n",
      "91     258672.836679\n",
      "166    142276.718076\n",
      "2       18599.517053\n",
      "70     485441.003500\n",
      "85     495880.594973\n",
      "164    180242.742577\n",
      "6      113599.799458\n",
      "182    173531.576630\n",
      "169    135693.383862\n",
      "77     532472.428350\n",
      "113    269645.060371\n",
      "65     432816.940360\n",
      "46     289964.979488\n",
      "74     320697.858467\n",
      "92     254305.252492\n",
      "196     78648.473312\n",
      "87     245942.926669\n",
      "148    218991.736437\n",
      "10     145642.953694\n",
      "32     292468.350913\n",
      "136    277874.228139\n",
      "83     473350.252151\n",
      "170    111170.996544\n",
      "100    226728.219404\n",
      "125    253213.356445\n",
      "23     311030.583710\n",
      "126    200589.293305\n",
      "9      148327.420073\n",
      "185    158607.221881\n",
      "104    258060.309629\n",
      "Name: max_force, dtype: float64 as keyword args. From version 1.0 (renaming of 0.25) passing these as positional arguments will result in an error\n",
      "  warnings.warn(f\"Pass {args_msg} as keyword args. From version \"\n",
      "d:\\python\\lib\\site-packages\\sklearn\\model_selection\\_validation.py:696: UserWarning: Scoring failed. The score on this train-test partition for these parameters will be set to nan. Details: \n",
      "Traceback (most recent call last):\n",
      "  File \"d:\\python\\lib\\site-packages\\sklearn\\model_selection\\_validation.py\", line 687, in _score\n",
      "    scores = scorer(estimator, X_test, y_test)\n",
      "  File \"d:\\python\\lib\\site-packages\\sklearn\\utils\\validation.py\", line 74, in inner_f\n",
      "    return f(**kwargs)\n",
      "  File \"d:\\python\\lib\\site-packages\\sklearn\\metrics\\_regression.py\", line 676, in r2_score\n",
      "    y_type, y_true, y_pred, multioutput = _check_reg_targets(\n",
      "  File \"d:\\python\\lib\\site-packages\\sklearn\\metrics\\_regression.py\", line 88, in _check_reg_targets\n",
      "    check_consistent_length(y_true, y_pred)\n",
      "  File \"d:\\python\\lib\\site-packages\\sklearn\\utils\\validation.py\", line 316, in check_consistent_length\n",
      "    lengths = [_num_samples(X) for X in arrays if X is not None]\n",
      "  File \"d:\\python\\lib\\site-packages\\sklearn\\utils\\validation.py\", line 316, in <listcomp>\n",
      "    lengths = [_num_samples(X) for X in arrays if X is not None]\n",
      "  File \"d:\\python\\lib\\site-packages\\sklearn\\utils\\validation.py\", line 249, in _num_samples\n",
      "    raise TypeError(message)\n",
      "TypeError: Expected sequence or array-like, got <class 'sklearn.tree._classes.DecisionTreeRegressor'>\n",
      "\n",
      "  warnings.warn(\n",
      "d:\\python\\lib\\site-packages\\sklearn\\utils\\validation.py:70: FutureWarning: Pass sample_weight=153    221255.423364\n",
      "165    155624.481460\n",
      "135    290337.822040\n",
      "111    199524.028869\n",
      "212    196248.340728\n",
      "64     481419.630254\n",
      "15     129589.418643\n",
      "41     236834.915741\n",
      "202    237047.968628\n",
      "109    243892.292629\n",
      "80     477717.836338\n",
      "52     199657.186923\n",
      "26     285011.499860\n",
      "76     485387.740278\n",
      "43     350738.315563\n",
      "24     321017.437798\n",
      "3      153738.963408\n",
      "184    182293.376616\n",
      "49     290630.769760\n",
      "149    205915.615485\n",
      "131    372469.710058\n",
      "205    243173.239135\n",
      "30     506959.345107\n",
      "121    310205.003772\n",
      "175    198671.817320\n",
      "115    213665.414257\n",
      "190    141009.053398\n",
      "8       67612.333755\n",
      "60     288313.819612\n",
      "128    242933.554637\n",
      "1       97508.980152\n",
      "57     326929.655418\n",
      "Name: max_force, dtype: float64 as keyword args. From version 1.0 (renaming of 0.25) passing these as positional arguments will result in an error\n",
      "  warnings.warn(f\"Pass {args_msg} as keyword args. From version \"\n",
      "d:\\python\\lib\\site-packages\\sklearn\\model_selection\\_validation.py:696: UserWarning: Scoring failed. The score on this train-test partition for these parameters will be set to nan. Details: \n",
      "Traceback (most recent call last):\n",
      "  File \"d:\\python\\lib\\site-packages\\sklearn\\model_selection\\_validation.py\", line 687, in _score\n",
      "    scores = scorer(estimator, X_test, y_test)\n",
      "  File \"d:\\python\\lib\\site-packages\\sklearn\\utils\\validation.py\", line 74, in inner_f\n",
      "    return f(**kwargs)\n",
      "  File \"d:\\python\\lib\\site-packages\\sklearn\\metrics\\_regression.py\", line 676, in r2_score\n",
      "    y_type, y_true, y_pred, multioutput = _check_reg_targets(\n",
      "  File \"d:\\python\\lib\\site-packages\\sklearn\\metrics\\_regression.py\", line 88, in _check_reg_targets\n",
      "    check_consistent_length(y_true, y_pred)\n",
      "  File \"d:\\python\\lib\\site-packages\\sklearn\\utils\\validation.py\", line 316, in check_consistent_length\n",
      "    lengths = [_num_samples(X) for X in arrays if X is not None]\n",
      "  File \"d:\\python\\lib\\site-packages\\sklearn\\utils\\validation.py\", line 316, in <listcomp>\n",
      "    lengths = [_num_samples(X) for X in arrays if X is not None]\n",
      "  File \"d:\\python\\lib\\site-packages\\sklearn\\utils\\validation.py\", line 249, in _num_samples\n",
      "    raise TypeError(message)\n",
      "TypeError: Expected sequence or array-like, got <class 'sklearn.tree._classes.DecisionTreeRegressor'>\n",
      "\n",
      "  warnings.warn(\n",
      "d:\\python\\lib\\site-packages\\sklearn\\utils\\validation.py:70: FutureWarning: Pass sample_weight=22     503763.551799\n",
      "61     341736.831079\n",
      "63     509196.400423\n",
      "7      166916.284482\n",
      "213    294625.511395\n",
      "141    218459.104219\n",
      "86     276995.384979\n",
      "96     241894.921812\n",
      "68     359952.852935\n",
      "50     311270.268208\n",
      "142    274625.171609\n",
      "157    185196.222204\n",
      "156    204876.982660\n",
      "139    273400.117508\n",
      "146    212440.360156\n",
      "101    244038.766489\n",
      "20     338807.353880\n",
      "178    168002.854207\n",
      "25     329299.868788\n",
      "134    299499.096190\n",
      "71     446399.061919\n",
      "204    211028.884778\n",
      "129    301789.414728\n",
      "144    243652.608131\n",
      "192     86552.735428\n",
      "79     383148.986030\n",
      "133    194970.023405\n",
      "203    235290.282308\n",
      "137    381897.300317\n",
      "72     399234.479014\n",
      "140    284159.288311\n",
      "37     369486.969638\n",
      "Name: max_force, dtype: float64 as keyword args. From version 1.0 (renaming of 0.25) passing these as positional arguments will result in an error\n",
      "  warnings.warn(f\"Pass {args_msg} as keyword args. From version \"\n",
      "d:\\python\\lib\\site-packages\\sklearn\\model_selection\\_validation.py:696: UserWarning: Scoring failed. The score on this train-test partition for these parameters will be set to nan. Details: \n",
      "Traceback (most recent call last):\n",
      "  File \"d:\\python\\lib\\site-packages\\sklearn\\model_selection\\_validation.py\", line 687, in _score\n",
      "    scores = scorer(estimator, X_test, y_test)\n",
      "  File \"d:\\python\\lib\\site-packages\\sklearn\\utils\\validation.py\", line 74, in inner_f\n",
      "    return f(**kwargs)\n",
      "  File \"d:\\python\\lib\\site-packages\\sklearn\\metrics\\_regression.py\", line 676, in r2_score\n",
      "    y_type, y_true, y_pred, multioutput = _check_reg_targets(\n",
      "  File \"d:\\python\\lib\\site-packages\\sklearn\\metrics\\_regression.py\", line 88, in _check_reg_targets\n",
      "    check_consistent_length(y_true, y_pred)\n",
      "  File \"d:\\python\\lib\\site-packages\\sklearn\\utils\\validation.py\", line 316, in check_consistent_length\n",
      "    lengths = [_num_samples(X) for X in arrays if X is not None]\n",
      "  File \"d:\\python\\lib\\site-packages\\sklearn\\utils\\validation.py\", line 316, in <listcomp>\n",
      "    lengths = [_num_samples(X) for X in arrays if X is not None]\n",
      "  File \"d:\\python\\lib\\site-packages\\sklearn\\utils\\validation.py\", line 249, in _num_samples\n",
      "    raise TypeError(message)\n",
      "TypeError: Expected sequence or array-like, got <class 'sklearn.tree._classes.DecisionTreeRegressor'>\n",
      "\n",
      "  warnings.warn(\n",
      "d:\\python\\lib\\site-packages\\sklearn\\utils\\validation.py:70: FutureWarning: Pass sample_weight=150    214331.204530\n",
      "123    261975.156431\n",
      "163    224025.110897\n",
      "108    238938.813002\n",
      "158    212040.885992\n",
      "207    198725.080542\n",
      "161    174362.482890\n",
      "130    278007.386193\n",
      "116    201707.820963\n",
      "73     569330.577837\n",
      "14     104236.125066\n",
      "138    191587.808820\n",
      "122    282055.391050\n",
      "56     304718.891927\n",
      "186    121077.955799\n",
      "55     391671.101518\n",
      "88     290710.664593\n",
      "53     333481.031700\n",
      "152    208179.302411\n",
      "151    210895.726723\n",
      "191    120598.586803\n",
      "105    247141.349159\n",
      "42     275131.172216\n",
      "17      94744.618941\n",
      "5      110404.006150\n",
      "159    190495.912773\n",
      "198    245649.978949\n",
      "48     216648.154678\n",
      "174    198432.132822\n",
      "66     686722.718688\n",
      "172    150926.665297\n",
      "90     235689.756472\n",
      "54     336570.298564\n",
      "Name: max_force, dtype: float64 as keyword args. From version 1.0 (renaming of 0.25) passing these as positional arguments will result in an error\n",
      "  warnings.warn(f\"Pass {args_msg} as keyword args. From version \"\n",
      "d:\\python\\lib\\site-packages\\sklearn\\model_selection\\_validation.py:696: UserWarning: Scoring failed. The score on this train-test partition for these parameters will be set to nan. Details: \n",
      "Traceback (most recent call last):\n",
      "  File \"d:\\python\\lib\\site-packages\\sklearn\\model_selection\\_validation.py\", line 687, in _score\n",
      "    scores = scorer(estimator, X_test, y_test)\n",
      "  File \"d:\\python\\lib\\site-packages\\sklearn\\utils\\validation.py\", line 74, in inner_f\n",
      "    return f(**kwargs)\n",
      "  File \"d:\\python\\lib\\site-packages\\sklearn\\metrics\\_regression.py\", line 676, in r2_score\n",
      "    y_type, y_true, y_pred, multioutput = _check_reg_targets(\n",
      "  File \"d:\\python\\lib\\site-packages\\sklearn\\metrics\\_regression.py\", line 88, in _check_reg_targets\n",
      "    check_consistent_length(y_true, y_pred)\n",
      "  File \"d:\\python\\lib\\site-packages\\sklearn\\utils\\validation.py\", line 316, in check_consistent_length\n",
      "    lengths = [_num_samples(X) for X in arrays if X is not None]\n",
      "  File \"d:\\python\\lib\\site-packages\\sklearn\\utils\\validation.py\", line 316, in <listcomp>\n",
      "    lengths = [_num_samples(X) for X in arrays if X is not None]\n",
      "  File \"d:\\python\\lib\\site-packages\\sklearn\\utils\\validation.py\", line 249, in _num_samples\n",
      "    raise TypeError(message)\n",
      "TypeError: Expected sequence or array-like, got <class 'sklearn.tree._classes.DecisionTreeRegressor'>\n",
      "\n",
      "  warnings.warn(\n",
      "d:\\python\\lib\\site-packages\\sklearn\\utils\\validation.py:70: FutureWarning: Pass sample_weight=197    235370.177141\n",
      "147    242400.922419\n",
      "106    366610.755660\n",
      "99     346690.310707\n",
      "181    162378.257984\n",
      "206    215369.837355\n",
      "12     133605.465567\n",
      "195    100795.320937\n",
      "114    186980.540134\n",
      "189    113791.547057\n",
      "143    235876.177748\n",
      "168    116838.203344\n",
      "110    327036.181862\n",
      "81     371963.709451\n",
      "215    184264.115823\n",
      "179    190828.807910\n",
      "13     122015.388503\n",
      "209    220296.685371\n",
      "82     473137.199263\n",
      "145    228139.694782\n",
      "193    120619.892092\n",
      "45     223093.004516\n",
      "120    281682.548498\n",
      "103    326663.339309\n",
      "36     242427.554030\n",
      "177    188751.542259\n",
      "201    238805.654947\n",
      "167    163091.985156\n",
      "124    268579.795934\n",
      "176    174128.124714\n",
      "214    164135.944304\n",
      "132    288287.188001\n",
      "188    156636.482674\n",
      "Name: max_force, dtype: float64 as keyword args. From version 1.0 (renaming of 0.25) passing these as positional arguments will result in an error\n",
      "  warnings.warn(f\"Pass {args_msg} as keyword args. From version \"\n",
      "d:\\python\\lib\\site-packages\\sklearn\\model_selection\\_validation.py:696: UserWarning: Scoring failed. The score on this train-test partition for these parameters will be set to nan. Details: \n",
      "Traceback (most recent call last):\n",
      "  File \"d:\\python\\lib\\site-packages\\sklearn\\model_selection\\_validation.py\", line 687, in _score\n",
      "    scores = scorer(estimator, X_test, y_test)\n",
      "  File \"d:\\python\\lib\\site-packages\\sklearn\\utils\\validation.py\", line 74, in inner_f\n",
      "    return f(**kwargs)\n",
      "  File \"d:\\python\\lib\\site-packages\\sklearn\\metrics\\_regression.py\", line 676, in r2_score\n",
      "    y_type, y_true, y_pred, multioutput = _check_reg_targets(\n",
      "  File \"d:\\python\\lib\\site-packages\\sklearn\\metrics\\_regression.py\", line 88, in _check_reg_targets\n",
      "    check_consistent_length(y_true, y_pred)\n",
      "  File \"d:\\python\\lib\\site-packages\\sklearn\\utils\\validation.py\", line 316, in check_consistent_length\n",
      "    lengths = [_num_samples(X) for X in arrays if X is not None]\n",
      "  File \"d:\\python\\lib\\site-packages\\sklearn\\utils\\validation.py\", line 316, in <listcomp>\n",
      "    lengths = [_num_samples(X) for X in arrays if X is not None]\n",
      "  File \"d:\\python\\lib\\site-packages\\sklearn\\utils\\validation.py\", line 249, in _num_samples\n",
      "    raise TypeError(message)\n",
      "TypeError: Expected sequence or array-like, got <class 'sklearn.tree._classes.DecisionTreeRegressor'>\n",
      "\n",
      "  warnings.warn(\n",
      "d:\\python\\lib\\site-packages\\sklearn\\utils\\validation.py:70: FutureWarning: Pass sample_weight=75     374067.606713\n",
      "21     317795.012879\n",
      "91     258672.836679\n",
      "166    142276.718076\n",
      "2       18599.517053\n",
      "70     485441.003500\n",
      "85     495880.594973\n",
      "164    180242.742577\n",
      "6      113599.799458\n",
      "182    173531.576630\n",
      "169    135693.383862\n",
      "77     532472.428350\n",
      "113    269645.060371\n",
      "65     432816.940360\n",
      "46     289964.979488\n",
      "74     320697.858467\n",
      "92     254305.252492\n",
      "196     78648.473312\n",
      "87     245942.926669\n",
      "148    218991.736437\n",
      "10     145642.953694\n",
      "32     292468.350913\n",
      "136    277874.228139\n",
      "83     473350.252151\n",
      "170    111170.996544\n",
      "100    226728.219404\n",
      "125    253213.356445\n",
      "23     311030.583710\n",
      "126    200589.293305\n",
      "9      148327.420073\n",
      "185    158607.221881\n",
      "104    258060.309629\n",
      "Name: max_force, dtype: float64 as keyword args. From version 1.0 (renaming of 0.25) passing these as positional arguments will result in an error\n",
      "  warnings.warn(f\"Pass {args_msg} as keyword args. From version \"\n",
      "d:\\python\\lib\\site-packages\\sklearn\\model_selection\\_validation.py:696: UserWarning: Scoring failed. The score on this train-test partition for these parameters will be set to nan. Details: \n",
      "Traceback (most recent call last):\n",
      "  File \"d:\\python\\lib\\site-packages\\sklearn\\model_selection\\_validation.py\", line 687, in _score\n",
      "    scores = scorer(estimator, X_test, y_test)\n",
      "  File \"d:\\python\\lib\\site-packages\\sklearn\\utils\\validation.py\", line 74, in inner_f\n",
      "    return f(**kwargs)\n",
      "  File \"d:\\python\\lib\\site-packages\\sklearn\\metrics\\_regression.py\", line 676, in r2_score\n",
      "    y_type, y_true, y_pred, multioutput = _check_reg_targets(\n",
      "  File \"d:\\python\\lib\\site-packages\\sklearn\\metrics\\_regression.py\", line 88, in _check_reg_targets\n",
      "    check_consistent_length(y_true, y_pred)\n",
      "  File \"d:\\python\\lib\\site-packages\\sklearn\\utils\\validation.py\", line 316, in check_consistent_length\n",
      "    lengths = [_num_samples(X) for X in arrays if X is not None]\n",
      "  File \"d:\\python\\lib\\site-packages\\sklearn\\utils\\validation.py\", line 316, in <listcomp>\n",
      "    lengths = [_num_samples(X) for X in arrays if X is not None]\n",
      "  File \"d:\\python\\lib\\site-packages\\sklearn\\utils\\validation.py\", line 249, in _num_samples\n",
      "    raise TypeError(message)\n",
      "TypeError: Expected sequence or array-like, got <class 'sklearn.tree._classes.DecisionTreeRegressor'>\n",
      "\n",
      "  warnings.warn(\n",
      "d:\\python\\lib\\site-packages\\sklearn\\utils\\validation.py:70: FutureWarning: Pass sample_weight=153    221255.423364\n",
      "165    155624.481460\n",
      "135    290337.822040\n",
      "111    199524.028869\n",
      "212    196248.340728\n",
      "64     481419.630254\n",
      "15     129589.418643\n",
      "41     236834.915741\n",
      "202    237047.968628\n",
      "109    243892.292629\n",
      "80     477717.836338\n",
      "52     199657.186923\n",
      "26     285011.499860\n",
      "76     485387.740278\n",
      "43     350738.315563\n",
      "24     321017.437798\n",
      "3      153738.963408\n",
      "184    182293.376616\n",
      "49     290630.769760\n",
      "149    205915.615485\n",
      "131    372469.710058\n",
      "205    243173.239135\n",
      "30     506959.345107\n",
      "121    310205.003772\n",
      "175    198671.817320\n",
      "115    213665.414257\n",
      "190    141009.053398\n",
      "8       67612.333755\n",
      "60     288313.819612\n",
      "128    242933.554637\n",
      "1       97508.980152\n",
      "57     326929.655418\n",
      "Name: max_force, dtype: float64 as keyword args. From version 1.0 (renaming of 0.25) passing these as positional arguments will result in an error\n",
      "  warnings.warn(f\"Pass {args_msg} as keyword args. From version \"\n",
      "d:\\python\\lib\\site-packages\\sklearn\\model_selection\\_validation.py:696: UserWarning: Scoring failed. The score on this train-test partition for these parameters will be set to nan. Details: \n",
      "Traceback (most recent call last):\n",
      "  File \"d:\\python\\lib\\site-packages\\sklearn\\model_selection\\_validation.py\", line 687, in _score\n",
      "    scores = scorer(estimator, X_test, y_test)\n",
      "  File \"d:\\python\\lib\\site-packages\\sklearn\\utils\\validation.py\", line 74, in inner_f\n",
      "    return f(**kwargs)\n",
      "  File \"d:\\python\\lib\\site-packages\\sklearn\\metrics\\_regression.py\", line 676, in r2_score\n",
      "    y_type, y_true, y_pred, multioutput = _check_reg_targets(\n",
      "  File \"d:\\python\\lib\\site-packages\\sklearn\\metrics\\_regression.py\", line 88, in _check_reg_targets\n",
      "    check_consistent_length(y_true, y_pred)\n",
      "  File \"d:\\python\\lib\\site-packages\\sklearn\\utils\\validation.py\", line 316, in check_consistent_length\n",
      "    lengths = [_num_samples(X) for X in arrays if X is not None]\n",
      "  File \"d:\\python\\lib\\site-packages\\sklearn\\utils\\validation.py\", line 316, in <listcomp>\n",
      "    lengths = [_num_samples(X) for X in arrays if X is not None]\n",
      "  File \"d:\\python\\lib\\site-packages\\sklearn\\utils\\validation.py\", line 249, in _num_samples\n",
      "    raise TypeError(message)\n",
      "TypeError: Expected sequence or array-like, got <class 'sklearn.tree._classes.DecisionTreeRegressor'>\n",
      "\n",
      "  warnings.warn(\n",
      "d:\\python\\lib\\site-packages\\sklearn\\utils\\validation.py:70: FutureWarning: Pass sample_weight=22     503763.551799\n",
      "61     341736.831079\n",
      "63     509196.400423\n",
      "7      166916.284482\n",
      "213    294625.511395\n",
      "141    218459.104219\n",
      "86     276995.384979\n",
      "96     241894.921812\n",
      "68     359952.852935\n",
      "50     311270.268208\n",
      "142    274625.171609\n",
      "157    185196.222204\n",
      "156    204876.982660\n",
      "139    273400.117508\n",
      "146    212440.360156\n",
      "101    244038.766489\n",
      "20     338807.353880\n",
      "178    168002.854207\n",
      "25     329299.868788\n",
      "134    299499.096190\n",
      "71     446399.061919\n",
      "204    211028.884778\n",
      "129    301789.414728\n",
      "144    243652.608131\n",
      "192     86552.735428\n",
      "79     383148.986030\n",
      "133    194970.023405\n",
      "203    235290.282308\n",
      "137    381897.300317\n",
      "72     399234.479014\n",
      "140    284159.288311\n",
      "37     369486.969638\n",
      "Name: max_force, dtype: float64 as keyword args. From version 1.0 (renaming of 0.25) passing these as positional arguments will result in an error\n",
      "  warnings.warn(f\"Pass {args_msg} as keyword args. From version \"\n",
      "d:\\python\\lib\\site-packages\\sklearn\\model_selection\\_validation.py:696: UserWarning: Scoring failed. The score on this train-test partition for these parameters will be set to nan. Details: \n",
      "Traceback (most recent call last):\n",
      "  File \"d:\\python\\lib\\site-packages\\sklearn\\model_selection\\_validation.py\", line 687, in _score\n",
      "    scores = scorer(estimator, X_test, y_test)\n",
      "  File \"d:\\python\\lib\\site-packages\\sklearn\\utils\\validation.py\", line 74, in inner_f\n",
      "    return f(**kwargs)\n",
      "  File \"d:\\python\\lib\\site-packages\\sklearn\\metrics\\_regression.py\", line 676, in r2_score\n",
      "    y_type, y_true, y_pred, multioutput = _check_reg_targets(\n",
      "  File \"d:\\python\\lib\\site-packages\\sklearn\\metrics\\_regression.py\", line 88, in _check_reg_targets\n",
      "    check_consistent_length(y_true, y_pred)\n",
      "  File \"d:\\python\\lib\\site-packages\\sklearn\\utils\\validation.py\", line 316, in check_consistent_length\n",
      "    lengths = [_num_samples(X) for X in arrays if X is not None]\n",
      "  File \"d:\\python\\lib\\site-packages\\sklearn\\utils\\validation.py\", line 316, in <listcomp>\n",
      "    lengths = [_num_samples(X) for X in arrays if X is not None]\n",
      "  File \"d:\\python\\lib\\site-packages\\sklearn\\utils\\validation.py\", line 249, in _num_samples\n",
      "    raise TypeError(message)\n",
      "TypeError: Expected sequence or array-like, got <class 'sklearn.tree._classes.DecisionTreeRegressor'>\n",
      "\n",
      "  warnings.warn(\n",
      "d:\\python\\lib\\site-packages\\sklearn\\model_selection\\_search.py:922: UserWarning: One or more of the test scores are non-finite: [nan nan nan nan nan nan nan nan]\n",
      "  warnings.warn(\n"
     ]
    },
    {
     "data": {
      "text/plain": [
       "0.8670100854393165"
      ]
     },
     "execution_count": 146,
     "metadata": {},
     "output_type": "execute_result"
    }
   ],
   "source": [
    "g_cv = GridSearchCV(DecisionTreeRegressor(),\n",
    "              param_grid={'min_samples_split': range(2, 10)},\n",
    "              scoring=r2_score, cv=5, refit=True)\n",
    "\n",
    "g_cv.fit(train_X, train_y)\n",
    "g_cv.best_params_\n",
    "\n",
    "result = g_cv.cv_results_\n",
    "# print(result)\n",
    "#r2_score(val_y,dt_val_predictions)\n",
    "r2_score(val_y, g_cv.best_estimator_.predict(val_X))"
   ]
  },
  {
   "cell_type": "code",
   "execution_count": 143,
   "id": "7c2b2d01",
   "metadata": {
    "ExecuteTime": {
     "end_time": "2021-08-26T11:00:19.764648Z",
     "start_time": "2021-08-26T11:00:19.745649Z"
    }
   },
   "outputs": [
    {
     "name": "stdout",
     "output_type": "stream",
     "text": [
      "Decision Tree Validation r2_score: 0.8759816812372956\n"
     ]
    }
   ],
   "source": [
    "#DT\n",
    "decision_model = DecisionTreeRegressor()  \n",
    "decision_model.fit(train_X, train_y) \n",
    "dt_val_predictions = decision_model.predict(val_X)\n",
    "print('Decision Tree Validation r2_score:', r2_score(val_y,dt_val_predictions))"
   ]
  },
  {
   "cell_type": "code",
   "execution_count": 131,
   "id": "5d52493b",
   "metadata": {
    "ExecuteTime": {
     "end_time": "2021-08-26T10:35:11.837263Z",
     "start_time": "2021-08-26T10:35:11.536431Z"
    }
   },
   "outputs": [
    {
     "name": "stdout",
     "output_type": "stream",
     "text": [
      "Random Forest Validation r2_score: 0.8448364641212568\n"
     ]
    }
   ],
   "source": [
    "## making predictions using the Random Forest algorithm \n",
    "forest_model = RandomForestRegressor(max_depth=60, min_samples_split=5, n_estimators=400)\n",
    "forest_model.fit(train_X, train_y)\n",
    "rf_val_predictions = forest_model.predict(val_X)\n",
    "print('Random Forest Validation r2_score:', r2_score(val_y,rf_val_predictions))"
   ]
  },
  {
   "cell_type": "code",
   "execution_count": null,
   "id": "c28c41b6",
   "metadata": {},
   "outputs": [],
   "source": [
    "param_test1 = {'n_estimators':range(10,71,10)}\n",
    "gsearch1 = GridSearchCV(estimator = RandomForestClassifier(min_samples_split=100,\n",
    "                                  min_samples_leaf=20,max_depth=8,max_features='sqrt' ,random_state=10), \n",
    "                       param_grid = param_test1, scoring='roc_auc',cv=5)\n",
    "gsearch1.fit(X,y)\n",
    "gsearch1.grid_scores_, gsearch1.best_params_, gsearch1.best_score_"
   ]
  },
  {
   "cell_type": "code",
   "execution_count": 423,
   "id": "b0c2f84f",
   "metadata": {
    "ExecuteTime": {
     "end_time": "2021-08-24T06:00:12.583329Z",
     "start_time": "2021-08-24T05:57:32.672219Z"
    }
   },
   "outputs": [
    {
     "name": "stdout",
     "output_type": "stream",
     "text": [
      "Fitting 5 folds for each of 50 candidates, totalling 250 fits\n",
      "[CV] END bootstrap=False, max_depth=70, max_features=sqrt, min_samples_leaf=4, min_samples_split=2, n_estimators=1200; total time=   0.5s\n",
      "[CV] END bootstrap=False, max_depth=70, max_features=sqrt, min_samples_leaf=4, min_samples_split=2, n_estimators=1200; total time=   0.5s\n",
      "[CV] END bootstrap=False, max_depth=70, max_features=sqrt, min_samples_leaf=4, min_samples_split=2, n_estimators=1200; total time=   0.5s\n",
      "[CV] END bootstrap=False, max_depth=70, max_features=sqrt, min_samples_leaf=4, min_samples_split=2, n_estimators=1200; total time=   0.5s\n",
      "[CV] END bootstrap=False, max_depth=70, max_features=sqrt, min_samples_leaf=4, min_samples_split=2, n_estimators=1200; total time=   0.5s\n",
      "[CV] END bootstrap=True, max_depth=100, max_features=auto, min_samples_leaf=4, min_samples_split=10, n_estimators=1400; total time=   0.9s\n",
      "[CV] END bootstrap=True, max_depth=100, max_features=auto, min_samples_leaf=4, min_samples_split=10, n_estimators=1400; total time=   0.9s\n",
      "[CV] END bootstrap=True, max_depth=100, max_features=auto, min_samples_leaf=4, min_samples_split=10, n_estimators=1400; total time=   0.9s\n",
      "[CV] END bootstrap=True, max_depth=100, max_features=auto, min_samples_leaf=4, min_samples_split=10, n_estimators=1400; total time=   0.9s\n",
      "[CV] END bootstrap=True, max_depth=100, max_features=auto, min_samples_leaf=4, min_samples_split=10, n_estimators=1400; total time=   0.9s\n",
      "[CV] END bootstrap=True, max_depth=70, max_features=auto, min_samples_leaf=2, min_samples_split=10, n_estimators=1000; total time=   0.6s\n",
      "[CV] END bootstrap=True, max_depth=70, max_features=auto, min_samples_leaf=2, min_samples_split=10, n_estimators=1000; total time=   0.6s\n",
      "[CV] END bootstrap=True, max_depth=70, max_features=auto, min_samples_leaf=2, min_samples_split=10, n_estimators=1000; total time=   0.6s\n",
      "[CV] END bootstrap=True, max_depth=70, max_features=auto, min_samples_leaf=2, min_samples_split=10, n_estimators=1000; total time=   0.6s\n",
      "[CV] END bootstrap=True, max_depth=70, max_features=auto, min_samples_leaf=2, min_samples_split=10, n_estimators=1000; total time=   0.6s\n",
      "[CV] END bootstrap=False, max_depth=90, max_features=auto, min_samples_leaf=1, min_samples_split=5, n_estimators=1200; total time=   0.7s\n",
      "[CV] END bootstrap=False, max_depth=90, max_features=auto, min_samples_leaf=1, min_samples_split=5, n_estimators=1200; total time=   0.7s\n",
      "[CV] END bootstrap=False, max_depth=90, max_features=auto, min_samples_leaf=1, min_samples_split=5, n_estimators=1200; total time=   0.8s\n",
      "[CV] END bootstrap=False, max_depth=90, max_features=auto, min_samples_leaf=1, min_samples_split=5, n_estimators=1200; total time=   0.7s\n",
      "[CV] END bootstrap=False, max_depth=90, max_features=auto, min_samples_leaf=1, min_samples_split=5, n_estimators=1200; total time=   0.7s\n",
      "[CV] END bootstrap=True, max_depth=50, max_features=auto, min_samples_leaf=1, min_samples_split=2, n_estimators=200; total time=   0.1s\n",
      "[CV] END bootstrap=True, max_depth=50, max_features=auto, min_samples_leaf=1, min_samples_split=2, n_estimators=200; total time=   0.1s\n",
      "[CV] END bootstrap=True, max_depth=50, max_features=auto, min_samples_leaf=1, min_samples_split=2, n_estimators=200; total time=   0.1s\n",
      "[CV] END bootstrap=True, max_depth=50, max_features=auto, min_samples_leaf=1, min_samples_split=2, n_estimators=200; total time=   0.1s\n",
      "[CV] END bootstrap=True, max_depth=50, max_features=auto, min_samples_leaf=1, min_samples_split=2, n_estimators=200; total time=   0.1s\n",
      "[CV] END bootstrap=False, max_depth=30, max_features=sqrt, min_samples_leaf=2, min_samples_split=10, n_estimators=1800; total time=   0.8s\n",
      "[CV] END bootstrap=False, max_depth=30, max_features=sqrt, min_samples_leaf=2, min_samples_split=10, n_estimators=1800; total time=   0.8s\n",
      "[CV] END bootstrap=False, max_depth=30, max_features=sqrt, min_samples_leaf=2, min_samples_split=10, n_estimators=1800; total time=   0.8s\n",
      "[CV] END bootstrap=False, max_depth=30, max_features=sqrt, min_samples_leaf=2, min_samples_split=10, n_estimators=1800; total time=   0.9s\n",
      "[CV] END bootstrap=False, max_depth=30, max_features=sqrt, min_samples_leaf=2, min_samples_split=10, n_estimators=1800; total time=   0.8s\n",
      "[CV] END bootstrap=True, max_depth=70, max_features=sqrt, min_samples_leaf=1, min_samples_split=2, n_estimators=1200; total time=   0.8s\n",
      "[CV] END bootstrap=True, max_depth=70, max_features=sqrt, min_samples_leaf=1, min_samples_split=2, n_estimators=1200; total time=   0.8s\n",
      "[CV] END bootstrap=True, max_depth=70, max_features=sqrt, min_samples_leaf=1, min_samples_split=2, n_estimators=1200; total time=   0.8s\n",
      "[CV] END bootstrap=True, max_depth=70, max_features=sqrt, min_samples_leaf=1, min_samples_split=2, n_estimators=1200; total time=   0.8s\n",
      "[CV] END bootstrap=True, max_depth=70, max_features=sqrt, min_samples_leaf=1, min_samples_split=2, n_estimators=1200; total time=   0.8s\n",
      "[CV] END bootstrap=True, max_depth=70, max_features=auto, min_samples_leaf=2, min_samples_split=10, n_estimators=100; total time=   0.0s\n",
      "[CV] END bootstrap=True, max_depth=70, max_features=auto, min_samples_leaf=2, min_samples_split=10, n_estimators=100; total time=   0.0s\n",
      "[CV] END bootstrap=True, max_depth=70, max_features=auto, min_samples_leaf=2, min_samples_split=10, n_estimators=100; total time=   0.0s\n",
      "[CV] END bootstrap=True, max_depth=70, max_features=auto, min_samples_leaf=2, min_samples_split=10, n_estimators=100; total time=   0.0s\n",
      "[CV] END bootstrap=True, max_depth=70, max_features=auto, min_samples_leaf=2, min_samples_split=10, n_estimators=100; total time=   0.0s\n",
      "[CV] END bootstrap=False, max_depth=60, max_features=auto, min_samples_leaf=2, min_samples_split=2, n_estimators=400; total time=   0.2s\n",
      "[CV] END bootstrap=False, max_depth=60, max_features=auto, min_samples_leaf=2, min_samples_split=2, n_estimators=400; total time=   0.2s\n",
      "[CV] END bootstrap=False, max_depth=60, max_features=auto, min_samples_leaf=2, min_samples_split=2, n_estimators=400; total time=   0.2s\n",
      "[CV] END bootstrap=False, max_depth=60, max_features=auto, min_samples_leaf=2, min_samples_split=2, n_estimators=400; total time=   0.2s\n",
      "[CV] END bootstrap=False, max_depth=60, max_features=auto, min_samples_leaf=2, min_samples_split=2, n_estimators=400; total time=   0.2s\n",
      "[CV] END bootstrap=False, max_depth=None, max_features=sqrt, min_samples_leaf=1, min_samples_split=10, n_estimators=100; total time=   0.0s\n",
      "[CV] END bootstrap=False, max_depth=None, max_features=sqrt, min_samples_leaf=1, min_samples_split=10, n_estimators=100; total time=   0.0s\n",
      "[CV] END bootstrap=False, max_depth=None, max_features=sqrt, min_samples_leaf=1, min_samples_split=10, n_estimators=100; total time=   0.0s\n",
      "[CV] END bootstrap=False, max_depth=None, max_features=sqrt, min_samples_leaf=1, min_samples_split=10, n_estimators=100; total time=   0.0s\n",
      "[CV] END bootstrap=False, max_depth=None, max_features=sqrt, min_samples_leaf=1, min_samples_split=10, n_estimators=100; total time=   0.0s\n",
      "[CV] END bootstrap=False, max_depth=40, max_features=sqrt, min_samples_leaf=2, min_samples_split=2, n_estimators=400; total time=   0.1s\n",
      "[CV] END bootstrap=False, max_depth=40, max_features=sqrt, min_samples_leaf=2, min_samples_split=2, n_estimators=400; total time=   0.1s\n",
      "[CV] END bootstrap=False, max_depth=40, max_features=sqrt, min_samples_leaf=2, min_samples_split=2, n_estimators=400; total time=   0.1s\n",
      "[CV] END bootstrap=False, max_depth=40, max_features=sqrt, min_samples_leaf=2, min_samples_split=2, n_estimators=400; total time=   0.1s\n",
      "[CV] END bootstrap=False, max_depth=40, max_features=sqrt, min_samples_leaf=2, min_samples_split=2, n_estimators=400; total time=   0.1s\n",
      "[CV] END bootstrap=True, max_depth=100, max_features=sqrt, min_samples_leaf=1, min_samples_split=5, n_estimators=1000; total time=   0.6s\n",
      "[CV] END bootstrap=True, max_depth=100, max_features=sqrt, min_samples_leaf=1, min_samples_split=5, n_estimators=1000; total time=   0.6s\n",
      "[CV] END bootstrap=True, max_depth=100, max_features=sqrt, min_samples_leaf=1, min_samples_split=5, n_estimators=1000; total time=   0.6s\n",
      "[CV] END bootstrap=True, max_depth=100, max_features=sqrt, min_samples_leaf=1, min_samples_split=5, n_estimators=1000; total time=   0.6s\n"
     ]
    },
    {
     "name": "stdout",
     "output_type": "stream",
     "text": [
      "[CV] END bootstrap=True, max_depth=100, max_features=sqrt, min_samples_leaf=1, min_samples_split=5, n_estimators=1000; total time=   0.6s\n",
      "[CV] END bootstrap=True, max_depth=20, max_features=auto, min_samples_leaf=4, min_samples_split=2, n_estimators=400; total time=   0.2s\n",
      "[CV] END bootstrap=True, max_depth=20, max_features=auto, min_samples_leaf=4, min_samples_split=2, n_estimators=400; total time=   0.2s\n",
      "[CV] END bootstrap=True, max_depth=20, max_features=auto, min_samples_leaf=4, min_samples_split=2, n_estimators=400; total time=   0.2s\n",
      "[CV] END bootstrap=True, max_depth=20, max_features=auto, min_samples_leaf=4, min_samples_split=2, n_estimators=400; total time=   0.2s\n",
      "[CV] END bootstrap=True, max_depth=20, max_features=auto, min_samples_leaf=4, min_samples_split=2, n_estimators=400; total time=   0.2s\n",
      "[CV] END bootstrap=False, max_depth=20, max_features=auto, min_samples_leaf=1, min_samples_split=10, n_estimators=200; total time=   0.0s\n",
      "[CV] END bootstrap=False, max_depth=20, max_features=auto, min_samples_leaf=1, min_samples_split=10, n_estimators=200; total time=   0.0s\n",
      "[CV] END bootstrap=False, max_depth=20, max_features=auto, min_samples_leaf=1, min_samples_split=10, n_estimators=200; total time=   0.0s\n",
      "[CV] END bootstrap=False, max_depth=20, max_features=auto, min_samples_leaf=1, min_samples_split=10, n_estimators=200; total time=   0.0s\n",
      "[CV] END bootstrap=False, max_depth=20, max_features=auto, min_samples_leaf=1, min_samples_split=10, n_estimators=200; total time=   0.0s\n",
      "[CV] END bootstrap=True, max_depth=80, max_features=auto, min_samples_leaf=1, min_samples_split=10, n_estimators=1000; total time=   0.6s\n",
      "[CV] END bootstrap=True, max_depth=80, max_features=auto, min_samples_leaf=1, min_samples_split=10, n_estimators=1000; total time=   0.6s\n",
      "[CV] END bootstrap=True, max_depth=80, max_features=auto, min_samples_leaf=1, min_samples_split=10, n_estimators=1000; total time=   0.6s\n",
      "[CV] END bootstrap=True, max_depth=80, max_features=auto, min_samples_leaf=1, min_samples_split=10, n_estimators=1000; total time=   0.6s\n",
      "[CV] END bootstrap=True, max_depth=80, max_features=auto, min_samples_leaf=1, min_samples_split=10, n_estimators=1000; total time=   0.8s\n",
      "[CV] END bootstrap=False, max_depth=40, max_features=sqrt, min_samples_leaf=4, min_samples_split=2, n_estimators=400; total time=   0.2s\n",
      "[CV] END bootstrap=False, max_depth=40, max_features=sqrt, min_samples_leaf=4, min_samples_split=2, n_estimators=400; total time=   0.1s\n",
      "[CV] END bootstrap=False, max_depth=40, max_features=sqrt, min_samples_leaf=4, min_samples_split=2, n_estimators=400; total time=   0.2s\n",
      "[CV] END bootstrap=False, max_depth=40, max_features=sqrt, min_samples_leaf=4, min_samples_split=2, n_estimators=400; total time=   0.1s\n",
      "[CV] END bootstrap=False, max_depth=40, max_features=sqrt, min_samples_leaf=4, min_samples_split=2, n_estimators=400; total time=   0.1s\n",
      "[CV] END bootstrap=False, max_depth=20, max_features=sqrt, min_samples_leaf=4, min_samples_split=5, n_estimators=1000; total time=   0.4s\n",
      "[CV] END bootstrap=False, max_depth=20, max_features=sqrt, min_samples_leaf=4, min_samples_split=5, n_estimators=1000; total time=   0.4s\n",
      "[CV] END bootstrap=False, max_depth=20, max_features=sqrt, min_samples_leaf=4, min_samples_split=5, n_estimators=1000; total time=   0.4s\n",
      "[CV] END bootstrap=False, max_depth=20, max_features=sqrt, min_samples_leaf=4, min_samples_split=5, n_estimators=1000; total time=   0.4s\n",
      "[CV] END bootstrap=False, max_depth=20, max_features=sqrt, min_samples_leaf=4, min_samples_split=5, n_estimators=1000; total time=   0.4s\n",
      "[CV] END bootstrap=True, max_depth=70, max_features=sqrt, min_samples_leaf=1, min_samples_split=10, n_estimators=800; total time=   0.5s\n",
      "[CV] END bootstrap=True, max_depth=70, max_features=sqrt, min_samples_leaf=1, min_samples_split=10, n_estimators=800; total time=   0.5s\n",
      "[CV] END bootstrap=True, max_depth=70, max_features=sqrt, min_samples_leaf=1, min_samples_split=10, n_estimators=800; total time=   0.5s\n",
      "[CV] END bootstrap=True, max_depth=70, max_features=sqrt, min_samples_leaf=1, min_samples_split=10, n_estimators=800; total time=   0.5s\n",
      "[CV] END bootstrap=True, max_depth=70, max_features=sqrt, min_samples_leaf=1, min_samples_split=10, n_estimators=800; total time=   0.4s\n",
      "[CV] END bootstrap=True, max_depth=100, max_features=sqrt, min_samples_leaf=1, min_samples_split=5, n_estimators=1400; total time=   0.9s\n",
      "[CV] END bootstrap=True, max_depth=100, max_features=sqrt, min_samples_leaf=1, min_samples_split=5, n_estimators=1400; total time=   0.9s\n",
      "[CV] END bootstrap=True, max_depth=100, max_features=sqrt, min_samples_leaf=1, min_samples_split=5, n_estimators=1400; total time=   0.9s\n",
      "[CV] END bootstrap=True, max_depth=100, max_features=sqrt, min_samples_leaf=1, min_samples_split=5, n_estimators=1400; total time=   0.9s\n",
      "[CV] END bootstrap=True, max_depth=100, max_features=sqrt, min_samples_leaf=1, min_samples_split=5, n_estimators=1400; total time=   0.9s\n",
      "[CV] END bootstrap=False, max_depth=40, max_features=auto, min_samples_leaf=4, min_samples_split=2, n_estimators=1800; total time=   0.9s\n",
      "[CV] END bootstrap=False, max_depth=40, max_features=auto, min_samples_leaf=4, min_samples_split=2, n_estimators=1800; total time=   1.0s\n",
      "[CV] END bootstrap=False, max_depth=40, max_features=auto, min_samples_leaf=4, min_samples_split=2, n_estimators=1800; total time=   1.0s\n",
      "[CV] END bootstrap=False, max_depth=40, max_features=auto, min_samples_leaf=4, min_samples_split=2, n_estimators=1800; total time=   1.0s\n",
      "[CV] END bootstrap=False, max_depth=40, max_features=auto, min_samples_leaf=4, min_samples_split=2, n_estimators=1800; total time=   0.9s\n",
      "[CV] END bootstrap=False, max_depth=50, max_features=auto, min_samples_leaf=4, min_samples_split=5, n_estimators=400; total time=   0.1s\n",
      "[CV] END bootstrap=False, max_depth=50, max_features=auto, min_samples_leaf=4, min_samples_split=5, n_estimators=400; total time=   0.1s\n",
      "[CV] END bootstrap=False, max_depth=50, max_features=auto, min_samples_leaf=4, min_samples_split=5, n_estimators=400; total time=   0.1s\n",
      "[CV] END bootstrap=False, max_depth=50, max_features=auto, min_samples_leaf=4, min_samples_split=5, n_estimators=400; total time=   0.1s\n",
      "[CV] END bootstrap=False, max_depth=50, max_features=auto, min_samples_leaf=4, min_samples_split=5, n_estimators=400; total time=   0.1s\n",
      "[CV] END bootstrap=False, max_depth=80, max_features=sqrt, min_samples_leaf=1, min_samples_split=2, n_estimators=2000; total time=   1.1s\n",
      "[CV] END bootstrap=False, max_depth=80, max_features=sqrt, min_samples_leaf=1, min_samples_split=2, n_estimators=2000; total time=   1.2s\n",
      "[CV] END bootstrap=False, max_depth=80, max_features=sqrt, min_samples_leaf=1, min_samples_split=2, n_estimators=2000; total time=   1.1s\n",
      "[CV] END bootstrap=False, max_depth=80, max_features=sqrt, min_samples_leaf=1, min_samples_split=2, n_estimators=2000; total time=   1.1s\n",
      "[CV] END bootstrap=False, max_depth=80, max_features=sqrt, min_samples_leaf=1, min_samples_split=2, n_estimators=2000; total time=   1.1s\n",
      "[CV] END bootstrap=True, max_depth=30, max_features=sqrt, min_samples_leaf=1, min_samples_split=10, n_estimators=400; total time=   0.2s\n",
      "[CV] END bootstrap=True, max_depth=30, max_features=sqrt, min_samples_leaf=1, min_samples_split=10, n_estimators=400; total time=   0.2s\n",
      "[CV] END bootstrap=True, max_depth=30, max_features=sqrt, min_samples_leaf=1, min_samples_split=10, n_estimators=400; total time=   0.2s\n",
      "[CV] END bootstrap=True, max_depth=30, max_features=sqrt, min_samples_leaf=1, min_samples_split=10, n_estimators=400; total time=   0.2s\n",
      "[CV] END bootstrap=True, max_depth=30, max_features=sqrt, min_samples_leaf=1, min_samples_split=10, n_estimators=400; total time=   0.2s\n",
      "[CV] END bootstrap=False, max_depth=30, max_features=auto, min_samples_leaf=4, min_samples_split=5, n_estimators=1000; total time=   0.5s\n",
      "[CV] END bootstrap=False, max_depth=30, max_features=auto, min_samples_leaf=4, min_samples_split=5, n_estimators=1000; total time=   0.5s\n",
      "[CV] END bootstrap=False, max_depth=30, max_features=auto, min_samples_leaf=4, min_samples_split=5, n_estimators=1000; total time=   0.5s\n",
      "[CV] END bootstrap=False, max_depth=30, max_features=auto, min_samples_leaf=4, min_samples_split=5, n_estimators=1000; total time=   0.5s\n"
     ]
    },
    {
     "name": "stdout",
     "output_type": "stream",
     "text": [
      "[CV] END bootstrap=False, max_depth=30, max_features=auto, min_samples_leaf=4, min_samples_split=5, n_estimators=1000; total time=   0.5s\n",
      "[CV] END bootstrap=True, max_depth=30, max_features=auto, min_samples_leaf=2, min_samples_split=5, n_estimators=400; total time=   0.2s\n",
      "[CV] END bootstrap=True, max_depth=30, max_features=auto, min_samples_leaf=2, min_samples_split=5, n_estimators=400; total time=   0.2s\n",
      "[CV] END bootstrap=True, max_depth=30, max_features=auto, min_samples_leaf=2, min_samples_split=5, n_estimators=400; total time=   0.2s\n",
      "[CV] END bootstrap=True, max_depth=30, max_features=auto, min_samples_leaf=2, min_samples_split=5, n_estimators=400; total time=   0.2s\n",
      "[CV] END bootstrap=True, max_depth=30, max_features=auto, min_samples_leaf=2, min_samples_split=5, n_estimators=400; total time=   0.2s\n",
      "[CV] END bootstrap=False, max_depth=None, max_features=auto, min_samples_leaf=1, min_samples_split=5, n_estimators=1400; total time=   0.8s\n",
      "[CV] END bootstrap=False, max_depth=None, max_features=auto, min_samples_leaf=1, min_samples_split=5, n_estimators=1400; total time=   0.8s\n",
      "[CV] END bootstrap=False, max_depth=None, max_features=auto, min_samples_leaf=1, min_samples_split=5, n_estimators=1400; total time=   0.8s\n",
      "[CV] END bootstrap=False, max_depth=None, max_features=auto, min_samples_leaf=1, min_samples_split=5, n_estimators=1400; total time=   0.8s\n",
      "[CV] END bootstrap=False, max_depth=None, max_features=auto, min_samples_leaf=1, min_samples_split=5, n_estimators=1400; total time=   0.8s\n",
      "[CV] END bootstrap=True, max_depth=70, max_features=auto, min_samples_leaf=4, min_samples_split=2, n_estimators=1600; total time=   1.1s\n",
      "[CV] END bootstrap=True, max_depth=70, max_features=auto, min_samples_leaf=4, min_samples_split=2, n_estimators=1600; total time=   1.1s\n",
      "[CV] END bootstrap=True, max_depth=70, max_features=auto, min_samples_leaf=4, min_samples_split=2, n_estimators=1600; total time=   1.1s\n",
      "[CV] END bootstrap=True, max_depth=70, max_features=auto, min_samples_leaf=4, min_samples_split=2, n_estimators=1600; total time=   1.0s\n",
      "[CV] END bootstrap=True, max_depth=70, max_features=auto, min_samples_leaf=4, min_samples_split=2, n_estimators=1600; total time=   1.1s\n",
      "[CV] END bootstrap=False, max_depth=70, max_features=auto, min_samples_leaf=1, min_samples_split=5, n_estimators=400; total time=   0.2s\n",
      "[CV] END bootstrap=False, max_depth=70, max_features=auto, min_samples_leaf=1, min_samples_split=5, n_estimators=400; total time=   0.2s\n",
      "[CV] END bootstrap=False, max_depth=70, max_features=auto, min_samples_leaf=1, min_samples_split=5, n_estimators=400; total time=   0.2s\n",
      "[CV] END bootstrap=False, max_depth=70, max_features=auto, min_samples_leaf=1, min_samples_split=5, n_estimators=400; total time=   0.2s\n",
      "[CV] END bootstrap=False, max_depth=70, max_features=auto, min_samples_leaf=1, min_samples_split=5, n_estimators=400; total time=   0.2s\n",
      "[CV] END bootstrap=False, max_depth=60, max_features=auto, min_samples_leaf=1, min_samples_split=2, n_estimators=600; total time=   0.3s\n",
      "[CV] END bootstrap=False, max_depth=60, max_features=auto, min_samples_leaf=1, min_samples_split=2, n_estimators=600; total time=   0.3s\n",
      "[CV] END bootstrap=False, max_depth=60, max_features=auto, min_samples_leaf=1, min_samples_split=2, n_estimators=600; total time=   0.3s\n",
      "[CV] END bootstrap=False, max_depth=60, max_features=auto, min_samples_leaf=1, min_samples_split=2, n_estimators=600; total time=   0.3s\n",
      "[CV] END bootstrap=False, max_depth=60, max_features=auto, min_samples_leaf=1, min_samples_split=2, n_estimators=600; total time=   0.3s\n",
      "[CV] END bootstrap=True, max_depth=40, max_features=auto, min_samples_leaf=1, min_samples_split=5, n_estimators=1000; total time=   0.7s\n",
      "[CV] END bootstrap=True, max_depth=40, max_features=auto, min_samples_leaf=1, min_samples_split=5, n_estimators=1000; total time=   0.7s\n",
      "[CV] END bootstrap=True, max_depth=40, max_features=auto, min_samples_leaf=1, min_samples_split=5, n_estimators=1000; total time=   0.7s\n",
      "[CV] END bootstrap=True, max_depth=40, max_features=auto, min_samples_leaf=1, min_samples_split=5, n_estimators=1000; total time=   0.7s\n",
      "[CV] END bootstrap=True, max_depth=40, max_features=auto, min_samples_leaf=1, min_samples_split=5, n_estimators=1000; total time=   0.7s\n",
      "[CV] END bootstrap=False, max_depth=30, max_features=auto, min_samples_leaf=4, min_samples_split=5, n_estimators=1800; total time=   1.0s\n",
      "[CV] END bootstrap=False, max_depth=30, max_features=auto, min_samples_leaf=4, min_samples_split=5, n_estimators=1800; total time=   1.0s\n",
      "[CV] END bootstrap=False, max_depth=30, max_features=auto, min_samples_leaf=4, min_samples_split=5, n_estimators=1800; total time=   0.9s\n",
      "[CV] END bootstrap=False, max_depth=30, max_features=auto, min_samples_leaf=4, min_samples_split=5, n_estimators=1800; total time=   0.9s\n",
      "[CV] END bootstrap=False, max_depth=30, max_features=auto, min_samples_leaf=4, min_samples_split=5, n_estimators=1800; total time=   0.9s\n",
      "[CV] END bootstrap=False, max_depth=60, max_features=sqrt, min_samples_leaf=1, min_samples_split=5, n_estimators=1200; total time=   0.5s\n",
      "[CV] END bootstrap=False, max_depth=60, max_features=sqrt, min_samples_leaf=1, min_samples_split=5, n_estimators=1200; total time=   0.5s\n",
      "[CV] END bootstrap=False, max_depth=60, max_features=sqrt, min_samples_leaf=1, min_samples_split=5, n_estimators=1200; total time=   0.5s\n",
      "[CV] END bootstrap=False, max_depth=60, max_features=sqrt, min_samples_leaf=1, min_samples_split=5, n_estimators=1200; total time=   0.5s\n",
      "[CV] END bootstrap=False, max_depth=60, max_features=sqrt, min_samples_leaf=1, min_samples_split=5, n_estimators=1200; total time=   0.5s\n",
      "[CV] END bootstrap=True, max_depth=100, max_features=auto, min_samples_leaf=4, min_samples_split=2, n_estimators=1400; total time=   0.9s\n",
      "[CV] END bootstrap=True, max_depth=100, max_features=auto, min_samples_leaf=4, min_samples_split=2, n_estimators=1400; total time=   0.9s\n",
      "[CV] END bootstrap=True, max_depth=100, max_features=auto, min_samples_leaf=4, min_samples_split=2, n_estimators=1400; total time=   1.1s\n",
      "[CV] END bootstrap=True, max_depth=100, max_features=auto, min_samples_leaf=4, min_samples_split=2, n_estimators=1400; total time=   0.9s\n",
      "[CV] END bootstrap=True, max_depth=100, max_features=auto, min_samples_leaf=4, min_samples_split=2, n_estimators=1400; total time=   0.9s\n",
      "[CV] END bootstrap=True, max_depth=40, max_features=auto, min_samples_leaf=4, min_samples_split=2, n_estimators=2000; total time=   1.4s\n",
      "[CV] END bootstrap=True, max_depth=40, max_features=auto, min_samples_leaf=4, min_samples_split=2, n_estimators=2000; total time=   1.4s\n",
      "[CV] END bootstrap=True, max_depth=40, max_features=auto, min_samples_leaf=4, min_samples_split=2, n_estimators=2000; total time=   1.4s\n",
      "[CV] END bootstrap=True, max_depth=40, max_features=auto, min_samples_leaf=4, min_samples_split=2, n_estimators=2000; total time=   1.4s\n",
      "[CV] END bootstrap=True, max_depth=40, max_features=auto, min_samples_leaf=4, min_samples_split=2, n_estimators=2000; total time=   1.4s\n",
      "[CV] END bootstrap=True, max_depth=10, max_features=sqrt, min_samples_leaf=1, min_samples_split=10, n_estimators=1800; total time=   1.2s\n",
      "[CV] END bootstrap=True, max_depth=10, max_features=sqrt, min_samples_leaf=1, min_samples_split=10, n_estimators=1800; total time=   1.1s\n",
      "[CV] END bootstrap=True, max_depth=10, max_features=sqrt, min_samples_leaf=1, min_samples_split=10, n_estimators=1800; total time=   1.1s\n",
      "[CV] END bootstrap=True, max_depth=10, max_features=sqrt, min_samples_leaf=1, min_samples_split=10, n_estimators=1800; total time=   1.1s\n",
      "[CV] END bootstrap=True, max_depth=10, max_features=sqrt, min_samples_leaf=1, min_samples_split=10, n_estimators=1800; total time=   1.1s\n",
      "[CV] END bootstrap=True, max_depth=None, max_features=auto, min_samples_leaf=1, min_samples_split=5, n_estimators=400; total time=   0.2s\n",
      "[CV] END bootstrap=True, max_depth=None, max_features=auto, min_samples_leaf=1, min_samples_split=5, n_estimators=400; total time=   0.2s\n",
      "[CV] END bootstrap=True, max_depth=None, max_features=auto, min_samples_leaf=1, min_samples_split=5, n_estimators=400; total time=   0.2s\n",
      "[CV] END bootstrap=True, max_depth=None, max_features=auto, min_samples_leaf=1, min_samples_split=5, n_estimators=400; total time=   0.2s\n"
     ]
    },
    {
     "name": "stdout",
     "output_type": "stream",
     "text": [
      "[CV] END bootstrap=True, max_depth=None, max_features=auto, min_samples_leaf=1, min_samples_split=5, n_estimators=400; total time=   0.2s\n",
      "[CV] END bootstrap=True, max_depth=60, max_features=sqrt, min_samples_leaf=2, min_samples_split=5, n_estimators=100; total time=   0.0s\n",
      "[CV] END bootstrap=True, max_depth=60, max_features=sqrt, min_samples_leaf=2, min_samples_split=5, n_estimators=100; total time=   0.0s\n",
      "[CV] END bootstrap=True, max_depth=60, max_features=sqrt, min_samples_leaf=2, min_samples_split=5, n_estimators=100; total time=   0.0s\n",
      "[CV] END bootstrap=True, max_depth=60, max_features=sqrt, min_samples_leaf=2, min_samples_split=5, n_estimators=100; total time=   0.0s\n",
      "[CV] END bootstrap=True, max_depth=60, max_features=sqrt, min_samples_leaf=2, min_samples_split=5, n_estimators=100; total time=   0.0s\n",
      "[CV] END bootstrap=False, max_depth=30, max_features=auto, min_samples_leaf=1, min_samples_split=10, n_estimators=2000; total time=   1.2s\n",
      "[CV] END bootstrap=False, max_depth=30, max_features=auto, min_samples_leaf=1, min_samples_split=10, n_estimators=2000; total time=   1.1s\n",
      "[CV] END bootstrap=False, max_depth=30, max_features=auto, min_samples_leaf=1, min_samples_split=10, n_estimators=2000; total time=   1.1s\n",
      "[CV] END bootstrap=False, max_depth=30, max_features=auto, min_samples_leaf=1, min_samples_split=10, n_estimators=2000; total time=   1.1s\n",
      "[CV] END bootstrap=False, max_depth=30, max_features=auto, min_samples_leaf=1, min_samples_split=10, n_estimators=2000; total time=   1.1s\n",
      "[CV] END bootstrap=False, max_depth=70, max_features=auto, min_samples_leaf=4, min_samples_split=2, n_estimators=200; total time=   0.0s\n",
      "[CV] END bootstrap=False, max_depth=70, max_features=auto, min_samples_leaf=4, min_samples_split=2, n_estimators=200; total time=   0.0s\n",
      "[CV] END bootstrap=False, max_depth=70, max_features=auto, min_samples_leaf=4, min_samples_split=2, n_estimators=200; total time=   0.0s\n",
      "[CV] END bootstrap=False, max_depth=70, max_features=auto, min_samples_leaf=4, min_samples_split=2, n_estimators=200; total time=   0.0s\n",
      "[CV] END bootstrap=False, max_depth=70, max_features=auto, min_samples_leaf=4, min_samples_split=2, n_estimators=200; total time=   0.0s\n",
      "[CV] END bootstrap=False, max_depth=40, max_features=sqrt, min_samples_leaf=1, min_samples_split=10, n_estimators=200; total time=   0.0s\n",
      "[CV] END bootstrap=False, max_depth=40, max_features=sqrt, min_samples_leaf=1, min_samples_split=10, n_estimators=200; total time=   0.0s\n",
      "[CV] END bootstrap=False, max_depth=40, max_features=sqrt, min_samples_leaf=1, min_samples_split=10, n_estimators=200; total time=   0.0s\n",
      "[CV] END bootstrap=False, max_depth=40, max_features=sqrt, min_samples_leaf=1, min_samples_split=10, n_estimators=200; total time=   0.0s\n",
      "[CV] END bootstrap=False, max_depth=40, max_features=sqrt, min_samples_leaf=1, min_samples_split=10, n_estimators=200; total time=   0.0s\n",
      "[CV] END bootstrap=True, max_depth=20, max_features=auto, min_samples_leaf=4, min_samples_split=5, n_estimators=1400; total time=   0.9s\n",
      "[CV] END bootstrap=True, max_depth=20, max_features=auto, min_samples_leaf=4, min_samples_split=5, n_estimators=1400; total time=   0.9s\n",
      "[CV] END bootstrap=True, max_depth=20, max_features=auto, min_samples_leaf=4, min_samples_split=5, n_estimators=1400; total time=   0.9s\n",
      "[CV] END bootstrap=True, max_depth=20, max_features=auto, min_samples_leaf=4, min_samples_split=5, n_estimators=1400; total time=   0.9s\n",
      "[CV] END bootstrap=True, max_depth=20, max_features=auto, min_samples_leaf=4, min_samples_split=5, n_estimators=1400; total time=   0.9s\n",
      "[CV] END bootstrap=False, max_depth=30, max_features=sqrt, min_samples_leaf=4, min_samples_split=10, n_estimators=200; total time=   0.0s\n",
      "[CV] END bootstrap=False, max_depth=30, max_features=sqrt, min_samples_leaf=4, min_samples_split=10, n_estimators=200; total time=   0.0s\n",
      "[CV] END bootstrap=False, max_depth=30, max_features=sqrt, min_samples_leaf=4, min_samples_split=10, n_estimators=200; total time=   0.0s\n",
      "[CV] END bootstrap=False, max_depth=30, max_features=sqrt, min_samples_leaf=4, min_samples_split=10, n_estimators=200; total time=   0.0s\n",
      "[CV] END bootstrap=False, max_depth=30, max_features=sqrt, min_samples_leaf=4, min_samples_split=10, n_estimators=200; total time=   0.0s\n",
      "[CV] END bootstrap=True, max_depth=60, max_features=auto, min_samples_leaf=1, min_samples_split=5, n_estimators=400; total time=   0.2s\n",
      "[CV] END bootstrap=True, max_depth=60, max_features=auto, min_samples_leaf=1, min_samples_split=5, n_estimators=400; total time=   0.2s\n",
      "[CV] END bootstrap=True, max_depth=60, max_features=auto, min_samples_leaf=1, min_samples_split=5, n_estimators=400; total time=   0.2s\n",
      "[CV] END bootstrap=True, max_depth=60, max_features=auto, min_samples_leaf=1, min_samples_split=5, n_estimators=400; total time=   0.2s\n",
      "[CV] END bootstrap=True, max_depth=60, max_features=auto, min_samples_leaf=1, min_samples_split=5, n_estimators=400; total time=   0.2s\n",
      "[CV] END bootstrap=True, max_depth=10, max_features=sqrt, min_samples_leaf=4, min_samples_split=5, n_estimators=1800; total time=   1.1s\n",
      "[CV] END bootstrap=True, max_depth=10, max_features=sqrt, min_samples_leaf=4, min_samples_split=5, n_estimators=1800; total time=   1.1s\n",
      "[CV] END bootstrap=True, max_depth=10, max_features=sqrt, min_samples_leaf=4, min_samples_split=5, n_estimators=1800; total time=   1.1s\n",
      "[CV] END bootstrap=True, max_depth=10, max_features=sqrt, min_samples_leaf=4, min_samples_split=5, n_estimators=1800; total time=   1.1s\n",
      "[CV] END bootstrap=True, max_depth=10, max_features=sqrt, min_samples_leaf=4, min_samples_split=5, n_estimators=1800; total time=   1.2s\n",
      "[CV] END bootstrap=False, max_depth=50, max_features=sqrt, min_samples_leaf=1, min_samples_split=5, n_estimators=10; total time=   0.0s\n",
      "[CV] END bootstrap=False, max_depth=50, max_features=sqrt, min_samples_leaf=1, min_samples_split=5, n_estimators=10; total time=   0.0s\n",
      "[CV] END bootstrap=False, max_depth=50, max_features=sqrt, min_samples_leaf=1, min_samples_split=5, n_estimators=10; total time=   0.0s\n",
      "[CV] END bootstrap=False, max_depth=50, max_features=sqrt, min_samples_leaf=1, min_samples_split=5, n_estimators=10; total time=   0.0s\n",
      "[CV] END bootstrap=False, max_depth=50, max_features=sqrt, min_samples_leaf=1, min_samples_split=5, n_estimators=10; total time=   0.0s\n",
      "[CV] END bootstrap=False, max_depth=20, max_features=auto, min_samples_leaf=4, min_samples_split=5, n_estimators=1800; total time=   0.9s\n",
      "[CV] END bootstrap=False, max_depth=20, max_features=auto, min_samples_leaf=4, min_samples_split=5, n_estimators=1800; total time=   1.0s\n",
      "[CV] END bootstrap=False, max_depth=20, max_features=auto, min_samples_leaf=4, min_samples_split=5, n_estimators=1800; total time=   0.9s\n",
      "[CV] END bootstrap=False, max_depth=20, max_features=auto, min_samples_leaf=4, min_samples_split=5, n_estimators=1800; total time=   0.9s\n",
      "[CV] END bootstrap=False, max_depth=20, max_features=auto, min_samples_leaf=4, min_samples_split=5, n_estimators=1800; total time=   0.9s\n",
      "[CV] END bootstrap=True, max_depth=20, max_features=auto, min_samples_leaf=4, min_samples_split=2, n_estimators=1800; total time=   1.2s\n",
      "[CV] END bootstrap=True, max_depth=20, max_features=auto, min_samples_leaf=4, min_samples_split=2, n_estimators=1800; total time=   1.2s\n",
      "[CV] END bootstrap=True, max_depth=20, max_features=auto, min_samples_leaf=4, min_samples_split=2, n_estimators=1800; total time=   1.2s\n",
      "[CV] END bootstrap=True, max_depth=20, max_features=auto, min_samples_leaf=4, min_samples_split=2, n_estimators=1800; total time=   1.2s\n",
      "[CV] END bootstrap=True, max_depth=20, max_features=auto, min_samples_leaf=4, min_samples_split=2, n_estimators=1800; total time=   1.2s\n",
      "[CV] END bootstrap=False, max_depth=100, max_features=auto, min_samples_leaf=2, min_samples_split=2, n_estimators=400; total time=   0.2s\n",
      "[CV] END bootstrap=False, max_depth=100, max_features=auto, min_samples_leaf=2, min_samples_split=2, n_estimators=400; total time=   0.2s\n",
      "[CV] END bootstrap=False, max_depth=100, max_features=auto, min_samples_leaf=2, min_samples_split=2, n_estimators=400; total time=   0.2s\n",
      "[CV] END bootstrap=False, max_depth=100, max_features=auto, min_samples_leaf=2, min_samples_split=2, n_estimators=400; total time=   0.2s\n"
     ]
    },
    {
     "name": "stdout",
     "output_type": "stream",
     "text": [
      "[CV] END bootstrap=False, max_depth=100, max_features=auto, min_samples_leaf=2, min_samples_split=2, n_estimators=400; total time=   0.2s\n",
      "[CV] END bootstrap=True, max_depth=70, max_features=auto, min_samples_leaf=1, min_samples_split=10, n_estimators=1200; total time=   0.8s\n",
      "[CV] END bootstrap=True, max_depth=70, max_features=auto, min_samples_leaf=1, min_samples_split=10, n_estimators=1200; total time=   0.8s\n",
      "[CV] END bootstrap=True, max_depth=70, max_features=auto, min_samples_leaf=1, min_samples_split=10, n_estimators=1200; total time=   0.8s\n",
      "[CV] END bootstrap=True, max_depth=70, max_features=auto, min_samples_leaf=1, min_samples_split=10, n_estimators=1200; total time=   0.8s\n",
      "[CV] END bootstrap=True, max_depth=70, max_features=auto, min_samples_leaf=1, min_samples_split=10, n_estimators=1200; total time=   0.8s\n",
      "[CV] END bootstrap=False, max_depth=30, max_features=auto, min_samples_leaf=1, min_samples_split=2, n_estimators=1800; total time=   1.3s\n",
      "[CV] END bootstrap=False, max_depth=30, max_features=auto, min_samples_leaf=1, min_samples_split=2, n_estimators=1800; total time=   1.2s\n",
      "[CV] END bootstrap=False, max_depth=30, max_features=auto, min_samples_leaf=1, min_samples_split=2, n_estimators=1800; total time=   1.2s\n",
      "[CV] END bootstrap=False, max_depth=30, max_features=auto, min_samples_leaf=1, min_samples_split=2, n_estimators=1800; total time=   1.2s\n",
      "[CV] END bootstrap=False, max_depth=30, max_features=auto, min_samples_leaf=1, min_samples_split=2, n_estimators=1800; total time=   1.2s\n"
     ]
    },
    {
     "data": {
      "text/plain": [
       "RandomForestRegressor(max_depth=30, min_samples_leaf=2, min_samples_split=5,\n",
       "                      n_estimators=400)"
      ]
     },
     "execution_count": 423,
     "metadata": {},
     "output_type": "execute_result"
    }
   ],
   "source": [
    "random_cv = RandomizedSearchCV(estimator=RandomForestRegressor(), param_distributions=parameters,\n",
    "                               n_iter=50, cv=5,\n",
    "                               verbose=2, random_state=0)\n",
    "random_cv.fit(train_X, train_y)\n",
    "random_cv.best_estimator_"
   ]
  },
  {
   "cell_type": "code",
   "execution_count": 49,
   "id": "6c66a36f",
   "metadata": {
    "ExecuteTime": {
     "end_time": "2021-08-24T12:09:19.537667Z",
     "start_time": "2021-08-24T12:09:19.252670Z"
    }
   },
   "outputs": [
    {
     "data": {
      "text/plain": [
       "RandomForestRegressor(max_depth=30, min_samples_leaf=2, min_samples_split=5,\n",
       "                      n_estimators=400)"
      ]
     },
     "execution_count": 49,
     "metadata": {},
     "output_type": "execute_result"
    }
   ],
   "source": [
    "forest_model = RandomForestRegressor(max_depth=30, min_samples_leaf=2, min_samples_split=5,\n",
    "                      n_estimators=400)\n",
    "forest_model.fit(train_X, train_y)"
   ]
  },
  {
   "cell_type": "code",
   "execution_count": 132,
   "id": "7b803300",
   "metadata": {
    "ExecuteTime": {
     "end_time": "2021-08-26T10:35:28.794308Z",
     "start_time": "2021-08-26T10:35:28.520863Z"
    }
   },
   "outputs": [
    {
     "data": {
      "text/plain": [
       "RandomForestRegressor(max_depth=60, min_samples_split=5, n_estimators=400)"
      ]
     },
     "execution_count": 132,
     "metadata": {},
     "output_type": "execute_result"
    }
   ],
   "source": [
    "forest_model = RandomForestRegressor(max_depth=60, min_samples_split=5, n_estimators=400)\n",
    "forest_model.fit(train_X, train_y)"
   ]
  },
  {
   "cell_type": "code",
   "execution_count": 133,
   "id": "3e291f62",
   "metadata": {
    "ExecuteTime": {
     "end_time": "2021-08-26T10:35:35.789212Z",
     "start_time": "2021-08-26T10:35:35.497376Z"
    }
   },
   "outputs": [
    {
     "name": "stdout",
     "output_type": "stream",
     "text": [
      "Random Forest Validation r2_score: 0.8483946411455049\n"
     ]
    }
   ],
   "source": [
    "forest_model.fit(train_X, train_y)\n",
    "rf_val_predictions = forest_model.predict(val_X)\n",
    "\n",
    "print('Random Forest Validation r2_score:', r2_score(val_y,rf_val_predictions))"
   ]
  },
  {
   "cell_type": "code",
   "execution_count": 60,
   "id": "3b986706",
   "metadata": {
    "ExecuteTime": {
     "end_time": "2021-08-24T12:10:48.170788Z",
     "start_time": "2021-08-24T12:10:47.993800Z"
    }
   },
   "outputs": [
    {
     "name": "stdout",
     "output_type": "stream",
     "text": [
      "Random Forest Validation r2_score: 0.7958887877203014\n"
     ]
    }
   ],
   "source": [
    "forest_model = RandomForestRegressor(max_depth=50, min_samples_leaf=2, min_samples_split=5,\n",
    "                       n_estimators=200)\n",
    "forest_model.fit(train_X, train_y)\n",
    "# Predict\n",
    "rf_val_predictions = forest_model.predict(val_X)\n",
    "\n",
    "print('Random Forest Validation r2_score:', r2_score(val_y,rf_val_predictions))"
   ]
  },
  {
   "cell_type": "code",
   "execution_count": 319,
   "id": "1fd8d0fd",
   "metadata": {
    "ExecuteTime": {
     "end_time": "2021-08-24T05:27:01.750819Z",
     "start_time": "2021-08-24T05:27:01.736820Z"
    }
   },
   "outputs": [
    {
     "name": "stdout",
     "output_type": "stream",
     "text": [
      "Mean Absolute Error using Random Forest: 27995626.057527985\n"
     ]
    }
   ],
   "source": [
    "## making predictions using the Random Forest algorithm \n",
    "\n",
    "lasso_model = Lasso(alpha = 1e-4, max_iter=50000)\n",
    "lasso_model.fit(train_X, train_y)\n",
    "predicted_lasso = lasso_model.predict(val_X)\n",
    "print(\"Mean Absolute Error using Random Forest:\", mean_absolute_error(val_y, predicted_lasso))"
   ]
  },
  {
   "cell_type": "code",
   "execution_count": 174,
   "id": "915e46c8",
   "metadata": {
    "ExecuteTime": {
     "end_time": "2021-08-23T12:22:48.615756Z",
     "start_time": "2021-08-23T12:22:48.600756Z"
    }
   },
   "outputs": [
    {
     "name": "stdout",
     "output_type": "stream",
     "text": [
      "Mean Absolute Error using Random Forest: 27995625.940784555\n"
     ]
    }
   ],
   "source": [
    "## making predictions using the Random Forest algorithm \n",
    "\n",
    "ridge_model = Ridge(alpha = 1e-4, max_iter=50000)\n",
    "ridge_model.fit(train_X, train_y)\n",
    "predicted_ridge = ridge_model.predict(val_X)\n",
    "print(\"Mean Absolute Error using Random Forest:\", mean_absolute_error(val_y, predicted_ridge))"
   ]
  },
  {
   "cell_type": "code",
   "execution_count": 164,
   "id": "a989a6a6",
   "metadata": {
    "ExecuteTime": {
     "end_time": "2021-08-26T11:04:42.904565Z",
     "start_time": "2021-08-26T11:04:29.795320Z"
    }
   },
   "outputs": [
    {
     "name": "stdout",
     "output_type": "stream",
     "text": [
      "Linear Regression Validation MAE:   57633.93758045159\n",
      "Lasso Validation MAE:   57557.435483359826\n",
      "Ridge Validation MAE:   57530.79825148515\n",
      "Decision Tree Validation MAE:   29391.372106775358\n",
      "Random Forest Validation MAE:   30475.98001798013\n",
      "----------------------------------------\n",
      "Linear Regression Validation rmse: 64256.70366256301\n",
      "Lasso Validation rmse: 64188.420690541556\n",
      "Ridge Validation rmse: 63608.06542431424\n",
      "Decision Tree Validation rmse: 54881.05336611545\n",
      "Random Forest Validation rmse: 48778.56001620973\n",
      "----------------------------------------\n",
      "Linear Regression Validation r2_score: 0.5018371812849249\n",
      "Lasso Validation r2_score: 0.5032351540498337\n",
      "Ridge Validation r2_score: 0.5050068729942518\n",
      "Decision Tree Validation r2_score: 0.8736089106241812\n",
      "Random Forest Validation r2_score: 0.8483946411455049\n"
     ]
    }
   ],
   "source": [
    "print('Linear Regression Validation MAE:  ',ln_val_mae)\n",
    "print('Lasso Validation MAE:  ',ls_val_mae)\n",
    "print('Ridge Validation MAE:  ',rg_val_mae)\n",
    "print('Decision Tree Validation MAE:  ',dt_val_mae)\n",
    "print('Random Forest Validation MAE:  ',rf_val_mae)\n",
    "print('----------------------------------------')\n",
    "\n",
    "\n",
    "print('Linear Regression Validation rmse:',rmse_cv(ln_model, val_X, val_y))\n",
    "print('Lasso Validation rmse:',rmse_cv(model_lasso, val_X, val_y))\n",
    "print('Ridge Validation rmse:',rmse_cv(model_ridge, val_X, val_y))\n",
    "print('Decision Tree Validation rmse:',rmse_cv(decision_model, val_X, val_y))\n",
    "print('Random Forest Validation rmse:',rmse_cv(forest_model, val_X, val_y))\n",
    "print('----------------------------------------')\n",
    "\n",
    "print('Linear Regression Validation r2_score:', r2_score(val_y,ln_val_predictions))\n",
    "print('Lasso Validation r2_score:', r2_score(val_y,ls_val_predictions))\n",
    "print('Ridge Validation r2_score:', r2_score(val_y,rg_val_predictions))\n",
    "print('Decision Tree Validation r2_score:', r2_score(val_y,dt_val_predictions))\n",
    "print('Random Forest Validation r2_score:', r2_score(val_y,rf_val_predictions))"
   ]
  },
  {
   "cell_type": "code",
   "execution_count": null,
   "id": "0db06293",
   "metadata": {},
   "outputs": [],
   "source": [
    "# save the model to disk\n",
    "filename = 'finalized_model.sav'\n",
    "pickle.dump(model, open(filename, 'wb'))\n",
    " \n",
    "# some time later...\n",
    " \n",
    "# load the model from disk\n",
    "loaded_model = pickle.load(open(filename, 'rb'))\n",
    "result = loaded_model.score(X_test, Y_test)\n",
    "print(result)"
   ]
  },
  {
   "cell_type": "markdown",
   "id": "54c43b3f",
   "metadata": {},
   "source": [
    "##### Selecting the final model"
   ]
  },
  {
   "cell_type": "code",
   "execution_count": null,
   "id": "a4c2525a",
   "metadata": {
    "ExecuteTime": {
     "end_time": "2021-08-23T01:03:53.594380Z",
     "start_time": "2021-08-23T01:03:53.568380Z"
    }
   },
   "outputs": [],
   "source": [
    "#SA+PHR+HN\n",
    "forest_model = RandomForestRegressor(n_estimators=100, max_depth=10)\n",
    "#SA+HN\n",
    "forest_model = RandomForestRegressor(n_estimators=100, max_depth=10)"
   ]
  },
  {
   "cell_type": "code",
   "execution_count": 244,
   "id": "b19b0210",
   "metadata": {
    "ExecuteTime": {
     "end_time": "2021-08-24T04:48:51.166431Z",
     "start_time": "2021-08-24T04:48:51.159433Z"
    }
   },
   "outputs": [],
   "source": [
    "my_model = forest_model"
   ]
  },
  {
   "cell_type": "code",
   "execution_count": 246,
   "id": "9f397796",
   "metadata": {
    "ExecuteTime": {
     "end_time": "2021-08-24T04:49:44.888130Z",
     "start_time": "2021-08-24T04:49:44.839130Z"
    }
   },
   "outputs": [
    {
     "name": "stdout",
     "output_type": "stream",
     "text": [
      "The predicted value for the maximum load is:  227539062.5\n"
     ]
    }
   ],
   "source": [
    "hole_number = 2\n",
    "outer_radius = 10\n",
    "hole_radius = 1\n",
    "distance_from_centre = 3\n",
    "sf_area = outer_radius*2*np.pi+hole_number*hole_radius*2*np.pi\n",
    "pellet_hole = outer_radius/hole_radius\n",
    "\n",
    "xx = [[ sf_area,hole_number,pellet_hole]]\n",
    "y_pred = my_model.predict(xx)\n",
    "print('The predicted value for the maximum load is: ',y_pred[0])"
   ]
  },
  {
   "cell_type": "code",
   "execution_count": 52,
   "id": "6df13583",
   "metadata": {
    "ExecuteTime": {
     "end_time": "2021-08-24T12:09:40.648220Z",
     "start_time": "2021-08-24T12:09:40.633221Z"
    }
   },
   "outputs": [],
   "source": [
    "#maximum\n",
    "forest_model = RandomForestRegressor(max_depth=50, n_estimators=200)"
   ]
  },
  {
   "cell_type": "code",
   "execution_count": 289,
   "id": "f3227619",
   "metadata": {
    "ExecuteTime": {
     "end_time": "2021-08-23T01:29:15.992906Z",
     "start_time": "2021-08-23T01:29:15.973935Z"
    }
   },
   "outputs": [
    {
     "data": {
      "text/plain": [
       "0.13638132599008948"
      ]
     },
     "execution_count": 289,
     "metadata": {},
     "output_type": "execute_result"
    }
   ],
   "source": [
    "(205078125-191439992.40099105)/1e8"
   ]
  },
  {
   "cell_type": "code",
   "execution_count": null,
   "id": "fd6008f0",
   "metadata": {},
   "outputs": [],
   "source": []
  },
  {
   "cell_type": "code",
   "execution_count": null,
   "id": "0d61d289",
   "metadata": {},
   "outputs": [],
   "source": []
  },
  {
   "cell_type": "code",
   "execution_count": 41,
   "id": "d58876fe",
   "metadata": {
    "ExecuteTime": {
     "end_time": "2021-08-24T11:58:39.542999Z",
     "start_time": "2021-08-24T11:58:39.525016Z"
    }
   },
   "outputs": [],
   "source": [
    "feature_names =  [ 'surface_area', 'hole_number','ratio pellet-hole','hole_radius','distance_from_centre']\n"
   ]
  },
  {
   "cell_type": "code",
   "execution_count": null,
   "id": "2ee83ae7",
   "metadata": {},
   "outputs": [],
   "source": [
    "hole_number = 2\n",
    "outer_radius = 10\n",
    "hole_radius = 1\n",
    "distance_from_centre = 3\n",
    "sf_area = outer_radius*2*np.pi+hole_number*hole_radius*2*np.pi\n",
    "pellet_hole = outer_radius/hole_radius"
   ]
  },
  {
   "cell_type": "code",
   "execution_count": null,
   "id": "22764c6d",
   "metadata": {
    "ExecuteTime": {
     "start_time": "2021-08-24T06:22:54.971Z"
    }
   },
   "outputs": [],
   "source": [
    "pi"
   ]
  },
  {
   "cell_type": "code",
   "execution_count": 1,
   "id": "a3935641",
   "metadata": {
    "ExecuteTime": {
     "end_time": "2021-08-24T06:23:51.068540Z",
     "start_time": "2021-08-24T06:23:51.061540Z"
    }
   },
   "outputs": [],
   "source": [
    "from math import pi, cos,sin"
   ]
  },
  {
   "cell_type": "code",
   "execution_count": 21,
   "id": "350f98d6",
   "metadata": {
    "ExecuteTime": {
     "end_time": "2021-08-24T06:34:24.033194Z",
     "start_time": "2021-08-24T06:34:24.028195Z"
    }
   },
   "outputs": [],
   "source": [
    "outer_radius = 10\n",
    "surface_area = 100\n",
    "residual = surface_area/(2*pi)-outer_radius\n",
    "#hole_radius= outer_radius/10\n",
    "d_from_c = 2*hole_radius\n",
    "hole_number = 2"
   ]
  },
  {
   "cell_type": "code",
   "execution_count": 22,
   "id": "cab5d7fe",
   "metadata": {
    "ExecuteTime": {
     "end_time": "2021-08-24T06:34:24.192086Z",
     "start_time": "2021-08-24T06:34:24.185090Z"
    }
   },
   "outputs": [
    {
     "data": {
      "text/plain": [
       "5.915494309189533"
      ]
     },
     "execution_count": 22,
     "metadata": {},
     "output_type": "execute_result"
    }
   ],
   "source": [
    "residual"
   ]
  },
  {
   "cell_type": "code",
   "execution_count": 25,
   "id": "5582d330",
   "metadata": {
    "ExecuteTime": {
     "end_time": "2021-08-24T06:34:48.235420Z",
     "start_time": "2021-08-24T06:34:48.223424Z"
    }
   },
   "outputs": [
    {
     "name": "stdout",
     "output_type": "stream",
     "text": [
      "2\n",
      "3\n",
      "4\n",
      "5\n"
     ]
    }
   ],
   "source": [
    "h = 2\n",
    "while residual/h>outer_radius/10:\n",
    "    print(h)\n",
    "    h+=1"
   ]
  },
  {
   "cell_type": "code",
   "execution_count": null,
   "id": "b7b7699e",
   "metadata": {},
   "outputs": [],
   "source": [
    "if negative\n",
    "print(falsae)"
   ]
  },
  {
   "cell_type": "code",
   "execution_count": 18,
   "id": "cb992737",
   "metadata": {
    "ExecuteTime": {
     "end_time": "2021-08-24T06:30:23.410005Z",
     "start_time": "2021-08-24T06:30:23.398005Z"
    }
   },
   "outputs": [],
   "source": [
    "hole_radius_list = []\n",
    "distance_list = []\n",
    "hole_number_list = []\n",
    "ratio_list = []\n",
    "\n",
    "while True:\n",
    "    while hole_radius+d_from_c<outer_radius:\n",
    "        residual_angle = (180-(360/hole_number))/2\n",
    "        cc_distance = d_from_c*cos(residual_angle*pi/180)*2\n",
    "        if 2*hole_radius<cc_distance:\n",
    "            \n",
    "            hole_radius_list.append(hole_radius)\n",
    "            distance_list.append(d_from_c)\n",
    "            hole_number_list.append(hole_number)\n",
    "            ratio_list.append(outer_radius/hole_radius)\n",
    "\n",
    "        d_from_c+=hole_radius\n",
    "\n",
    "    hole_number+=1\n",
    "    d_from_c=hole_radius*2\n",
    "    residual_angle = (180-(360/hole_number))/2\n",
    "\n",
    "    while 2.1*hole_radius>=(d_from_c*cos(residual_angle*pi/180)*2):\n",
    "        d_from_c+=hole_radius\n",
    "\n",
    "    if hole_radius+d_from_c>outer_radius:\n",
    "        break\n",
    "surface_area_list = [surface_area]*len(hole_number_list)"
   ]
  },
  {
   "cell_type": "code",
   "execution_count": 14,
   "id": "ac639840",
   "metadata": {
    "ExecuteTime": {
     "end_time": "2021-08-24T06:30:05.829211Z",
     "start_time": "2021-08-24T06:30:05.826210Z"
    }
   },
   "outputs": [
    {
     "data": {
      "text/plain": [
       "[]"
      ]
     },
     "execution_count": 14,
     "metadata": {},
     "output_type": "execute_result"
    }
   ],
   "source": [
    "hole_number_list"
   ]
  },
  {
   "cell_type": "code",
   "execution_count": null,
   "id": "5fb31c84",
   "metadata": {},
   "outputs": [],
   "source": [
    "from math import "
   ]
  },
  {
   "cell_type": "code",
   "execution_count": 531,
   "id": "5b520712",
   "metadata": {
    "ExecuteTime": {
     "end_time": "2021-08-26T15:34:33.652095Z",
     "start_time": "2021-08-26T15:34:33.231977Z"
    }
   },
   "outputs": [
    {
     "data": {
      "text/plain": [
       "RandomForestRegressor(max_depth=30, min_samples_leaf=2, min_samples_split=5,\n",
       "                      n_estimators=400)"
      ]
     },
     "execution_count": 531,
     "metadata": {},
     "output_type": "execute_result"
    }
   ],
   "source": [
    "# max model\n",
    "max_forest_model = RandomForestRegressor(\n",
    "n_estimators=400,\n",
    "min_samples_split= 5,\n",
    "min_samples_leaf= 2,\n",
    "max_features='auto',\n",
    "max_depth=30,\n",
    "bootstrap= True)\n",
    "max_forest_model.fit(train_X, train_y)"
   ]
  },
  {
   "cell_type": "code",
   "execution_count": 566,
   "id": "2780d428",
   "metadata": {
    "ExecuteTime": {
     "end_time": "2021-08-26T15:48:49.343922Z",
     "start_time": "2021-08-26T15:48:49.090485Z"
    }
   },
   "outputs": [
    {
     "data": {
      "text/plain": [
       "RandomForestRegressor(max_depth=50, n_estimators=200)"
      ]
     },
     "execution_count": 566,
     "metadata": {},
     "output_type": "execute_result"
    }
   ],
   "source": [
    "# min model\n",
    "min_forest_model = RandomForestRegressor(\n",
    "n_estimators=200,\n",
    "min_samples_split=2,\n",
    "min_samples_leaf=1,\n",
    "max_features= 'auto',\n",
    "max_depth=50,\n",
    "bootstrap=True)\n",
    "min_forest_model.fit(train_X, train_y)"
   ]
  },
  {
   "cell_type": "code",
   "execution_count": 567,
   "id": "8156d501",
   "metadata": {
    "ExecuteTime": {
     "end_time": "2021-08-26T15:49:49.963334Z",
     "start_time": "2021-08-26T15:49:49.923346Z"
    }
   },
   "outputs": [
    {
     "data": {
      "text/plain": [
       "0.9209161355617415"
      ]
     },
     "execution_count": 567,
     "metadata": {},
     "output_type": "execute_result"
    }
   ],
   "source": [
    "min_forest_model.score(val_X, val_y)"
   ]
  },
  {
   "cell_type": "code",
   "execution_count": 63,
   "id": "ef7c4120",
   "metadata": {
    "ExecuteTime": {
     "end_time": "2021-08-24T12:13:04.267791Z",
     "start_time": "2021-08-24T12:13:04.065710Z"
    }
   },
   "outputs": [
    {
     "name": "stdout",
     "output_type": "stream",
     "text": [
      "Random Forest Validation r2_score: 0.8078806099444926\n"
     ]
    }
   ],
   "source": [
    "forest_model.fit(train_X, train_y)\n",
    "rf_val_predictions = forest_model.predict(val_X)\n",
    "\n",
    "print('Random Forest Validation r2_score:', r2_score(val_y,rf_val_predictions))"
   ]
  },
  {
   "cell_type": "code",
   "execution_count": 532,
   "id": "08e49ebc",
   "metadata": {
    "ExecuteTime": {
     "end_time": "2021-08-26T15:34:37.235271Z",
     "start_time": "2021-08-26T15:34:37.199269Z"
    }
   },
   "outputs": [],
   "source": [
    "import pickle\n",
    "\n",
    "max_model = \"max_model.pkl\"\n",
    "\n",
    "with open(max_model, 'wb') as file:\n",
    "    pickle.dump(max_forest_model, file)"
   ]
  },
  {
   "cell_type": "code",
   "execution_count": 568,
   "id": "17248e58",
   "metadata": {
    "ExecuteTime": {
     "end_time": "2021-08-26T15:50:02.231646Z",
     "start_time": "2021-08-26T15:50:02.210650Z"
    }
   },
   "outputs": [],
   "source": [
    "min_model = \"min_model.pkl\"\n",
    "\n",
    "with open(min_model, 'wb') as file:\n",
    "    pickle.dump(min_forest_model, file)"
   ]
  },
  {
   "cell_type": "code",
   "execution_count": 569,
   "id": "bc6201fb",
   "metadata": {
    "ExecuteTime": {
     "end_time": "2021-08-26T15:50:06.027624Z",
     "start_time": "2021-08-26T15:50:05.993638Z"
    }
   },
   "outputs": [
    {
     "data": {
      "text/plain": [
       "RandomForestRegressor(max_depth=50, n_estimators=200)"
      ]
     },
     "execution_count": 569,
     "metadata": {},
     "output_type": "execute_result"
    }
   ],
   "source": [
    "with open(\"min_model.pkl\", 'rb') as file:  \n",
    "    min_rf_model = pickle.load(file)\n",
    "\n",
    "min_rf_model"
   ]
  },
  {
   "cell_type": "code",
   "execution_count": 557,
   "id": "a377cbe2",
   "metadata": {
    "ExecuteTime": {
     "end_time": "2021-08-26T15:46:12.936748Z",
     "start_time": "2021-08-26T15:46:12.919749Z"
    }
   },
   "outputs": [
    {
     "data": {
      "text/plain": [
       "{'bootstrap': True,\n",
       " 'ccp_alpha': 0.0,\n",
       " 'criterion': 'mse',\n",
       " 'max_depth': 50,\n",
       " 'max_features': 'auto',\n",
       " 'max_leaf_nodes': None,\n",
       " 'max_samples': None,\n",
       " 'min_impurity_decrease': 0.0,\n",
       " 'min_impurity_split': None,\n",
       " 'min_samples_leaf': 1,\n",
       " 'min_samples_split': 2,\n",
       " 'min_weight_fraction_leaf': 0.0,\n",
       " 'n_estimators': 200,\n",
       " 'n_jobs': None,\n",
       " 'oob_score': False,\n",
       " 'random_state': None,\n",
       " 'verbose': 0,\n",
       " 'warm_start': False}"
      ]
     },
     "execution_count": 557,
     "metadata": {},
     "output_type": "execute_result"
    }
   ],
   "source": [
    "min_rf_model.get_params()"
   ]
  },
  {
   "cell_type": "code",
   "execution_count": null,
   "id": "65751143",
   "metadata": {
    "ExecuteTime": {
     "end_time": "2021-08-26T15:39:49.567098Z",
     "start_time": "2021-08-26T15:39:49.524089Z"
    }
   },
   "outputs": [],
   "source": []
  },
  {
   "cell_type": "code",
   "execution_count": 547,
   "id": "5300cd0f",
   "metadata": {
    "ExecuteTime": {
     "end_time": "2021-08-26T15:42:05.835324Z",
     "start_time": "2021-08-26T15:42:05.816325Z"
    }
   },
   "outputs": [],
   "source": [
    "from math import *"
   ]
  },
  {
   "cell_type": "code",
   "execution_count": 558,
   "id": "13796276",
   "metadata": {
    "ExecuteTime": {
     "end_time": "2021-08-26T15:46:16.777535Z",
     "start_time": "2021-08-26T15:46:16.761851Z"
    }
   },
   "outputs": [],
   "source": [
    "R = 0.1\n",
    "r = 0.018\n",
    "hn = 2\n",
    "dis = 0.036\n",
    "sf = 2*pi*(R+r*hn)\n",
    "rph = R/r"
   ]
  },
  {
   "cell_type": "code",
   "execution_count": 570,
   "id": "6cbddae6",
   "metadata": {
    "ExecuteTime": {
     "end_time": "2021-08-26T15:50:13.201662Z",
     "start_time": "2021-08-26T15:50:13.166115Z"
    }
   },
   "outputs": [
    {
     "data": {
      "text/plain": [
       "170548.436734511"
      ]
     },
     "execution_count": 570,
     "metadata": {},
     "output_type": "execute_result"
    }
   ],
   "source": [
    "min_rf_model.predict(xx)[0]"
   ]
  },
  {
   "cell_type": "code",
   "execution_count": 563,
   "id": "9e45073b",
   "metadata": {
    "ExecuteTime": {
     "end_time": "2021-08-26T15:47:30.451578Z",
     "start_time": "2021-08-26T15:47:30.434579Z"
    }
   },
   "outputs": [
    {
     "data": {
      "text/plain": [
       "2.1364109153206017"
      ]
     },
     "execution_count": 563,
     "metadata": {},
     "output_type": "execute_result"
    }
   ],
   "source": [
    "213119506.835937/99755859.375"
   ]
  },
  {
   "cell_type": "code",
   "execution_count": 562,
   "id": "6693bb73",
   "metadata": {
    "ExecuteTime": {
     "end_time": "2021-08-26T15:46:37.689052Z",
     "start_time": "2021-08-26T15:46:37.675958Z"
    }
   },
   "outputs": [
    {
     "data": {
      "text/plain": [
       "174106.81942502025"
      ]
     },
     "execution_count": 562,
     "metadata": {},
     "output_type": "execute_result"
    }
   ],
   "source": [
    "9975585.9375*pi/180"
   ]
  },
  {
   "cell_type": "code",
   "execution_count": 560,
   "id": "6a4ad5a3",
   "metadata": {
    "ExecuteTime": {
     "end_time": "2021-08-26T15:46:31.877063Z",
     "start_time": "2021-08-26T15:46:31.870051Z"
    }
   },
   "outputs": [],
   "source": [
    "xx = pd.DataFrame({'surface_area':[sf],'hole_number':[hn],\n",
    "                   'ratio pellet_hole':[rph],'hole_radius':[r],\n",
    "                  'distance_from_centre':[dis]})"
   ]
  },
  {
   "cell_type": "code",
   "execution_count": 546,
   "id": "dfd01052",
   "metadata": {
    "ExecuteTime": {
     "end_time": "2021-08-26T15:39:58.968612Z",
     "start_time": "2021-08-26T15:39:58.949611Z"
    }
   },
   "outputs": [
    {
     "data": {
      "text/html": [
       "<div>\n",
       "<style scoped>\n",
       "    .dataframe tbody tr th:only-of-type {\n",
       "        vertical-align: middle;\n",
       "    }\n",
       "\n",
       "    .dataframe tbody tr th {\n",
       "        vertical-align: top;\n",
       "    }\n",
       "\n",
       "    .dataframe thead th {\n",
       "        text-align: right;\n",
       "    }\n",
       "</style>\n",
       "<table border=\"1\" class=\"dataframe\">\n",
       "  <thead>\n",
       "    <tr style=\"text-align: right;\">\n",
       "      <th></th>\n",
       "      <th>surface_area</th>\n",
       "      <th>hole_number</th>\n",
       "      <th>ratio pellet-hole</th>\n",
       "      <th>hole_radius</th>\n",
       "      <th>distance_from_centre</th>\n",
       "    </tr>\n",
       "  </thead>\n",
       "  <tbody>\n",
       "    <tr>\n",
       "      <th>262</th>\n",
       "      <td>0.892212</td>\n",
       "      <td>7</td>\n",
       "      <td>16.666667</td>\n",
       "      <td>0.006</td>\n",
       "      <td>0.048</td>\n",
       "    </tr>\n",
       "    <tr>\n",
       "      <th>174</th>\n",
       "      <td>0.879646</td>\n",
       "      <td>5</td>\n",
       "      <td>12.500000</td>\n",
       "      <td>0.008</td>\n",
       "      <td>0.080</td>\n",
       "    </tr>\n",
       "    <tr>\n",
       "      <th>157</th>\n",
       "      <td>0.929911</td>\n",
       "      <td>4</td>\n",
       "      <td>8.333333</td>\n",
       "      <td>0.012</td>\n",
       "      <td>0.072</td>\n",
       "    </tr>\n",
       "    <tr>\n",
       "      <th>246</th>\n",
       "      <td>1.193805</td>\n",
       "      <td>6</td>\n",
       "      <td>6.666667</td>\n",
       "      <td>0.015</td>\n",
       "      <td>0.075</td>\n",
       "    </tr>\n",
       "    <tr>\n",
       "      <th>150</th>\n",
       "      <td>0.879646</td>\n",
       "      <td>4</td>\n",
       "      <td>10.000000</td>\n",
       "      <td>0.010</td>\n",
       "      <td>0.060</td>\n",
       "    </tr>\n",
       "    <tr>\n",
       "      <th>...</th>\n",
       "      <td>...</td>\n",
       "      <td>...</td>\n",
       "      <td>...</td>\n",
       "      <td>...</td>\n",
       "      <td>...</td>\n",
       "    </tr>\n",
       "    <tr>\n",
       "      <th>41</th>\n",
       "      <td>0.728849</td>\n",
       "      <td>2</td>\n",
       "      <td>12.500000</td>\n",
       "      <td>0.008</td>\n",
       "      <td>0.016</td>\n",
       "    </tr>\n",
       "    <tr>\n",
       "      <th>127</th>\n",
       "      <td>0.829380</td>\n",
       "      <td>4</td>\n",
       "      <td>12.500000</td>\n",
       "      <td>0.008</td>\n",
       "      <td>0.080</td>\n",
       "    </tr>\n",
       "    <tr>\n",
       "      <th>260</th>\n",
       "      <td>0.892212</td>\n",
       "      <td>7</td>\n",
       "      <td>16.666667</td>\n",
       "      <td>0.006</td>\n",
       "      <td>0.072</td>\n",
       "    </tr>\n",
       "    <tr>\n",
       "      <th>217</th>\n",
       "      <td>0.929911</td>\n",
       "      <td>6</td>\n",
       "      <td>12.500000</td>\n",
       "      <td>0.008</td>\n",
       "      <td>0.064</td>\n",
       "    </tr>\n",
       "    <tr>\n",
       "      <th>180</th>\n",
       "      <td>0.879646</td>\n",
       "      <td>5</td>\n",
       "      <td>12.500000</td>\n",
       "      <td>0.008</td>\n",
       "      <td>0.056</td>\n",
       "    </tr>\n",
       "  </tbody>\n",
       "</table>\n",
       "<p>81 rows × 5 columns</p>\n",
       "</div>"
      ],
      "text/plain": [
       "     surface_area  hole_number  ratio pellet-hole  hole_radius  \\\n",
       "262      0.892212            7          16.666667        0.006   \n",
       "174      0.879646            5          12.500000        0.008   \n",
       "157      0.929911            4           8.333333        0.012   \n",
       "246      1.193805            6           6.666667        0.015   \n",
       "150      0.879646            4          10.000000        0.010   \n",
       "..            ...          ...                ...          ...   \n",
       "41       0.728849            2          12.500000        0.008   \n",
       "127      0.829380            4          12.500000        0.008   \n",
       "260      0.892212            7          16.666667        0.006   \n",
       "217      0.929911            6          12.500000        0.008   \n",
       "180      0.879646            5          12.500000        0.008   \n",
       "\n",
       "     distance_from_centre  \n",
       "262                 0.048  \n",
       "174                 0.080  \n",
       "157                 0.072  \n",
       "246                 0.075  \n",
       "150                 0.060  \n",
       "..                    ...  \n",
       "41                  0.016  \n",
       "127                 0.080  \n",
       "260                 0.072  \n",
       "217                 0.064  \n",
       "180                 0.056  \n",
       "\n",
       "[81 rows x 5 columns]"
      ]
     },
     "execution_count": 546,
     "metadata": {},
     "output_type": "execute_result"
    }
   ],
   "source": [
    "val_X"
   ]
  },
  {
   "cell_type": "code",
   "execution_count": null,
   "id": "5078bafc",
   "metadata": {},
   "outputs": [],
   "source": []
  },
  {
   "cell_type": "code",
   "execution_count": null,
   "id": "bfa56aa7",
   "metadata": {},
   "outputs": [],
   "source": []
  },
  {
   "cell_type": "code",
   "execution_count": null,
   "id": "aeae40a1",
   "metadata": {},
   "outputs": [],
   "source": []
  },
  {
   "cell_type": "code",
   "execution_count": null,
   "id": "badece9e",
   "metadata": {},
   "outputs": [],
   "source": []
  },
  {
   "cell_type": "code",
   "execution_count": null,
   "id": "7a826a56",
   "metadata": {},
   "outputs": [],
   "source": []
  },
  {
   "cell_type": "code",
   "execution_count": 538,
   "id": "addfe398",
   "metadata": {
    "ExecuteTime": {
     "end_time": "2021-08-26T15:35:10.208044Z",
     "start_time": "2021-08-26T15:35:10.162045Z"
    }
   },
   "outputs": [
    {
     "ename": "KeyError",
     "evalue": "0",
     "output_type": "error",
     "traceback": [
      "\u001b[1;31m---------------------------------------------------------------------------\u001b[0m",
      "\u001b[1;31mKeyError\u001b[0m                                  Traceback (most recent call last)",
      "\u001b[1;32md:\\python\\lib\\site-packages\\pandas\\core\\indexes\\base.py\u001b[0m in \u001b[0;36mget_loc\u001b[1;34m(self, key, method, tolerance)\u001b[0m\n\u001b[0;32m   3079\u001b[0m             \u001b[1;32mtry\u001b[0m\u001b[1;33m:\u001b[0m\u001b[1;33m\u001b[0m\u001b[1;33m\u001b[0m\u001b[0m\n\u001b[1;32m-> 3080\u001b[1;33m                 \u001b[1;32mreturn\u001b[0m \u001b[0mself\u001b[0m\u001b[1;33m.\u001b[0m\u001b[0m_engine\u001b[0m\u001b[1;33m.\u001b[0m\u001b[0mget_loc\u001b[0m\u001b[1;33m(\u001b[0m\u001b[0mcasted_key\u001b[0m\u001b[1;33m)\u001b[0m\u001b[1;33m\u001b[0m\u001b[1;33m\u001b[0m\u001b[0m\n\u001b[0m\u001b[0;32m   3081\u001b[0m             \u001b[1;32mexcept\u001b[0m \u001b[0mKeyError\u001b[0m \u001b[1;32mas\u001b[0m \u001b[0merr\u001b[0m\u001b[1;33m:\u001b[0m\u001b[1;33m\u001b[0m\u001b[1;33m\u001b[0m\u001b[0m\n",
      "\u001b[1;32mpandas\\_libs\\index.pyx\u001b[0m in \u001b[0;36mpandas._libs.index.IndexEngine.get_loc\u001b[1;34m()\u001b[0m\n",
      "\u001b[1;32mpandas\\_libs\\index.pyx\u001b[0m in \u001b[0;36mpandas._libs.index.IndexEngine.get_loc\u001b[1;34m()\u001b[0m\n",
      "\u001b[1;32mpandas\\_libs\\hashtable_class_helper.pxi\u001b[0m in \u001b[0;36mpandas._libs.hashtable.PyObjectHashTable.get_item\u001b[1;34m()\u001b[0m\n",
      "\u001b[1;32mpandas\\_libs\\hashtable_class_helper.pxi\u001b[0m in \u001b[0;36mpandas._libs.hashtable.PyObjectHashTable.get_item\u001b[1;34m()\u001b[0m\n",
      "\u001b[1;31mKeyError\u001b[0m: 0",
      "\nThe above exception was the direct cause of the following exception:\n",
      "\u001b[1;31mKeyError\u001b[0m                                  Traceback (most recent call last)",
      "\u001b[1;32m<ipython-input-538-6471565d8a0d>\u001b[0m in \u001b[0;36m<module>\u001b[1;34m\u001b[0m\n\u001b[1;32m----> 1\u001b[1;33m \u001b[0mtrain_X\u001b[0m\u001b[1;33m[\u001b[0m\u001b[1;36m0\u001b[0m\u001b[1;33m]\u001b[0m\u001b[1;33m\u001b[0m\u001b[1;33m\u001b[0m\u001b[0m\n\u001b[0m",
      "\u001b[1;32md:\\python\\lib\\site-packages\\pandas\\core\\frame.py\u001b[0m in \u001b[0;36m__getitem__\u001b[1;34m(self, key)\u001b[0m\n\u001b[0;32m   3022\u001b[0m             \u001b[1;32mif\u001b[0m \u001b[0mself\u001b[0m\u001b[1;33m.\u001b[0m\u001b[0mcolumns\u001b[0m\u001b[1;33m.\u001b[0m\u001b[0mnlevels\u001b[0m \u001b[1;33m>\u001b[0m \u001b[1;36m1\u001b[0m\u001b[1;33m:\u001b[0m\u001b[1;33m\u001b[0m\u001b[1;33m\u001b[0m\u001b[0m\n\u001b[0;32m   3023\u001b[0m                 \u001b[1;32mreturn\u001b[0m \u001b[0mself\u001b[0m\u001b[1;33m.\u001b[0m\u001b[0m_getitem_multilevel\u001b[0m\u001b[1;33m(\u001b[0m\u001b[0mkey\u001b[0m\u001b[1;33m)\u001b[0m\u001b[1;33m\u001b[0m\u001b[1;33m\u001b[0m\u001b[0m\n\u001b[1;32m-> 3024\u001b[1;33m             \u001b[0mindexer\u001b[0m \u001b[1;33m=\u001b[0m \u001b[0mself\u001b[0m\u001b[1;33m.\u001b[0m\u001b[0mcolumns\u001b[0m\u001b[1;33m.\u001b[0m\u001b[0mget_loc\u001b[0m\u001b[1;33m(\u001b[0m\u001b[0mkey\u001b[0m\u001b[1;33m)\u001b[0m\u001b[1;33m\u001b[0m\u001b[1;33m\u001b[0m\u001b[0m\n\u001b[0m\u001b[0;32m   3025\u001b[0m             \u001b[1;32mif\u001b[0m \u001b[0mis_integer\u001b[0m\u001b[1;33m(\u001b[0m\u001b[0mindexer\u001b[0m\u001b[1;33m)\u001b[0m\u001b[1;33m:\u001b[0m\u001b[1;33m\u001b[0m\u001b[1;33m\u001b[0m\u001b[0m\n\u001b[0;32m   3026\u001b[0m                 \u001b[0mindexer\u001b[0m \u001b[1;33m=\u001b[0m \u001b[1;33m[\u001b[0m\u001b[0mindexer\u001b[0m\u001b[1;33m]\u001b[0m\u001b[1;33m\u001b[0m\u001b[1;33m\u001b[0m\u001b[0m\n",
      "\u001b[1;32md:\\python\\lib\\site-packages\\pandas\\core\\indexes\\base.py\u001b[0m in \u001b[0;36mget_loc\u001b[1;34m(self, key, method, tolerance)\u001b[0m\n\u001b[0;32m   3080\u001b[0m                 \u001b[1;32mreturn\u001b[0m \u001b[0mself\u001b[0m\u001b[1;33m.\u001b[0m\u001b[0m_engine\u001b[0m\u001b[1;33m.\u001b[0m\u001b[0mget_loc\u001b[0m\u001b[1;33m(\u001b[0m\u001b[0mcasted_key\u001b[0m\u001b[1;33m)\u001b[0m\u001b[1;33m\u001b[0m\u001b[1;33m\u001b[0m\u001b[0m\n\u001b[0;32m   3081\u001b[0m             \u001b[1;32mexcept\u001b[0m \u001b[0mKeyError\u001b[0m \u001b[1;32mas\u001b[0m \u001b[0merr\u001b[0m\u001b[1;33m:\u001b[0m\u001b[1;33m\u001b[0m\u001b[1;33m\u001b[0m\u001b[0m\n\u001b[1;32m-> 3082\u001b[1;33m                 \u001b[1;32mraise\u001b[0m \u001b[0mKeyError\u001b[0m\u001b[1;33m(\u001b[0m\u001b[0mkey\u001b[0m\u001b[1;33m)\u001b[0m \u001b[1;32mfrom\u001b[0m \u001b[0merr\u001b[0m\u001b[1;33m\u001b[0m\u001b[1;33m\u001b[0m\u001b[0m\n\u001b[0m\u001b[0;32m   3083\u001b[0m \u001b[1;33m\u001b[0m\u001b[0m\n\u001b[0;32m   3084\u001b[0m         \u001b[1;32mif\u001b[0m \u001b[0mtolerance\u001b[0m \u001b[1;32mis\u001b[0m \u001b[1;32mnot\u001b[0m \u001b[1;32mNone\u001b[0m\u001b[1;33m:\u001b[0m\u001b[1;33m\u001b[0m\u001b[1;33m\u001b[0m\u001b[0m\n",
      "\u001b[1;31mKeyError\u001b[0m: 0"
     ]
    }
   ],
   "source": [
    "train_X"
   ]
  },
  {
   "cell_type": "code",
   "execution_count": null,
   "id": "5e457d7a",
   "metadata": {},
   "outputs": [],
   "source": [
    "'surface_area', 'hole_number','ratio pellet-hole','hole_radius','distance_from_centre'"
   ]
  },
  {
   "cell_type": "code",
   "execution_count": 474,
   "id": "1234b439",
   "metadata": {
    "ExecuteTime": {
     "end_time": "2021-08-26T15:17:06.584959Z",
     "start_time": "2021-08-26T15:17:06.566957Z"
    }
   },
   "outputs": [
    {
     "data": {
      "text/html": [
       "<div>\n",
       "<style scoped>\n",
       "    .dataframe tbody tr th:only-of-type {\n",
       "        vertical-align: middle;\n",
       "    }\n",
       "\n",
       "    .dataframe tbody tr th {\n",
       "        vertical-align: top;\n",
       "    }\n",
       "\n",
       "    .dataframe thead th {\n",
       "        text-align: right;\n",
       "    }\n",
       "</style>\n",
       "<table border=\"1\" class=\"dataframe\">\n",
       "  <thead>\n",
       "    <tr style=\"text-align: right;\">\n",
       "      <th></th>\n",
       "      <th>surface_area</th>\n",
       "      <th>hole_number</th>\n",
       "      <th>ratio pellet-hole</th>\n",
       "      <th>hole_radius</th>\n",
       "      <th>distance_from_centre</th>\n",
       "    </tr>\n",
       "  </thead>\n",
       "  <tbody>\n",
       "    <tr>\n",
       "      <th>0</th>\n",
       "      <td>1.080708</td>\n",
       "      <td>9</td>\n",
       "      <td>12.500000</td>\n",
       "      <td>0.008</td>\n",
       "      <td>0.072</td>\n",
       "    </tr>\n",
       "    <tr>\n",
       "      <th>1</th>\n",
       "      <td>1.080708</td>\n",
       "      <td>9</td>\n",
       "      <td>12.500000</td>\n",
       "      <td>0.008</td>\n",
       "      <td>0.080</td>\n",
       "    </tr>\n",
       "    <tr>\n",
       "      <th>2</th>\n",
       "      <td>1.080708</td>\n",
       "      <td>9</td>\n",
       "      <td>12.500000</td>\n",
       "      <td>0.008</td>\n",
       "      <td>0.048</td>\n",
       "    </tr>\n",
       "    <tr>\n",
       "      <th>3</th>\n",
       "      <td>1.080708</td>\n",
       "      <td>9</td>\n",
       "      <td>12.500000</td>\n",
       "      <td>0.008</td>\n",
       "      <td>0.088</td>\n",
       "    </tr>\n",
       "    <tr>\n",
       "      <th>4</th>\n",
       "      <td>1.080708</td>\n",
       "      <td>9</td>\n",
       "      <td>12.500000</td>\n",
       "      <td>0.008</td>\n",
       "      <td>0.040</td>\n",
       "    </tr>\n",
       "    <tr>\n",
       "      <th>...</th>\n",
       "      <td>...</td>\n",
       "      <td>...</td>\n",
       "      <td>...</td>\n",
       "      <td>...</td>\n",
       "      <td>...</td>\n",
       "    </tr>\n",
       "    <tr>\n",
       "      <th>317</th>\n",
       "      <td>1.231504</td>\n",
       "      <td>8</td>\n",
       "      <td>8.333333</td>\n",
       "      <td>0.012</td>\n",
       "      <td>0.048</td>\n",
       "    </tr>\n",
       "    <tr>\n",
       "      <th>318</th>\n",
       "      <td>1.231504</td>\n",
       "      <td>8</td>\n",
       "      <td>8.333333</td>\n",
       "      <td>0.012</td>\n",
       "      <td>0.084</td>\n",
       "    </tr>\n",
       "    <tr>\n",
       "      <th>319</th>\n",
       "      <td>1.382301</td>\n",
       "      <td>8</td>\n",
       "      <td>6.666667</td>\n",
       "      <td>0.015</td>\n",
       "      <td>0.060</td>\n",
       "    </tr>\n",
       "    <tr>\n",
       "      <th>320</th>\n",
       "      <td>1.382301</td>\n",
       "      <td>8</td>\n",
       "      <td>6.666667</td>\n",
       "      <td>0.015</td>\n",
       "      <td>0.075</td>\n",
       "    </tr>\n",
       "    <tr>\n",
       "      <th>321</th>\n",
       "      <td>1.533097</td>\n",
       "      <td>8</td>\n",
       "      <td>5.555556</td>\n",
       "      <td>0.018</td>\n",
       "      <td>0.072</td>\n",
       "    </tr>\n",
       "  </tbody>\n",
       "</table>\n",
       "<p>322 rows × 5 columns</p>\n",
       "</div>"
      ],
      "text/plain": [
       "     surface_area  hole_number  ratio pellet-hole  hole_radius  \\\n",
       "0        1.080708            9          12.500000        0.008   \n",
       "1        1.080708            9          12.500000        0.008   \n",
       "2        1.080708            9          12.500000        0.008   \n",
       "3        1.080708            9          12.500000        0.008   \n",
       "4        1.080708            9          12.500000        0.008   \n",
       "..            ...          ...                ...          ...   \n",
       "317      1.231504            8           8.333333        0.012   \n",
       "318      1.231504            8           8.333333        0.012   \n",
       "319      1.382301            8           6.666667        0.015   \n",
       "320      1.382301            8           6.666667        0.015   \n",
       "321      1.533097            8           5.555556        0.018   \n",
       "\n",
       "     distance_from_centre  \n",
       "0                   0.072  \n",
       "1                   0.080  \n",
       "2                   0.048  \n",
       "3                   0.088  \n",
       "4                   0.040  \n",
       "..                    ...  \n",
       "317                 0.048  \n",
       "318                 0.084  \n",
       "319                 0.060  \n",
       "320                 0.075  \n",
       "321                 0.072  \n",
       "\n",
       "[322 rows x 5 columns]"
      ]
     },
     "execution_count": 474,
     "metadata": {},
     "output_type": "execute_result"
    }
   ],
   "source": [
    "X"
   ]
  },
  {
   "cell_type": "code",
   "execution_count": null,
   "id": "3e8efc6a",
   "metadata": {},
   "outputs": [],
   "source": []
  },
  {
   "cell_type": "code",
   "execution_count": null,
   "id": "6a97b73a",
   "metadata": {},
   "outputs": [],
   "source": []
  },
  {
   "cell_type": "code",
   "execution_count": null,
   "id": "87d87407",
   "metadata": {},
   "outputs": [],
   "source": [
    "with open(Pkl_Filename, 'rb') as file:  \n",
    "    load_rf_model = pickle.load(file)\n",
    "\n",
    "load_rf_model"
   ]
  },
  {
   "cell_type": "code",
   "execution_count": null,
   "id": "1767a8d3",
   "metadata": {},
   "outputs": [],
   "source": []
  },
  {
   "cell_type": "code",
   "execution_count": null,
   "id": "2f81a0da",
   "metadata": {},
   "outputs": [],
   "source": []
  },
  {
   "cell_type": "code",
   "execution_count": null,
   "id": "39d1cdca",
   "metadata": {},
   "outputs": [],
   "source": []
  },
  {
   "cell_type": "code",
   "execution_count": null,
   "id": "18c3b704",
   "metadata": {},
   "outputs": [],
   "source": []
  },
  {
   "cell_type": "code",
   "execution_count": null,
   "id": "0492cfe3",
   "metadata": {},
   "outputs": [],
   "source": []
  },
  {
   "cell_type": "code",
   "execution_count": null,
   "id": "e2caf294",
   "metadata": {},
   "outputs": [],
   "source": []
  },
  {
   "cell_type": "code",
   "execution_count": null,
   "id": "26c77070",
   "metadata": {},
   "outputs": [],
   "source": []
  },
  {
   "cell_type": "code",
   "execution_count": null,
   "id": "4251078b",
   "metadata": {},
   "outputs": [],
   "source": []
  },
  {
   "cell_type": "code",
   "execution_count": null,
   "id": "3832377a",
   "metadata": {},
   "outputs": [],
   "source": []
  },
  {
   "cell_type": "code",
   "execution_count": null,
   "id": "3c4f7b04",
   "metadata": {},
   "outputs": [],
   "source": []
  },
  {
   "cell_type": "code",
   "execution_count": 86,
   "id": "1f182be4",
   "metadata": {
    "ExecuteTime": {
     "end_time": "2021-08-26T01:12:09.950151Z",
     "start_time": "2021-08-26T01:12:08.633425Z"
    }
   },
   "outputs": [
    {
     "name": "stdout",
     "output_type": "stream",
     "text": [
      "Please Enter number: 3\n",
      "3\n",
      "<class 'int'>\n",
      "True\n"
     ]
    }
   ],
   "source": [
    "x = input('Please Enter number: ')\n",
    "print(x)\n",
    "print(type(3))\n",
    "print(int(x)==3)"
   ]
  },
  {
   "cell_type": "code",
   "execution_count": 88,
   "id": "b1a5a70e",
   "metadata": {
    "ExecuteTime": {
     "end_time": "2021-08-26T01:16:48.161649Z",
     "start_time": "2021-08-26T01:16:45.941249Z"
    }
   },
   "outputs": [
    {
     "name": "stdout",
     "output_type": "stream",
     "text": [
      "Please Enter the outer_radius(in m): 1\n"
     ]
    },
    {
     "data": {
      "text/plain": [
       "str"
      ]
     },
     "execution_count": 88,
     "metadata": {},
     "output_type": "execute_result"
    }
   ],
   "source": [
    "x = input('Please Enter the outer_radius(in m): ')\n",
    "type(x)"
   ]
  },
  {
   "cell_type": "code",
   "execution_count": null,
   "id": "53d52174",
   "metadata": {},
   "outputs": [],
   "source": [
    "for i in range(number_of_holes):\n",
    "\n",
    "                        width_s = d_from_c*cos(angle*i+angle_step*pi/180)\n",
    "                        height_s = d_from_c*sin(angle*i+angle_step*pi/180)\n",
    "\n",
    "                        # print((angle*i+angle_step*angle_contact))\n",
    "                        # centre\n",
    "                        gmsh.model.geo.addPoint(\n",
    "                            width_s, height_s, 0, mesh_size, 6+i*j)\n",
    "                            # rr*cos(angle*i), rr*sin(angle*i), 0, 0.1, 6+i*j)\n",
    "                        # four points in the circle\n",
    "                        gmsh.model.geo.addPoint(width_s+hole_radius/sqrt(2),\n",
    "                                                height_s+hole_radius/sqrt(2), 0, mesh_size, 7+i*j)\n",
    "                        gmsh.model.geo.addPoint(width_s-hole_radius/sqrt(2),\n",
    "                                                height_s-hole_radius/sqrt(2), 0, mesh_size, 8+i*j)\n",
    "                        gmsh.model.geo.addPoint(width_s-hole_radius/sqrt(2),\n",
    "                                                height_s+hole_radius/sqrt(2),  0, mesh_size, 9+i*j)\n",
    "                        gmsh.model.geo.addPoint(width_s+hole_radius/sqrt(2),\n",
    "                                                height_s-hole_radius/sqrt(2),  0, mesh_size, 10+i*j)\n",
    "\n",
    "                        gmsh.model.geo.addCircleArc(9+i*j, 6+i*j, 7+i*j, 6+i*j)\n",
    "                        gmsh.model.geo.addCircleArc(\n",
    "                            7+i*j, 6+i*j, 10+i*j, 7+i*j)\n",
    "                        gmsh.model.geo.addCircleArc(\n",
    "                            10+i*j, 6+i*j, 8+i*j, 8+i*j)\n",
    "                        gmsh.model.geo.addCircleArc(8+i*j, 6+i*j, 9+i*j, 9+i*j)\n",
    "\n",
    "                        gmsh.model.geo.addCurveLoop(\n",
    "                            [9+i*j, 6+i*j, 7+i*j, 8+i*j], 2+i)\n",
    "                        n_element.append(2+i)\n",
    "\n",
    "                    gmsh.model.geo.addPlaneSurface(n_element, 1)\n",
    "                    gmsh.model.geo.synchronize()\n",
    "\n",
    "                    # BC on top and bottom arcs\n",
    "                    gmsh.model.addPhysicalGroup(1, [1], 5)\n",
    "                    gmsh.model.addPhysicalGroup(1, [3], 6)\n",
    "                    ps = gmsh.model.addPhysicalGroup(2, [1])\n",
    "                    gmsh.model.setPhysicalName(2, ps, \"PunchedDom\")\n",
    "\n",
    "                    # generate a 2D mesh\n",
    "                    gmsh.model.mesh.generate(2)\n",
    "                    # name and save\n",
    "                    \n",
    "                    if number_of_holes<10:\n",
    "                        nu = '0'+str(number_of_holes)\n",
    "                    if angle_step>=100:\n",
    "                        an = str(angle_step)\n",
    "                    elif angle_step>=10:\n",
    "                        an = '0'+str(angle_step)\n",
    "                    else:\n",
    "                        an = '000'\n",
    "                    \n",
    "                    dfc_length = len(str(d_from_c))\n",
    "                    if dfc_length<5:\n",
    "                        d_f_c = str(d_from_c)+'0'*(5-dfc_length)\n",
    "                    else:\n",
    "                        d_f_c = str(d_from_c)\n",
    "                    \n",
    "                    \n",
    "                    # if d_from_c%0.01<0.01:\n",
    "                    #    d_f_c = str(d_from_c)+'0'\n",
    "                    # else:\n",
    "                    #    d_f_c = str(d_from_c)\n",
    "                    \n",
    "                    hr = str(float(hole_radius))\n",
    "                    \n",
    "                    name = nu+' hole_r='+hr+'_dfc'+d_f_c+'_'+an+' degree.msh'\n",
    "                    \n",
    "                    # name = str(number_of_holes)+' hole_r='+str(hole_radius)+'_dfc='+str(d_from_c)+'_'+str(int(angle_step))+\" degree.msh\"\n",
    "\n",
    "                    mesh_list.append(name)\n",
    "\n",
    "                    gmsh.write(name)\n",
    "\n",
    "                    # if number_of_holes>=3:\n",
    "                    #    if d_from_c>=0.07:\n",
    "                    #        if '-nopopup' not in sys.argv:\n",
    "                    #            gmsh.fltk.run()\n",
    "                    gmsh.finalize()\n",
    "                    print(name)"
   ]
  },
  {
   "cell_type": "code",
   "execution_count": 73,
   "id": "be84bd1e",
   "metadata": {
    "ExecuteTime": {
     "end_time": "2021-08-25T21:58:50.909083Z",
     "start_time": "2021-08-25T21:58:50.896135Z"
    }
   },
   "outputs": [],
   "source": [
    "a = '100 hr=0.010200_dfc0.1_140 degree.msh'"
   ]
  },
  {
   "cell_type": "code",
   "execution_count": 76,
   "id": "fa79fd55",
   "metadata": {
    "ExecuteTime": {
     "end_time": "2021-08-25T21:58:51.520353Z",
     "start_time": "2021-08-25T21:58:51.510356Z"
    }
   },
   "outputs": [],
   "source": []
  },
  {
   "cell_type": "code",
   "execution_count": 30,
   "id": "6230a6ae",
   "metadata": {
    "ExecuteTime": {
     "end_time": "2021-08-25T21:54:46.178796Z",
     "start_time": "2021-08-25T21:54:46.166798Z"
    }
   },
   "outputs": [],
   "source": [
    "from math import sin,cos, pi,sqrt"
   ]
  },
  {
   "cell_type": "code",
   "execution_count": 33,
   "id": "d38b0c7b",
   "metadata": {
    "ExecuteTime": {
     "end_time": "2021-08-25T21:55:05.681092Z",
     "start_time": "2021-08-25T21:55:05.673093Z"
    }
   },
   "outputs": [],
   "source": [
    "hole_radius = 0.012379\n",
    "outer_radius = 0.1\n",
    "d_from_c = hole_radius*2\n",
    "angle_range = [10*i for i in range(18)]"
   ]
  },
  {
   "cell_type": "code",
   "execution_count": 45,
   "id": "af9ee8ac",
   "metadata": {
    "ExecuteTime": {
     "end_time": "2021-08-25T21:57:10.434376Z",
     "start_time": "2021-08-25T21:57:10.388357Z"
    }
   },
   "outputs": [
    {
     "name": "stdout",
     "output_type": "stream",
     "text": [
      "3 hr=0.012379_dfc0.025_000 degree.msh\n",
      "3 hr=0.012379_dfc0.025_010 degree.msh\n",
      "3 hr=0.012379_dfc0.025_020 degree.msh\n",
      "3 hr=0.012379_dfc0.025_030 degree.msh\n",
      "3 hr=0.012379_dfc0.025_040 degree.msh\n",
      "3 hr=0.012379_dfc0.025_050 degree.msh\n",
      "3 hr=0.012379_dfc0.025_060 degree.msh\n",
      "3 hr=0.012379_dfc0.025_070 degree.msh\n",
      "3 hr=0.012379_dfc0.025_080 degree.msh\n",
      "3 hr=0.012379_dfc0.025_090 degree.msh\n",
      "3 hr=0.012379_dfc0.025_100 degree.msh\n",
      "3 hr=0.012379_dfc0.025_110 degree.msh\n",
      "3 hr=0.012379_dfc0.025_120 degree.msh\n",
      "3 hr=0.012379_dfc0.025_130 degree.msh\n",
      "3 hr=0.012379_dfc0.025_140 degree.msh\n",
      "3 hr=0.012379_dfc0.025_150 degree.msh\n",
      "3 hr=0.012379_dfc0.025_160 degree.msh\n",
      "3 hr=0.012379_dfc0.025_170 degree.msh\n",
      "3 hr=0.012379_dfc0.037379_000 degree.msh\n",
      "3 hr=0.012379_dfc0.037379_010 degree.msh\n",
      "3 hr=0.012379_dfc0.037379_020 degree.msh\n",
      "3 hr=0.012379_dfc0.037379_030 degree.msh\n",
      "3 hr=0.012379_dfc0.037379_040 degree.msh\n",
      "3 hr=0.012379_dfc0.037379_050 degree.msh\n",
      "3 hr=0.012379_dfc0.037379_060 degree.msh\n",
      "3 hr=0.012379_dfc0.037379_070 degree.msh\n",
      "3 hr=0.012379_dfc0.037379_080 degree.msh\n",
      "3 hr=0.012379_dfc0.037379_090 degree.msh\n",
      "3 hr=0.012379_dfc0.037379_100 degree.msh\n",
      "3 hr=0.012379_dfc0.037379_110 degree.msh\n",
      "3 hr=0.012379_dfc0.037379_120 degree.msh\n",
      "3 hr=0.012379_dfc0.037379_130 degree.msh\n",
      "3 hr=0.012379_dfc0.037379_140 degree.msh\n",
      "3 hr=0.012379_dfc0.037379_150 degree.msh\n",
      "3 hr=0.012379_dfc0.037379_160 degree.msh\n",
      "3 hr=0.012379_dfc0.037379_170 degree.msh\n",
      "3 hr=0.012379_dfc0.049758000000000004_000 degree.msh\n",
      "3 hr=0.012379_dfc0.049758000000000004_010 degree.msh\n",
      "3 hr=0.012379_dfc0.049758000000000004_020 degree.msh\n",
      "3 hr=0.012379_dfc0.049758000000000004_030 degree.msh\n",
      "3 hr=0.012379_dfc0.049758000000000004_040 degree.msh\n",
      "3 hr=0.012379_dfc0.049758000000000004_050 degree.msh\n",
      "3 hr=0.012379_dfc0.049758000000000004_060 degree.msh\n",
      "3 hr=0.012379_dfc0.049758000000000004_070 degree.msh\n",
      "3 hr=0.012379_dfc0.049758000000000004_080 degree.msh\n",
      "3 hr=0.012379_dfc0.049758000000000004_090 degree.msh\n",
      "3 hr=0.012379_dfc0.049758000000000004_100 degree.msh\n",
      "3 hr=0.012379_dfc0.049758000000000004_110 degree.msh\n",
      "3 hr=0.012379_dfc0.049758000000000004_120 degree.msh\n",
      "3 hr=0.012379_dfc0.049758000000000004_130 degree.msh\n",
      "3 hr=0.012379_dfc0.049758000000000004_140 degree.msh\n",
      "3 hr=0.012379_dfc0.049758000000000004_150 degree.msh\n",
      "3 hr=0.012379_dfc0.049758000000000004_160 degree.msh\n",
      "3 hr=0.012379_dfc0.049758000000000004_170 degree.msh\n",
      "3 hr=0.012379_dfc0.062137000000000005_000 degree.msh\n",
      "3 hr=0.012379_dfc0.062137000000000005_010 degree.msh\n",
      "3 hr=0.012379_dfc0.062137000000000005_020 degree.msh\n",
      "3 hr=0.012379_dfc0.062137000000000005_030 degree.msh\n",
      "3 hr=0.012379_dfc0.062137000000000005_040 degree.msh\n",
      "3 hr=0.012379_dfc0.062137000000000005_050 degree.msh\n",
      "3 hr=0.012379_dfc0.062137000000000005_060 degree.msh\n",
      "3 hr=0.012379_dfc0.062137000000000005_070 degree.msh\n",
      "3 hr=0.012379_dfc0.062137000000000005_080 degree.msh\n",
      "3 hr=0.012379_dfc0.062137000000000005_090 degree.msh\n",
      "3 hr=0.012379_dfc0.062137000000000005_100 degree.msh\n",
      "3 hr=0.012379_dfc0.062137000000000005_110 degree.msh\n",
      "3 hr=0.012379_dfc0.062137000000000005_120 degree.msh\n",
      "3 hr=0.012379_dfc0.062137000000000005_130 degree.msh\n",
      "3 hr=0.012379_dfc0.062137000000000005_140 degree.msh\n",
      "3 hr=0.012379_dfc0.062137000000000005_150 degree.msh\n",
      "3 hr=0.012379_dfc0.062137000000000005_160 degree.msh\n",
      "3 hr=0.012379_dfc0.062137000000000005_170 degree.msh\n",
      "3 hr=0.012379_dfc0.074516_000 degree.msh\n",
      "3 hr=0.012379_dfc0.074516_010 degree.msh\n",
      "3 hr=0.012379_dfc0.074516_020 degree.msh\n",
      "3 hr=0.012379_dfc0.074516_030 degree.msh\n",
      "3 hr=0.012379_dfc0.074516_040 degree.msh\n",
      "3 hr=0.012379_dfc0.074516_050 degree.msh\n",
      "3 hr=0.012379_dfc0.074516_060 degree.msh\n",
      "3 hr=0.012379_dfc0.074516_070 degree.msh\n",
      "3 hr=0.012379_dfc0.074516_080 degree.msh\n",
      "3 hr=0.012379_dfc0.074516_090 degree.msh\n",
      "3 hr=0.012379_dfc0.074516_100 degree.msh\n",
      "3 hr=0.012379_dfc0.074516_110 degree.msh\n",
      "3 hr=0.012379_dfc0.074516_120 degree.msh\n",
      "3 hr=0.012379_dfc0.074516_130 degree.msh\n",
      "3 hr=0.012379_dfc0.074516_140 degree.msh\n",
      "3 hr=0.012379_dfc0.074516_150 degree.msh\n",
      "3 hr=0.012379_dfc0.074516_160 degree.msh\n",
      "3 hr=0.012379_dfc0.074516_170 degree.msh\n",
      "4 hr=0.012379_dfc0.025_000 degree.msh\n",
      "4 hr=0.012379_dfc0.025_010 degree.msh\n",
      "4 hr=0.012379_dfc0.025_020 degree.msh\n",
      "4 hr=0.012379_dfc0.025_030 degree.msh\n",
      "4 hr=0.012379_dfc0.025_040 degree.msh\n",
      "4 hr=0.012379_dfc0.025_050 degree.msh\n",
      "4 hr=0.012379_dfc0.025_060 degree.msh\n",
      "4 hr=0.012379_dfc0.025_070 degree.msh\n",
      "4 hr=0.012379_dfc0.025_080 degree.msh\n",
      "4 hr=0.012379_dfc0.025_090 degree.msh\n",
      "4 hr=0.012379_dfc0.025_100 degree.msh\n",
      "4 hr=0.012379_dfc0.025_110 degree.msh\n",
      "4 hr=0.012379_dfc0.025_120 degree.msh\n",
      "4 hr=0.012379_dfc0.025_130 degree.msh\n",
      "4 hr=0.012379_dfc0.025_140 degree.msh\n",
      "4 hr=0.012379_dfc0.025_150 degree.msh\n",
      "4 hr=0.012379_dfc0.025_160 degree.msh\n",
      "4 hr=0.012379_dfc0.025_170 degree.msh\n",
      "4 hr=0.012379_dfc0.037379_000 degree.msh\n",
      "4 hr=0.012379_dfc0.037379_010 degree.msh\n",
      "4 hr=0.012379_dfc0.037379_020 degree.msh\n",
      "4 hr=0.012379_dfc0.037379_030 degree.msh\n",
      "4 hr=0.012379_dfc0.037379_040 degree.msh\n",
      "4 hr=0.012379_dfc0.037379_050 degree.msh\n",
      "4 hr=0.012379_dfc0.037379_060 degree.msh\n",
      "4 hr=0.012379_dfc0.037379_070 degree.msh\n",
      "4 hr=0.012379_dfc0.037379_080 degree.msh\n",
      "4 hr=0.012379_dfc0.037379_090 degree.msh\n",
      "4 hr=0.012379_dfc0.037379_100 degree.msh\n",
      "4 hr=0.012379_dfc0.037379_110 degree.msh\n",
      "4 hr=0.012379_dfc0.037379_120 degree.msh\n",
      "4 hr=0.012379_dfc0.037379_130 degree.msh\n",
      "4 hr=0.012379_dfc0.037379_140 degree.msh\n",
      "4 hr=0.012379_dfc0.037379_150 degree.msh\n",
      "4 hr=0.012379_dfc0.037379_160 degree.msh\n",
      "4 hr=0.012379_dfc0.037379_170 degree.msh\n",
      "4 hr=0.012379_dfc0.049758000000000004_000 degree.msh\n",
      "4 hr=0.012379_dfc0.049758000000000004_010 degree.msh\n",
      "4 hr=0.012379_dfc0.049758000000000004_020 degree.msh\n",
      "4 hr=0.012379_dfc0.049758000000000004_030 degree.msh\n",
      "4 hr=0.012379_dfc0.049758000000000004_040 degree.msh\n",
      "4 hr=0.012379_dfc0.049758000000000004_050 degree.msh\n",
      "4 hr=0.012379_dfc0.049758000000000004_060 degree.msh\n",
      "4 hr=0.012379_dfc0.049758000000000004_070 degree.msh\n",
      "4 hr=0.012379_dfc0.049758000000000004_080 degree.msh\n",
      "4 hr=0.012379_dfc0.049758000000000004_090 degree.msh\n",
      "4 hr=0.012379_dfc0.049758000000000004_100 degree.msh\n",
      "4 hr=0.012379_dfc0.049758000000000004_110 degree.msh\n",
      "4 hr=0.012379_dfc0.049758000000000004_120 degree.msh\n",
      "4 hr=0.012379_dfc0.049758000000000004_130 degree.msh\n",
      "4 hr=0.012379_dfc0.049758000000000004_140 degree.msh\n",
      "4 hr=0.012379_dfc0.049758000000000004_150 degree.msh\n",
      "4 hr=0.012379_dfc0.049758000000000004_160 degree.msh\n",
      "4 hr=0.012379_dfc0.049758000000000004_170 degree.msh\n",
      "4 hr=0.012379_dfc0.062137000000000005_000 degree.msh\n",
      "4 hr=0.012379_dfc0.062137000000000005_010 degree.msh\n",
      "4 hr=0.012379_dfc0.062137000000000005_020 degree.msh\n",
      "4 hr=0.012379_dfc0.062137000000000005_030 degree.msh\n",
      "4 hr=0.012379_dfc0.062137000000000005_040 degree.msh\n",
      "4 hr=0.012379_dfc0.062137000000000005_050 degree.msh\n",
      "4 hr=0.012379_dfc0.062137000000000005_060 degree.msh\n",
      "4 hr=0.012379_dfc0.062137000000000005_070 degree.msh\n",
      "4 hr=0.012379_dfc0.062137000000000005_080 degree.msh\n",
      "4 hr=0.012379_dfc0.062137000000000005_090 degree.msh\n",
      "4 hr=0.012379_dfc0.062137000000000005_100 degree.msh\n",
      "4 hr=0.012379_dfc0.062137000000000005_110 degree.msh\n",
      "4 hr=0.012379_dfc0.062137000000000005_120 degree.msh\n",
      "4 hr=0.012379_dfc0.062137000000000005_130 degree.msh\n",
      "4 hr=0.012379_dfc0.062137000000000005_140 degree.msh\n",
      "4 hr=0.012379_dfc0.062137000000000005_150 degree.msh\n",
      "4 hr=0.012379_dfc0.062137000000000005_160 degree.msh\n",
      "4 hr=0.012379_dfc0.062137000000000005_170 degree.msh\n",
      "4 hr=0.012379_dfc0.074516_000 degree.msh\n",
      "4 hr=0.012379_dfc0.074516_010 degree.msh\n",
      "4 hr=0.012379_dfc0.074516_020 degree.msh\n",
      "4 hr=0.012379_dfc0.074516_030 degree.msh\n",
      "4 hr=0.012379_dfc0.074516_040 degree.msh\n",
      "4 hr=0.012379_dfc0.074516_050 degree.msh\n",
      "4 hr=0.012379_dfc0.074516_060 degree.msh\n",
      "4 hr=0.012379_dfc0.074516_070 degree.msh\n",
      "4 hr=0.012379_dfc0.074516_080 degree.msh\n",
      "4 hr=0.012379_dfc0.074516_090 degree.msh\n",
      "4 hr=0.012379_dfc0.074516_100 degree.msh\n",
      "4 hr=0.012379_dfc0.074516_110 degree.msh\n",
      "4 hr=0.012379_dfc0.074516_120 degree.msh\n",
      "4 hr=0.012379_dfc0.074516_130 degree.msh\n",
      "4 hr=0.012379_dfc0.074516_140 degree.msh\n",
      "4 hr=0.012379_dfc0.074516_150 degree.msh\n",
      "4 hr=0.012379_dfc0.074516_160 degree.msh\n",
      "4 hr=0.012379_dfc0.074516_170 degree.msh\n",
      "5 hr=0.012379_dfc0.037_000 degree.msh\n",
      "5 hr=0.012379_dfc0.037_010 degree.msh\n",
      "5 hr=0.012379_dfc0.037_020 degree.msh\n",
      "5 hr=0.012379_dfc0.037_030 degree.msh\n",
      "5 hr=0.012379_dfc0.037_040 degree.msh\n",
      "5 hr=0.012379_dfc0.037_050 degree.msh\n",
      "5 hr=0.012379_dfc0.037_060 degree.msh\n",
      "5 hr=0.012379_dfc0.037_070 degree.msh\n",
      "5 hr=0.012379_dfc0.037_080 degree.msh\n",
      "5 hr=0.012379_dfc0.037_090 degree.msh\n",
      "5 hr=0.012379_dfc0.037_100 degree.msh\n",
      "5 hr=0.012379_dfc0.037_110 degree.msh\n",
      "5 hr=0.012379_dfc0.037_120 degree.msh\n",
      "5 hr=0.012379_dfc0.037_130 degree.msh\n",
      "5 hr=0.012379_dfc0.037_140 degree.msh\n",
      "5 hr=0.012379_dfc0.037_150 degree.msh\n",
      "5 hr=0.012379_dfc0.037_160 degree.msh\n",
      "5 hr=0.012379_dfc0.037_170 degree.msh\n",
      "5 hr=0.012379_dfc0.049379_000 degree.msh\n",
      "5 hr=0.012379_dfc0.049379_010 degree.msh\n",
      "5 hr=0.012379_dfc0.049379_020 degree.msh\n",
      "5 hr=0.012379_dfc0.049379_030 degree.msh\n",
      "5 hr=0.012379_dfc0.049379_040 degree.msh\n",
      "5 hr=0.012379_dfc0.049379_050 degree.msh\n",
      "5 hr=0.012379_dfc0.049379_060 degree.msh\n",
      "5 hr=0.012379_dfc0.049379_070 degree.msh\n",
      "5 hr=0.012379_dfc0.049379_080 degree.msh\n",
      "5 hr=0.012379_dfc0.049379_090 degree.msh\n",
      "5 hr=0.012379_dfc0.049379_100 degree.msh\n",
      "5 hr=0.012379_dfc0.049379_110 degree.msh\n",
      "5 hr=0.012379_dfc0.049379_120 degree.msh\n",
      "5 hr=0.012379_dfc0.049379_130 degree.msh\n",
      "5 hr=0.012379_dfc0.049379_140 degree.msh\n",
      "5 hr=0.012379_dfc0.049379_150 degree.msh\n",
      "5 hr=0.012379_dfc0.049379_160 degree.msh\n",
      "5 hr=0.012379_dfc0.049379_170 degree.msh\n",
      "5 hr=0.012379_dfc0.061758_000 degree.msh\n",
      "5 hr=0.012379_dfc0.061758_010 degree.msh\n",
      "5 hr=0.012379_dfc0.061758_020 degree.msh\n",
      "5 hr=0.012379_dfc0.061758_030 degree.msh\n",
      "5 hr=0.012379_dfc0.061758_040 degree.msh\n",
      "5 hr=0.012379_dfc0.061758_050 degree.msh\n",
      "5 hr=0.012379_dfc0.061758_060 degree.msh\n",
      "5 hr=0.012379_dfc0.061758_070 degree.msh\n",
      "5 hr=0.012379_dfc0.061758_080 degree.msh\n",
      "5 hr=0.012379_dfc0.061758_090 degree.msh\n",
      "5 hr=0.012379_dfc0.061758_100 degree.msh\n",
      "5 hr=0.012379_dfc0.061758_110 degree.msh\n",
      "5 hr=0.012379_dfc0.061758_120 degree.msh\n",
      "5 hr=0.012379_dfc0.061758_130 degree.msh\n",
      "5 hr=0.012379_dfc0.061758_140 degree.msh\n",
      "5 hr=0.012379_dfc0.061758_150 degree.msh\n",
      "5 hr=0.012379_dfc0.061758_160 degree.msh\n",
      "5 hr=0.012379_dfc0.061758_170 degree.msh\n",
      "5 hr=0.012379_dfc0.074137_000 degree.msh\n",
      "5 hr=0.012379_dfc0.074137_010 degree.msh\n",
      "5 hr=0.012379_dfc0.074137_020 degree.msh\n",
      "5 hr=0.012379_dfc0.074137_030 degree.msh\n",
      "5 hr=0.012379_dfc0.074137_040 degree.msh\n",
      "5 hr=0.012379_dfc0.074137_050 degree.msh\n",
      "5 hr=0.012379_dfc0.074137_060 degree.msh\n",
      "5 hr=0.012379_dfc0.074137_070 degree.msh\n",
      "5 hr=0.012379_dfc0.074137_080 degree.msh\n",
      "5 hr=0.012379_dfc0.074137_090 degree.msh\n",
      "5 hr=0.012379_dfc0.074137_100 degree.msh\n",
      "5 hr=0.012379_dfc0.074137_110 degree.msh\n",
      "5 hr=0.012379_dfc0.074137_120 degree.msh\n",
      "5 hr=0.012379_dfc0.074137_130 degree.msh\n",
      "5 hr=0.012379_dfc0.074137_140 degree.msh\n",
      "5 hr=0.012379_dfc0.074137_150 degree.msh\n",
      "5 hr=0.012379_dfc0.074137_160 degree.msh\n",
      "5 hr=0.012379_dfc0.074137_170 degree.msh\n",
      "6 hr=0.012379_dfc0.037_000 degree.msh\n",
      "6 hr=0.012379_dfc0.037_010 degree.msh\n",
      "6 hr=0.012379_dfc0.037_020 degree.msh\n",
      "6 hr=0.012379_dfc0.037_030 degree.msh\n",
      "6 hr=0.012379_dfc0.037_040 degree.msh\n",
      "6 hr=0.012379_dfc0.037_050 degree.msh\n",
      "6 hr=0.012379_dfc0.037_060 degree.msh\n",
      "6 hr=0.012379_dfc0.037_070 degree.msh\n",
      "6 hr=0.012379_dfc0.037_080 degree.msh\n",
      "6 hr=0.012379_dfc0.037_090 degree.msh\n",
      "6 hr=0.012379_dfc0.037_100 degree.msh\n",
      "6 hr=0.012379_dfc0.037_110 degree.msh\n",
      "6 hr=0.012379_dfc0.037_120 degree.msh\n",
      "6 hr=0.012379_dfc0.037_130 degree.msh\n",
      "6 hr=0.012379_dfc0.037_140 degree.msh\n",
      "6 hr=0.012379_dfc0.037_150 degree.msh\n",
      "6 hr=0.012379_dfc0.037_160 degree.msh\n",
      "6 hr=0.012379_dfc0.037_170 degree.msh\n",
      "6 hr=0.012379_dfc0.049379_000 degree.msh\n",
      "6 hr=0.012379_dfc0.049379_010 degree.msh\n",
      "6 hr=0.012379_dfc0.049379_020 degree.msh\n",
      "6 hr=0.012379_dfc0.049379_030 degree.msh\n",
      "6 hr=0.012379_dfc0.049379_040 degree.msh\n",
      "6 hr=0.012379_dfc0.049379_050 degree.msh\n",
      "6 hr=0.012379_dfc0.049379_060 degree.msh\n",
      "6 hr=0.012379_dfc0.049379_070 degree.msh\n",
      "6 hr=0.012379_dfc0.049379_080 degree.msh\n",
      "6 hr=0.012379_dfc0.049379_090 degree.msh\n",
      "6 hr=0.012379_dfc0.049379_100 degree.msh\n",
      "6 hr=0.012379_dfc0.049379_110 degree.msh\n",
      "6 hr=0.012379_dfc0.049379_120 degree.msh\n",
      "6 hr=0.012379_dfc0.049379_130 degree.msh\n",
      "6 hr=0.012379_dfc0.049379_140 degree.msh\n",
      "6 hr=0.012379_dfc0.049379_150 degree.msh\n",
      "6 hr=0.012379_dfc0.049379_160 degree.msh\n",
      "6 hr=0.012379_dfc0.049379_170 degree.msh\n",
      "6 hr=0.012379_dfc0.061758_000 degree.msh\n",
      "6 hr=0.012379_dfc0.061758_010 degree.msh\n",
      "6 hr=0.012379_dfc0.061758_020 degree.msh\n",
      "6 hr=0.012379_dfc0.061758_030 degree.msh\n",
      "6 hr=0.012379_dfc0.061758_040 degree.msh\n",
      "6 hr=0.012379_dfc0.061758_050 degree.msh\n",
      "6 hr=0.012379_dfc0.061758_060 degree.msh\n",
      "6 hr=0.012379_dfc0.061758_070 degree.msh\n",
      "6 hr=0.012379_dfc0.061758_080 degree.msh\n",
      "6 hr=0.012379_dfc0.061758_090 degree.msh\n",
      "6 hr=0.012379_dfc0.061758_100 degree.msh\n",
      "6 hr=0.012379_dfc0.061758_110 degree.msh\n",
      "6 hr=0.012379_dfc0.061758_120 degree.msh\n",
      "6 hr=0.012379_dfc0.061758_130 degree.msh\n",
      "6 hr=0.012379_dfc0.061758_140 degree.msh\n",
      "6 hr=0.012379_dfc0.061758_150 degree.msh\n",
      "6 hr=0.012379_dfc0.061758_160 degree.msh\n",
      "6 hr=0.012379_dfc0.061758_170 degree.msh\n",
      "6 hr=0.012379_dfc0.074137_000 degree.msh\n",
      "6 hr=0.012379_dfc0.074137_010 degree.msh\n",
      "6 hr=0.012379_dfc0.074137_020 degree.msh\n",
      "6 hr=0.012379_dfc0.074137_030 degree.msh\n",
      "6 hr=0.012379_dfc0.074137_040 degree.msh\n",
      "6 hr=0.012379_dfc0.074137_050 degree.msh\n",
      "6 hr=0.012379_dfc0.074137_060 degree.msh\n",
      "6 hr=0.012379_dfc0.074137_070 degree.msh\n",
      "6 hr=0.012379_dfc0.074137_080 degree.msh\n",
      "6 hr=0.012379_dfc0.074137_090 degree.msh\n",
      "6 hr=0.012379_dfc0.074137_100 degree.msh\n",
      "6 hr=0.012379_dfc0.074137_110 degree.msh\n",
      "6 hr=0.012379_dfc0.074137_120 degree.msh\n",
      "6 hr=0.012379_dfc0.074137_130 degree.msh\n",
      "6 hr=0.012379_dfc0.074137_140 degree.msh\n",
      "6 hr=0.012379_dfc0.074137_150 degree.msh\n",
      "6 hr=0.012379_dfc0.074137_160 degree.msh\n",
      "6 hr=0.012379_dfc0.074137_170 degree.msh\n",
      "7 hr=0.012379_dfc0.037_000 degree.msh\n",
      "7 hr=0.012379_dfc0.037_010 degree.msh\n",
      "7 hr=0.012379_dfc0.037_020 degree.msh\n",
      "7 hr=0.012379_dfc0.037_030 degree.msh\n",
      "7 hr=0.012379_dfc0.037_040 degree.msh\n",
      "7 hr=0.012379_dfc0.037_050 degree.msh\n",
      "7 hr=0.012379_dfc0.037_060 degree.msh\n",
      "7 hr=0.012379_dfc0.037_070 degree.msh\n",
      "7 hr=0.012379_dfc0.037_080 degree.msh\n",
      "7 hr=0.012379_dfc0.037_090 degree.msh\n",
      "7 hr=0.012379_dfc0.037_100 degree.msh\n",
      "7 hr=0.012379_dfc0.037_110 degree.msh\n",
      "7 hr=0.012379_dfc0.037_120 degree.msh\n",
      "7 hr=0.012379_dfc0.037_130 degree.msh\n",
      "7 hr=0.012379_dfc0.037_140 degree.msh\n",
      "7 hr=0.012379_dfc0.037_150 degree.msh\n",
      "7 hr=0.012379_dfc0.037_160 degree.msh\n",
      "7 hr=0.012379_dfc0.037_170 degree.msh\n",
      "7 hr=0.012379_dfc0.049379_000 degree.msh\n",
      "7 hr=0.012379_dfc0.049379_010 degree.msh\n",
      "7 hr=0.012379_dfc0.049379_020 degree.msh\n",
      "7 hr=0.012379_dfc0.049379_030 degree.msh\n",
      "7 hr=0.012379_dfc0.049379_040 degree.msh\n",
      "7 hr=0.012379_dfc0.049379_050 degree.msh\n",
      "7 hr=0.012379_dfc0.049379_060 degree.msh\n",
      "7 hr=0.012379_dfc0.049379_070 degree.msh\n",
      "7 hr=0.012379_dfc0.049379_080 degree.msh\n",
      "7 hr=0.012379_dfc0.049379_090 degree.msh\n",
      "7 hr=0.012379_dfc0.049379_100 degree.msh\n",
      "7 hr=0.012379_dfc0.049379_110 degree.msh\n",
      "7 hr=0.012379_dfc0.049379_120 degree.msh\n",
      "7 hr=0.012379_dfc0.049379_130 degree.msh\n",
      "7 hr=0.012379_dfc0.049379_140 degree.msh\n",
      "7 hr=0.012379_dfc0.049379_150 degree.msh\n",
      "7 hr=0.012379_dfc0.049379_160 degree.msh\n",
      "7 hr=0.012379_dfc0.049379_170 degree.msh\n",
      "7 hr=0.012379_dfc0.061758_000 degree.msh\n",
      "7 hr=0.012379_dfc0.061758_010 degree.msh\n",
      "7 hr=0.012379_dfc0.061758_020 degree.msh\n",
      "7 hr=0.012379_dfc0.061758_030 degree.msh\n",
      "7 hr=0.012379_dfc0.061758_040 degree.msh\n",
      "7 hr=0.012379_dfc0.061758_050 degree.msh\n",
      "7 hr=0.012379_dfc0.061758_060 degree.msh\n",
      "7 hr=0.012379_dfc0.061758_070 degree.msh\n",
      "7 hr=0.012379_dfc0.061758_080 degree.msh\n",
      "7 hr=0.012379_dfc0.061758_090 degree.msh\n",
      "7 hr=0.012379_dfc0.061758_100 degree.msh\n",
      "7 hr=0.012379_dfc0.061758_110 degree.msh\n",
      "7 hr=0.012379_dfc0.061758_120 degree.msh\n",
      "7 hr=0.012379_dfc0.061758_130 degree.msh\n",
      "7 hr=0.012379_dfc0.061758_140 degree.msh\n",
      "7 hr=0.012379_dfc0.061758_150 degree.msh\n",
      "7 hr=0.012379_dfc0.061758_160 degree.msh\n",
      "7 hr=0.012379_dfc0.061758_170 degree.msh\n",
      "7 hr=0.012379_dfc0.074137_000 degree.msh\n",
      "7 hr=0.012379_dfc0.074137_010 degree.msh\n",
      "7 hr=0.012379_dfc0.074137_020 degree.msh\n",
      "7 hr=0.012379_dfc0.074137_030 degree.msh\n",
      "7 hr=0.012379_dfc0.074137_040 degree.msh\n",
      "7 hr=0.012379_dfc0.074137_050 degree.msh\n",
      "7 hr=0.012379_dfc0.074137_060 degree.msh\n",
      "7 hr=0.012379_dfc0.074137_070 degree.msh\n",
      "7 hr=0.012379_dfc0.074137_080 degree.msh\n",
      "7 hr=0.012379_dfc0.074137_090 degree.msh\n",
      "7 hr=0.012379_dfc0.074137_100 degree.msh\n",
      "7 hr=0.012379_dfc0.074137_110 degree.msh\n",
      "7 hr=0.012379_dfc0.074137_120 degree.msh\n",
      "7 hr=0.012379_dfc0.074137_130 degree.msh\n",
      "7 hr=0.012379_dfc0.074137_140 degree.msh\n",
      "7 hr=0.012379_dfc0.074137_150 degree.msh\n",
      "7 hr=0.012379_dfc0.074137_160 degree.msh\n",
      "7 hr=0.012379_dfc0.074137_170 degree.msh\n",
      "8 hr=0.012379_dfc0.049_000 degree.msh\n",
      "8 hr=0.012379_dfc0.049_010 degree.msh\n",
      "8 hr=0.012379_dfc0.049_020 degree.msh\n",
      "8 hr=0.012379_dfc0.049_030 degree.msh\n",
      "8 hr=0.012379_dfc0.049_040 degree.msh\n",
      "8 hr=0.012379_dfc0.049_050 degree.msh\n",
      "8 hr=0.012379_dfc0.049_060 degree.msh\n",
      "8 hr=0.012379_dfc0.049_070 degree.msh\n",
      "8 hr=0.012379_dfc0.049_080 degree.msh\n",
      "8 hr=0.012379_dfc0.049_090 degree.msh\n",
      "8 hr=0.012379_dfc0.049_100 degree.msh\n",
      "8 hr=0.012379_dfc0.049_110 degree.msh\n",
      "8 hr=0.012379_dfc0.049_120 degree.msh\n",
      "8 hr=0.012379_dfc0.049_130 degree.msh\n",
      "8 hr=0.012379_dfc0.049_140 degree.msh\n",
      "8 hr=0.012379_dfc0.049_150 degree.msh\n",
      "8 hr=0.012379_dfc0.049_160 degree.msh\n",
      "8 hr=0.012379_dfc0.049_170 degree.msh\n",
      "8 hr=0.012379_dfc0.061379_000 degree.msh\n",
      "8 hr=0.012379_dfc0.061379_010 degree.msh\n",
      "8 hr=0.012379_dfc0.061379_020 degree.msh\n",
      "8 hr=0.012379_dfc0.061379_030 degree.msh\n",
      "8 hr=0.012379_dfc0.061379_040 degree.msh\n",
      "8 hr=0.012379_dfc0.061379_050 degree.msh\n",
      "8 hr=0.012379_dfc0.061379_060 degree.msh\n",
      "8 hr=0.012379_dfc0.061379_070 degree.msh\n",
      "8 hr=0.012379_dfc0.061379_080 degree.msh\n",
      "8 hr=0.012379_dfc0.061379_090 degree.msh\n",
      "8 hr=0.012379_dfc0.061379_100 degree.msh\n",
      "8 hr=0.012379_dfc0.061379_110 degree.msh\n",
      "8 hr=0.012379_dfc0.061379_120 degree.msh\n",
      "8 hr=0.012379_dfc0.061379_130 degree.msh\n",
      "8 hr=0.012379_dfc0.061379_140 degree.msh\n",
      "8 hr=0.012379_dfc0.061379_150 degree.msh\n",
      "8 hr=0.012379_dfc0.061379_160 degree.msh\n",
      "8 hr=0.012379_dfc0.061379_170 degree.msh\n",
      "8 hr=0.012379_dfc0.073758_000 degree.msh\n",
      "8 hr=0.012379_dfc0.073758_010 degree.msh\n",
      "8 hr=0.012379_dfc0.073758_020 degree.msh\n",
      "8 hr=0.012379_dfc0.073758_030 degree.msh\n",
      "8 hr=0.012379_dfc0.073758_040 degree.msh\n",
      "8 hr=0.012379_dfc0.073758_050 degree.msh\n",
      "8 hr=0.012379_dfc0.073758_060 degree.msh\n",
      "8 hr=0.012379_dfc0.073758_070 degree.msh\n",
      "8 hr=0.012379_dfc0.073758_080 degree.msh\n",
      "8 hr=0.012379_dfc0.073758_090 degree.msh\n",
      "8 hr=0.012379_dfc0.073758_100 degree.msh\n",
      "8 hr=0.012379_dfc0.073758_110 degree.msh\n",
      "8 hr=0.012379_dfc0.073758_120 degree.msh\n",
      "8 hr=0.012379_dfc0.073758_130 degree.msh\n",
      "8 hr=0.012379_dfc0.073758_140 degree.msh\n",
      "8 hr=0.012379_dfc0.073758_150 degree.msh\n",
      "8 hr=0.012379_dfc0.073758_160 degree.msh\n",
      "8 hr=0.012379_dfc0.073758_170 degree.msh\n",
      "9 hr=0.012379_dfc0.049_000 degree.msh\n",
      "9 hr=0.012379_dfc0.049_010 degree.msh\n",
      "9 hr=0.012379_dfc0.049_020 degree.msh\n",
      "9 hr=0.012379_dfc0.049_030 degree.msh\n",
      "9 hr=0.012379_dfc0.049_040 degree.msh\n",
      "9 hr=0.012379_dfc0.049_050 degree.msh\n",
      "9 hr=0.012379_dfc0.049_060 degree.msh\n",
      "9 hr=0.012379_dfc0.049_070 degree.msh\n",
      "9 hr=0.012379_dfc0.049_080 degree.msh\n",
      "9 hr=0.012379_dfc0.049_090 degree.msh\n",
      "9 hr=0.012379_dfc0.049_100 degree.msh\n",
      "9 hr=0.012379_dfc0.049_110 degree.msh\n",
      "9 hr=0.012379_dfc0.049_120 degree.msh\n",
      "9 hr=0.012379_dfc0.049_130 degree.msh\n",
      "9 hr=0.012379_dfc0.049_140 degree.msh\n",
      "9 hr=0.012379_dfc0.049_150 degree.msh\n",
      "9 hr=0.012379_dfc0.049_160 degree.msh\n",
      "9 hr=0.012379_dfc0.049_170 degree.msh\n",
      "9 hr=0.012379_dfc0.061379_000 degree.msh\n",
      "9 hr=0.012379_dfc0.061379_010 degree.msh\n",
      "9 hr=0.012379_dfc0.061379_020 degree.msh\n",
      "9 hr=0.012379_dfc0.061379_030 degree.msh\n",
      "9 hr=0.012379_dfc0.061379_040 degree.msh\n",
      "9 hr=0.012379_dfc0.061379_050 degree.msh\n",
      "9 hr=0.012379_dfc0.061379_060 degree.msh\n",
      "9 hr=0.012379_dfc0.061379_070 degree.msh\n",
      "9 hr=0.012379_dfc0.061379_080 degree.msh\n",
      "9 hr=0.012379_dfc0.061379_090 degree.msh\n",
      "9 hr=0.012379_dfc0.061379_100 degree.msh\n",
      "9 hr=0.012379_dfc0.061379_110 degree.msh\n",
      "9 hr=0.012379_dfc0.061379_120 degree.msh\n",
      "9 hr=0.012379_dfc0.061379_130 degree.msh\n",
      "9 hr=0.012379_dfc0.061379_140 degree.msh\n",
      "9 hr=0.012379_dfc0.061379_150 degree.msh\n",
      "9 hr=0.012379_dfc0.061379_160 degree.msh\n",
      "9 hr=0.012379_dfc0.061379_170 degree.msh\n",
      "9 hr=0.012379_dfc0.073758_000 degree.msh\n",
      "9 hr=0.012379_dfc0.073758_010 degree.msh\n",
      "9 hr=0.012379_dfc0.073758_020 degree.msh\n",
      "9 hr=0.012379_dfc0.073758_030 degree.msh\n",
      "9 hr=0.012379_dfc0.073758_040 degree.msh\n",
      "9 hr=0.012379_dfc0.073758_050 degree.msh\n",
      "9 hr=0.012379_dfc0.073758_060 degree.msh\n",
      "9 hr=0.012379_dfc0.073758_070 degree.msh\n",
      "9 hr=0.012379_dfc0.073758_080 degree.msh\n",
      "9 hr=0.012379_dfc0.073758_090 degree.msh\n",
      "9 hr=0.012379_dfc0.073758_100 degree.msh\n",
      "9 hr=0.012379_dfc0.073758_110 degree.msh\n",
      "9 hr=0.012379_dfc0.073758_120 degree.msh\n",
      "9 hr=0.012379_dfc0.073758_130 degree.msh\n",
      "9 hr=0.012379_dfc0.073758_140 degree.msh\n",
      "9 hr=0.012379_dfc0.073758_150 degree.msh\n",
      "9 hr=0.012379_dfc0.073758_160 degree.msh\n",
      "9 hr=0.012379_dfc0.073758_170 degree.msh\n",
      "10 hr=0.012379_dfc0.061_000 degree.msh\n",
      "10 hr=0.012379_dfc0.061_010 degree.msh\n",
      "10 hr=0.012379_dfc0.061_020 degree.msh\n",
      "10 hr=0.012379_dfc0.061_030 degree.msh\n",
      "10 hr=0.012379_dfc0.061_040 degree.msh\n",
      "10 hr=0.012379_dfc0.061_050 degree.msh\n",
      "10 hr=0.012379_dfc0.061_060 degree.msh\n",
      "10 hr=0.012379_dfc0.061_070 degree.msh\n",
      "10 hr=0.012379_dfc0.061_080 degree.msh\n",
      "10 hr=0.012379_dfc0.061_090 degree.msh\n",
      "10 hr=0.012379_dfc0.061_100 degree.msh\n",
      "10 hr=0.012379_dfc0.061_110 degree.msh\n",
      "10 hr=0.012379_dfc0.061_120 degree.msh\n",
      "10 hr=0.012379_dfc0.061_130 degree.msh\n",
      "10 hr=0.012379_dfc0.061_140 degree.msh\n",
      "10 hr=0.012379_dfc0.061_150 degree.msh\n",
      "10 hr=0.012379_dfc0.061_160 degree.msh\n",
      "10 hr=0.012379_dfc0.061_170 degree.msh\n",
      "10 hr=0.012379_dfc0.073379_000 degree.msh\n",
      "10 hr=0.012379_dfc0.073379_010 degree.msh\n",
      "10 hr=0.012379_dfc0.073379_020 degree.msh\n",
      "10 hr=0.012379_dfc0.073379_030 degree.msh\n",
      "10 hr=0.012379_dfc0.073379_040 degree.msh\n",
      "10 hr=0.012379_dfc0.073379_050 degree.msh\n",
      "10 hr=0.012379_dfc0.073379_060 degree.msh\n",
      "10 hr=0.012379_dfc0.073379_070 degree.msh\n",
      "10 hr=0.012379_dfc0.073379_080 degree.msh\n",
      "10 hr=0.012379_dfc0.073379_090 degree.msh\n",
      "10 hr=0.012379_dfc0.073379_100 degree.msh\n",
      "10 hr=0.012379_dfc0.073379_110 degree.msh\n",
      "10 hr=0.012379_dfc0.073379_120 degree.msh\n",
      "10 hr=0.012379_dfc0.073379_130 degree.msh\n",
      "10 hr=0.012379_dfc0.073379_140 degree.msh\n",
      "10 hr=0.012379_dfc0.073379_150 degree.msh\n",
      "10 hr=0.012379_dfc0.073379_160 degree.msh\n",
      "10 hr=0.012379_dfc0.073379_170 degree.msh\n",
      "11 hr=0.012379_dfc0.061_000 degree.msh\n",
      "11 hr=0.012379_dfc0.061_010 degree.msh\n",
      "11 hr=0.012379_dfc0.061_020 degree.msh\n",
      "11 hr=0.012379_dfc0.061_030 degree.msh\n",
      "11 hr=0.012379_dfc0.061_040 degree.msh\n",
      "11 hr=0.012379_dfc0.061_050 degree.msh\n",
      "11 hr=0.012379_dfc0.061_060 degree.msh\n",
      "11 hr=0.012379_dfc0.061_070 degree.msh\n",
      "11 hr=0.012379_dfc0.061_080 degree.msh\n",
      "11 hr=0.012379_dfc0.061_090 degree.msh\n",
      "11 hr=0.012379_dfc0.061_100 degree.msh\n",
      "11 hr=0.012379_dfc0.061_110 degree.msh\n",
      "11 hr=0.012379_dfc0.061_120 degree.msh\n",
      "11 hr=0.012379_dfc0.061_130 degree.msh\n",
      "11 hr=0.012379_dfc0.061_140 degree.msh\n",
      "11 hr=0.012379_dfc0.061_150 degree.msh\n",
      "11 hr=0.012379_dfc0.061_160 degree.msh\n",
      "11 hr=0.012379_dfc0.061_170 degree.msh\n",
      "11 hr=0.012379_dfc0.073379_000 degree.msh\n",
      "11 hr=0.012379_dfc0.073379_010 degree.msh\n",
      "11 hr=0.012379_dfc0.073379_020 degree.msh\n",
      "11 hr=0.012379_dfc0.073379_030 degree.msh\n",
      "11 hr=0.012379_dfc0.073379_040 degree.msh\n",
      "11 hr=0.012379_dfc0.073379_050 degree.msh\n",
      "11 hr=0.012379_dfc0.073379_060 degree.msh\n",
      "11 hr=0.012379_dfc0.073379_070 degree.msh\n",
      "11 hr=0.012379_dfc0.073379_080 degree.msh\n",
      "11 hr=0.012379_dfc0.073379_090 degree.msh\n",
      "11 hr=0.012379_dfc0.073379_100 degree.msh\n",
      "11 hr=0.012379_dfc0.073379_110 degree.msh\n",
      "11 hr=0.012379_dfc0.073379_120 degree.msh\n",
      "11 hr=0.012379_dfc0.073379_130 degree.msh\n",
      "11 hr=0.012379_dfc0.073379_140 degree.msh\n",
      "11 hr=0.012379_dfc0.073379_150 degree.msh\n",
      "11 hr=0.012379_dfc0.073379_160 degree.msh\n",
      "11 hr=0.012379_dfc0.073379_170 degree.msh\n",
      "12 hr=0.012379_dfc0.061_000 degree.msh\n",
      "12 hr=0.012379_dfc0.061_010 degree.msh\n",
      "12 hr=0.012379_dfc0.061_020 degree.msh\n",
      "12 hr=0.012379_dfc0.061_030 degree.msh\n",
      "12 hr=0.012379_dfc0.061_040 degree.msh\n",
      "12 hr=0.012379_dfc0.061_050 degree.msh\n",
      "12 hr=0.012379_dfc0.061_060 degree.msh\n",
      "12 hr=0.012379_dfc0.061_070 degree.msh\n",
      "12 hr=0.012379_dfc0.061_080 degree.msh\n",
      "12 hr=0.012379_dfc0.061_090 degree.msh\n",
      "12 hr=0.012379_dfc0.061_100 degree.msh\n",
      "12 hr=0.012379_dfc0.061_110 degree.msh\n",
      "12 hr=0.012379_dfc0.061_120 degree.msh\n",
      "12 hr=0.012379_dfc0.061_130 degree.msh\n",
      "12 hr=0.012379_dfc0.061_140 degree.msh\n",
      "12 hr=0.012379_dfc0.061_150 degree.msh\n",
      "12 hr=0.012379_dfc0.061_160 degree.msh\n",
      "12 hr=0.012379_dfc0.061_170 degree.msh\n",
      "12 hr=0.012379_dfc0.073379_000 degree.msh\n",
      "12 hr=0.012379_dfc0.073379_010 degree.msh\n",
      "12 hr=0.012379_dfc0.073379_020 degree.msh\n",
      "12 hr=0.012379_dfc0.073379_030 degree.msh\n",
      "12 hr=0.012379_dfc0.073379_040 degree.msh\n",
      "12 hr=0.012379_dfc0.073379_050 degree.msh\n",
      "12 hr=0.012379_dfc0.073379_060 degree.msh\n",
      "12 hr=0.012379_dfc0.073379_070 degree.msh\n",
      "12 hr=0.012379_dfc0.073379_080 degree.msh\n",
      "12 hr=0.012379_dfc0.073379_090 degree.msh\n",
      "12 hr=0.012379_dfc0.073379_100 degree.msh\n",
      "12 hr=0.012379_dfc0.073379_110 degree.msh\n",
      "12 hr=0.012379_dfc0.073379_120 degree.msh\n",
      "12 hr=0.012379_dfc0.073379_130 degree.msh\n",
      "12 hr=0.012379_dfc0.073379_140 degree.msh\n",
      "12 hr=0.012379_dfc0.073379_150 degree.msh\n",
      "12 hr=0.012379_dfc0.073379_160 degree.msh\n",
      "12 hr=0.012379_dfc0.073379_170 degree.msh\n",
      "13 hr=0.012379_dfc0.073_000 degree.msh\n",
      "13 hr=0.012379_dfc0.073_010 degree.msh\n",
      "13 hr=0.012379_dfc0.073_020 degree.msh\n",
      "13 hr=0.012379_dfc0.073_030 degree.msh\n",
      "13 hr=0.012379_dfc0.073_040 degree.msh\n",
      "13 hr=0.012379_dfc0.073_050 degree.msh\n",
      "13 hr=0.012379_dfc0.073_060 degree.msh\n",
      "13 hr=0.012379_dfc0.073_070 degree.msh\n",
      "13 hr=0.012379_dfc0.073_080 degree.msh\n",
      "13 hr=0.012379_dfc0.073_090 degree.msh\n",
      "13 hr=0.012379_dfc0.073_100 degree.msh\n",
      "13 hr=0.012379_dfc0.073_110 degree.msh\n",
      "13 hr=0.012379_dfc0.073_120 degree.msh\n",
      "13 hr=0.012379_dfc0.073_130 degree.msh\n",
      "13 hr=0.012379_dfc0.073_140 degree.msh\n",
      "13 hr=0.012379_dfc0.073_150 degree.msh\n",
      "13 hr=0.012379_dfc0.073_160 degree.msh\n",
      "13 hr=0.012379_dfc0.073_170 degree.msh\n",
      "14 hr=0.012379_dfc0.073_000 degree.msh\n",
      "14 hr=0.012379_dfc0.073_010 degree.msh\n",
      "14 hr=0.012379_dfc0.073_020 degree.msh\n",
      "14 hr=0.012379_dfc0.073_030 degree.msh\n",
      "14 hr=0.012379_dfc0.073_040 degree.msh\n",
      "14 hr=0.012379_dfc0.073_050 degree.msh\n",
      "14 hr=0.012379_dfc0.073_060 degree.msh\n",
      "14 hr=0.012379_dfc0.073_070 degree.msh\n",
      "14 hr=0.012379_dfc0.073_080 degree.msh\n",
      "14 hr=0.012379_dfc0.073_090 degree.msh\n",
      "14 hr=0.012379_dfc0.073_100 degree.msh\n",
      "14 hr=0.012379_dfc0.073_110 degree.msh\n",
      "14 hr=0.012379_dfc0.073_120 degree.msh\n",
      "14 hr=0.012379_dfc0.073_130 degree.msh\n",
      "14 hr=0.012379_dfc0.073_140 degree.msh\n",
      "14 hr=0.012379_dfc0.073_150 degree.msh\n",
      "14 hr=0.012379_dfc0.073_160 degree.msh\n",
      "14 hr=0.012379_dfc0.073_170 degree.msh\n"
     ]
    }
   ],
   "source": [
    "number_of_holes=2\n",
    "while True:\n",
    "    while 1.5*hole_radius+d_from_c <= outer_radius:\n",
    "        residual_angle = (180-(360/number_of_holes))/2\n",
    "        cc_distance = d_from_c*cos(residual_angle*pi/180)*2\n",
    "        if 2.5*hole_radius <= cc_distance:\n",
    "            # Creating different arc with different bearing in order to simulate the compression test from differnet direction\n",
    "            for angle_step in angle_range:\n",
    "\n",
    "                if angle_step>=100:\n",
    "                    an = str(angle_step)\n",
    "                elif angle_step>=10:\n",
    "                    an = '0'+str(angle_step)\n",
    "                else:\n",
    "                    an = '000'\n",
    "\n",
    "                hr = str(float(hole_radius))\n",
    "                d_f_c = str(d_from_c)\n",
    "\n",
    "                name = str(number_of_holes)+' hr='+hr+'_dfc'+d_f_c+'_'+an+' degree.msh'\n",
    "                print(name)\n",
    "\n",
    "        d_from_c+=hole_radius\n",
    "\n",
    "\n",
    "    number_of_holes+=1\n",
    "    d_from_c=hole_radius*2\n",
    "    d_from_c = round(d_from_c,3)\n",
    "    residual_angle = (180-(360/number_of_holes))/2\n",
    "\n",
    "    while 2.5*hole_radius>=(d_from_c*cos(residual_angle*pi/180)*2):\n",
    "        d_from_c+=hole_radius\n",
    "        d_from_c = round(d_from_c,3)\n",
    "\n",
    "    if hole_radius+d_from_c>=outer_radius:\n",
    "        break"
   ]
  },
  {
   "cell_type": "code",
   "execution_count": null,
   "id": "a6e04721",
   "metadata": {},
   "outputs": [],
   "source": []
  }
 ],
 "metadata": {
  "kernelspec": {
   "display_name": "Python 3",
   "language": "python",
   "name": "python3"
  },
  "language_info": {
   "codemirror_mode": {
    "name": "ipython",
    "version": 3
   },
   "file_extension": ".py",
   "mimetype": "text/x-python",
   "name": "python",
   "nbconvert_exporter": "python",
   "pygments_lexer": "ipython3",
   "version": "3.9.5"
  },
  "toc": {
   "base_numbering": 1,
   "nav_menu": {},
   "number_sections": true,
   "sideBar": true,
   "skip_h1_title": false,
   "title_cell": "Table of Contents",
   "title_sidebar": "Contents",
   "toc_cell": false,
   "toc_position": {},
   "toc_section_display": true,
   "toc_window_display": false
  },
  "varInspector": {
   "cols": {
    "lenName": 16,
    "lenType": 16,
    "lenVar": 40
   },
   "kernels_config": {
    "python": {
     "delete_cmd_postfix": "",
     "delete_cmd_prefix": "del ",
     "library": "var_list.py",
     "varRefreshCmd": "print(var_dic_list())"
    },
    "r": {
     "delete_cmd_postfix": ") ",
     "delete_cmd_prefix": "rm(",
     "library": "var_list.r",
     "varRefreshCmd": "cat(var_dic_list()) "
    }
   },
   "types_to_exclude": [
    "module",
    "function",
    "builtin_function_or_method",
    "instance",
    "_Feature"
   ],
   "window_display": false
  }
 },
 "nbformat": 4,
 "nbformat_minor": 5
}
